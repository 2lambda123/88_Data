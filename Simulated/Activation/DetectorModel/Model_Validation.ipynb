{
 "cells": [
  {
   "cell_type": "markdown",
   "metadata": {},
   "source": [
    "## Create and Run MCNP simulations - Windows version\n",
    "\n",
    "The worm script must be run seperately in Cygwin using the command\n",
    "\n",
    "\\>\\>perl worm HPGe_model\n",
    "\n",
    "From the FinalModel folder.  The the runMCNP.bat can be run from the same directory:\n",
    "\n",
    "\\>\\> runMCNP.bat"
   ]
  },
  {
   "cell_type": "code",
   "execution_count": 36,
   "metadata": {},
   "outputs": [
    {
     "name": "stdout",
     "output_type": "stream",
     "text": [
      "Skipping file: Archive\n",
      "Skipping file: HPGe_model\n",
      "Skipping file: HPGe_model_2_1_1.o\n",
      "Skipping file: HPGe_model_2_1_18.o\n",
      "Skipping file: HPGe_model_2_2_1.o\n",
      "Skipping file: HPGe_model_2_2_18.o\n",
      "Skipping file: HPGe_model_2_3_1.o\n",
      "Skipping file: HPGe_model_2_3_18.o\n",
      "Skipping file: HPGe_model_2_4_1.o\n",
      "Skipping file: HPGe_model_2_4_18.o\n",
      "Skipping file: HPGe_model_2_5_1.o\n",
      "Skipping file: HPGe_model_2_5_18.o\n",
      "Skipping file: HPGe_model_line_pos_z_key\n",
      "Skipping file: runMCNP.bat\n",
      "Skipping file: worm\n"
     ]
    }
   ],
   "source": [
    "from GeneralNuclear.MCNP import batchmaker\n",
    "from subprocess import Popen\n",
    "\n",
    "batchmaker('ValidationSimulations/', inputSuffix=\"in\", tasks=2)"
   ]
  },
  {
   "cell_type": "markdown",
   "metadata": {},
   "source": [
    "## Create and Run MCNP simulations\n",
    "\n",
    "The following cell works on linux (but hasn't been tested)"
   ]
  },
  {
   "cell_type": "code",
   "execution_count": null,
   "metadata": {},
   "outputs": [],
   "source": [
    "from GeneralNuclear.MCNP import batchmaker\n",
    "from subprocess import Popen\n",
    "\n",
    "Popen('perl ValidationSimulations/worm Final/HPGe_model')\n",
    "batchmaker('ValidationSimulations/', inputSuffix=\"in\", scriptType='sh')\n",
    "Popen('./ ValidationSimulations/runMCNP.sh')"
   ]
  },
  {
   "cell_type": "markdown",
   "metadata": {},
   "source": [
    "## Read and Store the Tally Results\n"
   ]
  },
  {
   "cell_type": "code",
   "execution_count": 37,
   "metadata": {},
   "outputs": [
    {
     "name": "stdout",
     "output_type": "stream",
     "text": [
      "HPGe_model_2_1_1.o\n",
      "HPGe_model_2_1_18.o\n",
      "HPGe_model_2_2_1.o\n",
      "HPGe_model_2_2_18.o\n",
      "HPGe_model_2_3_1.o\n",
      "HPGe_model_2_3_18.o\n",
      "HPGe_model_2_4_1.o\n",
      "HPGe_model_2_4_18.o\n",
      "HPGe_model_2_5_1.o\n",
      "HPGe_model_2_5_18.o\n",
      "    energy    x    y     z       eff     sigma\n",
      "0  661.657 -2.5  0.0   1.0  0.032850  0.000164\n",
      "6  661.657  0.0 -2.5   1.0  0.032667  0.000163\n",
      "8  661.657  0.0  0.0   1.0  0.043415  0.000187\n",
      "2  661.657  0.0  2.5   1.0  0.032848  0.000164\n",
      "4  661.657  2.5  0.0   1.0  0.032578  0.000163\n",
      "1  661.657 -2.5  0.0  18.0  0.001641  0.000009\n",
      "7  661.657  0.0 -2.5  18.0  0.001630  0.000009\n",
      "9  661.657  0.0  0.0  18.0  0.001662  0.000009\n",
      "3  661.657  0.0  2.5  18.0  0.001640  0.000009\n",
      "5  661.657  2.5  0.0  18.0  0.001623  0.000009\n"
     ]
    }
   ],
   "source": [
    "import os\n",
    "import pandas as pd\n",
    "from GeneralNuclear.MCNP import read_tally\n",
    "\n",
    "# Energy index map (from worm input)\n",
    "energy = [59.54, 661.657]\n",
    "x = [-2.5, 0, 2.5, 0, 0] \n",
    "y = [0, 2.5, 0, -2.5, 0] \n",
    "\n",
    "# Create dataframe\n",
    "model = pd.DataFrame(columns=['energy', 'x', 'y', 'z', 'eff', 'sigma'], dtype=float)\n",
    "\n",
    "for filename in os.listdir('FinalModel/'):\n",
    "    splitFile = filename.split('.')\n",
    "    if splitFile[-1] == 'o':\n",
    "        print filename\n",
    "        splitFile = filename.split('_')\n",
    "        tmpTally = read_tally('FinalModel/'+filename, 8, readGroups=True)[0]\n",
    "        \n",
    "        # Loop over tally to find the data corresponding to the peak and store\n",
    "        for index, row in tmpTally.iterrows():\n",
    "            if float(row[0]) > energy[int(splitFile[2])-1]/1000.:\n",
    "                tally = float(row[1])\n",
    "                uncert = float(row[2])\n",
    "                break\n",
    "                \n",
    "        model = model.append(pd.Series([energy[int(splitFile[2])-1], x[int(splitFile[3])-1], y[int(splitFile[3])-1], \n",
    "                                        float(splitFile[4].split('.')[0]), tally, tally*uncert], \n",
    "                                       index=['energy', 'x', 'y', 'z', 'eff', 'sigma']), ignore_index=True)\n",
    "\n",
    "model.sort_values('y', inplace=True)\n",
    "model.sort_values('x', inplace=True)\n",
    "model.sort_values('z', inplace=True)\n",
    "model.sort_values('energy', inplace=True)\n",
    "print model"
   ]
  },
  {
   "cell_type": "markdown",
   "metadata": {},
   "source": [
    "## Read Experimental Data Results"
   ]
  },
  {
   "cell_type": "code",
   "execution_count": 38,
   "metadata": {},
   "outputs": [
    {
     "name": "stdout",
     "output_type": "stream",
     "text": [
      "    energy    x    y   z       eff     sigma\n",
      "7  661.657 -2.5  0.0   1  0.032819  0.000531\n",
      "5  661.657  0.0 -2.5   1  0.030298  0.000497\n",
      "6  661.657  0.0  0.0   1  0.041852  0.000751\n",
      "9  661.657  0.0  2.5   1  0.036693  0.000619\n",
      "8  661.657  2.5  0.0   1  0.032796  0.000549\n",
      "2  661.657 -2.5  0.0  18  0.001639  0.000025\n",
      "0  661.657  0.0 -2.5  18  0.001629  0.000025\n",
      "1  661.657  0.0  0.0  18  0.001660  0.000026\n",
      "4  661.657  0.0  2.5  18  0.001627  0.000025\n",
      "3  661.657  2.5  0.0  18  0.001636  0.000025\n"
     ]
    }
   ],
   "source": [
    "import pandas as pd\n",
    "\n",
    "data = pd.read_excel('Cs137Data.xlsx', parse_cols='A,B,C,D,Q,R',\n",
    "                     names=['energy', 'x', 'y', 'z', 'eff', 'sigma'])\n",
    "\n",
    "data.sort_values('y', inplace=True)\n",
    "data.sort_values('x', inplace=True)\n",
    "data.sort_values('z', inplace=True)\n",
    "data.sort_values('energy', inplace=True)\n",
    "print data"
   ]
  },
  {
   "cell_type": "markdown",
   "metadata": {},
   "source": [
    "## Plot the Results"
   ]
  },
  {
   "cell_type": "code",
   "execution_count": 39,
   "metadata": {},
   "outputs": [
    {
     "data": {
      "image/png": "[encoded data removed]",
      "text/plain": [
       "<matplotlib.figure.Figure at 0xc737668>"
      ]
     },
     "metadata": {},
     "output_type": "display_data"
    },
    {
     "data": {
      "image/png": "[encoded data removed]",
      "text/plain": [
       "<matplotlib.figure.Figure at 0x90c94e0>"
      ]
     },
     "metadata": {},
     "output_type": "display_data"
    }
   ],
   "source": [
    "import matplotlib\n",
    "matplotlib.use('Qt5Agg')\n",
    "%matplotlib inline\n",
    "\n",
    "from Support.Plotting import scatter_plot\n",
    "from DataAnalysis.Stats import red_chisq\n",
    "\n",
    "shelfPoints = 5\n",
    "numShelves = 2\n",
    "\n",
    "for s in range(1, numShelves+1):\n",
    "    shelf = data[(s-1)*shelfPoints:s*shelfPoints]['z'].tolist()[0]\n",
    "    xData = range(0, shelfPoints)\n",
    "    yData = data[(s-1)*shelfPoints:s*shelfPoints]['eff'].tolist()\n",
    "    yMod = model[(s-1)*shelfPoints:s*shelfPoints]['eff'].tolist()\n",
    "    ySig = data[(s-1)*shelfPoints:s*shelfPoints]['sigma'].tolist()\n",
    "    redChi2 = red_chisq(yData, yMod, standDev=ySig, freeParams=1)\n",
    "    scatter_plot([xData, yData, ySig], [xData, yMod], dataLabel=['meas', 'model'],\n",
    "                 xLabel='Position', yLabel='Efficiency', title='{} cm, $\\chi^2$={:3.2f}'.format(shelf, redChi2))"
   ]
  },
  {
   "cell_type": "code",
   "execution_count": null,
   "metadata": {
    "collapsed": true
   },
   "outputs": [],
   "source": []
  }
 ],
 "metadata": {
  "kernelspec": {
   "display_name": "Python 2",
   "language": "python",
   "name": "python2"
  },
  "language_info": {
   "codemirror_mode": {
    "name": "ipython",
    "version": 2
   },
   "file_extension": ".py",
   "mimetype": "text/x-python",
   "name": "python",
   "nbconvert_exporter": "python",
   "pygments_lexer": "ipython2",
   "version": "2.7.13"
  }
 },
 "nbformat": 4,
 "nbformat_minor": 2
}
