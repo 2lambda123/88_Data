{
 "cells": [
  {
   "cell_type": "markdown",
   "metadata": {},
   "source": [
    "## Create and Run MCNP simulations - Windows version\n",
    "\n",
    "The worm script must be run seperately in Cygwin using the command\n",
    "\n",
    "\\>\\>perl worm HPGe_model\n",
    "\n",
    "From the FinalModel folder.  The the runMCNP.bat can be run from the same directory:\n",
    "\n",
    "\\>\\> runMCNP.bat"
   ]
  },
  {
   "cell_type": "code",
   "execution_count": 1,
   "metadata": {},
   "outputs": [
    {
     "name": "stdout",
     "output_type": "stream",
     "text": [
      "Skipping file: HPGe_model\n",
      "Skipping file: HPGe_model_1_1_1.o\n",
      "Skipping file: HPGe_model_1_1_18.o\n",
      "Skipping file: HPGe_model_1_1_5.o\n",
      "Skipping file: HPGe_model_1_2_1.o\n",
      "Skipping file: HPGe_model_1_2_18.o\n",
      "Skipping file: HPGe_model_1_2_5.o\n",
      "Skipping file: HPGe_model_1_3_1.o\n",
      "Skipping file: HPGe_model_1_3_18.o\n",
      "Skipping file: HPGe_model_1_3_5.o\n",
      "Skipping file: HPGe_model_1_4_1.o\n",
      "Skipping file: HPGe_model_1_4_18.o\n",
      "Skipping file: HPGe_model_1_4_5.o\n",
      "Skipping file: HPGe_model_1_5_1.o\n",
      "Skipping file: HPGe_model_1_5_18.o\n",
      "Skipping file: HPGe_model_1_5_5.o\n",
      "Skipping file: HPGe_model_2_1_1.o\n",
      "Skipping file: HPGe_model_2_1_18.o\n",
      "Skipping file: HPGe_model_2_1_5.o\n",
      "Skipping file: HPGe_model_2_2_1.o\n",
      "Skipping file: HPGe_model_2_2_18.o\n",
      "Skipping file: HPGe_model_2_2_5.o\n",
      "Skipping file: HPGe_model_2_3_1.o\n",
      "Skipping file: HPGe_model_2_3_18.o\n",
      "Skipping file: HPGe_model_2_3_5.o\n",
      "Skipping file: HPGe_model_2_4_1.o\n",
      "Skipping file: HPGe_model_2_4_18.o\n",
      "Skipping file: HPGe_model_2_4_5.o\n",
      "Skipping file: HPGe_model_2_5_1.o\n",
      "Skipping file: HPGe_model_2_5_18.o\n",
      "Skipping file: HPGe_model_2_5_5.o\n",
      "Skipping file: HPGe_model_line_pos_z_key\n",
      "Skipping file: runMCNP.bat\n",
      "Skipping file: worm\n"
     ]
    }
   ],
   "source": [
    "from GeneralNuclear.MCNP import batchmaker\n",
    "from subprocess import Popen\n",
    "\n",
    "batchmaker('ValidationSimulations/', inputSuffix=\"in\", tasks=2)"
   ]
  },
  {
   "cell_type": "markdown",
   "metadata": {},
   "source": [
    "## Create and Run MCNP simulations\n",
    "\n",
    "The following cell works on linux (but hasn't been tested)"
   ]
  },
  {
   "cell_type": "markdown",
   "metadata": {},
   "source": [
    "from GeneralNuclear.MCNP import batchmaker\n",
    "from subprocess import Popen\n",
    "\n",
    "Popen('perl ValidationSimulations/worm Final/HPGe_model')\n",
    "batchmaker('ValidationSimulations/', inputSuffix=\"in\", scriptType='sh')\n",
    "Popen('./ ValidationSimulations/runMCNP.sh')"
   ]
  },
  {
   "cell_type": "markdown",
   "metadata": {},
   "source": [
    "## Read and Store the Tally Results\n"
   ]
  },
  {
   "cell_type": "code",
   "execution_count": 2,
   "metadata": {},
   "outputs": [
    {
     "name": "stdout",
     "output_type": "stream",
     "text": [
      "HPGe_model_1_1_1.o\n",
      "HPGe_model_1_1_18.o\n",
      "HPGe_model_1_1_5.o\n",
      "HPGe_model_1_2_1.o\n",
      "HPGe_model_1_2_18.o\n",
      "HPGe_model_1_2_5.o\n",
      "HPGe_model_1_3_1.o\n",
      "HPGe_model_1_3_18.o\n",
      "HPGe_model_1_3_5.o\n",
      "HPGe_model_1_4_1.o\n",
      "HPGe_model_1_4_18.o\n",
      "HPGe_model_1_4_5.o\n",
      "HPGe_model_1_5_1.o\n",
      "HPGe_model_1_5_18.o\n",
      "HPGe_model_1_5_5.o\n",
      "HPGe_model_2_1_1.o\n",
      "HPGe_model_2_1_18.o\n",
      "HPGe_model_2_1_5.o\n",
      "HPGe_model_2_2_1.o\n",
      "HPGe_model_2_2_18.o\n",
      "HPGe_model_2_2_5.o\n",
      "HPGe_model_2_3_1.o\n",
      "HPGe_model_2_3_18.o\n",
      "HPGe_model_2_3_5.o\n",
      "HPGe_model_2_4_1.o\n",
      "HPGe_model_2_4_18.o\n",
      "HPGe_model_2_4_5.o\n",
      "HPGe_model_2_5_1.o\n",
      "HPGe_model_2_5_18.o\n",
      "HPGe_model_2_5_5.o\n",
      "     energy    x    y     z  modelEff  modelSigma\n",
      "0    59.540 -2.5  0.0   1.0  0.123630    0.001038\n",
      "1    59.540 -2.5  0.0  18.0  0.005291    0.000054\n",
      "2    59.540 -2.5  0.0   5.0  0.039054    0.000273\n",
      "3    59.540  0.0  2.5   1.0  0.122660    0.001043\n",
      "4    59.540  0.0  2.5  18.0  0.005283    0.000054\n",
      "5    59.540  0.0  2.5   5.0  0.038588    0.000274\n",
      "6    59.540  2.5  0.0   1.0  0.122120    0.001038\n",
      "7    59.540  2.5  0.0  18.0  0.005271    0.000054\n",
      "8    59.540  2.5  0.0   5.0  0.038412    0.000273\n",
      "9    59.540  0.0 -2.5   1.0  0.122810    0.001044\n",
      "10   59.540  0.0 -2.5  18.0  0.005332    0.000054\n",
      "11   59.540  0.0 -2.5   5.0  0.038600    0.000274\n",
      "12   59.540  0.0  0.0   1.0  0.174120    0.001201\n",
      "13   59.540  0.0  0.0  18.0  0.005437    0.000055\n",
      "14   59.540  0.0  0.0   5.0  0.046476    0.000297\n",
      "15  661.657 -2.5  0.0   1.0  0.034700    0.000579\n",
      "16  661.657 -2.5  0.0  18.0  0.001612    0.000030\n",
      "17  661.657 -2.5  0.0   5.0  0.010422    0.000144\n",
      "18  661.657  0.0  2.5   1.0  0.033830    0.000572\n",
      "19  661.657  0.0  2.5  18.0  0.001594    0.000030\n",
      "20  661.657  0.0  2.5   5.0  0.010150    0.000142\n",
      "21  661.657  2.5  0.0   1.0  0.033950    0.000574\n",
      "22  661.657  2.5  0.0  18.0  0.001556    0.000029\n",
      "23  661.657  2.5  0.0   5.0  0.010114    0.000142\n",
      "24  661.657  0.0 -2.5   1.0  0.033790    0.000571\n",
      "25  661.657  0.0 -2.5  18.0  0.001607    0.000030\n",
      "26  661.657  0.0 -2.5   5.0  0.010316    0.000143\n",
      "27  661.657  0.0  0.0   1.0  0.043830    0.000649\n",
      "28  661.657  0.0  0.0  18.0  0.001585    0.000030\n",
      "29  661.657  0.0  0.0   5.0  0.011582    0.000152\n"
     ]
    }
   ],
   "source": [
    "import os\n",
    "import pandas as pd\n",
    "from GeneralNuclear.MCNP import read_tally\n",
    "\n",
    "# Energy index map (from worm input)\n",
    "energy = [59.54, 661.657]\n",
    "x = [-2.5, 0, 2.5, 0, 0] \n",
    "y = [0, 2.5, 0, -2.5, 0] \n",
    "\n",
    "# Create dataframe\n",
    "model = pd.DataFrame(columns=['energy', 'x', 'y', 'z', 'modelEff', 'modelSigma'], dtype=float)\n",
    "\n",
    "for filename in os.listdir('ValidationSimulations/'):\n",
    "    splitFile = filename.split('.')\n",
    "    if splitFile[-1] == 'o':\n",
    "        print filename\n",
    "        splitFile = filename.split('_')\n",
    "        tmpTally = read_tally('ValidationSimulations/'+filename, 8, readGroups=True)[0]\n",
    "        \n",
    "        # Loop over tally to find the data corresponding to the peak and store\n",
    "        for index, row in tmpTally.iterrows():\n",
    "            if float(row[0]) > energy[int(splitFile[2])-1]/1000.:\n",
    "                tally = float(row[1])\n",
    "                uncert = float(row[2])\n",
    "                break\n",
    "                \n",
    "        model = model.append(pd.Series([energy[int(splitFile[2])-1], x[int(splitFile[3])-1], y[int(splitFile[3])-1], \n",
    "                                        float(splitFile[4].split('.')[0]), tally, tally*uncert], \n",
    "                                       index=['energy', 'x', 'y', 'z', 'modelEff', 'modelSigma']), ignore_index=True)\n",
    "\n",
    "print model"
   ]
  },
  {
   "cell_type": "markdown",
   "metadata": {},
   "source": [
    "## Read Experimental Data Results"
   ]
  },
  {
   "cell_type": "code",
   "execution_count": 3,
   "metadata": {
    "scrolled": false
   },
   "outputs": [
    {
     "name": "stderr",
     "output_type": "stream",
     "text": [
      "C:\\Users\\James\\Anaconda2\\lib\\site-packages\\ipykernel_launcher.py:11: DeprecationWarning: \n",
      ".ix is deprecated. Please use\n",
      ".loc for label based indexing or\n",
      ".iloc for positional indexing\n",
      "\n",
      "See the documentation here:\n",
      "http://pandas.pydata.org/pandas-docs/stable/indexing.html#deprecate_ix\n",
      "  # This is added back by InteractiveShellApp.init_path()\n"
     ]
    },
    {
     "name": "stdout",
     "output_type": "stream",
     "text": [
      "     energy    x    y   z    expEff  expSigma  modelEff  modelSigma\n",
      "29   59.540  0.0  2.5   1  0.123795  0.001463  0.122660    0.001043\n",
      "27   59.540 -2.5  0.0   1  0.124735  0.001474  0.123630    0.001038\n",
      "26   59.540  0.0  0.0   1  0.172887  0.002041  0.174120    0.001201\n",
      "25   59.540  0.0 -2.5   1  0.126024  0.001489  0.122810    0.001044\n",
      "24   59.540  0.0  2.5   5  0.038460  0.000458  0.038588    0.000274\n",
      "23   59.540  2.5  0.0   5  0.037633  0.000449  0.038412    0.000273\n",
      "22   59.540 -2.5  0.0   5  0.037525  0.000447  0.039054    0.000273\n",
      "21   59.540  0.0  0.0   5  0.043382  0.000516  0.046476    0.000297\n",
      "20   59.540  0.0 -2.5   5  0.037092  0.000442  0.038600    0.000274\n",
      "19   59.540  0.0  2.5  18  0.005505  0.000076  0.005283    0.000054\n",
      "18   59.540  2.5  0.0  18  0.005539  0.000076  0.005271    0.000054\n",
      "17   59.540 -2.5  0.0  18  0.005314  0.000073  0.005291    0.000054\n",
      "16   59.540  0.0  0.0  18  0.005751  0.000079  0.005437    0.000055\n",
      "15   59.540  0.0 -2.5  18  0.005468  0.000075  0.005332    0.000054\n",
      "28   59.540  2.5  0.0   1  0.118973  0.001406  0.122120    0.001038\n",
      "0   661.657  0.0 -2.5  18  0.001622  0.000026  0.001607    0.000030\n",
      "12  661.657 -2.5  0.0   1  0.033845  0.000427  0.034700    0.000579\n",
      "11  661.657  0.0  0.0   1  0.041822  0.000522  0.043830    0.000649\n",
      "10  661.657  0.0 -2.5   1  0.031898  0.000404  0.033790    0.000571\n",
      "9   661.657  0.0  2.5   5  0.010573  0.000154  0.010150    0.000142\n",
      "8   661.657  2.5  0.0   5  0.010163  0.000149  0.010114    0.000142\n",
      "7   661.657 -2.5  0.0   5  0.010252  0.000151  0.010422    0.000144\n",
      "6   661.657  0.0  0.0   5  0.011244  0.000185  0.011582    0.000152\n",
      "5   661.657  0.0 -2.5   5  0.010012  0.000178  0.010316    0.000143\n",
      "4   661.657  0.0  2.5  18  0.001624  0.000026  0.001594    0.000030\n",
      "3   661.657  2.5  0.0  18  0.001620  0.000067  0.001556    0.000029\n",
      "2   661.657 -2.5  0.0  18  0.001630  0.000027  0.001612    0.000030\n",
      "1   661.657  0.0  0.0  18  0.001672  0.000026  0.001585    0.000030\n",
      "13  661.657  2.5  0.0   1  0.032548  0.000458  0.033950    0.000574\n",
      "14  661.657  0.0  2.5   1  0.034040  0.000432  0.033830    0.000572\n"
     ]
    }
   ],
   "source": [
    "import pandas as pd\n",
    "\n",
    "# Create dataframe\n",
    "data = pd.DataFrame(columns=['energy', 'x', 'y', 'z', 'expEff', 'expSigma', 'modelEff', 'modelSigma'], dtype=float)\n",
    "data = pd.read_excel('ValidationData.xlsx', parse_cols='A,B,C,D,Q,R',\n",
    "                     names=['energy', 'x', 'y', 'z', 'expEff', 'expSigma'])\n",
    "\n",
    "# Match data points and combine into one dataframe\n",
    "for i in range(len(model)):\n",
    "    for j in range(len(data)):\n",
    "        if all(model.ix[i, 0:4] == data.ix[j, 0:4]):\n",
    "            data.ix[j, 'modelEff'] = model.ix[i, 'modelEff']\n",
    "            data.ix[j, 'modelSigma'] = model.ix[i, 'modelSigma']\n",
    "            break\n",
    "            \n",
    "data.sort_values('energy', inplace=True)\n",
    "print data"
   ]
  },
  {
   "cell_type": "markdown",
   "metadata": {},
   "source": [
    "## Plot the Results"
   ]
  },
  {
   "cell_type": "code",
   "execution_count": 4,
   "metadata": {},
   "outputs": [
    {
     "data": {
      "image/png": "[encoded data removed]",
      "text/plain": [
       "<matplotlib.figure.Figure at 0xb78f588>"
      ]
     },
     "metadata": {},
     "output_type": "display_data"
    },
    {
     "data": {
      "image/png": "[encoded data removed]",
      "text/plain": [
       "<matplotlib.figure.Figure at 0xb5e9710>"
      ]
     },
     "metadata": {},
     "output_type": "display_data"
    },
    {
     "data": {
      "image/png": "[encoded data removed]",
      "text/plain": [
       "<matplotlib.figure.Figure at 0xbe9d828>"
      ]
     },
     "metadata": {},
     "output_type": "display_data"
    }
   ],
   "source": [
    "import matplotlib\n",
    "matplotlib.use('Qt5Agg')\n",
    "%matplotlib inline\n",
    "\n",
    "from Support.Plotting import plot\n",
    "from DataAnalysis.Stats import red_chisq\n",
    "\n",
    "shelfPoints = 10\n",
    "numShelves = 3\n",
    "shelves = [1, 5, 18]\n",
    "\n",
    "for s in shelves:\n",
    "    xData, yData, expSig, yMod, modSig = [], [], [], [], []\n",
    "    for i in range(len(data)):\n",
    "        if data.at[i, 'z'] == s:\n",
    "            xData.append(len(xData)+1)\n",
    "            yData.append(data.at[i, 'expEff'])\n",
    "            yMod.append(data.at[i, 'modelEff'])\n",
    "            expSig.append(data.at[i, 'expSigma'])\n",
    "            modSig.append(data.at[i, 'modelSigma'])\n",
    "    redChi2 = red_chisq(yData, yMod, standDev=expSig, freeParams=1)\n",
    "    plot([xData, yData, expSig], [xData, yMod, modSig], dataLabel=['experiment', 'model'], includeLines=False,\n",
    "          xLabel='Position', yLabel='Efficiency', title='{} cm, $\\chi^2$={:3.2f}'.format(s, redChi2))"
   ]
  },
  {
   "cell_type": "code",
   "execution_count": null,
   "metadata": {
    "collapsed": true
   },
   "outputs": [],
   "source": []
  }
 ],
 "metadata": {
  "kernelspec": {
   "display_name": "Python 2",
   "language": "python",
   "name": "python2"
  },
  "language_info": {
   "codemirror_mode": {
    "name": "ipython",
    "version": 2
   },
   "file_extension": ".py",
   "mimetype": "text/x-python",
   "name": "python",
   "nbconvert_exporter": "python",
   "pygments_lexer": "ipython2",
   "version": "2.7.13"
  }
 },
 "nbformat": 4,
 "nbformat_minor": 2
}
