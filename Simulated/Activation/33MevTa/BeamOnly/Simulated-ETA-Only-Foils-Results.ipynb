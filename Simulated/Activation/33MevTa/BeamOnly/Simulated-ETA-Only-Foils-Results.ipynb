{
 "cells": [
  {
   "cell_type": "markdown",
   "metadata": {},
   "source": [
    "# 33 MeV D on Ta \n",
    "\n",
    "This notebook documents the steps taken to normalize the simulated MCNP foil results.\n",
    "\n",
    "The notebook has dependecies on PScripts, which can be cloned from:\n",
    "https://github.com/jamesbevins/PyScripts\n",
    "\n",
    "Once cloned, the path to the PyScripts/src directory must be added to the user's PYTHONPATH environement variable for this notebook to work."
   ]
  },
  {
   "cell_type": "markdown",
   "metadata": {},
   "source": [
    "## MCNP\n",
    "\n",
    "The experimental configuration was simulated in MCNP to get the expected reaction rates.  The Meulder's deuterons on 197Au was used as the source, and the foil pack was suspended center beam 34.62 cm from the wall.\n",
    "\n",
    "The results are located at <path>\\Dropbox\\UCB\\Research\\ETAs\\88Inch\\Data\\Simulated\\Activation\\33MevTa\\BeamOnly\\Model\n",
    "\n",
    "They are sumarized at:"
   ]
  },
  {
   "cell_type": "code",
   "execution_count": 1,
   "metadata": {},
   "outputs": [
    {
     "name": "stdout",
     "output_type": "stream",
     "text": [
      "The file exists at: C:\\Users\\James\\Dropbox\\UCB\\Research\\ETAs\\88Inch\\Data\\Simulated\\Activation\\33MevTa\\BeamOnly\\SimFoilResults.xlsx\n"
     ]
    }
   ],
   "source": [
    "import os.path\n",
    "\n",
    "simFoilPath = os.path.abspath('../../../Activation/33MevTa/BeamOnly/SimFoilResults.xlsx')\n",
    "\n",
    "if os.path.isfile(simFoilPath): \n",
    "    print 'The file exists at: {}'.format(simFoilPath)\n",
    "else:\n",
    "    print 'ERROR: The file DOES NOT exist at: {}'.format(simFoilPath)"
   ]
  },
  {
   "cell_type": "markdown",
   "metadata": {},
   "source": [
    "## Experimental Parameters"
   ]
  },
  {
   "cell_type": "code",
   "execution_count": 2,
   "metadata": {},
   "outputs": [
    {
     "name": "stdout",
     "output_type": "stream",
     "text": [
      "The MCNP normalization factor is 4.04E9 (from Notebook)\n"
     ]
    }
   ],
   "source": [
    "runTime = 132*60\n",
    "totCurrent = 3216 * 2E-5 * 1E6 #microA\n",
    "srcStrength = totCurrent/runTime #microC\n",
    "print \"The MCNP normalization factor is 4.04E9 (from Notebook)\""
   ]
  },
  {
   "cell_type": "markdown",
   "metadata": {},
   "source": [
    "## Read in Simulation data\n",
    "\n",
    "Read from the designated file path.  Manipulate the file to build a dataframe with the information needed for the count plan.  "
   ]
  },
  {
   "cell_type": "code",
   "execution_count": 3,
   "metadata": {},
   "outputs": [
    {
     "name": "stdout",
     "output_type": "stream",
     "text": [
      "            product  gammaEnergy      br    mass  weightFrac    volume  \\\n",
      "Rx                                                                       \n",
      "27Al(n,p)      Mg27      843.760  0.7180   5.306    1.000000  1.989021   \n",
      "27Al(n,a)      Na24     1368.630  0.9999   5.306    1.000000  1.989021   \n",
      "115In(n,n')  In115M      336.241  0.4580  14.326    0.957100  2.016775   \n",
      "115In(n,g)   In116M     1293.560  0.8480  14.326    0.957100  2.016775   \n",
      "197Au(n,2n)   Au196      355.700  0.8090   3.298    1.000000  0.179801   \n",
      "197Au(n,g)    Au198      411.800  0.9562   3.298    1.000000  0.179801   \n",
      "58Ni(n,2n)     Ni57     1377.630  0.8170  16.934    0.680769  1.924422   \n",
      "58Ni(n,p)      Co58      810.760  0.9945  16.934    0.680769  1.924422   \n",
      "90Zr(n,2n)     Zr89      909.150  0.9904  13.189    0.514500  2.026053   \n",
      "\n",
      "             volSigma    halfLife  initActivity  activityUncert  specActivity  \\\n",
      "Rx                                                                              \n",
      "27Al(n,p)     0.00711      567.48   1097.721553        3.978833    206.883067   \n",
      "27Al(n,a)     0.00711    54000.00    218.056722        0.787059     41.096254   \n",
      "115In(n,n')   0.01070    16200.00    621.960717        4.023001     43.414820   \n",
      "115In(n,g)    0.01070     3247.20    209.380885        4.555458     14.615446   \n",
      "197Au(n,2n)   0.00575   533088.00     23.875893        0.763640      7.239507   \n",
      "197Au(n,g)    0.00575   232848.00      0.701819        0.040655      0.212801   \n",
      "58Ni(n,2n)    0.00696   128160.00     17.661545        0.064484      1.042964   \n",
      "58Ni(n,p)     0.00696  6122304.00     15.254670        0.057667      0.900831   \n",
      "90Zr(n,2n)    0.00440   282276.00     64.708938        0.144206      4.906281   \n",
      "\n",
      "             specActUncert  \n",
      "Rx                          \n",
      "27Al(n,p)         0.753918  \n",
      "27Al(n,a)         0.149140  \n",
      "115In(n,n')       0.280884  \n",
      "115In(n,g)        0.317992  \n",
      "197Au(n,2n)       0.231588  \n",
      "197Au(n,g)        0.012328  \n",
      "58Ni(n,2n)        0.003810  \n",
      "58Ni(n,p)         0.003407  \n",
      "90Zr(n,2n)        0.010959  \n"
     ]
    }
   ],
   "source": [
    "import numpy as np\n",
    "import pandas as pd\n",
    "\n",
    "simVaultFoils = pd.read_excel(simFoilPath, sheetname='MCNP_Results')\n",
    "from GeneralNuclear.BasicNuclearCalcs import get_decay_const, production_decay\n",
    "\n",
    "# Delete unneccesary columns for readability and make the index the reactant\n",
    "simVaultFoils.index = simVaultFoils.Rx\n",
    "del simVaultFoils['Foil']\n",
    "del simVaultFoils['Rx']\n",
    "del simVaultFoils['AW']\n",
    "del simVaultFoils['Radius [cm]']\n",
    "del simVaultFoils['Thickness [cm]']\n",
    "del simVaultFoils['Density [g/cm^3]']\n",
    "del simVaultFoils['Density Uncertainty']\n",
    "del simVaultFoils['Lambda [s^-1]']\n",
    "\n",
    "# Rename columns for ease of access and add in the statistics column\n",
    "simVaultFoils.columns = ['product', 'gammaEnergy', 'br', 'normalization', 'rxRate',\n",
    "                         'rxRateSigma', 'mass', 'weightFrac', 'volume', 'volSigma',\n",
    "                         'halfLife']\n",
    "\n",
    "# Put branching ratios in fractional form\n",
    "simVaultFoils['br'] = simVaultFoils['br']/100.\n",
    "\n",
    "# Calculate the activity following transit time decay for each rx; delete columns no longer needed\n",
    "simVaultFoils['initActivity'] = 0.0\n",
    "simVaultFoils['activityUncert'] = 0.0\n",
    "simVaultFoils['specActivity'] = 0.0\n",
    "simVaultFoils['specActUncert'] = 0.0\n",
    "for ind in simVaultFoils.index:\n",
    "    simVaultFoils.at[ind, 'initActivity'] = production_decay(simVaultFoils.at[ind, 'halfLife'], 0, runTime, \\\n",
    "                                                    simVaultFoils.at[ind, 'rxRate'], \\\n",
    "                                                    simVaultFoils.at[ind, 'normalization'], \\\n",
    "                                                    simVaultFoils.at[ind, 'volume'], 360)\\\n",
    "                                                    *get_decay_const(simVaultFoils.at[ind,'halfLife'])\\\n",
    "                                                    *simVaultFoils.at[ind,'br']\n",
    "    simVaultFoils.at[ind, 'activityUncert'] = simVaultFoils.at[ind, 'initActivity']*\\\n",
    "                                              np.sqrt(simVaultFoils.at[ind, 'rxRateSigma']**2+\n",
    "                                                      (simVaultFoils.at[ind, 'volSigma']/simVaultFoils.at[ind, 'volume'])**2)\n",
    "    simVaultFoils.at[ind, 'specActivity'] = simVaultFoils.at[ind, 'initActivity'] / simVaultFoils.at[ind, 'mass']\n",
    "    simVaultFoils.at[ind, 'specActUncert'] = np.sqrt((simVaultFoils.at[ind, 'activityUncert']/simVaultFoils.at[ind, 'initActivity'])**2\n",
    "                                                     +(0.002/simVaultFoils.at[ind, 'mass'])**2)\\\n",
    "                                             * simVaultFoils.at[ind, 'specActivity']\n",
    "    \n",
    "del simVaultFoils['rxRate']\n",
    "del simVaultFoils['normalization']\n",
    "#del simVaultFoils['volume']\n",
    "del simVaultFoils['rxRateSigma']\n",
    "#del simVaultFoils['volSigma']\n",
    "\n",
    "print simVaultFoils"
   ]
  },
  {
   "cell_type": "markdown",
   "metadata": {},
   "source": [
    "## Notes\n",
    "\n",
    "1) Ni58(n,2n)Ni57 channel will not be clean. There will be contributions from Ni60(n,4n)Ni57 (threshold 33.15 MeV) and Ni61(n,5n)Ni57 (threshold 41.09 MeV) channels. Unfortunatetly, nuclear data does not exist for these channels.\n",
    "\n",
    "2) Ni58(n,p)Co58 channel will not be clean. There will be contributions from Ni60(n,2np)Co58 (threshold 20.32 MeV), Ni61(n,3np)Co58 (threshold 28.27 MeV), and Ni62(n,4np)Co58 (threshold 39.03 MeV) channels. Unfortunatetly, nuclear data does not exist for these channels.\n",
    "\n",
    "3) Zr90(n,2n)Zr89 channel will not be clean. There will be contributions from Zr91(n,3n)Zr89 (threshold 19.38 MeV), Zr92(n,4n)Zr89 (threshold 28.80 MeV), and Zr94(n,6n)Zr89 (threshold 43.21 MeV) channels. Unfortunatetly, nuclear data does not exist for these channels. \n",
    "\n",
    "For the Ni58(n,p)Co58 and Zr90(n,2n)Zr89 channels, the measured activation rates are likely useless from an unfolding perspective because there are multiple feeding channels due to the energy range covered by the beam.  \n",
    "\n",
    "The Ni58(n,2n)Ni57 is borderline as Ni60(n,4n)Ni57 (threshold 33.15 MeV) is technically possible, but I think it would be a minor factor.  Since it is such a small overlap for Ni60(n,4n)Ni57, we can address this in the model. "
   ]
  },
  {
   "cell_type": "code",
   "execution_count": null,
   "metadata": {
    "collapsed": true
   },
   "outputs": [],
   "source": []
  }
 ],
 "metadata": {
  "kernelspec": {
   "display_name": "Python 2",
   "language": "python",
   "name": "python2"
  },
  "language_info": {
   "codemirror_mode": {
    "name": "ipython",
    "version": 2
   },
   "file_extension": ".py",
   "mimetype": "text/x-python",
   "name": "python",
   "nbconvert_exporter": "python",
   "pygments_lexer": "ipython2",
   "version": "2.7.13"
  }
 },
 "nbformat": 4,
 "nbformat_minor": 2
}
