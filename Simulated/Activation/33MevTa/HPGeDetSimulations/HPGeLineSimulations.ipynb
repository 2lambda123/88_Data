{
 "cells": [
  {
   "cell_type": "markdown",
   "metadata": {},
   "source": [
    "## Create and Run MCNP simulations - Windows version\n",
    "\n",
    "The worm script must be run seperately in Cygwin using the command\n",
    "\n",
    "\\>\\>perl worm HPGe_model\n",
    "\n",
    "From this folder.  The the runMCNP.bat can be run from the same directory:\n",
    "\n",
    "\\>\\> runMCNP.bat"
   ]
  },
  {
   "cell_type": "code",
   "execution_count": 4,
   "metadata": {},
   "outputs": [
    {
     "name": "stdout",
     "output_type": "stream",
     "text": [
      "Skipping file: .ipynb_checkpoints\n",
      "Skipping file: HPGeLineSimulations.ipynb\n",
      "Skipping file: HPGe_model\n",
      "Skipping file: HPGe_model.$$$\n",
      "Skipping file: HPGe_model_line_pos_z_key\n",
      "Skipping file: runMCNP.bat\n",
      "Skipping file: worm\n"
     ]
    }
   ],
   "source": [
    "from GeneralNuclear.MCNP import batchmaker\n",
    "from subprocess import Popen\n",
    "\n",
    "batchmaker('C:/Users/James/Dropbox/UCB/Research/ETAs/88Inch/Data/Simulated/Activation/33MevTa/HPGeDetSimulations/', inputSuffix=\"in\", tasks=2)"
   ]
  },
  {
   "cell_type": "markdown",
   "metadata": {},
   "source": [
    "## Read and Store the Tally Results\n"
   ]
  },
  {
   "cell_type": "code",
   "execution_count": 9,
   "metadata": {},
   "outputs": [
    {
     "name": "stdout",
     "output_type": "stream",
     "text": [
      "HPGe_model_10_1_1.o\n",
      "HPGe_model_10_1_18.o\n",
      "HPGe_model_11_1_1.o\n",
      "HPGe_model_11_1_18.o\n",
      "HPGe_model_12_1_1.o\n",
      "HPGe_model_12_1_18.o\n",
      "HPGe_model_13_1_1.o\n",
      "HPGe_model_13_1_18.o\n",
      "HPGe_model_14_1_1.o\n",
      "HPGe_model_14_1_18.o\n",
      "HPGe_model_15_1_1.o\n",
      "HPGe_model_15_1_18.o\n",
      "HPGe_model_16_1_1.o\n",
      "HPGe_model_16_1_18.o\n",
      "HPGe_model_17_1_1.o\n",
      "HPGe_model_17_1_18.o\n",
      "HPGe_model_18_1_1.o\n",
      "HPGe_model_18_1_18.o\n",
      "HPGe_model_19_1_1.o\n",
      "HPGe_model_19_1_18.o\n",
      "HPGe_model_1_1_1.o\n",
      "HPGe_model_1_1_18.o\n",
      "HPGe_model_2_1_1.o\n",
      "HPGe_model_2_1_18.o\n",
      "HPGe_model_3_1_1.o\n",
      "HPGe_model_3_1_18.o\n",
      "HPGe_model_4_1_1.o\n",
      "HPGe_model_4_1_18.o\n",
      "HPGe_model_5_1_1.o\n",
      "HPGe_model_5_1_18.o\n",
      "HPGe_model_6_1_1.o\n",
      "HPGe_model_6_1_18.o\n",
      "HPGe_model_7_1_1.o\n",
      "HPGe_model_7_1_18.o\n",
      "HPGe_model_8_1_1.o\n",
      "HPGe_model_8_1_18.o\n",
      "HPGe_model_9_1_1.o\n",
      "HPGe_model_9_1_18.o\n",
      "       energy    x    y     z  modelEff  modelSigma\n",
      "0   1332.4920  0.0  0.0   1.0  0.024270    0.000488\n",
      "1   1332.4920  0.0  0.0  18.0  0.000940    0.000023\n",
      "2    661.6570  0.0  0.0   1.0  0.043830    0.000649\n",
      "3    661.6570  0.0  0.0  18.0  0.001585    0.000030\n",
      "4    121.7817  0.0  0.0   1.0  0.197910    0.001267\n",
      "5    121.7817  0.0  0.0  18.0  0.005876    0.000057\n",
      "6    244.5974  0.0  0.0   1.0  0.116950    0.001017\n",
      "7    244.5974  0.0  0.0  18.0  0.003970    0.000047\n",
      "8    344.2785  0.0  0.0   1.0  0.082530    0.000867\n",
      "9    344.2785  0.0  0.0  18.0  0.002888    0.000040\n",
      "10   778.9045  0.0  0.0   1.0  0.038180    0.000607\n",
      "11   778.9045  0.0  0.0  18.0  0.001406    0.000028\n",
      "12   964.0570  0.0  0.0   1.0  0.031050    0.000550\n",
      "13   964.0570  0.0  0.0  18.0  0.001190    0.000026\n",
      "14  1085.8370  0.0  0.0   1.0  0.028450    0.000526\n",
      "15  1085.8370  0.0  0.0  18.0  0.001083    0.000024\n",
      "16  1112.0760  0.0  0.0   1.0  0.027550    0.000518\n",
      "17  1112.0760  0.0  0.0  18.0  0.001063    0.000024\n",
      "18  1408.0130  0.0  0.0   1.0  0.022960    0.000473\n",
      "19  1408.0130  0.0  0.0  18.0  0.000895    0.000022\n",
      "20    59.5400  0.0  0.0   1.0  0.174120    0.001201\n",
      "21    59.5400  0.0  0.0  18.0  0.005437    0.000055\n",
      "22   122.0610  0.0  0.0   1.0  0.197770    0.001266\n",
      "23   122.0610  0.0  0.0  18.0  0.005873    0.000057\n",
      "24   136.4740  0.0  0.0   1.0  0.187410    0.001237\n",
      "25   136.4740  0.0  0.0  18.0  0.005677    0.000056\n",
      "26   834.8480  0.0  0.0   1.0  0.036030    0.000591\n",
      "27   834.8480  0.0  0.0  18.0  0.001332    0.000027\n",
      "28    80.9979  0.0  0.0   1.0  0.207650    0.001287\n",
      "29    80.9979  0.0  0.0  18.0  0.006113    0.000058\n",
      "30   276.3989  0.0  0.0   1.0  0.103440    0.000962\n",
      "31   276.3989  0.0  0.0  18.0  0.003563    0.000045\n",
      "32   302.8508  0.0  0.0   1.0  0.094640    0.000927\n",
      "33   302.8508  0.0  0.0  18.0  0.003261    0.000042\n",
      "34   356.0129  0.0  0.0   1.0  0.080210    0.000858\n",
      "35   356.0129  0.0  0.0  18.0  0.002786    0.000039\n",
      "36  1173.2280  0.0  0.0   1.0  0.026380    0.000506\n",
      "37  1173.2280  0.0  0.0  18.0  0.001026    0.000024\n"
     ]
    }
   ],
   "source": [
    "import os\n",
    "import pandas as pd\n",
    "from GeneralNuclear.MCNP import read_tally\n",
    "\n",
    "# Energy index map (from worm input)\n",
    "energy = [59.54, 122.061, 136.474, 834.848, 80.9979, 276.3989, 302.8508, 356.0129, 1173.228, 1332.492, 661.657,\n",
    "          121.7817, 244.5974, 344.2785, 778.9045, 964.057, 1085.837, 1112.076, 1408.013]\n",
    "x = [0] \n",
    "y = [0] \n",
    "\n",
    "# Create dataframe\n",
    "model = pd.DataFrame(columns=['energy', 'x', 'y', 'z', 'modelEff', 'modelSigma'], dtype=float)\n",
    "\n",
    "for filename in os.listdir(os.getcwd()):\n",
    "    splitFile = filename.split('.')\n",
    "    if splitFile[-1] == 'o':\n",
    "        print filename\n",
    "        splitFile = filename.split('_')\n",
    "        tmpTally = read_tally(os.getcwd()+'/'+filename, 8, readGroups=True)[0]\n",
    "        \n",
    "        # Loop over tally to find the data corresponding to the peak and store\n",
    "        for index, row in tmpTally.iterrows():\n",
    "            if float(row[0]) > energy[int(splitFile[2])-1]/1000.:\n",
    "                tally = float(row[1])\n",
    "                uncert = float(row[2])\n",
    "                break\n",
    "                \n",
    "        model = model.append(pd.Series([energy[int(splitFile[2])-1], x[int(splitFile[3])-1], y[int(splitFile[3])-1], \n",
    "                                        float(splitFile[4].split('.')[0]), tally, tally*uncert], \n",
    "                                       index=['energy', 'x', 'y', 'z', 'modelEff', 'modelSigma']), ignore_index=True)\n",
    "\n",
    "print model"
   ]
  },
  {
   "cell_type": "code",
   "execution_count": null,
   "metadata": {
    "collapsed": true
   },
   "outputs": [],
   "source": []
  }
 ],
 "metadata": {
  "kernelspec": {
   "display_name": "Python 2",
   "language": "python",
   "name": "python2"
  },
  "language_info": {
   "codemirror_mode": {
    "name": "ipython",
    "version": 2
   },
   "file_extension": ".py",
   "mimetype": "text/x-python",
   "name": "python",
   "nbconvert_exporter": "python",
   "pygments_lexer": "ipython2",
   "version": "2.7.13"
  }
 },
 "nbformat": 4,
 "nbformat_minor": 2
}
