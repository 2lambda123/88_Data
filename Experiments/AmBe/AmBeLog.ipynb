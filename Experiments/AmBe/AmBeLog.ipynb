{
 "cells": [
  {
   "cell_type": "markdown",
   "metadata": {},
   "source": [
    "# AmBe Log Book (30Jan17)\n",
    "\n",
    "## Initial Setup of DAQ\n",
    "\n",
    "Login to bangDAQUser with password !DataUser.\n",
    "\n",
    "Power on CAEN N8315 Power Supply. \n",
    "\n",
    "Open up terminal and launch the DPP_PSD app by typing:\n",
    "DPP-PSD_ControlSoftware\n",
    "\n",
    "Connect the DAQ by presing the connect button.  The connection type is USB, and the base address is 32100000."
   ]
  },
  {
   "cell_type": "markdown",
   "metadata": {
    "collapsed": true
   },
   "source": [
    "## Initial Setup of Detector\n",
    "\n",
    "Turn on the fan (may need to tape to keep it on). Turn on the NIM power supply.\n",
    "\n",
    "Turn on the Caen HV power supply.  The settings used are shown below.  The PMTs use a negative bias with a max bias of 2500V.  The voltage shown below may need to be adjusted based on the calibration to ensure there is no clipping at high incident gamma/neutron energies. \n",
    "\n",
    "<img src=\"Pics/HVSupply.jpg\">\n",
    "\n",
    "Connect the detector, oscope, and DAQ as shown below. The green BNC connects the detector to the Oscope, the HV connects the detector to the CAEN HV power supply, and the black BNC connects the Oscope to the DAQ.  The termination is 50 $\\Omega$. \n",
    "\n",
    "<img src=\"Pics/detSetup.jpg\">\n",
    "<img src=\"Pics/OscopeSetup.jpg\">\n",
    "\n",
    "Once you a happy with how the detector is performing, remove the connection to the oscope and feed the detector output directly to the DAQ as shown below. NOTE: The choice of A1 or A2 is arbitrary. \n",
    "\n",
    "<img src=\"Pics/detSetup2.jpg\">"
   ]
  },
  {
   "cell_type": "markdown",
   "metadata": {
    "collapsed": true
   },
   "source": [
    "## DAQ Setup\n",
    "\n",
    "### Start Acquisition\n",
    "Sign out the AmBe source and place in front of the detector.\n",
    "\n",
    "On the DAQ General tab, select Oscilliscope.  Then click on the Oscilliscope Tab and select Plot Display On.\n",
    "\n",
    "Click on the Channels tab and select Data Acquisition On (located at the bottom of the GUI).\n",
    "\n",
    "### Set PSD settings\n",
    "For scaling, 10 MeV neutrons (The approximate end point of AmBe) equals approximately 5 MeVee.  35 MeV neutrons (the approximate neutron end point energy for 33 MeV D on Ta) equals approximately 25 MeVee. \n",
    "\n",
    "On the general tab, select Oscilliscope aquisition mode.\n",
    "\n",
    "On the channels tab, adjust the PSD settings while looking at the oscope traces.  An example settings is shown here:\n",
    "\n",
    "<img src=\"Pics/PSDsettings.jpg\">\n",
    "\n",
    "### Acquire Data\n",
    "On the general tab, select hisogram acquisition mode. Change to the Histogram tab and turn plotting on.  Select the 2D radio button.\n",
    "\n",
    "The PSD plot should look something like this:\n",
    "\n",
    "<img src=\"Pics/DAQhisto.jpg\">\n",
    "\n",
    "Adjust the PSD gate settings if necessary to improve the PSD.\n",
    "\n",
    "Click on the Output tab.  Select a file location and name.  Select list, binary format, and energy histogram.  Finally turn dumping on.\n",
    "\n",
    "<img src=\"Pics/AmBeResults.jpg\">"
   ]
  },
  {
   "cell_type": "markdown",
   "metadata": {},
   "source": [
    "## Sources\n",
    "\n",
    "Repeat for each source to be used for calibration. Ensure sufficient statistics are taken for each source.  NOTE: keep the same settings across all calibraions!\n",
    "\n",
    "Typical sources used are: AmBe, Co60, CS137, and Na22.  \n",
    "\n",
    "Also, take a background measurement for subtraction.  "
   ]
  },
  {
   "cell_type": "markdown",
   "metadata": {},
   "source": [
    "## Calibration Steps:\n"
   ]
  }
 ],
 "metadata": {
  "kernelspec": {
   "display_name": "Python 2",
   "language": "python",
   "name": "python2"
  },
  "language_info": {
   "codemirror_mode": {
    "name": "ipython",
    "version": 2
   },
   "file_extension": ".py",
   "mimetype": "text/x-python",
   "name": "python",
   "nbconvert_exporter": "python",
   "pygments_lexer": "ipython2",
   "version": "2.7.6"
  }
 },
 "nbformat": 4,
 "nbformat_minor": 0
}
