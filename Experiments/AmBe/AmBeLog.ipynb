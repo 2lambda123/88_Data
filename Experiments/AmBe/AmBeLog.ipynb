{
 "cells": [
  {
   "cell_type": "markdown",
   "metadata": {},
   "source": [
    "# AmBe Experimental Acquisition and Calibration\n",
    "\n",
    "This notebook describes all of the steps required to take experimental data, parse that data, perform pulse shape discrimination (PSD) cuts, calibrate the data, and generate a pulse height spectrum (PHS) for use in unfolding.  Here calibration data is taken with Na22, Co60, Cs137, and AmBe sources.  The AmBe source also serves as the neutron source to be used for unfolding. "
   ]
  },
  {
   "cell_type": "markdown",
   "metadata": {},
   "source": [
    "## Initial Setup of DAQ\n",
    "\n",
    "Login to bangDAQUser with password !DataUser.\n",
    "\n",
    "Power on CAEN N8315 Power Supply. \n",
    "\n",
    "Open up terminal and launch the DPP_PSD app by typing:\n",
    "DPP-PSD_ControlSoftware\n",
    "\n",
    "Connect the DAQ by presing the connect button.  The connection type is USB, and the base address is 32100000."
   ]
  },
  {
   "cell_type": "markdown",
   "metadata": {
    "collapsed": true
   },
   "source": [
    "## Initial Setup of Detector\n",
    "\n",
    "Turn on the fan (may need to tape to keep it on). Turn on the NIM power supply.\n",
    "\n",
    "Turn on the Caen HV power supply.  The settings used for this experiment are shown below.  The PMTs use a negative bias with a max bias of 2500V.  The voltage shown below may need to be adjusted based on the calibration to ensure there is no clipping at high incident gamma/neutron energies for other detectors/experiments.  This process is described below.  \n",
    "\n",
    "<img src=\"Pics/HVSupply.jpg\">\n",
    "\n",
    "Connect the detector, oscope, and DAQ as shown below. The green BNC connects the detector to the Oscope, the HV connects the detector to the CAEN HV power supply, and the black BNC connects the Oscope to the DAQ.  The termination is 50 $\\Omega$. \n",
    "\n",
    "<img src=\"Pics/detSetup.jpg\">\n",
    "<img src=\"Pics/OscopeSetup.jpg\">\n",
    "\n",
    "Once you a happy with how the detector is performing, remove the connection to the oscope and feed the detector output directly to the DAQ as shown below. NOTE: The choice of A1 or A2 is arbitrary. \n",
    "\n",
    "<img src=\"Pics/detSetup2.jpg\">"
   ]
  },
  {
   "cell_type": "markdown",
   "metadata": {
    "collapsed": true
   },
   "source": [
    "## DAQ Setup\n",
    "\n",
    "### Start Acquisition\n",
    "Sign out the AmBe source and place in front of the detector.\n",
    "\n",
    "On the DAQ General tab, select Oscilliscope.  Then click on the Oscilliscope Tab and select Plot Display On.\n",
    "\n",
    "Click on the Channels tab and select Data Acquisition On (located at the bottom of the GUI).\n",
    "\n",
    "### Set Gain\n",
    "To determine the neutron (proton) energy to MeVee conversion, use lightTables.getLight(neutron_energy,particle) from the nsd-rootscripts repo.  For this planned 33 MeV on Ta experiment that this calibration is developed for, lightTables.getLight(35,0) = 22.6 MeVee.  \n",
    "\n",
    "For reference, the AmBe source has neutron up to ~ 10 MeV, which is about 5 MeVee in light space. This can be calculated using the light tables above.\n",
    "\n",
    "Both the oscope and PSD must be scaled to ensure that the capture the full scale range (FSR) of the intended experiment.  There are two nobs to do this:\n",
    "\n",
    "1) Bias - The higher the bias the better the PSD <br/>\n",
    "2) Charge Sensitivity (on the channels tab) - Reduces the resoltuion, but allows for a wider FSR\n",
    "\n",
    "#### OScope\n",
    "On the general tab, select Oscilliscope aquisition mode.\n",
    "\n",
    "On the channels tab, adjust the PSD settings while looking at the oscope traces.  An example settings is shown here:\n",
    "\n",
    "<img src=\"Pics/PSDsettings.jpg\">\n",
    "\n",
    "The threshold can be increased until the DAQ does not trigger.  That is the range of the AmBe 10 MeV neutrons. To calculate if the FSR of the experiment is captured:\n",
    "\n",
    "Max Expected Data Channel = Threshold * Max Proton MeVee from Experiment / Max Proton MeVee from AmBe \n",
    "\n",
    "This number needs to be less than the the baseline shown on the scope (~15900 in this case) to be within the FSR of the oscope.  NOTE: The base line can be shifted up to ~16,300 with the DC offset setting.\n",
    "\n",
    "The settings used are shown above and captured in the DppConfigJamesBevins2017_2_1.txt file.  This can be loaded directly into the software as a starting point.  \n",
    "\n",
    "#### PSD\n",
    "\n",
    "A similar excersise must be done with the PSD plot.  Again, the threshold can be increased to see just the tails of the distribution, or it can be determined visually from the PSD plot.\n",
    "\n",
    "On the general tab, select hisogram acquisition mode. Change to the Histogram tab and turn plotting on.  Select the 2D radio button.\n",
    "\n",
    "The PSD plot should look something like this:\n",
    "\n",
    "<img src=\"Pics/PSD.jpg\">\n",
    "\n",
    "Adjust the PSD gate settings if necessary to improve the PSD.  The settings chose to generate this plot were shown above.\n",
    "\n",
    "The FSR can be checked by:\n",
    "\n",
    "Max Expected Data Channel = Threshold * Max Proton MeVee from Experiment / Max Proton MeVee from AmBe \n",
    "\n",
    "This must be less than ~35k to be captured in the FSR of the PSD histogram."
   ]
  },
  {
   "cell_type": "markdown",
   "metadata": {},
   "source": [
    "### Acquire Data\n",
    "Click on the Output tab.  Select a file location and name.  Select list, binary format, and energy histogram.  Finally turn dumping on.\n",
    "\n",
    "Take data until sufficient statistics are build up.  The can be tracked by looking at the 1D energy histogram as shown below.  This is an example of sufficient data needed to perform the calibration.  \n",
    "\n",
    "<img src=\"Pics/AmBeResults.jpg\">"
   ]
  },
  {
   "cell_type": "markdown",
   "metadata": {},
   "source": [
    "## Sources\n",
    "\n",
    "Repeat for each source to be used for calibration. Ensure sufficient statistics are taken for each source.  NOTE: Keep the same settings across all calibraions.\n",
    "\n",
    "Typical sources used are: AmBe, Co60, CS137, and Na22.  \n",
    "\n",
    "A background measurement is generally not needed for calibration, but it is a good idea to take one. "
   ]
  },
  {
   "cell_type": "markdown",
   "metadata": {},
   "source": [
    "# Calibration Post-Processing Steps:\n",
    "\n",
    "The rest of this notebook is both descriptive and interactive.  Choose which step to perform in the notebook, or you can run them in root.  NOTE: If using this notebook as a guide to a different data set, check each of variables and commands to make sure they make sense in the context of your data set.\n",
    "\n",
    "\n",
    "## Convert Binaries to root trees\n",
    "\n",
    "For each of the files, run the following (the gROOT commands can be copied and run directly in ROOT if preferred):\n",
    "\n",
    "DPPBinaryParser parser;  \n",
    "parser.readDatFile(\"your file name.dat\", \"output file name.root\");"
   ]
  },
  {
   "cell_type": "code",
   "execution_count": 1,
   "metadata": {
    "collapsed": true
   },
   "outputs": [],
   "source": [
    "from ROOT import gROOT\n",
    "import os\n",
    "\n",
    "path=\"/home/pyne-user/Dropbox/UCB/Research/ETAs/88Inch/Unfolding/Experiments/AmBe/CalibData/\""
   ]
  },
  {
   "cell_type": "code",
   "execution_count": null,
   "metadata": {
    "collapsed": false
   },
   "outputs": [],
   "source": [
    "gROOT.ProcessLine('DPPBinaryParser parser;')\n",
    "\n",
    "for filename in os.listdir(path):\n",
    "    if filename.endswith(\".dat\"): \n",
    "        name = os.path.splitext(filename)[0]\n",
    "        gROOT.ProcessLine('parser.readDatFile(\"{0}{1}.dat\", \"{0}{1}.root\");'.format(path,name))"
   ]
  },
  {
   "cell_type": "markdown",
   "metadata": {},
   "source": [
    "## Make PSD cuts on AmBe\n",
    "\n",
    "To perform the calibration, it is necessary to toss out the neutron data from the AmBe data.  Here a simple linear cut is demonstrated.  psdplotfitter.h has some more advanced options if needed.\n",
    "\n",
    "Each of the gROOT commands can be copied and run directly in ROOT if desired.\n",
    "\n",
    "First draw the PSD reducing the number of bins to 1024 in both directions:"
   ]
  },
  {
   "cell_type": "code",
   "execution_count": null,
   "metadata": {
    "collapsed": false
   },
   "outputs": [],
   "source": [
    "gROOT.ProcessLine('TFile f(\"{0}AmBe_det1.root\",\"update\")'.format(path))\n",
    "gROOT.ProcessLine('eventTree->Draw(\"(m_amplitude-m_shape)/m_amplitude:m_amplitude>>(4096,0,35000,1024,0,1)\",\"\",\"colz\")')"
   ]
  },
  {
   "cell_type": "markdown",
   "metadata": {},
   "source": [
    "This will open a PSD plot.  \n",
    "\n",
    "Right click and click SetShowProjectY.  This opens a new canvas.  On the original PSD canvas, you can select different projections which are plotted on the right.  use this to find the location of the minima between the neutron and gamma band.  In this case it is ~0.23.\n",
    "\n",
    "You can now view those cuts to ensure they are appropriate:"
   ]
  },
  {
   "cell_type": "code",
   "execution_count": null,
   "metadata": {
    "collapsed": false
   },
   "outputs": [],
   "source": [
    "gROOT.ProcessLine('eventTree->Draw(\"(m_amplitude-m_shape)/m_amplitude:m_amplitude>>(4096,0,35000,1024,0,1)\",\"(m_amplitude-m_shape)/m_amplitude<0.23\",\"colz\")')"
   ]
  },
  {
   "cell_type": "markdown",
   "metadata": {},
   "source": [
    "Now we can save the cuts.  This generates a gamma and neutron histogram and saves it to the current file."
   ]
  },
  {
   "cell_type": "code",
   "execution_count": null,
   "metadata": {
    "collapsed": false
   },
   "outputs": [],
   "source": [
    "gROOT.ProcessLine('eventTree->Draw(\"m_amplitude>>AmBeGamma(4096,0,35000)\",\"(m_amplitude-m_shape)/m_amplitude<0.23\")')\n",
    "gROOT.ProcessLine('TH1F* AmBeData = (TH1F*) f.Get(\"AmBeGamma\")')"
   ]
  },
  {
   "cell_type": "code",
   "execution_count": null,
   "metadata": {
    "collapsed": false
   },
   "outputs": [],
   "source": [
    "gROOT.ProcessLine('eventTree->Draw(\"m_amplitude>>AmBeNeutron(4096,0,35000)\",\"(m_amplitude-m_shape)/m_amplitude>0.23\")')\n",
    "gROOT.ProcessLine('f.Write()')"
   ]
  },
  {
   "cell_type": "markdown",
   "metadata": {},
   "source": [
    "## Combine the Calibration Data Files\n",
    "\n",
    "Next, the experimental claibration files need to be combined into a single TFile.  \n",
    "\n",
    "First pull out each of the pulse height histograms:"
   ]
  },
  {
   "cell_type": "code",
   "execution_count": null,
   "metadata": {
    "collapsed": false
   },
   "outputs": [],
   "source": [
    "# Cs137\n",
    "gROOT.ProcessLine('TFile g(\"{0}Cs137_det1.root\",\"update\")'.format(path))\n",
    "gROOT.ProcessLine('eventTree->Draw(\"m_amplitude>>Cs137Data(4096,0,35000)\")')\n",
    "gROOT.ProcessLine('g.Write()')\n",
    "gROOT.ProcessLine('TH1F* Cs137Data = (TH1F*) g.Get(\"Cs137Data\")')"
   ]
  },
  {
   "cell_type": "code",
   "execution_count": null,
   "metadata": {
    "collapsed": false
   },
   "outputs": [],
   "source": [
    "# Co60\n",
    "gROOT.ProcessLine('TFile h(\"{0}Co60_det1.root\",\"update\")'.format(path))\n",
    "gROOT.ProcessLine('eventTree->Draw(\"m_amplitude>>Co60Data(4096,0,35000)\")')\n",
    "gROOT.ProcessLine('h.Write()')\n",
    "gROOT.ProcessLine('TH1F* Co60Data = (TH1F*) h.Get(\"Co60Data\")')"
   ]
  },
  {
   "cell_type": "code",
   "execution_count": null,
   "metadata": {
    "collapsed": false
   },
   "outputs": [],
   "source": [
    "# Na22\n",
    "gROOT.ProcessLine('TFile i(\"{0}Na22_det1.root\",\"update\")'.format(path))\n",
    "gROOT.ProcessLine('eventTree->Draw(\"m_amplitude>>Na22Data(4096,0,35000)\")')\n",
    "gROOT.ProcessLine('i.Write()')\n",
    "gROOT.ProcessLine('TH1F* Na22Data = (TH1F*) i.Get(\"Na22Data\")')"
   ]
  },
  {
   "cell_type": "markdown",
   "metadata": {},
   "source": [
    "Now Combine them into a single file:"
   ]
  },
  {
   "cell_type": "code",
   "execution_count": null,
   "metadata": {
    "collapsed": false
   },
   "outputs": [],
   "source": [
    "gROOT.ProcessLine('TFile j(\"{0}CalibData.root\",\"new\")'.format(path))\n",
    "gROOT.ProcessLine('Co60Data->Write()')\n",
    "gROOT.ProcessLine('Cs137Data->Write()')\n",
    "gROOT.ProcessLine('Na22Data->Write()')\n",
    "gROOT.ProcessLine('AmBeData->Write()')"
   ]
  },
  {
   "cell_type": "markdown",
   "metadata": {},
   "source": [
    "## Combine the Calibration Sim Files\n",
    "\n",
    "Next, the simulated calibration files need to be combined into a single TFile."
   ]
  },
  {
   "cell_type": "code",
   "execution_count": null,
   "metadata": {
    "collapsed": true
   },
   "outputs": [],
   "source": []
  },
  {
   "cell_type": "markdown",
   "metadata": {},
   "source": [
    "## Run the Calibration Software\n",
    "\n",
    "There are two options for running the calibration sofware:\n",
    "\n",
    "1) Simulation based calibrations\n",
    "2) Klein-Nishina based calibration\n",
    "\n",
    "Each The two options will be explained separately."
   ]
  },
  {
   "cell_type": "markdown",
   "metadata": {},
   "source": [
    "### Mode 1 - Simulation Based Calibrations\n",
    "\n",
    "Required:\n",
    "1) Vector of pointers to histograms of data\n",
    "2) Vector of pointers to histograms of simulations of that data in the same order\n",
    "\n",
    "To run the calibrations, use the startCalibrations script.  NOTE: The repo contains an example that is similar but may differ. This script must be loaded first for both methods.\n",
    "\n",
    "This script contains user variables that must be modified.  For this mode you can use one of two methods:\n",
    "\n",
    "1) startGuessSimCalib(): modify the file names\n",
    "2) startSimCalibration(): modify the file names and each of the parameters\n",
    "\n",
    "It is recommneded to use startGuessSimCalib(), and that method is explained in this notebook.  However, if you have starting calibration and scale parameters, startSimCalibration() will get you in a closer starting position to begin with. \n",
    "\n",
    "First load the script and run the method:"
   ]
  },
  {
   "cell_type": "code",
   "execution_count": 2,
   "metadata": {
    "collapsed": false
   },
   "outputs": [
    {
     "ename": "SystemError",
     "evalue": "long TROOT::ProcessLine(const char* line, int* error = 0) =>\n    problem in C++; program state has been reset",
     "output_type": "error",
     "traceback": [
      "\u001b[1;31m---------------------------------------------------------------------------\u001b[0m",
      "\u001b[1;31mSystemError\u001b[0m                               Traceback (most recent call last)",
      "\u001b[1;32m<ipython-input-2-dc4559ef694f>\u001b[0m in \u001b[0;36m<module>\u001b[1;34m()\u001b[0m\n\u001b[0;32m      1\u001b[0m \u001b[0mgROOT\u001b[0m\u001b[1;33m.\u001b[0m\u001b[0mProcessLine\u001b[0m\u001b[1;33m(\u001b[0m\u001b[1;34m'.L startCalibration.cpp'\u001b[0m\u001b[1;33m)\u001b[0m\u001b[1;33m\u001b[0m\u001b[0m\n\u001b[1;32m----> 2\u001b[1;33m \u001b[0mgROOT\u001b[0m\u001b[1;33m.\u001b[0m\u001b[0mProcessLine\u001b[0m\u001b[1;33m(\u001b[0m\u001b[1;34m'a=startSimCalibration()'\u001b[0m\u001b[1;33m)\u001b[0m\u001b[1;33m\u001b[0m\u001b[0m\n\u001b[0m",
      "\u001b[1;31mSystemError\u001b[0m: long TROOT::ProcessLine(const char* line, int* error = 0) =>\n    problem in C++; program state has been reset"
     ]
    }
   ],
   "source": [
    "from ROOT import gROOT\n",
    "\n",
    "gROOT.ProcessLine('.L startCalibration.cpp')\n",
    "gROOT.ProcessLine('a=startSimCalibration()')"
   ]
  },
  {
   "cell_type": "markdown",
   "metadata": {},
   "source": [
    "### Mode 2 - Klein-Nishina Based Calibrations\n",
    "\n",
    "Required:\n",
    "1) Vector of pointers to histograms of data\n",
    "\n",
    "To run the calibrations, use the startCalibrations script.  NOTE: The repo contains an example that is similar but may differ. This script must be loaded first for both methods.\n",
    "\n",
    "This script contains user variables that must be modified.  For this mode you can use one of two methods:\n",
    "\n",
    "1) startGuessKNCalib(): modify the file name and isotopes considered\n",
    "2) startCalcCalibration(): modify the file names and each of the parameters\n",
    "\n",
    "It is recommneded to use startGuessKNCalib(), and that method is explained in this notebook.  However, if you have starting calibration and scale parameters, startCalcCalibration() will get you in a closer starting position to begin with. \n",
    "\n",
    "First load the script and run the method:"
   ]
  },
  {
   "cell_type": "code",
   "execution_count": 3,
   "metadata": {
    "collapsed": false
   },
   "outputs": [
    {
     "ename": "SystemError",
     "evalue": "long TROOT::ProcessLine(const char* line, int* error = 0) =>\n    problem in C++; program state has been reset",
     "output_type": "error",
     "traceback": [
      "\u001b[1;31m---------------------------------------------------------------------------\u001b[0m",
      "\u001b[1;31mSystemError\u001b[0m                               Traceback (most recent call last)",
      "\u001b[1;32m<ipython-input-3-5b1fd16fc133>\u001b[0m in \u001b[0;36m<module>\u001b[1;34m()\u001b[0m\n\u001b[0;32m      2\u001b[0m \u001b[1;33m\u001b[0m\u001b[0m\n\u001b[0;32m      3\u001b[0m \u001b[0mgROOT\u001b[0m\u001b[1;33m.\u001b[0m\u001b[0mProcessLine\u001b[0m\u001b[1;33m(\u001b[0m\u001b[1;34m'.L startCalibration.cpp'\u001b[0m\u001b[1;33m)\u001b[0m\u001b[1;33m\u001b[0m\u001b[0m\n\u001b[1;32m----> 4\u001b[1;33m \u001b[0mgROOT\u001b[0m\u001b[1;33m.\u001b[0m\u001b[0mProcessLine\u001b[0m\u001b[1;33m(\u001b[0m\u001b[1;34m'a=startGuessKNCalib()'\u001b[0m\u001b[1;33m)\u001b[0m\u001b[1;33m\u001b[0m\u001b[0m\n\u001b[0m",
      "\u001b[1;31mSystemError\u001b[0m: long TROOT::ProcessLine(const char* line, int* error = 0) =>\n    problem in C++; program state has been reset"
     ]
    }
   ],
   "source": [
    "from ROOT import gROOT\n",
    "\n",
    "gROOT.ProcessLine('.L startCalibration.cpp')\n",
    "gROOT.ProcessLine('a=startGuessKNCalib()')"
   ]
  },
  {
   "cell_type": "markdown",
   "metadata": {},
   "source": [
    "Set the ranges and the good starting points using the GUI.\n"
   ]
  },
  {
   "cell_type": "code",
   "execution_count": null,
   "metadata": {
    "collapsed": true
   },
   "outputs": [],
   "source": [
    "a->findGammaCalibrationConstants()\n",
    "vector<doubles> thing = a->findGammaCalibrationConstants()\n"
   ]
  },
  {
   "cell_type": "markdown",
   "metadata": {},
   "source": [
    "## Apply the Calibration\n",
    "\n",
    "The x and y are the slope and intercept from the calibration routine."
   ]
  },
  {
   "cell_type": "code",
   "execution_count": null,
   "metadata": {
    "collapsed": true
   },
   "outputs": [],
   "source": [
    "\n",
    "HistogramOperations b\n",
    "vector<TH1*> hosts = b.loadHistograms(“T0Data.root”)\n",
    "b.applyCalibration(hists[0],x,y)\n",
    "hists[0]->Draw()\n",
    "HistogramWriter writer;\n",
    "writer.()"
   ]
  },
  {
   "cell_type": "code",
   "execution_count": null,
   "metadata": {
    "collapsed": true
   },
   "outputs": [],
   "source": [
    "\n",
    "eventTree->Draw(\"m_shape:m_amplitude>>(1024,0,70000,1024,0,35000)\",\"\",\"colz\")\n",
    "\n",
    "#draw psd\n",
    "eventTree->Draw(\"(m_amplitude-m_shape)/m_amplitude:m_amplitude>>(1024,0,35000,1024,0,1)\",\"\",\"colz\")\n",
    "\n",
    "#view psd linear cuts\n",
    "eventTree->Draw(\"(m_amplitude-m_shape)/m_amplitude:m_amplitude>>(1024,0,35000,1024,0,1)\",\"(m_amplitude-m_shape)/m_amplitude>0.16\",\"colz\")\n",
    "\n",
    "#generate phs with linear psd cuts\n",
    "eventTree->Draw(\"m_amplitude>>phs\",\"(m_amplitude-m_shape)/m_amplitude>0.16\")"
   ]
  }
 ],
 "metadata": {
  "kernelspec": {
   "display_name": "Python 2",
   "language": "python",
   "name": "python2"
  },
  "language_info": {
   "codemirror_mode": {
    "name": "ipython",
    "version": 2
   },
   "file_extension": ".py",
   "mimetype": "text/x-python",
   "name": "python",
   "nbconvert_exporter": "python",
   "pygments_lexer": "ipython2",
   "version": "2.7.6"
  }
 },
 "nbformat": 4,
 "nbformat_minor": 0
}
