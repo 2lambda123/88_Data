{
 "cells": [
  {
   "cell_type": "markdown",
   "metadata": {},
   "source": [
    "# 50 MeV D on Ta \n",
    "\n",
    "This notebook documents the steps taken to calibrate, aquire, and analyze data from activation foils used to unfold the neutron spectrum from 50 MeV D breakup on Ta.  \n",
    "\n",
    "This Notebook is broken into the following main sections: <br\\>\n",
    "1) Simulated Results <br\\>\n",
    "2) Simulated Unfold <br\\>\n",
    "3) Calibration <br\\>\n",
    "4) Count Plan <br\\>\n",
    "5) Experimental Setup <br\\>\n",
    "\n",
    "The notebook has dependecies on PScripts, which can be cloned from:\n",
    "https://github.com/jamesbevins/PyScripts"
   ]
  },
  {
   "cell_type": "code",
   "execution_count": 1,
   "metadata": {
    "collapsed": false
   },
   "outputs": [],
   "source": [
    "import os\n",
    "import sys\n",
    "import peakutils\n",
    "\n",
    "import pandas as pd\n",
    "import numpy as np\n",
    "import copy as cp\n",
    "\n",
    "from math import sqrt, exp, log\n",
    "from datetime import datetime\n",
    "from scipy.optimize import curve_fit\n",
    "from peakutils.plot import plot as pplot\n",
    "from matplotlib import pyplot\n",
    "%matplotlib inline\n",
    "\n",
    "# Path to PyScripts support functions \n",
    "sys.path.insert(0,os.path.abspath('/home/pyne-user/Dropbox/UCB/Computational_Tools/Scripts/Python/GeneralNuclear'))\n",
    "from Counting import parse_spe, simple_peak_counts, germanium_eff_exp, foil_count_time, volume_solid_angle, \\\n",
    "                     optimal_count_plan, germanium_eff_poly, ge_peakfit, get_peak_windows, find_best_fit, \\\n",
    "                     germanium_eff\n",
    "from BasicNuclearCalcs import decay, production_decay, get_decay_const, fractional_solid_angle\n",
    "sys.path.insert(0,os.path.abspath('/home/pyne-user/Dropbox/UCB/Computational_Tools/Scripts/Python/DataAnalysis'))\n",
    "from Stats import red_chisq, curve_fit_error4"
   ]
  },
  {
   "cell_type": "markdown",
   "metadata": {},
   "source": [
    "## Simulated Results\n",
    "\n",
    "### MCNP\n",
    "\n",
    "The experimental configuration was simulated in MCNP to get the expected reaction rates.  The Meulder's deuterons on 197Au was used as the source, and the foil pack was suspended center beam 34.62 cm from the wall.\n",
    "\n",
    "The results are located at <path>\\Dropbox\\UCB\\Research\\ETAs\\88Inch\\Data\\Simulated\\Activation\\16MeVTa\\Model\n",
    "\n",
    "They are sumarized at:"
   ]
  },
  {
   "cell_type": "code",
   "execution_count": 2,
   "metadata": {
    "collapsed": true
   },
   "outputs": [],
   "source": [
    "simPath = \"/home/pyne-user/Dropbox/UCB/Research/ETAs/88Inch/Data/Simulated/Activation/50MeVTa/50MeVTaFoils.xlsx\""
   ]
  },
  {
   "cell_type": "markdown",
   "metadata": {},
   "source": [
    "## Simulated Unfold\n",
    "\n",
    "Unfold of the MCNP results to test the theroretical ability to unfold given a set of reaction channels.  "
   ]
  },
  {
   "cell_type": "markdown",
   "metadata": {},
   "source": [
    "## Calibration\n",
    "\n",
    "### Import source data\n",
    "\n",
    "Calibration was performed using Cs137, Co60, Eu 152, Am241, and Ba133 sources. The lines used for energy and efficiency calibration are:\n",
    "\n",
    "#### Position 18 cm\n",
    "\n",
    "Source   | Line (keV)| BR [%] | Time  | Filename\n",
    "-------- |:---------:|:------:|:-----:|:----------------:\n",
    "Cs137    |661.657    |85.10   |0733   |Cs137_18_0737_26Feb17\n",
    "Co60     |1173.23    |99.85   |0746   |Co60_18_0759_26Feb17\n",
    "Co60     |1332.49    |99.98   |0746   |Co60_18_0759_26Feb17\n",
    "Am241    |59.54      |2.14    |0804   |Am241_18_0737_26Feb17\n",
    "Ba133    |80.9979    |32.9    |0850   |Ba133_18_0921_26Feb17\n",
    "Ba133    |276.40     |7.16    |0850   |Ba133_18_0921_26Feb17\n",
    "Ba133    |302.85     |18.34   |0850   |Ba133_18_0921_26Feb17\n",
    "Ba133    |356.01     |62.05   |0850   |Ba133_18_0921_26Feb17\n",
    "Eu152    |121.70     |20.56   |0936   |Eu152_18_0737_26Feb17\n",
    "Eu152    |244.70     |5.44    |0936   |Eu152_18_0737_26Feb17\n",
    "Eu152    |344.29     |7.42    |0936   |Eu152_18_0737_26Feb17\n",
    "Eu152    |778.90     |3.61    |0936   |Eu152_18_0737_26Feb17\n",
    "Eu152    |964.06     |10.46   |0936   |Eu152_18_0737_26Feb17\n",
    "Eu152    |1112.08    |9.85    |0936   |Eu152_18_0737_26Feb17\n",
    "Eu152    |1408.01    |15.04   |0936   |Eu152_18_0737_26Feb17\n",
    "\n",
    "#### Position 1 cm\n",
    "\n",
    "The drawer was a little loose in the stack.  It was pushed to back right for repeatibility.\n",
    "\n",
    "Source   | Line (keV)| BR [%] | Time  | Filename\n",
    "-------- |:---------:|:------:|:-----:|:----------------:\n",
    "Cs137    |661.657    |85.10   |1013   |Cs137_1_1015_26Feb17\n",
    "Co60     |1173.23    |99.85   |1018   |Co60_1_1020_26Feb17\n",
    "Co60     |1332.49    |99.98   |1018   |Co60_1_1020_26Feb17\n",
    "Am241    |59.54      |2.14    |1024   |Am241_1_1025_26Feb17\n",
    "Ba133    |80.9979    |32.9    |1029   |Ba133_1_0921_26Feb17\n",
    "Ba133    |276.40     |7.16    |1029   |Ba133_1_0921_26Feb17\n",
    "Ba133    |302.85     |18.34   |1029   |Ba133_1_0921_26Feb17\n",
    "Ba133    |356.01     |62.05   |1029   |Ba133_1_0921_26Feb17\n",
    "Eu152    |121.70     |20.56   |1036   |Eu152_1_1048_26Feb17\n",
    "Eu152    |244.70     |5.44    |1036   |Eu152_1_1048_26Feb17\n",
    "Eu152    |344.29     |7.42    |1036   |Eu152_1_1048_26Feb17\n",
    "Eu152    |778.90     |3.61    |1036   |Eu152_1_1048_26Feb17\n",
    "Eu152    |964.06     |10.46   |1036   |Eu152_1_1048_26Feb17\n",
    "Eu152    |1112.08    |9.85    |1036   |Eu152_1_1048_26Feb17\n",
    "Eu152    |1408.01    |15.04   |1036   |Eu152_1_1048_26Feb17\n",
    "\n",
    "This data, along with the initial activity and decay information, is also located in the excel file located here:"
   ]
  },
  {
   "cell_type": "code",
   "execution_count": 3,
   "metadata": {
    "collapsed": true
   },
   "outputs": [],
   "source": [
    "calibSourcesPath = 'CalibrationSources.xlsx'"
   ]
  },
  {
   "cell_type": "markdown",
   "metadata": {},
   "source": [
    "Import the source and activity data and format for later analysis:"
   ]
  },
  {
   "cell_type": "code",
   "execution_count": 17,
   "metadata": {
    "collapsed": false
   },
   "outputs": [
    {
     "name": "stdout",
     "output_type": "stream",
     "text": [
      "The calibration source data used: \n",
      "\n",
      "        initActivity  initActRelUncert   initDate     halfLife  measDate\n",
      "source                                                                  \n",
      "Am241         10.300           0.01165 1970-01-01  13644204000         0\n",
      "Eu152          1.062           0.01165 2009-01-01    426326180         0\n",
      "Co60           1.007           0.01165 2009-01-01    166344192         0\n",
      "Cs137          1.042           0.01165 2009-01-01    948723200         0\n",
      "Ba133          1.078           0.01165 2009-01-01    332778540         0\n"
     ]
    }
   ],
   "source": [
    "sources = pd.read_excel(calibSourcesPath, \"Sources\")\n",
    "sources.columns = ['source', 'initActivity', 'initActRelUncert', 'initDate', 'halfLife']\n",
    "sources.index = sources.source\n",
    "del sources['source']\n",
    "sources['initDate'] = pd.to_datetime(sources['initDate'])\n",
    "sources['measDate'] = 0     \n",
    "\n",
    "print \"The calibration source data used: \\n\\n\", sources"
   ]
  },
  {
   "cell_type": "markdown",
   "metadata": {},
   "source": [
    "Import the calibration line and branching ratio data:"
   ]
  },
  {
   "cell_type": "code",
   "execution_count": 18,
   "metadata": {
    "collapsed": false
   },
   "outputs": [
    {
     "name": "stdout",
     "output_type": "stream",
     "text": [
      "The calibration peak data used: \n",
      "\n",
      "      isotope       line  branchingRatio\n",
      "0   Cs137       661.6570        0.851000\n",
      "1   Co60       1173.2300        0.998500\n",
      "2   Co60       1332.4900        0.999826\n",
      "3   Ba133        80.9979        0.329000\n",
      "4   Ba133       276.4000        0.071600\n",
      "5   Ba133       302.8500        0.183400\n",
      "6   Ba133       356.0100        0.620500\n",
      "7   Eu152       121.7000        0.285300\n",
      "8   Eu152       244.7000        0.075500\n",
      "9   Eu152       344.2900        0.265900\n",
      "10  Eu152       778.9000        0.129300\n",
      "11  Eu152       964.0600        0.145100\n",
      "12  Eu152      1112.0800        0.136700\n",
      "13  Eu152      1408.0100        0.208700\n"
     ]
    }
   ],
   "source": [
    "lines = pd.read_excel(calibSourcesPath,\"Lines\")\n",
    "lines.columns=['isotope','line','branchingRatio']\n",
    "print \"The calibration peak data used: \\n\\n\", lines"
   ]
  },
  {
   "cell_type": "markdown",
   "metadata": {},
   "source": [
    "### Perform software energy calibration\n",
    "\n",
    "The energy calibration was performed using GammaVision.\n",
    "\n",
    "[insert calibration procedure here]"
   ]
  },
  {
   "cell_type": "markdown",
   "metadata": {},
   "source": [
    "### Read in the calibration data\n",
    "\n",
    "Read in all of the data taken for calibration.  \n",
    "\n",
    "This procedure assumes: <br/>\n",
    "1) That there is a folder with only calibration data in the format \"isotope_position_anything.Spe\".  For example, a valid naming convention is \"Co60_1_8Feb17.Spe\".  The first field is used to compare against the imported lines, and the second field is to build a location dependent calibration. <br/>\n",
    "2) Only calibration data lives in the calibration path specified.  <br/>\n",
    "3) That the calibration order listed above in the table was followed. <br/>\n",
    "\n",
    "The path the calibration data is:"
   ]
  },
  {
   "cell_type": "code",
   "execution_count": 19,
   "metadata": {
    "collapsed": false
   },
   "outputs": [
    {
     "name": "stdout",
     "output_type": "stream",
     "text": [
      "Processing: Cs137_1_1015_26Feb17.Spe\n",
      "Processing: Eu152_18_1002_26Feb17.Spe\n",
      "Processing: Am241_18_0808_26Feb17.Spe\n",
      "Processing: Co60_1_1020_26Feb17.Spe\n",
      "Processing: Am241_1_1025_26Feb17.Spe\n",
      "Processing: Co60_18_0759_26Feb17.Spe\n",
      "Processing: Cs137_18_0737_26Feb17.Spe\n",
      "Processing: Eu152_1_1048_26Feb17.Spe\n",
      "Processing: Ba133_1_1034_26Feb17.Spe\n",
      "Processing: Ba133_18_0921_26Feb17.Spe\n",
      "\n",
      "Position = 1 cm\n",
      "LiveTime: {'Cs137': 97.0, 'Co60': 137.0, 'Ba133': 280.0, 'Eu152': 613.0, 'Am241': 59.0}\n",
      "Energy Calibration: 3.28854e-08*ch^2 + 0.383693 * ch + 0.174637\n",
      "      Cs137      Co60     Am241     Eu152     Ba133\n",
      "0         0         0         0         0         0\n",
      "1         0         0         0         0         0\n",
      "2         0         0         0         0         0\n",
      "\n",
      "Position = 18 cm\n",
      "LiveTime: {'Am241': 230.0, 'Co60': 997.0, 'Ba133': 1845.0, 'Cs137': 278.0, 'Eu152': 2136.0}\n",
      "Energy Calibration: 6.241566e-08*ch^2 + 0.3835831 * ch + 0.1460746\n",
      "      Eu152     Am241      Co60     Cs137     Ba133\n",
      "0         0         0         0         0         0\n",
      "1         0         0         0         0         0\n",
      "2         0         0         0         0         0\n"
     ]
    }
   ],
   "source": [
    "calibDataPath = '/home/pyne-user/Dropbox/UCB/Research/ETAs/88Inch/Data/Experiments/Activation/50MeVTa/CalibrationData/'\n",
    "\n",
    "# Variables to allow for multiple positions to be handled at once\n",
    "posSet = False\n",
    "posUsed = []\n",
    "\n",
    "# Storage for parameters that vary by position\n",
    "liveTime = {}\n",
    "eCalibParams = {} #ax^2 +bx + c stored as (a,b,c)\n",
    "data = {}\n",
    "\n",
    "# Loop over all files\n",
    "for filename in os.listdir(calibDataPath):\n",
    "    if filename.endswith(\".Spe\"): \n",
    "        name = os.path.splitext(filename)[0]\n",
    "        \n",
    "        # Read data from this file\n",
    "        print \"Processing:\", filename\n",
    "        (time, measDate, a, b, c, tmpData) = parse_spe(calibDataPath+filename)\n",
    "        \n",
    "        # Determine position, update data structures if necessary, and store data\n",
    "        position = int(name.split('_')[1])\n",
    "        if position not in posUsed:\n",
    "            posUsed.append(position)\n",
    "            liveTime[position] = {}\n",
    "            data[position] = tmpData\n",
    "            data[position].columns = [name.split('_')[0]]\n",
    "        else: \n",
    "            data[position].loc[:,name.split('_')[0]] = tmpData['counts']\n",
    "        sources.at[name.split('_')[0], 'measDate'] = measDate\n",
    "        liveTime[position][name.split('_')[0]] = time\n",
    "        if name.split('_')[0] == \"Eu152\":\n",
    "            eCalibParams[position] = (a, b, c)\n",
    "                \n",
    "for p in posUsed:\n",
    "    print \"\\nPosition = {} cm\".format(p)\n",
    "    print \"LiveTime:\", liveTime[p]\n",
    "    print \"Energy Calibration: {}*ch^2 + {} * ch + {}\".format(eCalibParams[p][0],eCalibParams[p][1],eCalibParams[p][2])\n",
    "    print data[p].head(3)"
   ]
  },
  {
   "cell_type": "markdown",
   "metadata": {},
   "source": [
    "### Calculate the peak counts\n",
    "\n",
    "Determine the peak area for each of the lines considered.  Save the data in the lines dataframe. \n",
    "\n",
    "This procedure assumes: <br/>\n",
    "1) That no significant background is present.  No background subtraction is performed. <br/>\n",
    "2) A linear interpolation of the continuum is sufficient.  <br/>\n",
    "\n",
    "There is an alternate, more sophisticated procedure immediately following this set of code.  This portion of code is redunant, but kept for now. If this peak fitting method is preferred, then change the cell to code and do not run the next peak fitting routine.   "
   ]
  },
  {
   "cell_type": "markdown",
   "metadata": {
    "collapsed": false
   },
   "source": [
    "# Create a dictionary of data frames to store each of the positional information\n",
    "peakData = {}\n",
    "\n",
    "for p in posUsed:\n",
    "    print \"\\n------------------------\"\n",
    "    print \"Position = {} cm\".format(p)\n",
    "    print \"------------------------\"\n",
    "    # Update dataframe to store calculated peak information\n",
    "    lines['measuredCounts'] = 0     \n",
    "    lines['measUncert'] = 0\n",
    "    for column in data[p]:\n",
    "        \n",
    "        # Find the peaks \n",
    "        channels = np.asarray(data[p].index)\n",
    "        energy = eCalibParams[p][2]+eCalibParams[p][1]*channels+eCalibParams[p][0]*channels**2\n",
    "        counts = np.asarray(data[p][column]).astype(float)\n",
    "        peaks = peakutils.indexes(counts, thres=0.01, min_dist=10)\n",
    "        \n",
    "        # Loop over all identified peaks to compare against calibration points loaded previously\n",
    "        print \"\\n\", data[p][column].name, \"\\nEnergy  Counts     Area\"      \n",
    "        for i in range(len(lines['line'])):\n",
    "            for e, c, pk in zip(energy[peaks], counts[peaks], peaks):\n",
    "                # Calculate the total peak counts if a calibration peak\n",
    "                if abs(e-lines['line'][i]) < 1 and data[p][column].name.strip() == lines['isotope'][i].strip():\n",
    "                    (lines.at[i, 'measuredCounts'], lines.at[i, 'measUncert']) = simple_peak_counts(channels, counts, pk)\n",
    "                    print \"{:.2f}   {:.0f}   {:.2f}\".format(e, c, lines.at[i, 'measuredCounts'])\n",
    "            lines.at[i, 'isotope'] = lines.at[i, 'isotope'].strip()\n",
    "        print \"\\n\"\n",
    "        \n",
    "        # Plot the peaks found\n",
    "        fig = pyplot.figure(figsize=(5,3))\n",
    "        ax1 = fig.add_axes([0.1, 0.1, 0.8, 0.85])\n",
    "        ax1.set_yscale('log')\n",
    "        pplot(energy, counts, peaks)\n",
    "        pyplot.title('Peaks @ {} cm for {}'.format(p,data[p][column].name))        \n",
    "        pyplot.show()\n",
    "        \n",
    "    print lines\n",
    "    peakData[p] = cp.deepcopy(lines)"
   ]
  },
  {
   "cell_type": "markdown",
   "metadata": {},
   "source": [
    "### Calculate the peak counts\n",
    "\n",
    "Determine the peak area for each of the lines considered.  Save the data in the lines dataframe. \n",
    "\n",
    "This procedure assumes: <br/>\n",
    "1) That no significant background is present.  No background subtraction is performed. <br/>  "
   ]
  },
  {
   "cell_type": "code",
   "execution_count": 20,
   "metadata": {
    "collapsed": false
   },
   "outputs": [
    {
     "name": "stdout",
     "output_type": "stream",
     "text": [
      "\n",
      "------------------------\n",
      "Position = 1 cm\n",
      "------------------------\n",
      "\n",
      "Cs137 \n",
      "Energy  Peak Area\n",
      "661.76   111265   333\n",
      "\n",
      "\n"
     ]
    },
    {
     "data": {
      "image/png": "[encoded data removed]",
      "text/plain": [
       "<matplotlib.figure.Figure at 0x2b1747b64ed0>"
      ]
     },
     "metadata": {},
     "output_type": "display_data"
    },
    {
     "name": "stdout",
     "output_type": "stream",
     "text": [
      "\n",
      "Co60 \n",
      "Energy  Peak Area\n",
      "1173.05   41610   203\n",
      "1332.37   37206   192\n",
      "\n",
      "\n"
     ]
    },
    {
     "data": {
      "image/png": "[encoded data removed]",
      "text/plain": [
       "<matplotlib.figure.Figure at 0x2b177206b1d0>"
      ]
     },
     "metadata": {},
     "output_type": "display_data"
    },
    {
     "name": "stdout",
     "output_type": "stream",
     "text": [
      "\n",
      "Am241 \n",
      "Energy  Peak Area\n",
      "\n",
      "\n"
     ]
    },
    {
     "data": {
      "image/png": "[encoded data removed]",
      "text/plain": [
       "<matplotlib.figure.Figure at 0x2b1772131cd0>"
      ]
     },
     "metadata": {},
     "output_type": "display_data"
    },
    {
     "name": "stdout",
     "output_type": "stream",
     "text": [
      "\n",
      "Eu152 \n",
      "Energy  Peak Area\n",
      "121.81   538366   733\n",
      "244.60   75632   275\n",
      "344.37   276403   525\n",
      "778.82   62580   250\n",
      "963.84   48237   219\n",
      "1112.01   41007   202\n",
      "1408.00   50990   225\n",
      "\n",
      "\n"
     ]
    },
    {
     "data": {
      "image/png": "[encoded data removed]",
      "text/plain": [
       "<matplotlib.figure.Figure at 0x2b1772126a90>"
      ]
     },
     "metadata": {},
     "output_type": "display_data"
    },
    {
     "name": "stdout",
     "output_type": "stream",
     "text": [
      "\n",
      "Ba133 \n",
      "Energy  Peak Area\n",
      "81.14   292779   541\n",
      "276.45   27183   164\n",
      "302.93   80619   283\n",
      "355.89   211441   459\n",
      "\n",
      "\n"
     ]
    },
    {
     "data": {
      "image/png": "[encoded data removed]",
      "text/plain": [
       "<matplotlib.figure.Figure at 0x2b1772402b10>"
      ]
     },
     "metadata": {},
     "output_type": "display_data"
    },
    {
     "name": "stdout",
     "output_type": "stream",
     "text": [
      "   isotope       line  branchingRatio  measuredCounts  measUncert\n",
      "0    Cs137   661.6570        0.851000          111265         333\n",
      "1     Co60  1173.2300        0.998500           41610         203\n",
      "2     Co60  1332.4900        0.999826           37206         192\n",
      "3    Ba133    80.9979        0.329000          292779         541\n",
      "4    Ba133   276.4000        0.071600           27183         164\n",
      "5    Ba133   302.8500        0.183400           80619         283\n",
      "6    Ba133   356.0100        0.620500          211441         459\n",
      "7    Eu152   121.7000        0.285300          538366         733\n",
      "8    Eu152   244.7000        0.075500           75632         275\n",
      "9    Eu152   344.2900        0.265900          276403         525\n",
      "10   Eu152   778.9000        0.129300           62580         250\n",
      "11   Eu152   964.0600        0.145100           48237         219\n",
      "12   Eu152  1112.0800        0.136700           41007         202\n",
      "13   Eu152  1408.0100        0.208700           50990         225\n",
      "\n",
      "------------------------\n",
      "Position = 18 cm\n",
      "------------------------\n",
      "\n",
      "Eu152 \n",
      "Energy  Peak Area\n",
      "121.75   86447   294\n",
      "244.90   16432   128\n",
      "344.27   41214   203\n",
      "779.08   10371   101\n",
      "964.10   9916   99\n",
      "1111.91   8406   91\n",
      "1407.97   10488   102\n",
      "\n",
      "\n"
     ]
    },
    {
     "data": {
      "image/png": "[encoded data removed]",
      "text/plain": [
       "<matplotlib.figure.Figure at 0x2b1772459590>"
      ]
     },
     "metadata": {},
     "output_type": "display_data"
    },
    {
     "name": "stdout",
     "output_type": "stream",
     "text": [
      "\n",
      "Am241 \n",
      "Energy  Peak Area\n",
      "\n",
      "\n"
     ]
    },
    {
     "data": {
      "image/png": "[encoded data removed]",
      "text/plain": [
       "<matplotlib.figure.Figure at 0x2b17722c64d0>"
      ]
     },
     "metadata": {},
     "output_type": "display_data"
    },
    {
     "name": "stdout",
     "output_type": "stream",
     "text": [
      "\n",
      "Co60 \n",
      "Energy  Peak Area\n",
      "1173.34   14034   118\n",
      "1332.31   12880   113\n",
      "\n",
      "\n"
     ]
    },
    {
     "data": {
      "image/png": "[encoded data removed]",
      "text/plain": [
       "<matplotlib.figure.Figure at 0x2b1747b3afd0>"
      ]
     },
     "metadata": {},
     "output_type": "display_data"
    },
    {
     "name": "stdout",
     "output_type": "stream",
     "text": [
      "\n",
      "Cs137 \n",
      "Energy  Peak Area\n",
      "661.63   12764   112\n",
      "\n",
      "\n"
     ]
    },
    {
     "data": {
      "image/png": "[encoded data removed]",
      "text/plain": [
       "<matplotlib.figure.Figure at 0x2b1771bb9450>"
      ]
     },
     "metadata": {},
     "output_type": "display_data"
    },
    {
     "name": "stdout",
     "output_type": "stream",
     "text": [
      "\n",
      "Ba133 \n",
      "Energy  Peak Area\n",
      "81.08   87810   296\n",
      "276.36   17924   133\n",
      "302.83   24912   157\n",
      "356.16   73394   270\n",
      "\n",
      "\n"
     ]
    },
    {
     "data": {
      "image/png": "[encoded data removed]",
      "text/plain": [
       "<matplotlib.figure.Figure at 0x2b177249ea90>"
      ]
     },
     "metadata": {},
     "output_type": "display_data"
    },
    {
     "name": "stdout",
     "output_type": "stream",
     "text": [
      "   isotope       line  branchingRatio  measuredCounts  measUncert\n",
      "0    Cs137   661.6570        0.851000           12764         112\n",
      "1     Co60  1173.2300        0.998500           14034         118\n",
      "2     Co60  1332.4900        0.999826           12880         113\n",
      "3    Ba133    80.9979        0.329000           87810         296\n",
      "4    Ba133   276.4000        0.071600           17924         133\n",
      "5    Ba133   302.8500        0.183400           24912         157\n",
      "6    Ba133   356.0100        0.620500           73394         270\n",
      "7    Eu152   121.7000        0.285300           86447         294\n",
      "8    Eu152   244.7000        0.075500           16432         128\n",
      "9    Eu152   344.2900        0.265900           41214         203\n",
      "10   Eu152   778.9000        0.129300           10371         101\n",
      "11   Eu152   964.0600        0.145100            9916          99\n",
      "12   Eu152  1112.0800        0.136700            8406          91\n",
      "13   Eu152  1408.0100        0.208700           10488         102\n"
     ]
    }
   ],
   "source": [
    "# Create a dictionary of data frames to store each of the positional information\n",
    "peakData = {}\n",
    "\n",
    "for p in posUsed:\n",
    "    print \"\\n------------------------\"\n",
    "    print \"Position = {} cm\".format(p)\n",
    "    print \"------------------------\"\n",
    "    \n",
    "    # Update dataframe to store calculated peak information\n",
    "    lines['measuredCounts'] = 0     \n",
    "    lines['measUncert'] = 0\n",
    "    \n",
    "    for column in data[p]:    \n",
    "        # Find the peaks and set the windows\n",
    "        channels = np.asarray(data[p].index)\n",
    "        counts = np.asarray(data[p][column]).astype(float)\n",
    "        energy = eCalibParams[p][2]+eCalibParams[p][1]*channels+eCalibParams[p][0]*channels**2\n",
    "        peaks = peakutils.indexes(counts, thres=0.015, min_dist=10)\n",
    "        windows = get_peak_windows(peaks)\n",
    "        \n",
    "        # Loop over all identified peaks to compare against calibration points loaded previously\n",
    "        print \"\\n\", data[p][column].name, \"\\nEnergy  Peak Area\"      \n",
    "        for i in range(len(lines['line'])):\n",
    "            for e, pk in zip(energy[peaks], peaks):\n",
    "                # Calculate the total peak counts if a calibration peak\n",
    "                if abs(e-lines['line'][i]) < 0.5 and data[p][column].name.strip() == lines['isotope'][i].strip():\n",
    "                    pkChannels = channels[windows[pk][0]:windows[pk][1]]\n",
    "                    pkCounts = counts[windows[pk][0]:windows[pk][1]]\n",
    "                    (lines.at[i, 'measuredCounts'], lines.at[i, 'measUncert'], redChiSq) = ge_peakfit(pkChannels, \n",
    "                                                                                                      pkCounts)\n",
    "                    \n",
    "                    print \"{:.2f}   {:.0f}   {:.0f}\".format(e, lines.at[i, 'measuredCounts'], lines.at[i, 'measUncert'])\n",
    "            lines.at[i, 'isotope'] = lines.at[i, 'isotope'].strip()\n",
    "        print \"\\n\"\n",
    "        \n",
    "        # Plot the peaks found\n",
    "        fig = pyplot.figure(figsize=(5,3))\n",
    "        ax1 = fig.add_axes([0.1, 0.1, 0.8, 0.85])\n",
    "        ax1.set_yscale('log')\n",
    "        pplot(energy, counts, peaks)\n",
    "        pyplot.title('Peaks @ {} cm for {}'.format(p,data[p][column].name))        \n",
    "        pyplot.show()\n",
    "        \n",
    "    print lines\n",
    "    peakData[p] = cp.deepcopy(lines)"
   ]
  },
  {
   "cell_type": "code",
   "execution_count": null,
   "metadata": {
    "collapsed": false
   },
   "outputs": [],
   "source": [
    "####TMP#### - Can remove once satisfied that peak fitting is working correctly\n",
    "# Find the peaks \n",
    "channels = np.asarray(data[18].index)\n",
    "energy = eCalibParams[18][2]+eCalibParams[18][1]*channels+eCalibParams[18][0]*channels**2\n",
    "counts = np.asarray(data[18]['Eu152']).astype(float)\n",
    "peaks = peakutils.indexes(counts, thres=0.015, min_dist=10)\n",
    "print peaks\n",
    "\n",
    "window = get_peak_windows(peaks)\n",
    "#peaks = [210, 720, 927] # Ba133\n",
    "#peaks = [317, 637, 896, 2028, 2510, 2897, 3666] #Eu152@1\n",
    "#peaks = [317, 637, 897, 2028, 2510, 2897, 3666] #Eu152@10\n",
    "peaks = [317, 638, 897, 2029, 2511, 2897, 3668] #Eu152@18\n",
    "peaks = [638] #Eu152@18\n",
    "#peaks = [3055, 3469]\n",
    "\n",
    "# Loop over all identified peaks to compare against calibration points loaded previously\n",
    "for pk in peaks:\n",
    "    pkChannels = channels[window[pk][0]:window[pk][1]]\n",
    "    pkCounts = counts[window[pk][0]:window[pk][1]]\n",
    "    (peakCounts, peakStd, redChiSq) = ge_peakfit(pkChannels, pkCounts)\n",
    "    \n",
    "    print \"{:.2f}   {:.2f}   {:.2f}\".format(energy[pk], peakCounts, peakStd)"
   ]
  },
  {
   "cell_type": "code",
   "execution_count": null,
   "metadata": {
    "collapsed": true
   },
   "outputs": [],
   "source": [
    "## Propogation of fitting error?\n",
    "import sys\n",
    "import os\n",
    "sys.path.insert(0,os.path.abspath('/home/pyne-user/Dropbox/UCB/Computational_Tools/Scripts/Python/DataAnalysis'))\n",
    "from Math import gaussScalar\n",
    "#from sympy import symbols, diff\n",
    "import theano\n",
    "#x, a, b, c = symbols('x a b c')\n",
    "#print diff(gaussScalar(x, a, b, c), x)"
   ]
  },
  {
   "cell_type": "markdown",
   "metadata": {},
   "source": [
    "### Calculate the current activity\n",
    "\n",
    "Using the data read in from the .spe files, calculate the current activity at the time of the measurement.  \n",
    "\n",
    "NOTE:  There is a mix in the activity units.  The initActivity is in $\\mu$Ci as reported on the source, whereas the curActivity in is Bq."
   ]
  },
  {
   "cell_type": "code",
   "execution_count": 21,
   "metadata": {
    "collapsed": false
   },
   "outputs": [
    {
     "name": "stdout",
     "output_type": "stream",
     "text": [
      "        initActivity  initActRelUncert   initDate     halfLife  \\\n",
      "source                                                           \n",
      "Am241         10.300           0.01165 1970-01-01  13644204000   \n",
      "Eu152          1.062           0.01165 2009-01-01    426326180   \n",
      "Co60           1.007           0.01165 2009-01-01    166344192   \n",
      "Cs137          1.042           0.01165 2009-01-01    948723200   \n",
      "Ba133          1.078           0.01165 2009-01-01    332778540   \n",
      "\n",
      "                   measDate  curActivity  \n",
      "source                                    \n",
      "Am241   2017-02-26 10:24:01       353351  \n",
      "Eu152   2017-02-26 10:36:42        25859  \n",
      "Co60    2017-02-26 07:43:05        12751  \n",
      "Cs137   2017-02-26 08:11:11        31946  \n",
      "Ba133   2017-02-26 08:50:46        23336  \n"
     ]
    }
   ],
   "source": [
    "sources['curActivity'] = 0\n",
    "for src in sources.index:\n",
    "    sources.at[src, 'curActivity'] = decay(sources.at[src, 'halfLife'],sources.at[src, 'initActivity'], \\\n",
    "                                        (sources.at[src, 'measDate']-sources.at[src, 'initDate']).total_seconds())\n",
    "print sources   "
   ]
  },
  {
   "cell_type": "markdown",
   "metadata": {
    "collapsed": false
   },
   "source": [
    "### Calculate absolute effficiency\n",
    "\n",
    "Determine an absolute efficiency curve for each position by curve fitting the experimental data. The germanium_eff_exp function has support for propogation of error, but the germanium_eff, or germanium_eff_poly are also available.  \n",
    "\n",
    "NOTE: The choice of which functions to onsider can be set with the functions list.\n",
    "\n",
    "NOTE: The uncertainty only currently captures the uncertainity in the counts and initial activity.  The uncertaities in BR, half lives, and measurement time are sufficiently small that they can be ignored, but there is uncertainty associated with the fit of the peak that is not captured if germanium_eff_exp is not used.  "
   ]
  },
  {
   "cell_type": "code",
   "execution_count": 22,
   "metadata": {
    "collapsed": false
   },
   "outputs": [
    {
     "name": "stdout",
     "output_type": "stream",
     "text": [
      "The fitting function was: germanium_eff_exp\n",
      "The curve fitting parameters at 1 cm are: [  9.38373762e-06   2.02939360e+00   5.55723889e-01   5.81001820e-01]\n",
      "  with standard deviations at 1 cm of: [  1.47729596e-05   2.06636983e-01   5.46477170e-02   2.20700395e-02]\n",
      "\n",
      "   isotope       line  expectedCounts  absEfficiency  effUncert\n",
      "0    Cs137   661.6570    2.637046e+06       0.042193   0.000492\n",
      "1     Co60  1173.2300    1.744267e+06       0.023855   0.000278\n",
      "2     Co60  1332.4900    1.746583e+06       0.021302   0.000248\n",
      "3    Ba133    80.9979    2.149712e+06       0.136195   0.001587\n",
      "4    Ba133   276.4000    4.678401e+05       0.058103   0.000677\n",
      "5    Ba133   302.8500    1.198350e+06       0.067275   0.000784\n",
      "6    Ba133   356.0100    4.054397e+06       0.052151   0.000608\n",
      "7    Eu152   121.7000    4.522452e+06       0.119043   0.001387\n",
      "8    Eu152   244.7000    1.196793e+06       0.063196   0.000736\n",
      "9    Eu152   344.2900    4.214932e+06       0.065577   0.000764\n",
      "10   Eu152   778.9000    2.049608e+06       0.030533   0.000356\n",
      "11   Eu152   964.0600    2.300062e+06       0.020972   0.000244\n",
      "12   Eu152  1112.0800    2.166909e+06       0.018924   0.000220\n",
      "13   Eu152  1408.0100    3.308222e+06       0.015413   0.000180\n"
     ]
    },
    {
     "data": {
      "image/png": "[encoded data removed]",
      "text/plain": [
       "<matplotlib.figure.Figure at 0x2b1772518950>"
      ]
     },
     "metadata": {},
     "output_type": "display_data"
    },
    {
     "data": {
      "image/png": "[encoded data removed]",
      "text/plain": [
       "<matplotlib.figure.Figure at 0x2b17723be310>"
      ]
     },
     "metadata": {},
     "output_type": "display_data"
    },
    {
     "name": "stdout",
     "output_type": "stream",
     "text": [
      "The fitting function was: germanium_eff\n",
      "The curve fitting parameters at 18 cm are: [ 0.00470408  0.00283246  0.04348764  0.0017572 ]\n",
      "  with standard deviations at 18 cm of: [  1.20860300e-04   8.38403905e-05   1.45046831e-03   1.14148401e-04]\n",
      "\n",
      "   isotope       line  expectedCounts  absEfficiency  effUncert\n",
      "0    Cs137   661.6570    7.557721e+06       0.001689   0.000020\n",
      "1     Co60  1173.2300    1.269368e+07       0.001106   0.000013\n",
      "2     Co60  1332.4900    1.271053e+07       0.001013   0.000012\n",
      "3    Ba133    80.9979    1.416507e+07       0.006199   0.000072\n",
      "4    Ba133   276.4000    3.082732e+06       0.005814   0.000068\n",
      "5    Ba133   302.8500    7.896272e+06       0.003155   0.000037\n",
      "6    Ba133   356.0100    2.671558e+07       0.002747   0.000032\n",
      "7    Eu152   121.7000    1.575850e+07       0.005486   0.000064\n",
      "8    Eu152   244.7000    4.170229e+06       0.003940   0.000046\n",
      "9    Eu152   344.2900    1.468694e+07       0.002806   0.000033\n",
      "10   Eu152   778.9000    7.141863e+06       0.001452   0.000017\n",
      "11   Eu152   964.0600    8.014573e+06       0.001237   0.000014\n",
      "12   Eu152  1112.0800    7.550600e+06       0.001113   0.000013\n",
      "13   Eu152  1408.0100    1.152751e+07       0.000910   0.000011\n"
     ]
    },
    {
     "data": {
      "image/png": "[encoded data removed]",
      "text/plain": [
       "<matplotlib.figure.Figure at 0x2b1772111410>"
      ]
     },
     "metadata": {},
     "output_type": "display_data"
    }
   ],
   "source": [
    "from Counting import germanium_eff\n",
    "functions=[germanium_eff, germanium_eff_exp]#, germanium_eff_poly]\n",
    "absEffParams = {}\n",
    "absEffCov = {}\n",
    "fitFunc = {} \n",
    "\n",
    "for p in posUsed:\n",
    "    peakData[p]['expectedCounts'] = 0.0\n",
    "    peakData[p]['absEfficiency'] = 0.0\n",
    "    peakData[p]['effUncert'] = 0.0\n",
    "    \n",
    "    # Calculate the absolute efficiency and uncertainty\n",
    "    for index, row in peakData[p].iterrows():\n",
    "        peakData[p].at[index, 'expectedCounts'] = sources.at[peakData[p].at[index, 'isotope'], 'curActivity'] \\\n",
    "                                               * peakData[p].at[index, 'branchingRatio'] \\\n",
    "                                               * liveTime[p][peakData[p].at[index, 'isotope']]\n",
    "        peakData[p].at[index, 'absEfficiency'] = float(peakData[p].at[index, 'measuredCounts']) \\\n",
    "                                               / float(peakData[p].at[index, 'expectedCounts'])\n",
    "        peakData[p].at[index, 'effUncert'] = peakData[p].at[index, 'absEfficiency'] * \\\n",
    "                                           sqrt((peakData[p].at[index, 'measUncert'] \\\n",
    "                                           / peakData[p].at[index, 'measuredCounts'])**2 \\\n",
    "                                               + sources.at[peakData[p].at[index, 'isotope'], 'initActRelUncert']**2)\n",
    "    \n",
    "    # Fit the data for the current position by finding best fitting routine\n",
    "    (fitFunc[p], absEffParams[p], absEffCov[p], redChiSq) = find_best_fit(*functions,\n",
    "                                                     xdata=peakData[p]['line'], ydata=peakData[p]['absEfficiency'],\n",
    "                                                     sigma=peakData[p]['effUncert'], absolute_sigma=True)\n",
    "    \n",
    "    # Output the results\n",
    "    try:\n",
    "        print 'The fitting function was: {}'.format(fitFunc[p].__name__)\n",
    "        print 'The curve fitting parameters at {} cm are: {}'.format(p, absEffParams[p])\n",
    "        print '  with standard deviations at {} cm of: {}\\n'.format(p, np.sqrt(np.diag(absEffCov[p])))\n",
    "        print peakData[p][['isotope', 'line', 'expectedCounts', 'absEfficiency', 'effUncert']]\n",
    "\n",
    "        #Plot the Data\n",
    "        pyplot.axis([0, 1500, 0, 1.25*max(peakData[p]['absEfficiency'])])\n",
    "        pyplot.errorbar(peakData[p]['line'], peakData[p]['absEfficiency'], peakData[p]['effUncert'], fmt='.')\n",
    "        pyplot.title('Position: {} cm, $\\chi^2/DOF={}$'.format(p, redChiSq))\n",
    "\n",
    "        #Plot the fit\n",
    "        xList = np.arange(min(peakData[p]['line']), 1.25*max(peakData[p]['line']), 1)\n",
    "        yList = map(lambda y: fitFunc[p](y, *absEffParams[p]), xList)\n",
    "        pyplot.plot(xList, yList)\n",
    "        pyplot.show()\n",
    "\n",
    "        #Plot the error\n",
    "        if fitFunc[p] == germanium_eff_exp:\n",
    "            pyplot.title('Efficiency 1$\\sigma$: {} cm'.format(p))\n",
    "            xList = np.arange(min(peakData[1]['line']), 1.25*max(peakData[1]['line']), 1)\n",
    "            yList = map(lambda y: curve_fit_error4(fitFunc[p], np.insert(absEffParams[p], 0, y), y*0.001, \n",
    "                                                   absEffCov[p]), xList)\n",
    "            pyplot.plot(xList, yList)\n",
    "            pyplot.show()\n",
    "    except AttributeError:\n",
    "        print 'No fit was found'\n",
    "        print peakData[p][['isotope', 'line', 'expectedCounts', 'absEfficiency', 'effUncert']]\n",
    "        \n",
    "        #Plot the Data\n",
    "        pyplot.axis([0, 1500, 0, 1.25*max(peakData[p]['absEfficiency'])])\n",
    "        pyplot.errorbar(peakData[p]['line'], peakData[p]['absEfficiency'], peakData[p]['effUncert'], fmt='.')\n",
    "        pyplot.title('Position: {} cm, $\\chi^2/DOF={}$'.format(p, redChiSq))\n",
    "        pyplot.show()"
   ]
  },
  {
   "cell_type": "markdown",
   "metadata": {},
   "source": [
    "## Count Plan\n",
    "\n",
    "Develop a count plan based on the planned irradiation. This assumes that you have a priori abs effeciency calibration parameters for the position of interest. \n",
    "\n",
    "### Experimental parameters\n",
    "\n",
    "Specifies experimental parameters for the beam and counting facility used.\n",
    "\n",
    "runTime = the beam irradiation time in s\n",
    "\n",
    "transitTime = the minimum time to counting of the first foil in s\n",
    "\n",
    "background = the background rate at the peak of interest in counts/s\n",
    "\n",
    "detR = radius of the detector in cm"
   ]
  },
  {
   "cell_type": "code",
   "execution_count": 48,
   "metadata": {
    "collapsed": false
   },
   "outputs": [],
   "source": [
    "runTime = 3600*2+1200\n",
    "transitTime = 335\n",
    "\n",
    "background = 0.01\n",
    "detR = 3.245"
   ]
  },
  {
   "cell_type": "markdown",
   "metadata": {},
   "source": [
    "### Read in Simulation data\n",
    "\n",
    "Read from the designated file path.  Manipulate the file to build a dataframe with the information needed for the count plan.  "
   ]
  },
  {
   "cell_type": "code",
   "execution_count": 49,
   "metadata": {
    "collapsed": false
   },
   "outputs": [
    {
     "name": "stdout",
     "output_type": "stream",
     "text": [
      "                foil product  gammaEnergy      br  relStat  det2FoilDist  \\\n",
      "Rx                                                                         \n",
      "27Al(n,p)        AlP    Mg27      843.760  0.7180    0.010             1   \n",
      "115In(n,n')18  InN18  In115M      336.241  0.4580    0.010            18   \n",
      "115In(n,n')       In  In115M      336.241  0.4580    0.010             1   \n",
      "27Al(n,a)18    AlA18    Na24     1368.630  0.9999    0.015            18   \n",
      "27Al(n,a)        AlA    Na24     1368.630  0.9999    0.010             1   \n",
      "90Zr(n,2n)18    Zr18    Zr89      909.150  0.9904    0.010            18   \n",
      "90Zr(n,2n)        Zr    Zr89      909.150  0.9904    0.010             1   \n",
      "58Ni(n,2n)        Ni    Ni57     1378.000  0.8170    0.025             1   \n",
      "\n",
      "               foilR  weightFrac   halfLife  initActivity  activityUncert  \n",
      "Rx                                                                         \n",
      "27Al(n,p)        2.5    1.000000     567.48   1130.687325        1.582962  \n",
      "115In(n,n')18    2.5    0.957100   16200.00    464.489220        0.418040  \n",
      "115In(n,n')      2.5    0.957100   16200.00    464.489220        0.418040  \n",
      "27Al(n,a)18      2.5    1.000000   54000.00    267.104855        0.614341  \n",
      "27Al(n,a)        2.5    1.000000   54000.00    267.104855        0.614341  \n",
      "90Zr(n,2n)18     2.5    0.514500  282276.00    276.422351        1.575607  \n",
      "90Zr(n,2n)       2.5    0.514500  282276.00    276.422351        1.575607  \n",
      "58Ni(n,2n)       2.5    0.680769  128160.00     94.152974        0.602579  \n"
     ]
    }
   ],
   "source": [
    "simFoilParams = pd.read_excel(simPath)\n",
    "\n",
    "# Delete unneccesary columns for readability and make the index the reactant\n",
    "simFoilParams.index = simFoilParams.Rx\n",
    "del simFoilParams['Rx']\n",
    "del simFoilParams['Thickness [cm]']\n",
    "del simFoilParams['Density']\n",
    "del simFoilParams['AW']\n",
    "del simFoilParams['Lambda [s^-1]']\n",
    "\n",
    "# Rename columns for ease of access and add in the statistics column\n",
    "simFoilParams.columns = ['foil', 'product', 'gammaEnergy', 'br', 'relStat', 'det2FoilDist', 'normalization', 'rxRate',\n",
    "                         'rxRateSigma', 'foilR','weightFrac', 'volume', 'halfLife']\n",
    "\n",
    "# Put branching ratios in fractional form\n",
    "simFoilParams['br'] = simFoilParams['br']/100.\n",
    "\n",
    "# Calculate the activity following transit time decay for each rx; delete columns no longer needed\n",
    "simFoilParams['initActivity'] = 0.0\n",
    "simFoilParams['activityUncert'] = 0.0\n",
    "for ind in simFoilParams.index:\n",
    "    simFoilParams.at[ind,'initActivity'] = production_decay(simFoilParams.at[ind, 'halfLife'], 0, runTime, \\\n",
    "                                                    simFoilParams.at[ind, 'rxRate'], \\\n",
    "                                                    simFoilParams.at[ind, 'normalization'], \\\n",
    "                                                    simFoilParams.at[ind, 'volume'], transitTime)\\\n",
    "                                                    *get_decay_const(simFoilParams.at[ind,'halfLife'])\\\n",
    "                                                    *simFoilParams.at[ind,'br']\n",
    "    simFoilParams.at[ind,'activityUncert'] = simFoilParams.at[ind, 'initActivity']*simFoilParams.at[ind, 'rxRateSigma']\n",
    "del simFoilParams['rxRate']\n",
    "del simFoilParams['normalization']\n",
    "del simFoilParams['volume']\n",
    "del simFoilParams['rxRateSigma']\n",
    "\n",
    "print simFoilParams"
   ]
  },
  {
   "cell_type": "code",
   "execution_count": 50,
   "metadata": {
    "collapsed": false
   },
   "outputs": [
    {
     "name": "stdout",
     "output_type": "stream",
     "text": [
      "Total count time = 2.608333e+01 hrs\n",
      "\n",
      "The order of counting is: (u'AlP', u'InN18', u'In', u'AlA18', u'Ni', u'AlA', u'Zr18', u'Zr')\n",
      "\n",
      "27Al(n,p)          8 min\n",
      "115In(n,n')18    164 min\n",
      "115In(n,n')       12 min\n",
      "27Al(n,a)18      532 min\n",
      "58Ni(n,2n)        27 min\n",
      "27Al(n,a)         81 min\n",
      "90Zr(n,2n)18     706 min\n",
      "90Zr(n,2n)        35 min\n"
     ]
    }
   ],
   "source": [
    "(countDF,countOrder,countTime) = optimal_count_plan(simFoilParams, handleTime=75, detR=detR,  background=background, \n",
    "                                                    units='Bq', toMinute = True, \n",
    "                                                    funcDict=fitFunc, funcParamDict=absEffParams )\n",
    "print 'Total count time = {:2e} hrs\\n'.format(countTime/3600)\n",
    "print 'The order of counting is: {}\\n'.format(countOrder)\n",
    "for ind in countDF.index:\n",
    "    print \"{:15s} {:4.0f} min\".format(ind, countDF.at[ind,\"countTime\"]/60)"
   ]
  },
  {
   "cell_type": "markdown",
   "metadata": {},
   "source": [
    "Assuming 1 hr 45 min at 2 $\\mu$A. 1.5% on Al(n,a) @ 18 \n",
    "Total count time = 5.161667e+01 hrs\n",
    "\n",
    "The order of counting is: (u'AlP', u'In', u'InN18', u'AlA18', u'AlA', u'Zr18', u'Zr')\n",
    "\n",
    "27Al(n,p)         13 min\n",
    "115In(n,g)        78 min\n",
    "115In(n,n')       78 min\n",
    "115In(n,n')18    332 min\n",
    "27Al(n,a)18     1187 min\n",
    "27Al(n,a)        231 min\n",
    "90Zr(n,2n)18    1197 min\n",
    "90Zr(n,2n)        59 min\n",
    "\n",
    "Assuming 1 hr 45 min at 2 $\\mu$A. 1.5% on Al(n,a) @ 18; added Ni (n,2n) @ 2.5%\n",
    "Total count time = 5.273333e+01 hrs\n",
    "\n",
    "The order of counting is: (u'AlP', u'In', u'InN18', u'AlA18', u'AlA', u'Ni', u'Zr18', u'Zr')\n",
    "\n",
    "27Al(n,p)         13 min\n",
    "115In(n,g)        78 min\n",
    "115In(n,n')       78 min\n",
    "115In(n,n')18    332 min\n",
    "27Al(n,a)18     1187 min\n",
    "27Al(n,a)        231 min\n",
    "58Ni(n,2n)        54 min\n",
    "90Zr(n,2n)18    1209 min\n",
    "90Zr(n,2n)        60 min\n"
   ]
  },
  {
   "cell_type": "markdown",
   "metadata": {},
   "source": [
    "### NOTES:\n",
    "\n",
    "1) Ni58(n,2n)Ni57 channel will not be clean.  There will be contributions from Ni60(n,4n)Ni57 (threshold 33.15 MeV) and Ni61(n,5n)Ni57 (threshold 41.09 MeV) channels.  Unfortunatetly, nuclear data does not exist for these channels. <br/>\n",
    "2) Ni58(n,p)Co58 channel will not be clean.  There will be contributions from Ni60(n,2np)Co58 (threshold 20.32 MeV), Ni61(n,3np)Co58 (threshold 28.27 MeV), and Ni62(n,4np)Co58 (threshold 39.03 MeV) channels.  Unfortunatetly, nuclear data does not exist for these channels. <br/>\n",
    "3) Zr90(n,2n)Zr89 channel will not be clean.  There will be contributions from Zr91(n,3n)Zr89 (threshold 19.38 MeV), Zr92(n,4n)Zr89 (threshold 28.80 MeV), and Zr94(n,6n)Zr89 (threshold 43.21 MeV) channels.  Unfortunatetly, nuclear data does not exist for these channels. <br/>"
   ]
  },
  {
   "cell_type": "markdown",
   "metadata": {},
   "source": [
    "## Experimental Setup\n",
    "\n",
    "Counted each foil to verify that there was not residual activity.  \n",
    "\n",
    "NOTE: Foil drawer has some wiggle room in the stack.  It was pushed all the way back and to the right.  This is not quite centered on the detector, but it is repeatable. The foil itself also doesn't quite fit, so it was ensured that the back edge was in the inset for repeatabiility.  \n",
    "\n",
    "Zr4 0825 Zr4_1_Background_0831_27Feb17\n",
    "Al4 0831 Al4_1_Background_0836_27Feb17\n",
    "In4 0838 Ni4_1_Background_0843_27Feb17\n",
    "Ni4 0844 Ni4_1_Background_0849_27Feb17\n",
    "\n",
    "Foil was placed at (65.5 cm, 0 cm, -1 cm)\n",
    "\n",
    "### Beam On\n",
    "\n",
    "Start time: 0949:55\n",
    "Current Integrator: 0\n",
    "Stop Time:\n",
    "Current Integrator: \n",
    "\n",
    "NOTE: First minute of current monitor calibration data is off. It should read 2 $\\mu$A, but it reads a little higher. The recalibration was performed ~1 minute in.  \n",
    "\n",
    "At ~1003 the beam was stopped because the radiation levels on the roof were too high. At ~1041, the beam was turned on at 1 $\\mu$A and adjusted downward until safe levels were reached.  It went down to ~650 nA at 1052.  At 1102, approval was received to go back to 2 $\\mu$A.  \n",
    "\n",
    "5:35 delay "
   ]
  },
  {
   "cell_type": "markdown",
   "metadata": {},
   "source": [
    "## Experimental Analysis"
   ]
  },
  {
   "cell_type": "code",
   "execution_count": null,
   "metadata": {
    "collapsed": false
   },
   "outputs": [],
   "source": [
    "eff=germanium_eff_exp(511.0)\n",
    "std=curve_fit_error4(germanium_eff_exp, np.insert(absEffParams[p], 0, 511), 511*0.001, absEffCov[p])\n",
    "print \"At {} keV, the efficiency is {} +/- {}%\".format(511,eff*100,std*100)"
   ]
  },
  {
   "cell_type": "code",
   "execution_count": null,
   "metadata": {
    "collapsed": true
   },
   "outputs": [],
   "source": []
  }
 ],
 "metadata": {
  "kernelspec": {
   "display_name": "Python 2",
   "language": "python",
   "name": "python2"
  },
  "language_info": {
   "codemirror_mode": {
    "name": "ipython",
    "version": 2
   },
   "file_extension": ".py",
   "mimetype": "text/x-python",
   "name": "python",
   "nbconvert_exporter": "python",
   "pygments_lexer": "ipython2",
   "version": "2.7.6"
  }
 },
 "nbformat": 4,
 "nbformat_minor": 0
}
