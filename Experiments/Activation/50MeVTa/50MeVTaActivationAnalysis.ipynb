{
 "cells": [
  {
   "cell_type": "markdown",
   "metadata": {},
   "source": [
    "# 50 MeV D on Ta \n",
    "\n",
    "This notebook documents the steps taken to calibrate, aquire, and analyze data from activation foils used to unfold the neutron spectrum from 50 MeV D breakup on Ta.  \n",
    "\n",
    "This Notebook is broken into the following main sections: <br\\>\n",
    "1) Simulated Results <br\\>\n",
    "2) Simulated Unfold <br\\>\n",
    "3) Dead-time and Random Coincidence Correction <br\\>\n",
    "3) Calibration <br\\>\n",
    "4) Count Plan <br\\>\n",
    "5) Experimental Setup <br\\>\n",
    "\n",
    "The notebook has dependecies on PyScripts, which can be cloned from:\n",
    "https://github.com/jamesbevins/PyScripts"
   ]
  },
  {
   "cell_type": "code",
   "execution_count": 1,
   "metadata": {
    "collapsed": false
   },
   "outputs": [],
   "source": [
    "import os\n",
    "import sys\n",
    "import peakutils\n",
    "\n",
    "import pandas as pd\n",
    "import numpy as np\n",
    "import copy as cp\n",
    "\n",
    "from math import sqrt, exp, log\n",
    "from datetime import datetime\n",
    "from scipy.optimize import curve_fit\n",
    "from peakutils.plot import plot as pplot\n",
    "from matplotlib import pyplot\n",
    "%matplotlib inline\n",
    "\n",
    "# Path to PyScripts support functions \n",
    "sys.path.insert(0,os.path.abspath('/home/pyne-user/Dropbox/UCB/Computational_Tools/Scripts/Python/GeneralNuclear'))\n",
    "from Counting import parse_spe, simple_peak_counts, germanium_eff_exp, foil_count_time, volume_solid_angle, \\\n",
    "                     optimal_count_plan, germanium_eff_poly, ge_peakfit, get_peak_windows, find_best_fit, \\\n",
    "                     germanium_eff\n",
    "from ActivationAnalysis import ActivationData\n",
    "from BasicNuclearCalcs import decay, production_decay, get_decay_const, fractional_solid_angle\n",
    "sys.path.insert(0,os.path.abspath('/home/pyne-user/Dropbox/UCB/Computational_Tools/Scripts/Python/DataAnalysis'))\n",
    "from Stats import red_chisq, curve_fit_error4\n",
    "from Math import scaled_exponential"
   ]
  },
  {
   "cell_type": "markdown",
   "metadata": {},
   "source": [
    "## 1) Simulated Results\n",
    "\n",
    "### MCNP\n",
    "\n",
    "The experimental configuration was simulated in MCNP to get the expected reaction rates.  The Meulder's deuterons on 197Au was used as the source, and the foil pack was suspended center beam 34.62 cm from the wall.\n",
    "\n",
    "The results are located at <path>\\Dropbox\\UCB\\Research\\ETAs\\88Inch\\Data\\Simulated\\Activation\\16MeVTa\\Model\n",
    "\n",
    "They are sumarized at:"
   ]
  },
  {
   "cell_type": "code",
   "execution_count": 2,
   "metadata": {
    "collapsed": true
   },
   "outputs": [],
   "source": [
    "simPath = \"/home/pyne-user/Dropbox/UCB/Research/ETAs/88Inch/Data/Simulated/Activation/50MeVTa/50MeVTaFoils.xlsx\""
   ]
  },
  {
   "cell_type": "markdown",
   "metadata": {},
   "source": [
    "## 2) Simulated Unfold\n",
    "\n",
    "Unfold of the MCNP results to test the theroretical ability to unfold given a set of reaction channels.  "
   ]
  },
  {
   "cell_type": "markdown",
   "metadata": {},
   "source": [
    "## 3) Dead-time and Random Coincidence Correction\n",
    "\n",
    "The random coincidences or pile-up must be corrected for.  This was done experimentally by the method outlined in \"Random Coincidence Summing of Gamma Rays and Dead Time Count Loss Corrections in HPGe-Detector Based Gamma Ray Spectrometry\".\n",
    "\n",
    "First, read in the data and determine the peak counts:"
   ]
  },
  {
   "cell_type": "code",
   "execution_count": 4,
   "metadata": {
    "collapsed": false
   },
   "outputs": [
    {
     "name": "stdout",
     "output_type": "stream",
     "text": [
      "Processing: Co60_18cm_Cs137_1.Spe\n",
      "Processing: Co60_18cm_Cs137_18Half.Spe\n",
      "Processing: Co60_18cm_Cs137_10.Spe\n",
      "Processing: Co60_18cm_Cs137_None.Spe\n",
      "WARNING: Energy calibration parameters are  shifting in the pileup correction data.\n",
      "Processing: Co60_18cm_Cs137_3.Spe\n",
      "Processing: Co60_18cm_Cs137_8.Spe\n",
      "Processing: Co60_18cm_Cs137_2.Spe\n",
      "Processing: Co60_18cm_Cs137_15.Spe\n",
      "Processing: Co60_18cm_Cs137_18.Spe\n",
      "Processing: Co60_18cm_Cs137_4.Spe\n",
      "Processing: Co60_18cm_Cs137_6.Spe\n"
     ]
    },
    {
     "data": {
      "image/png": "[encoded data removed]",
      "text/plain": [
       "<matplotlib.figure.Figure at 0x2b4001b91d50>"
      ]
     },
     "metadata": {},
     "output_type": "display_data"
    },
    {
     "name": "stdout",
     "output_type": "stream",
     "text": [
      "\n",
      "For the 1173 keV line:\n",
      "[  1.38268228e+01   1.72866505e-03]\n",
      "\n",
      "Activation Data Set\n",
      "The Raw Data:\n",
      "          1  18Half    10  None     3     8     2    15    18     4     6\n",
      "0        0       0     0     0     0     0     0     0     0     0     0\n",
      "1        0       0     0     0     0     0     0     0     0     0     0\n",
      "2        0       0     0     0     0     0     0     0     0     0     0\n",
      "3        0       0     0     0     0     0     0     0     0     0     0\n",
      "4        0       0     0     0     0     0     0     0     0     0     0\n",
      "5        0       0     0     0     0     0     0     0     0     0     0\n",
      "6        0       0     0     0     0     0     0     0     0     0     0\n",
      "7        0       0     0     0     0     0     0     0     0     0     0\n",
      "8        0       0     0     0     0     0     0     0     0     0     0\n",
      "9        0       0     0     0     0     0     0     0     0     0     0\n",
      "10       0       0     0     0     0     0     0     0     0     0     0\n",
      "11       0       0     0     0     0     0     0     0     0     0     0\n",
      "12       0       0     0     0     0     0     0     0     0     0     0\n",
      "13       0       0     0     0     0     0     0     0     0     0     0\n",
      "14       0       0     0     0     0     0     0     0     0     0     0\n",
      "15       0       0     0     0     0     0     0     0     0     0     0\n",
      "16       0       0     0     0     0     0     0     0     0     0     0\n",
      "17       0       0     0     0     0     0     0     0     0     0     0\n",
      "18       0       0     0     0     0     0     0     0     0     0     0\n",
      "19       0       0     0     0     0     0     0     0     0     0     0\n",
      "20       0       0     0     0     0     0     0     0     0     0     0\n",
      "21       0       0     0     0     0     0     0     0     0     0     0\n",
      "22       0       0     0     0     0     0     0     0     0     0     0\n",
      "23     272      17   123     9   168   123   228    90    50   180   139\n",
      "24    8497     976  3323   234  6538  3934  6702  3089  1932  5539  4849\n",
      "25    8012     943  2939   270  5908  3818  6312  2886  1877  5117  4611\n",
      "26    4911     546  1909   109  3637  2348  3769  1792  1109  3144  2838\n",
      "27    4086     462  1600    91  3116  2029  3272  1410   966  2733  2448\n",
      "28    3965     419  1555    85  3026  1817  3187  1476   945  2590  2190\n",
      "29    4005     411  1443    89  2929  1883  3104  1424   879  2483  2273\n",
      "...    ...     ...   ...   ...   ...   ...   ...   ...   ...   ...   ...\n",
      "8162     0       0     0     0     0     0     0     0     0     0     0\n",
      "8163     0       0     0     0     0     0     0     0     0     0     0\n",
      "8164     0       0     0     0     0     0     0     0     0     0     0\n",
      "8165     0       0     0     0     0     0     0     0     0     0     0\n",
      "8166     0       0     0     0     0     0     0     0     0     0     0\n",
      "8167     0       0     0     0     0     0     0     0     0     0     0\n",
      "8168     0       0     0     0     0     0     0     0     0     0     0\n",
      "8169     0       0     0     0     0     0     0     0     0     0     0\n",
      "8170     0       0     0     0     0     0     0     0     0     0     0\n",
      "8171     0       0     0     0     0     0     0     0     0     0     0\n",
      "8172     0       0     0     0     0     0     0     0     0     0     0\n",
      "8173     0       0     0     0     0     0     0     0     0     0     0\n",
      "8174     0       0     0     0     0     0     0     0     0     0     0\n",
      "8175     0       0     0     0     0     0     0     0     0     0     0\n",
      "8176     0       0     0     0     0     0     0     0     0     0     0\n",
      "8177     0       0     0     0     0     0     0     0     0     0     0\n",
      "8178     0       0     0     0     0     0     0     0     0     0     0\n",
      "8179     0       0     0     0     0     0     0     0     0     0     0\n",
      "8180     0       0     0     0     0     0     0     0     0     0     0\n",
      "8181     0       0     0     0     0     0     0     0     0     0     0\n",
      "8182     0       0     0     0     0     0     0     0     0     0     0\n",
      "8183     0       0     0     0     0     0     0     0     0     0     0\n",
      "8184     0       0     0     0     0     0     0     0     0     0     0\n",
      "8185     0       0     0     0     0     0     0     0     0     0     0\n",
      "8186     0       0     0     0     0     0     0     0     0     0     0\n",
      "8187     0       0     0     0     0     0     0     0     0     0     0\n",
      "8188     0       0     0     0     0     0     0     0     0     0     0\n",
      "8189     0       0     0     0     0     0     0     0     0     0     0\n",
      "8190     0       0     0     0     0     0     0     0     0     0     0\n",
      "8191     0       0     0     0     0     0     0     0     0     0     0\n",
      "\n",
      "[8192 rows x 11 columns]\n",
      "The Metadata:\n",
      "    Cs137Position  liveTime  realTime  deadTime        counts  countUncert  \\\n",
      "3           None    1126.0    1128.0  0.177305  15717.912475   125.371099   \n",
      "1         18Half    1154.0    1161.0  0.602929  15818.698030   125.772406   \n",
      "8             18     852.0     865.0  1.502890  11715.352289   108.237481   \n",
      "7             15    1147.0    1169.0  1.881950  15986.309725   126.436979   \n",
      "2             10     865.0     888.0  2.590090  11938.504480   109.263464   \n",
      "5              8     914.0     944.0  3.177966  12478.866717   111.708848   \n",
      "10             6     955.0     993.0  3.826788  13134.802159   114.607165   \n",
      "9              4     881.0     925.0  4.756757  12398.886080   111.350285   \n",
      "4              3     941.0     992.0  5.141129  12735.443172   112.851421   \n",
      "6              2     880.0     935.0  5.882353  12164.414579   110.292405   \n",
      "0              1    1024.0    1095.0  6.484018  14219.749270   119.246590   \n",
      "\n",
      "    countRate  countRateUncert         line  \n",
      "3   13.959070         0.111514  1173.694413  \n",
      "1   13.707711         0.109150  1173.694413  \n",
      "8   13.750413         0.127295  1173.694413  \n",
      "7   13.937498         0.110400  1174.091465  \n",
      "2   13.801739         0.126568  1173.694413  \n",
      "5   13.653027         0.122448  1172.900308  \n",
      "10  13.753720         0.120223  1173.297361  \n",
      "9   14.073650         0.126643  1172.900308  \n",
      "4   13.533946         0.120143  1173.694413  \n",
      "6   13.823198         0.125578  1172.900308  \n",
      "0   13.886474         0.116649  1173.694413  \n",
      "The function used to fit the data was scaled_exponential\n",
      "with the parameters: [  1.38268228e+01   1.72866505e-03]\n",
      "and the cavariance: [[  1.90137898e-03   5.85114645e-05]\n",
      " [  5.85114645e-05   5.63450339e-06]]\n",
      "The energy calibration parameters: [-1.84324e-07, 0.3981421, -1.603023]\n",
      "\n"
     ]
    }
   ],
   "source": [
    "pileupPath = \"/home/pyne-user/Dropbox/UCB/Research/ETAs/88Inch/Data/Experiments/Activation/50MeVTa/CorrectionData/Pileup/\"\n",
    "\n",
    "pileupData = {1173: ActivationData('1173 keV'), 1332: ActivationData('1332 keV')}\n",
    "pileupData[1173].read_pileup_data(pileupPath, 2000, pileupData[1332], threshold=0.5, minDist=10)\n",
    "\n",
    "pileupData[1173].fit_data(scaled_exponential, 'deadTime', 'countRate', sigmaName='countRateUncert', absolute_sigma=True)\n",
    "pileupData[1173].plot_fitted_data(scaled_exponential, 'deadTime', 'countRate', sigmaName='countRateUncert')\n",
    "print \"\\nFor the 1173 keV line:\\n{}\".format(pileupData[1173].fitParams)\n",
    "print str(pileupData[1173])"
   ]
  },
  {
   "cell_type": "markdown",
   "metadata": {},
   "source": [
    "**Within the range considered, there is no correction factor needed for pileup.**  "
   ]
  },
  {
   "cell_type": "markdown",
   "metadata": {},
   "source": [
    "## 4) Calibration\n",
    "\n",
    "### Import source data\n",
    "\n",
    "Calibration was performed using Cs137, Co60, Eu 152, Am241, and Ba133 sources. \n",
    "\n",
    "#### Position 18 cm\n",
    "\n",
    "Source   | Time  | Filename\n",
    "-------- |:-----:|:----------------:\n",
    "Cs137    |0733   |Cs137_18_0737_26Feb17\n",
    "Co60     |0746   |Co60_18_0759_26Feb17\n",
    "Am241    |0804   |Am241_18_0737_26Feb17\n",
    "Ba133    |0850   |Ba133_18_0921_26Feb17\n",
    "Eu152    |0936   |Eu152_18_0737_26Feb17\n",
    "\n",
    "#### Position 1 cm\n",
    "\n",
    "The drawer was a little loose in the stack.  It was pushed to back right for repeatibility.\n",
    "\n",
    "Source   | Time  | Filename\n",
    "-------- |:-----:|:----------------:\n",
    "Cs137    |1013   |Cs137_1_1015_26Feb17\n",
    "Co60     |1018   |Co60_1_1020_26Feb17\n",
    "Am241    |1024   |Am241_1_1025_26Feb17\n",
    "Ba133    |1029   |Ba133_1_0921_26Feb17\n",
    "Eu152    |1036   |Eu152_1_1048_26Feb17\n",
    "\n",
    "This data, along with the initial activity, decay information, and lines to be used for the calibration is also located in the excel file located here:"
   ]
  },
  {
   "cell_type": "code",
   "execution_count": null,
   "metadata": {
    "collapsed": true
   },
   "outputs": [],
   "source": [
    "calibSourcesPath = 'CalibrationSources.xlsx'"
   ]
  },
  {
   "cell_type": "markdown",
   "metadata": {},
   "source": [
    "Import the source and activity data and format for later analysis:"
   ]
  },
  {
   "cell_type": "code",
   "execution_count": null,
   "metadata": {
    "collapsed": false
   },
   "outputs": [],
   "source": [
    "sources = pd.read_excel(calibSourcesPath, \"Sources\")\n",
    "sources.columns = ['source', 'initActivity', 'initActRelUncert', 'initDate', 'halfLife']\n",
    "sources.index = sources.source\n",
    "del sources['source']\n",
    "sources['initDate'] = pd.to_datetime(sources['initDate'])\n",
    "sources['measDate'] = 0     \n",
    "\n",
    "print \"The calibration source data used: \\n\\n\", sources"
   ]
  },
  {
   "cell_type": "markdown",
   "metadata": {},
   "source": [
    "Import the calibration line and branching ratio data:"
   ]
  },
  {
   "cell_type": "code",
   "execution_count": null,
   "metadata": {
    "collapsed": false
   },
   "outputs": [],
   "source": [
    "lines = pd.read_excel(calibSourcesPath,\"Lines\")\n",
    "lines.columns=['isotope','line','branchingRatio']\n",
    "print \"The calibration peak data used: \\n\\n\", lines"
   ]
  },
  {
   "cell_type": "markdown",
   "metadata": {},
   "source": [
    "### Perform software energy calibration\n",
    "\n",
    "The energy calibration was performed using GammaVision.\n",
    "\n",
    "[insert calibration procedure here]"
   ]
  },
  {
   "cell_type": "markdown",
   "metadata": {},
   "source": [
    "### Read in the calibration data\n",
    "\n",
    "Read in all of the data taken for calibration.  \n",
    "\n",
    "This procedure assumes: <br/>\n",
    "1) That there is a folder with only calibration data in the format \"isotope_position_anything.Spe\".  For example, a valid naming convention is \"Co60_1_8Feb17.Spe\".  The first field is used to compare against the imported lines, and the second field is to build a location dependent calibration. <br/>\n",
    "2) Only calibration data lives in the calibration path specified.  <br/>\n",
    "3) That the calibration order listed above in the table was followed. <br/>\n",
    "\n",
    "The path the calibration data is:"
   ]
  },
  {
   "cell_type": "code",
   "execution_count": null,
   "metadata": {
    "collapsed": false
   },
   "outputs": [],
   "source": [
    "calibDataPath = '/home/pyne-user/Dropbox/UCB/Research/ETAs/88Inch/Data/Experiments/Activation/50MeVTa/CalibrationData/'\n",
    "\n",
    "# Variables to allow for multiple positions to be handled at once\n",
    "posSet = False\n",
    "posUsed = []\n",
    "\n",
    "# Storage for parameters that vary by position\n",
    "liveTime = {}\n",
    "eCalibParams = {} #ax^2 +bx + c stored as (a,b,c)\n",
    "data = {}\n",
    "\n",
    "# Loop over all files\n",
    "for filename in os.listdir(calibDataPath):\n",
    "    if filename.endswith(\".Spe\"): \n",
    "        name = os.path.splitext(filename)[0]\n",
    "        \n",
    "        # Read data from this file\n",
    "        print \"Processing:\", filename\n",
    "        (time, measDate, a, b, c, tmpData) = parse_spe(calibDataPath+filename)\n",
    "        \n",
    "        # Determine position, update data structures if necessary, and store data\n",
    "        position = int(name.split('_')[1])\n",
    "        if position not in posUsed:\n",
    "            posUsed.append(position)\n",
    "            liveTime[position] = {}\n",
    "            data[position] = tmpData\n",
    "            data[position].columns = [name.split('_')[0]]\n",
    "        else: \n",
    "            data[position].loc[:,name.split('_')[0]] = tmpData['counts']\n",
    "        sources.at[name.split('_')[0], 'measDate'] = measDate\n",
    "        liveTime[position][name.split('_')[0]] = time\n",
    "        if name.split('_')[0] == \"Eu152\":\n",
    "            eCalibParams[position] = (a, b, c)\n",
    "                \n",
    "for p in posUsed:\n",
    "    print \"\\nPosition = {} cm\".format(p)\n",
    "    print \"LiveTime:\", liveTime[p]\n",
    "    print \"Energy Calibration: {}*ch^2 + {} * ch + {}\".format(eCalibParams[p][0],eCalibParams[p][1],eCalibParams[p][2])\n",
    "    print data[p].head(3)"
   ]
  },
  {
   "cell_type": "markdown",
   "metadata": {},
   "source": [
    "### Calculate the peak counts\n",
    "\n",
    "Determine the peak area for each of the lines considered.  Save the data in the lines dataframe. \n",
    "\n",
    "This procedure assumes: <br/>\n",
    "1) That no significant background is present.  No background subtraction is performed. <br/>\n",
    "2) A linear interpolation of the continuum is sufficient.  <br/>\n",
    "\n",
    "There is an alternate, more sophisticated procedure immediately following this set of code.  This portion of code is redunant, but kept for now. If this peak fitting method is preferred, then change the cell to code and do not run the next peak fitting routine.   "
   ]
  },
  {
   "cell_type": "markdown",
   "metadata": {
    "collapsed": false
   },
   "source": [
    "# Create a dictionary of data frames to store each of the positional information\n",
    "peakData = {}\n",
    "\n",
    "for p in posUsed:\n",
    "    print \"\\n------------------------\"\n",
    "    print \"Position = {} cm\".format(p)\n",
    "    print \"------------------------\"\n",
    "    # Update dataframe to store calculated peak information\n",
    "    lines['measuredCounts'] = 0     \n",
    "    lines['measUncert'] = 0\n",
    "    for column in data[p]:\n",
    "        \n",
    "        # Find the peaks \n",
    "        channels = np.asarray(data[p].index)\n",
    "        energy = eCalibParams[p][2]+eCalibParams[p][1]*channels+eCalibParams[p][0]*channels**2\n",
    "        counts = np.asarray(data[p][column]).astype(float)\n",
    "        peaks = peakutils.indexes(counts, thres=0.01, min_dist=10)\n",
    "        \n",
    "        # Loop over all identified peaks to compare against calibration points loaded previously\n",
    "        print \"\\n\", data[p][column].name, \"\\nEnergy  Counts     Area\"      \n",
    "        for i in range(len(lines['line'])):\n",
    "            for e, c, pk in zip(energy[peaks], counts[peaks], peaks):\n",
    "                # Calculate the total peak counts if a calibration peak\n",
    "                if abs(e-lines['line'][i]) < 1 and data[p][column].name.strip() == lines['isotope'][i].strip():\n",
    "                    (lines.at[i, 'measuredCounts'], lines.at[i, 'measUncert']) = simple_peak_counts(channels, counts, pk)\n",
    "                    print \"{:.2f}   {:.0f}   {:.2f}\".format(e, c, lines.at[i, 'measuredCounts'])\n",
    "            lines.at[i, 'isotope'] = lines.at[i, 'isotope'].strip()\n",
    "        print \"\\n\"\n",
    "        \n",
    "        # Plot the peaks found\n",
    "        fig = pyplot.figure(figsize=(5,3))\n",
    "        ax1 = fig.add_axes([0.1, 0.1, 0.8, 0.85])\n",
    "        ax1.set_yscale('log')\n",
    "        pplot(energy, counts, peaks)\n",
    "        pyplot.title('Peaks @ {} cm for {}'.format(p,data[p][column].name))        \n",
    "        pyplot.show()\n",
    "        \n",
    "    print lines\n",
    "    peakData[p] = cp.deepcopy(lines)"
   ]
  },
  {
   "cell_type": "markdown",
   "metadata": {},
   "source": [
    "### Calculate the peak counts\n",
    "\n",
    "Determine the peak area for each of the lines considered.  Save the data in the lines dataframe. \n",
    "\n",
    "This procedure assumes: <br/>\n",
    "1) That no significant background is present.  No background subtraction is performed. <br/>  "
   ]
  },
  {
   "cell_type": "code",
   "execution_count": null,
   "metadata": {
    "collapsed": false
   },
   "outputs": [],
   "source": [
    "# Create a dictionary of data frames to store each of the positional information\n",
    "peakData = {}\n",
    "\n",
    "for p in posUsed:\n",
    "    print \"\\n------------------------\"\n",
    "    print \"Position = {} cm\".format(p)\n",
    "    print \"------------------------\"\n",
    "    \n",
    "    # Update dataframe to store calculated peak information\n",
    "    lines['measuredCounts'] = 0     \n",
    "    lines['measUncert'] = 0\n",
    "    \n",
    "    for column in data[p]:    \n",
    "        # Find the peaks and set the windows\n",
    "        channels = np.asarray(data[p].index)\n",
    "        counts = np.asarray(data[p][column]).astype(float)\n",
    "        energy = eCalibParams[p][2]+eCalibParams[p][1]*channels+eCalibParams[p][0]*channels**2\n",
    "        peaks = peakutils.indexes(counts, thres=0.015, min_dist=10)\n",
    "        windows = get_peak_windows(peaks)\n",
    "        \n",
    "        # Loop over all identified peaks to compare against calibration points loaded previously\n",
    "        print \"\\n\", data[p][column].name, \"\\nEnergy  Peak Area\"      \n",
    "        for i in range(len(lines['line'])):\n",
    "            for e, pk in zip(energy[peaks], peaks):\n",
    "                # Calculate the total peak counts if a calibration peak\n",
    "                if abs(e-lines['line'][i]) < 0.5 and data[p][column].name.strip() == lines['isotope'][i].strip():\n",
    "                    pkChannels = channels[windows[pk][0]:windows[pk][1]]\n",
    "                    pkCounts = counts[windows[pk][0]:windows[pk][1]]\n",
    "                    (lines.at[i, 'measuredCounts'], lines.at[i, 'measUncert'], redChiSq) = ge_peakfit(pkChannels, \n",
    "                                                                                                      pkCounts)\n",
    "                    \n",
    "                    print \"{:.2f}   {:.0f}   {:.0f}\".format(e, lines.at[i, 'measuredCounts'], lines.at[i, 'measUncert'])\n",
    "            lines.at[i, 'isotope'] = lines.at[i, 'isotope'].strip()\n",
    "        print \"\\n\"\n",
    "        \n",
    "        # Plot the peaks found\n",
    "        fig = pyplot.figure(figsize=(5,3))\n",
    "        ax1 = fig.add_axes([0.1, 0.1, 0.8, 0.85])\n",
    "        ax1.set_yscale('log')\n",
    "        pplot(energy, counts, peaks)\n",
    "        pyplot.title('Peaks @ {} cm for {}'.format(p,data[p][column].name))        \n",
    "        pyplot.show()\n",
    "        \n",
    "    print lines\n",
    "    peakData[p] = cp.deepcopy(lines)"
   ]
  },
  {
   "cell_type": "code",
   "execution_count": null,
   "metadata": {
    "collapsed": false
   },
   "outputs": [],
   "source": [
    "####TMP#### - Test of PeakEasy counts\n",
    "peakData[1].at[0,'measuredCounts']=110610\n",
    "peakData[1].at[1,'measuredCounts']=41117\n",
    "peakData[1].at[2,'measuredCounts']=36721\n",
    "peakData[1].at[3,'measuredCounts']=287403\n",
    "peakData[1].at[4,'measuredCounts']=29809\n",
    "peakData[1].at[5,'measuredCounts']=63479\n",
    "peakData[1].at[6,'measuredCounts']=207395\n",
    "peakData[1].at[7,'measuredCounts']=502843+38683\n",
    "peakData[1].at[8,'measuredCounts']=65884\n",
    "peakData[1].at[9,'measuredCounts']=237115\n",
    "peakData[1].at[10,'measuredCounts']=60297\n",
    "peakData[1].at[11,'measuredCounts']=47115\n",
    "peakData[1].at[12,'measuredCounts']=40771\n",
    "peakData[1].at[13,'measuredCounts']=50658\n",
    "\n",
    "print peakData[1]"
   ]
  },
  {
   "cell_type": "code",
   "execution_count": null,
   "metadata": {
    "collapsed": false
   },
   "outputs": [],
   "source": [
    "####TMP#### - Can remove once satisfied that peak fitting is working correctly\n",
    "# Find the peaks \n",
    "channels = np.asarray(data[18].index)\n",
    "energy = eCalibParams[18][2]+eCalibParams[18][1]*channels+eCalibParams[18][0]*channels**2\n",
    "counts = np.asarray(data[18]['Eu152']).astype(float)\n",
    "peaks = peakutils.indexes(counts, thres=0.015, min_dist=10)\n",
    "print peaks\n",
    "\n",
    "window = get_peak_windows(peaks)\n",
    "#peaks = [210, 720, 927] # Ba133\n",
    "#peaks = [317, 637, 896, 2028, 2510, 2897, 3666] #Eu152@1\n",
    "#peaks = [317, 637, 897, 2028, 2510, 2897, 3666] #Eu152@10\n",
    "peaks = [317, 638, 897, 2029, 2511, 2897, 3668] #Eu152@18\n",
    "peaks = [638] #Eu152@18\n",
    "#peaks = [3055, 3469]\n",
    "\n",
    "# Loop over all identified peaks to compare against calibration points loaded previously\n",
    "for pk in peaks:\n",
    "    pkChannels = channels[window[pk][0]:window[pk][1]]\n",
    "    pkCounts = counts[window[pk][0]:window[pk][1]]\n",
    "    (peakCounts, peakStd, redChiSq) = ge_peakfit(pkChannels, pkCounts)\n",
    "    \n",
    "    print \"{:.2f}   {:.2f}   {:.2f}\".format(energy[pk], peakCounts, peakStd)"
   ]
  },
  {
   "cell_type": "code",
   "execution_count": null,
   "metadata": {
    "collapsed": true
   },
   "outputs": [],
   "source": [
    "## Propogation of fitting error?\n",
    "import sys\n",
    "import os\n",
    "sys.path.insert(0,os.path.abspath('/home/pyne-user/Dropbox/UCB/Computational_Tools/Scripts/Python/DataAnalysis'))\n",
    "from Math import gaussScalar\n",
    "#from sympy import symbols, diff\n",
    "import theano\n",
    "#x, a, b, c = symbols('x a b c')\n",
    "#print diff(gaussScalar(x, a, b, c), x)"
   ]
  },
  {
   "cell_type": "markdown",
   "metadata": {},
   "source": [
    "### Calculate the current activity\n",
    "\n",
    "Using the data read in from the .spe files, calculate the current activity at the time of the measurement.  \n",
    "\n",
    "NOTE:  There is a mix in the activity units.  The initActivity is in $\\mu$Ci as reported on the source, whereas the curActivity in is Bq."
   ]
  },
  {
   "cell_type": "code",
   "execution_count": null,
   "metadata": {
    "collapsed": false
   },
   "outputs": [],
   "source": [
    "sources['curActivity'] = 0\n",
    "for src in sources.index:\n",
    "    sources.at[src, 'curActivity'] = decay(sources.at[src, 'halfLife'],sources.at[src, 'initActivity'], \\\n",
    "                                        (sources.at[src, 'measDate']-sources.at[src, 'initDate']).total_seconds())\n",
    "print sources   "
   ]
  },
  {
   "cell_type": "markdown",
   "metadata": {
    "collapsed": false
   },
   "source": [
    "### Calculate absolute effficiency\n",
    "\n",
    "Determine an absolute efficiency curve for each position by curve fitting the experimental data. The germanium_eff_exp function has support for propogation of error, but the germanium_eff, or germanium_eff_poly are also available.  \n",
    "\n",
    "NOTE: The choice of which functions to onsider can be set with the functions list.\n",
    "\n",
    "NOTE: The uncertainty only currently captures the uncertainity in the counts and initial activity.  The uncertaities in BR, half lives, and measurement time are sufficiently small that they can be ignored, but there is uncertainty associated with the fit of the peak that is not captured if germanium_eff_exp is not used.  "
   ]
  },
  {
   "cell_type": "code",
   "execution_count": null,
   "metadata": {
    "collapsed": false
   },
   "outputs": [],
   "source": [
    "from Counting import germanium_eff\n",
    "functions=[germanium_eff, germanium_eff_exp]#, germanium_eff_poly]\n",
    "absEffParams = {}\n",
    "absEffCov = {}\n",
    "fitFunc = {} \n",
    "\n",
    "for p in posUsed:\n",
    "    peakData[p]['expectedCounts'] = 0.0\n",
    "    peakData[p]['absEfficiency'] = 0.0\n",
    "    peakData[p]['effUncert'] = 0.0\n",
    "    \n",
    "    # Calculate the absolute efficiency and uncertainty\n",
    "    for index, row in peakData[p].iterrows():\n",
    "        peakData[p].at[index, 'expectedCounts'] = sources.at[peakData[p].at[index, 'isotope'], 'curActivity'] \\\n",
    "                                               * peakData[p].at[index, 'branchingRatio'] \\\n",
    "                                               * liveTime[p][peakData[p].at[index, 'isotope']]\n",
    "        peakData[p].at[index, 'absEfficiency'] = float(peakData[p].at[index, 'measuredCounts']) \\\n",
    "                                               / float(peakData[p].at[index, 'expectedCounts'])\n",
    "        peakData[p].at[index, 'effUncert'] = peakData[p].at[index, 'absEfficiency'] * \\\n",
    "                                           sqrt((peakData[p].at[index, 'measUncert'] \\\n",
    "                                           / peakData[p].at[index, 'measuredCounts'])**2 \\\n",
    "                                               + sources.at[peakData[p].at[index, 'isotope'], 'initActRelUncert']**2)\n",
    "    \n",
    "    # Fit the data for the current position by finding best fitting routine\n",
    "    (fitFunc[p], absEffParams[p], absEffCov[p], redChiSq) = find_best_fit(*functions,\n",
    "                                                     xdata=peakData[p]['line'], ydata=peakData[p]['absEfficiency'],\n",
    "                                                     sigma=peakData[p]['effUncert'], absolute_sigma=True)\n",
    "    \n",
    "    # Output the results\n",
    "    try:\n",
    "        print 'The fitting function was: {}'.format(fitFunc[p].__name__)\n",
    "        print 'The curve fitting parameters at {} cm are: {}'.format(p, absEffParams[p])\n",
    "        print '  with standard deviations at {} cm of: {}\\n'.format(p, np.sqrt(np.diag(absEffCov[p])))\n",
    "        print peakData[p][['isotope', 'line', 'expectedCounts', 'absEfficiency', 'effUncert']]\n",
    "\n",
    "        #Plot the Data\n",
    "        fig = pyplot.figure(figsize=(11, 8))\n",
    "        ax1 = fig.add_axes([0.1, 0.1, 0.8, 0.85])\n",
    "        ax1.set_xscale('log')\n",
    "        ax1.set_yscale('log')\n",
    "        ax1.axis([10, 10000, 0.75*min(peakData[p]['absEfficiency']), \n",
    "                  1.25*max(peakData[p]['absEfficiency'])])\n",
    "        ax1.errorbar(peakData[p]['line'], peakData[p]['absEfficiency'], peakData[p]['effUncert'], fmt='.')\n",
    "        ax1.set_title('Position: {} cm, $\\chi^2/DOF={}$'.format(p, redChiSq))\n",
    "\n",
    "        #Plot the fit\n",
    "        xList = np.arange(min(peakData[p]['line']), 1.25*max(peakData[p]['line']), 1)\n",
    "        yList = map(lambda y: fitFunc[p](y, *absEffParams[p]), xList)\n",
    "        ax1.plot(xList, yList)\n",
    "        pyplot.show()\n",
    "\n",
    "        #Plot the error\n",
    "        if fitFunc[p] == germanium_eff_exp:\n",
    "            pyplot.title('Efficiency 1$\\sigma$: {} cm'.format(p))\n",
    "            xList = np.arange(min(peakData[1]['line']), 1.25*max(peakData[1]['line']), 1)\n",
    "            yList = map(lambda y: curve_fit_error4(fitFunc[p], np.insert(absEffParams[p], 0, y), y*0.001, \n",
    "                                                   absEffCov[p]), xList)\n",
    "            pyplot.plot(xList, yList)\n",
    "            pyplot.show()\n",
    "    except AttributeError:\n",
    "        print 'No fit was found'\n",
    "        print peakData[p][['isotope', 'line', 'expectedCounts', 'absEfficiency', 'effUncert']]\n",
    "        \n",
    "        #Plot the Data\n",
    "        pyplot.axis([0, 1500, 0, 1.25*max(peakData[p]['absEfficiency'])])\n",
    "        pyplot.errorbar(peakData[p]['line'], peakData[p]['absEfficiency'], peakData[p]['effUncert'], fmt='.')\n",
    "        pyplot.title('Position: {} cm, $\\chi^2/DOF={}$'.format(p, redChiSq))\n",
    "        pyplot.show()"
   ]
  },
  {
   "cell_type": "markdown",
   "metadata": {},
   "source": [
    "The fitting function was: germanium_eff\n",
    "The curve fitting parameters at 1 cm are: [ 0.03660026  0.01812037  0.22283799 -0.02509828]\n",
    "  with standard deviations at 1 cm of: [ 0.00217861  0.00151982  0.0264195   0.0021326 ]\n",
    "\n",
    "   isotope       line  expectedCounts  absEfficiency  effUncert\n",
    "0    Cs137   661.6570    2.637046e+06       0.041945   0.000489\n",
    "1     Co60  1173.2300    1.744267e+06       0.023573   0.000275\n",
    "2     Co60  1332.4900    1.746583e+06       0.021024   0.000245\n",
    "3    Ba133    80.9979    2.149712e+06       0.133694   0.001558\n",
    "4    Ba133   276.4000    4.678401e+05       0.063716   0.000742\n",
    "5    Ba133   302.8500    1.198350e+06       0.052972   0.000617\n",
    "6    Ba133   356.0100    4.054397e+06       0.051153   0.000596\n",
    "7    Eu152   121.7000    4.522452e+06       0.119742   0.001395\n",
    "8    Eu152   244.7000    1.196793e+06       0.055050   0.000641\n",
    "9    Eu152   344.2900    4.214932e+06       0.056256   0.000655\n",
    "10   Eu152   778.9000    2.049608e+06       0.029419   0.000343\n",
    "11   Eu152   964.0600    2.300062e+06       0.020484   0.000239\n",
    "12   Eu152  1112.0800    2.166909e+06       0.018815   0.000219\n",
    "13   Eu152  1408.0100    3.308222e+06       0.015313   0.000178"
   ]
  },
  {
   "cell_type": "markdown",
   "metadata": {},
   "source": [
    "## Count Plan\n",
    "\n",
    "Develop a count plan based on the planned irradiation. This assumes that you have a priori abs effeciency calibration parameters for the position of interest. \n",
    "\n",
    "### Experimental parameters\n",
    "\n",
    "Specifies experimental parameters for the beam and counting facility used.\n",
    "\n",
    "runTime = the beam irradiation time in s\n",
    "\n",
    "transitTime = the minimum time to counting of the first foil in s\n",
    "\n",
    "background = the background rate at the peak of interest in counts/s\n",
    "\n",
    "detR = radius of the detector in cm"
   ]
  },
  {
   "cell_type": "code",
   "execution_count": null,
   "metadata": {
    "collapsed": false
   },
   "outputs": [],
   "source": [
    "runTime = 3600*2+1200\n",
    "transitTime = 335\n",
    "\n",
    "background = 0.01\n",
    "detR = 3.245"
   ]
  },
  {
   "cell_type": "markdown",
   "metadata": {},
   "source": [
    "### Read in Simulation data\n",
    "\n",
    "Read from the designated file path.  Manipulate the file to build a dataframe with the information needed for the count plan.  "
   ]
  },
  {
   "cell_type": "code",
   "execution_count": null,
   "metadata": {
    "collapsed": false
   },
   "outputs": [],
   "source": [
    "simFoilParams = pd.read_excel(simPath)\n",
    "\n",
    "# Delete unneccesary columns for readability and make the index the reactant\n",
    "simFoilParams.index = simFoilParams.Rx\n",
    "del simFoilParams['Rx']\n",
    "del simFoilParams['Thickness [cm]']\n",
    "del simFoilParams['Density']\n",
    "del simFoilParams['AW']\n",
    "del simFoilParams['Lambda [s^-1]']\n",
    "\n",
    "# Rename columns for ease of access and add in the statistics column\n",
    "simFoilParams.columns = ['foil', 'product', 'gammaEnergy', 'br', 'relStat', 'det2FoilDist', 'normalization', 'rxRate',\n",
    "                         'rxRateSigma', 'foilR','weightFrac', 'volume', 'halfLife']\n",
    "\n",
    "# Put branching ratios in fractional form\n",
    "simFoilParams['br'] = simFoilParams['br']/100.\n",
    "\n",
    "# Calculate the activity following transit time decay for each rx; delete columns no longer needed\n",
    "simFoilParams['initActivity'] = 0.0\n",
    "simFoilParams['activityUncert'] = 0.0\n",
    "for ind in simFoilParams.index:\n",
    "    simFoilParams.at[ind,'initActivity'] = production_decay(simFoilParams.at[ind, 'halfLife'], 0, runTime, \\\n",
    "                                                    simFoilParams.at[ind, 'rxRate'], \\\n",
    "                                                    simFoilParams.at[ind, 'normalization'], \\\n",
    "                                                    simFoilParams.at[ind, 'volume'], transitTime)\\\n",
    "                                                    *get_decay_const(simFoilParams.at[ind,'halfLife'])\\\n",
    "                                                    *simFoilParams.at[ind,'br']\n",
    "    simFoilParams.at[ind,'activityUncert'] = simFoilParams.at[ind, 'initActivity']*simFoilParams.at[ind, 'rxRateSigma']\n",
    "del simFoilParams['rxRate']\n",
    "del simFoilParams['normalization']\n",
    "del simFoilParams['volume']\n",
    "del simFoilParams['rxRateSigma']\n",
    "\n",
    "print simFoilParams"
   ]
  },
  {
   "cell_type": "code",
   "execution_count": null,
   "metadata": {
    "collapsed": false
   },
   "outputs": [],
   "source": [
    "(countDF,countOrder,countTime) = optimal_count_plan(simFoilParams, handleTime=75, detR=detR,  background=background, \n",
    "                                                    units='Bq', toMinute = True, \n",
    "                                                    funcDict=fitFunc, funcParamDict=absEffParams )\n",
    "print 'Total count time = {:2e} hrs\\n'.format(countTime/3600)\n",
    "print 'The order of counting is: {}\\n'.format(countOrder)\n",
    "for ind in countDF.index:\n",
    "    print \"{:15s} {:4.0f} min\".format(ind, countDF.at[ind,\"countTime\"]/60)"
   ]
  },
  {
   "cell_type": "markdown",
   "metadata": {},
   "source": [
    "Assuming 1 hr 45 min at 2 $\\mu$A. 1.5% on Al(n,a) @ 18 \n",
    "Total count time = 5.161667e+01 hrs\n",
    "\n",
    "The order of counting is: (u'AlP', u'In', u'InN18', u'AlA18', u'AlA', u'Zr18', u'Zr')\n",
    "\n",
    "27Al(n,p)         13 min\n",
    "115In(n,g)        78 min\n",
    "115In(n,n')       78 min\n",
    "115In(n,n')18    332 min\n",
    "27Al(n,a)18     1187 min\n",
    "27Al(n,a)        231 min\n",
    "90Zr(n,2n)18    1197 min\n",
    "90Zr(n,2n)        59 min\n",
    "\n",
    "Assuming 1 hr 45 min at 2 $\\mu$A. 1.5% on Al(n,a) @ 18; added Ni (n,2n) @ 2.5%\n",
    "Total count time = 5.273333e+01 hrs\n",
    "\n",
    "The order of counting is: (u'AlP', u'In', u'InN18', u'AlA18', u'AlA', u'Ni', u'Zr18', u'Zr')\n",
    "\n",
    "27Al(n,p)         13 min\n",
    "115In(n,g)        78 min\n",
    "115In(n,n')       78 min\n",
    "115In(n,n')18    332 min\n",
    "27Al(n,a)18     1187 min\n",
    "27Al(n,a)        231 min\n",
    "58Ni(n,2n)        54 min\n",
    "90Zr(n,2n)18    1209 min\n",
    "90Zr(n,2n)        60 min\n"
   ]
  },
  {
   "cell_type": "markdown",
   "metadata": {},
   "source": [
    "### NOTES:\n",
    "\n",
    "1) Ni58(n,2n)Ni57 channel will not be clean.  There will be contributions from Ni60(n,4n)Ni57 (threshold 33.15 MeV) and Ni61(n,5n)Ni57 (threshold 41.09 MeV) channels.  Unfortunatetly, nuclear data does not exist for these channels. <br/>\n",
    "2) Ni58(n,p)Co58 channel will not be clean.  There will be contributions from Ni60(n,2np)Co58 (threshold 20.32 MeV), Ni61(n,3np)Co58 (threshold 28.27 MeV), and Ni62(n,4np)Co58 (threshold 39.03 MeV) channels.  Unfortunatetly, nuclear data does not exist for these channels. <br/>\n",
    "3) Zr90(n,2n)Zr89 channel will not be clean.  There will be contributions from Zr91(n,3n)Zr89 (threshold 19.38 MeV), Zr92(n,4n)Zr89 (threshold 28.80 MeV), and Zr94(n,6n)Zr89 (threshold 43.21 MeV) channels.  Unfortunatetly, nuclear data does not exist for these channels. <br/>"
   ]
  },
  {
   "cell_type": "markdown",
   "metadata": {},
   "source": [
    "## Experimental Setup\n",
    "\n",
    "Counted each foil to verify that there was not residual activity.  \n",
    "\n",
    "NOTE: Foil drawer has some wiggle room in the stack.  It was pushed all the way back and to the right.  This is not quite centered on the detector, but it is repeatable. The foil itself also doesn't quite fit, so it was ensured that the back edge was in the inset for repeatabiility.  \n",
    "\n",
    "Zr4 0825 Zr4_1_Background_0831_27Feb17\n",
    "Al4 0831 Al4_1_Background_0836_27Feb17\n",
    "In4 0838 Ni4_1_Background_0843_27Feb17\n",
    "Ni4 0844 Ni4_1_Background_0849_27Feb17\n",
    "\n",
    "Foil was placed at (65.5 cm, 0 cm, -1 cm)\n",
    "\n",
    "### Beam On\n",
    "\n",
    "Start time: 0949:55\n",
    "Current Integrator: 0\n",
    "Stop Time:\n",
    "Current Integrator: \n",
    "\n",
    "NOTE: First minute of current monitor calibration data is off. It should read 2 $\\mu$A, but it reads a little higher. The recalibration was performed ~1 minute in.  \n",
    "\n",
    "At ~1003 the beam was stopped because the radiation levels on the roof were too high. At ~1041, the beam was turned on at 1 $\\mu$A and adjusted downward until safe levels were reached.  It went down to ~650 nA at 1052.  At 1102, approval was received to go back to 2 $\\mu$A.  \n",
    "\n",
    "5:35 delay "
   ]
  },
  {
   "cell_type": "markdown",
   "metadata": {},
   "source": [
    "## Experimental Analysis"
   ]
  },
  {
   "cell_type": "code",
   "execution_count": null,
   "metadata": {
    "collapsed": false
   },
   "outputs": [],
   "source": [
    "eff=germanium_eff_exp(511.0)\n",
    "std=curve_fit_error4(germanium_eff_exp, np.insert(absEffParams[p], 0, 511), 511*0.001, absEffCov[p])\n",
    "print \"At {} keV, the efficiency is {} +/- {}%\".format(511,eff*100,std*100)"
   ]
  },
  {
   "cell_type": "code",
   "execution_count": null,
   "metadata": {
    "collapsed": true
   },
   "outputs": [],
   "source": []
  },
  {
   "cell_type": "markdown",
   "metadata": {
    "collapsed": true
   },
   "source": [
    "# TODO List:\n",
    "\n",
    "Simulated unfold <br\\>\n",
    "Propogation of error for peak fitting? <br\\>\n",
    "Add Am calibration data <br\\>\n",
    "Correct for attenuation in src geometry <br\\>\n",
    "Background subtraction <br\\>\n",
    "Integral counts vs gaussian integral counts <br\\>\n",
    "Add Time stamp to count plan <br\\>\n",
    "Add total counts to count plan <br\\>\n",
    "Add simple count time calculator. <br\\>\n",
    "Supervised learning model <br\\>\n",
    " - scikit learn <br\\>\n",
    " - mixed gaussian model <br\\>\n",
    " - python lapack model <br\\>\n",
    "Use of FHWM in window determination? <br\\>\n",
    "Update peak fitting routines using NIST (especially the simple one). <br\\>\n",
    "\n",
    "## Correction Factors\n",
    "1) Intrinsic  <br\\>\n",
    "2) Geometric <br\\>\n",
    "3) Coincidence Summing <br\\>\n",
    "4) Pile Up (random summing) <br\\>\n",
    "5) Self Attenuation  <br\\>\n",
    "6) Irradiation <br\\>\n",
    "7) Cooling time <br\\>\n",
    "8) Decay while counting <br\\>\n",
    "9) Beam Dead time <br\\>\n",
    "10) Beam attenuation <br\\>\n"
   ]
  },
  {
   "cell_type": "code",
   "execution_count": null,
   "metadata": {
    "collapsed": true
   },
   "outputs": [],
   "source": []
  }
 ],
 "metadata": {
  "kernelspec": {
   "display_name": "Python 2",
   "language": "python",
   "name": "python2"
  },
  "language_info": {
   "codemirror_mode": {
    "name": "ipython",
    "version": 2
   },
   "file_extension": ".py",
   "mimetype": "text/x-python",
   "name": "python",
   "nbconvert_exporter": "python",
   "pygments_lexer": "ipython2",
   "version": "2.7.6"
  }
 },
 "nbformat": 4,
 "nbformat_minor": 0
}
