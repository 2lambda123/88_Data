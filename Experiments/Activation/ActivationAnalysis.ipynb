{
 "cells": [
  {
   "cell_type": "markdown",
   "metadata": {},
   "source": [
    "# 33 MeV D on Ta \n",
    "\n",
    "This notebook documents the steps taken to calibrate, aquire, and analyse data from activation foils used to unfold the neutron spectrum from 33 MeV D breakup on Ta.  "
   ]
  },
  {
   "cell_type": "markdown",
   "metadata": {},
   "source": [
    "## Calibration\n",
    "\n",
    "### Import source data\n",
    "\n",
    "Calibration was performed using Cs137, Co60, Eu 152, Am241, and Ba133 sources. The lines used for energy and efficiency calibration are:\n",
    "\n",
    "Source   | Line (keV)| BR [%]\n",
    "-------- |:---------:|:------:\n",
    "Cs137    |661.657    |85.10\n",
    "Cs60     |1173.23    |99.85\n",
    "Cs60     |1332.49    |99.98\n",
    "Eu152    |121.70     |20.56\n",
    "Eu152    |244.70     |5.44\n",
    "Eu152    |344.29     |7.42\n",
    "Eu152    |778.90     |3.61\n",
    "Eu152    |964.06     |10.46\n",
    "Eu152    |1112.08    |9.85\n",
    "Eu152    |1408.01    |15.04\n",
    "Am241    |59.54      |2.14\n",
    "Ba133    |276.40     |7.16\n",
    "Ba133    |356.01     |62.05\n",
    "\n",
    "This data, along with the initial activity and decay information, is also located in the excel file located here:"
   ]
  },
  {
   "cell_type": "code",
   "execution_count": 1,
   "metadata": {
    "collapsed": true
   },
   "outputs": [],
   "source": [
    "calibSourcesPath='CalibrationSources.xlsx'"
   ]
  },
  {
   "cell_type": "markdown",
   "metadata": {},
   "source": [
    "Import the source and activity data and format for later analysis:"
   ]
  },
  {
   "cell_type": "code",
   "execution_count": 2,
   "metadata": {
    "collapsed": false
   },
   "outputs": [],
   "source": [
    "import os\n",
    "import sys\n",
    "import peakutils\n",
    "\n",
    "import pandas as pd\n",
    "import numpy as np\n",
    "\n",
    "from math import sqrt, exp, log\n",
    "from datetime import datetime\n",
    "from scipy.optimize import curve_fit\n",
    "from peakutils.plot import plot as pplot\n",
    "from matplotlib import pyplot\n",
    "%matplotlib inline\n",
    "\n",
    "# Path to support functions \n",
    "sys.path.insert(0,os.path.abspath('/home/pyne-user/Dropbox/UCB/Computational_Tools/Scripts/Python/GeneralNuclear'))\n",
    "from Counting import parse_spe, peak_counts, germanium_rel_eff\n",
    "from BasicNuclearCalcs import decay"
   ]
  },
  {
   "cell_type": "code",
   "execution_count": 3,
   "metadata": {
    "collapsed": false
   },
   "outputs": [
    {
     "name": "stdout",
     "output_type": "stream",
     "text": [
      "The calibration source data used: \n",
      "\n",
      "        initActivity   initDate     halfLife  measDate\n",
      "source                                                \n",
      "Am241         10.300 1970-01-01  13644204000         0\n",
      "Eu152          1.062 2009-01-01    426326180         0\n",
      "Co60           1.007 2009-01-01    166344192         0\n",
      "Cs137          1.042 2009-01-01    948723200         0\n",
      "Ba133          1.078 2009-01-01    332778540         0\n"
     ]
    }
   ],
   "source": [
    "sources = pd.read_excel(calibSourcesPath,\"Sources\")\n",
    "sources.columns=['source','initActivity','initDate','halfLife']\n",
    "sources.index=sources.source\n",
    "del sources['source']\n",
    "sources['initDate'] = pd.to_datetime(sources['initDate'])\n",
    "sources['measDate']=0     \n",
    "\n",
    "print \"The calibration source data used: \\n\\n\", sources"
   ]
  },
  {
   "cell_type": "markdown",
   "metadata": {},
   "source": [
    "Import the calibration line and branching ratio data:"
   ]
  },
  {
   "cell_type": "code",
   "execution_count": 4,
   "metadata": {
    "collapsed": false
   },
   "outputs": [
    {
     "name": "stdout",
     "output_type": "stream",
     "text": [
      "The calibration peak data used: \n",
      "\n",
      "      isotope      line  branchingRatio\n",
      "0   Cs137       661.657        0.851000\n",
      "1   Co60       1173.230        0.998500\n",
      "2   Co60       1332.490        0.999826\n",
      "3   Eu152       121.700        0.285300\n",
      "4   Eu152       244.700        0.075500\n",
      "5   Eu152       344.290        0.265900\n",
      "6   Eu152       778.900        0.129300\n",
      "7   Eu152       964.060        0.145100\n",
      "8   Eu152      1112.080        0.136700\n",
      "9   Eu152      1408.010        0.208700\n",
      "10      Am241    59.540        0.359000\n",
      "11  Ba133       276.400        0.071600\n",
      "12  Ba133       356.010        0.620500\n"
     ]
    }
   ],
   "source": [
    "lines = pd.read_excel(calibSourcesPath,\"Lines\")\n",
    "lines.columns=['isotope','line','branchingRatio']\n",
    "print \"The calibration peak data used: \\n\\n\", lines"
   ]
  },
  {
   "cell_type": "markdown",
   "metadata": {},
   "source": [
    "### Perform software energy calibration\n",
    "\n",
    "The calibration was performed using GammaVision.\n",
    "\n",
    "[insert calibration procedure here]"
   ]
  },
  {
   "cell_type": "markdown",
   "metadata": {},
   "source": [
    "### Read in the calibration data\n",
    "\n",
    "Read in all of the data taken for calibration.  \n",
    "\n",
    "This procedure assumes: <br/>\n",
    "1) That there is a folder with only calibration data in the format \"isotope_position_anything.Spe\".  For example, a valid naming convention is \"Co60_1_8Feb17.Spe\".  The first field is used to compare against the imported lines, and the second field is to build a location dependent calibration. <br/>\n",
    "2) Only calibration data lives in the calibration path specified.  <br/>\n",
    "5) That the calibration order listed above in the table was followed. <br/>\n",
    "\n",
    "The path the calibration data is:"
   ]
  },
  {
   "cell_type": "code",
   "execution_count": 5,
   "metadata": {
    "collapsed": false
   },
   "outputs": [
    {
     "name": "stdout",
     "output_type": "stream",
     "text": [
      "Processing: Eu152_1.Spe\n",
      "Processing: Ba133_1.Spe\n",
      "Processing: Co60_1.Spe\n",
      "Processing: Cs137_1.Spe\n",
      "Processing: Am241_1.Spe\n",
      "\n",
      "Position = 1 cm\n",
      "LiveTime: {'Co60': 60.0, 'Cs137': 60.0, 'Ba133': 120.0, 'Am241': 120.0, 'Eu152': 120.0}\n",
      "Calibration: 3.468863e-08*ch^2 + 0.3838918 * ch + 0.1874105\n",
      "      Eu152     Ba133      Co60     Cs137     Am241\n",
      "0         0         0         0         0         0\n",
      "1         0         0         0         0         0\n",
      "2         0         0         0         0         0\n"
     ]
    }
   ],
   "source": [
    "calibDataPath='/home/pyne-user/Dropbox/UCB/Research/ETAs/88Inch/Unfolding/Experiments/Activation/CalbrationData/'\n",
    "\n",
    "# Variables to allow for multiple positions to be handled at once\n",
    "posSet=False\n",
    "posUsed=[]\n",
    "\n",
    "# Storage for parameters that vary by position\n",
    "liveTime={}\n",
    "eCalibParams={} #ax^2 +bx + c stored as (a,b,c)\n",
    "data=[]\n",
    "\n",
    "# Loop over all files\n",
    "for filename in os.listdir(calibDataPath):\n",
    "    if filename.endswith(\".Spe\"): \n",
    "        name = os.path.splitext(filename)[0]\n",
    "        # Set the new position if found\n",
    "        if posSet==False:\n",
    "            position=int(name.split('_')[1])\n",
    "            if position not in posUsed:\n",
    "                posUsed.append(position)\n",
    "                posSet=True\n",
    "                liveTime[position]={}\n",
    "        # Read, manipulate and store all data from this position\n",
    "        if posSet==True and int(name.split('_')[1])==position:\n",
    "            print \"Processing:\", filename\n",
    "            (time,measDate,a,b,c,tmpData)=parse_spe(calibDataPath+filename)\n",
    "            sources.at[name.split('_')[0],'measDate']=measDate\n",
    "            if len(data)<len(posUsed):\n",
    "                data.append(tmpData)\n",
    "                data[-1].columns=[name.split('_')[0]]\n",
    "            else: \n",
    "                data[-1].loc[:,name.split('_')[0]]=tmpData['counts']\n",
    "            liveTime[position][name.split('_')[0]]=time\n",
    "            if name.split('_')[0]==\"Ba133\":\n",
    "                eCalibParams[position]=(a,b,c)\n",
    "                \n",
    "for d,p in zip(data,posUsed):\n",
    "    print \"\\nPosition = {} cm\".format(p)\n",
    "    print \"LiveTime:\", liveTime[p]\n",
    "    print \"Calibration: {}*ch^2 + {} * ch + {}\".format(eCalibParams[p][0],eCalibParams[p][1],eCalibParams[p][2])\n",
    "    print d.head(3)"
   ]
  },
  {
   "cell_type": "markdown",
   "metadata": {},
   "source": [
    "### Calculate the peak counts\n",
    "\n",
    "Determine the peak area for each of the lines considered.  Save the data in the lines dataframe. \n",
    "\n",
    "This procedure assumes: <br/>\n",
    "1) That no significant background is present.  No background subtraction is performed. <br/>\n",
    "2) A linear interpolation of the continuum is sufficient.  <br/>"
   ]
  },
  {
   "cell_type": "code",
   "execution_count": 6,
   "metadata": {
    "collapsed": false
   },
   "outputs": [
    {
     "name": "stdout",
     "output_type": "stream",
     "text": [
      "\n",
      "Eu152 \n",
      "Energy  Counts     Area\n",
      "121.88   27188   94977.69\n",
      "244.74   3669   13605.22\n",
      "344.18   12039   49927.07\n",
      "778.86   2071   11435.86\n",
      "963.97   1413   9041.95\n",
      "1112.23   1141   7721.54\n",
      "1408.00   1157   9503.54\n",
      "\n",
      "\n"
     ]
    },
    {
     "data": {
      "image/png": "[encoded data removed]",
      "text/plain": [
       "<matplotlib.figure.Figure at 0x2b055e1eefd0>"
      ]
     },
     "metadata": {},
     "output_type": "display_data"
    },
    {
     "name": "stdout",
     "output_type": "stream",
     "text": [
      "\n",
      "Ba133 \n",
      "Energy  Counts     Area\n",
      "276.61   2855   10779.65\n",
      "356.08   22186   86281.44\n",
      "\n",
      "\n"
     ]
    },
    {
     "data": {
      "image/png": "[encoded data removed]",
      "text/plain": [
       "<matplotlib.figure.Figure at 0x2b055ea5ab50>"
      ]
     },
     "metadata": {},
     "output_type": "display_data"
    },
    {
     "name": "stdout",
     "output_type": "stream",
     "text": [
      "\n",
      "Co60 \n",
      "Energy  Counts     Area\n",
      "1173.30   2340   17229.00\n",
      "1332.33   1859   15254.39\n",
      "\n",
      "\n"
     ]
    },
    {
     "data": {
      "image/png": "[encoded data removed]",
      "text/plain": [
       "<matplotlib.figure.Figure at 0x2b055e99f9d0>"
      ]
     },
     "metadata": {},
     "output_type": "display_data"
    },
    {
     "name": "stdout",
     "output_type": "stream",
     "text": [
      "\n",
      "Cs137 \n",
      "Energy  Counts     Area\n",
      "661.74   12765   65901.19\n",
      "\n",
      "\n"
     ]
    },
    {
     "data": {
      "image/png": "[encoded data removed]",
      "text/plain": [
       "<matplotlib.figure.Figure at 0x2b055e1eed90>"
      ]
     },
     "metadata": {},
     "output_type": "display_data"
    },
    {
     "name": "stdout",
     "output_type": "stream",
     "text": [
      "\n",
      "Am241 \n",
      "Energy  Counts     Area\n",
      "59.69   746863   2133866.21\n",
      "\n",
      "\n"
     ]
    },
    {
     "data": {
      "image/png": "[encoded data removed]",
      "text/plain": [
       "<matplotlib.figure.Figure at 0x2b055eae9110>"
      ]
     },
     "metadata": {},
     "output_type": "display_data"
    },
    {
     "name": "stdout",
     "output_type": "stream",
     "text": [
      "   isotope      line  branchingRatio  measuredCounts  uncert\n",
      "0    Cs137   661.657        0.851000           65901     256\n",
      "1     Co60  1173.230        0.998500           17229     131\n",
      "2     Co60  1332.490        0.999826           15254     123\n",
      "3    Eu152   121.700        0.285300           94977     308\n",
      "4    Eu152   244.700        0.075500           13605     116\n",
      "5    Eu152   344.290        0.265900           49927     223\n",
      "6    Eu152   778.900        0.129300           11435     106\n",
      "7    Eu152   964.060        0.145100            9041      95\n",
      "8    Eu152  1112.080        0.136700            7721      87\n",
      "9    Eu152  1408.010        0.208700            9503      97\n",
      "10   Am241    59.540        0.359000         2133866    1460\n",
      "11   Ba133   276.400        0.071600           10779     103\n",
      "12   Ba133   356.010        0.620500           86281     293\n"
     ]
    }
   ],
   "source": [
    "# Create a list of data frames to store each of the positional information\n",
    "peakData=[]\n",
    "\n",
    "for df,p in zip(data,posUsed):\n",
    "    # Update dataframe to store calculated peak information\n",
    "    lines['measuredCounts']=0     \n",
    "    lines['uncert']=0\n",
    "    for column in df:\n",
    "        \n",
    "        # Find the peaks \n",
    "        channels=np.asarray(df.index)\n",
    "        energy=eCalibParams[p][2]+eCalibParams[p][1]*channels+eCalibParams[p][0]*channels**2\n",
    "        counts=np.asarray(df[column]).astype(float)\n",
    "        peaks = peakutils.indexes(counts, thres=0.01, min_dist=10)\n",
    "        \n",
    "        # Loop over all identified peaks to compare against calibration points loaded previously\n",
    "        print \"\\n\", df[column].name, \"\\nEnergy  Counts     Area\"      \n",
    "        for i in range(len(lines['line'])):\n",
    "            for e,c,pk in zip(energy[peaks],counts[peaks],peaks):\n",
    "                # Calculate the total peak counts if a calibration peak\n",
    "                if abs(e-lines['line'][i]) < 1 and df[column].name.strip()==lines['isotope'][i].strip():\n",
    "                    peakArea=peak_counts(channels, counts, pk)\n",
    "                    lines.at[i,'measuredCounts']=peakArea\n",
    "                    lines.at[i,'uncert']=sqrt(peakArea)\n",
    "                    print \"{:.2f}   {:.0f}   {:.2f}\".format(e,c, peakArea)\n",
    "            lines.at[i,'isotope']=lines.at[i,'isotope'].strip()\n",
    "        print \"\\n\"\n",
    "        \n",
    "        # Plot the peaks found\n",
    "        fig=pyplot.figure(figsize=(5,3))\n",
    "        ax1 = fig.add_axes([0.1, 0.1, 0.8, 0.85])\n",
    "        ax1.set_yscale('log')\n",
    "        pplot(energy, counts, peaks)\n",
    "        pyplot.title('Peaks:{}'.format(df[column].name))        \n",
    "        pyplot.show()\n",
    "        \n",
    "    print lines\n",
    "    peakData.append(lines)"
   ]
  },
  {
   "cell_type": "markdown",
   "metadata": {},
   "source": [
    "### Calculate expected count rate\n",
    "\n",
    "Using the data read in from the .spe files, calculate the current activity at the time of the measurement.  \n",
    "\n",
    "NOTE:  There is a mix in the activity units.  The initActivity is in $\\mu$Ci as reported on the source, whereas the curActivity in is Bq."
   ]
  },
  {
   "cell_type": "code",
   "execution_count": 7,
   "metadata": {
    "collapsed": false
   },
   "outputs": [
    {
     "name": "stdout",
     "output_type": "stream",
     "text": [
      "        initActivity   initDate     halfLife             measDate  curActivity\n",
      "source                                                                        \n",
      "Am241         10.300 1970-01-01  13644204000  2017-02-08 18:33:23       353379\n",
      "Eu152          1.062 2009-01-01    426326180  2017-02-08 18:16:53        25923\n",
      "Co60           1.007 2009-01-01    166344192  2017-02-08 17:55:05        12832\n",
      "Cs137          1.042 2009-01-01    948723200  2017-02-08 17:38:42        31981\n",
      "Ba133          1.078 2009-01-01    332778540  2017-02-08 18:39:13        23410\n"
     ]
    }
   ],
   "source": [
    "sources['curActivity']=0\n",
    "for src in sources.index:\n",
    "    sources.at[src,'curActivity']=decay(sources.at[src,'halfLife'],sources.at[src,'initActivity'],\\\n",
    "                                        (sources.at[src,'measDate']-sources.at[src,'initDate']).total_seconds())\n",
    "print sources   "
   ]
  },
  {
   "cell_type": "markdown",
   "metadata": {
    "collapsed": false
   },
   "source": [
    "### Calculate absolute effficiency\n",
    "\n",
    "Determine an absolute efficiency curve for each position by curve fitting the experimental data."
   ]
  },
  {
   "cell_type": "code",
   "execution_count": 8,
   "metadata": {
    "collapsed": false
   },
   "outputs": [
    {
     "name": "stderr",
     "output_type": "stream",
     "text": [
      "/usr/lib/pymodules/python2.7/matplotlib/collections.py:548: FutureWarning: elementwise comparison failed; returning scalar instead, but in the future will perform elementwise comparison\n",
      "  if self._edgecolors == 'face':\n"
     ]
    },
    {
     "data": {
      "image/png": "[encoded data removed]",
      "text/plain": [
       "<matplotlib.figure.Figure at 0x2b055ea0df10>"
      ]
     },
     "metadata": {},
     "output_type": "display_data"
    },
    {
     "name": "stdout",
     "output_type": "stream",
     "text": [
      "The curve fitting parameters at 1 cm are: [ 0.06009234  0.03441747  0.50475985  0.00284131]\n",
      "with standard devaiations at 1 of: [ 0.02038579  0.01490204  0.27023492  0.00948398]\n"
     ]
    }
   ],
   "source": [
    "absEffParams={}\n",
    "\n",
    "for pos in posUsed:\n",
    "    for df in peakData:\n",
    "        df['expectedCounts']=0.0\n",
    "        df['absEfficiency']=0.0\n",
    "        for index, row in df.iterrows():\n",
    "            df.at[index,'expectedCounts']=sources.at[df.at[index,'isotope'],'curActivity'] * df.at[index,'branchingRatio'] \\\n",
    "                                          * liveTime[pos][df.at[index,'isotope']]\n",
    "            df.at[index,'absEfficiency']=float(df.at[index,'measuredCounts'])/float(df.at[index,'expectedCounts'])\n",
    "\n",
    "        # Fit the data for the current position\n",
    "        popt, pcov = curve_fit(germanium_rel_eff, df['line'],df['absEfficiency'])\n",
    "        absEffParams[pos]=popt\n",
    "        \n",
    "        #Plot the Data\n",
    "        pyplot.axis([0,1500,0,1.25*max(df['absEfficiency'])])\n",
    "        pyplot.title('Position: {}cm'.format(pos))\n",
    "        pyplot.scatter(df['line'],df['absEfficiency'])\n",
    "        #Plot the fit\n",
    "        xlist = np.arange(min(df['line']),1.25*max(df['line']),1)\n",
    "        ylist = map(lambda y: germanium_rel_eff(y, popt[0], popt[1], popt[2], popt[3]), xlist)\n",
    "        pyplot.plot(xlist, ylist)\n",
    "        pyplot.show()\n",
    "        \n",
    "        print 'The curve fitting parameters at {} cm are: {}'.format(pos,absEffParams[pos])\n",
    "        print 'with standard devaiations at {} of: {}'.format(pos,np.sqrt(np.diag(pcov)))       "
   ]
  },
  {
   "cell_type": "markdown",
   "metadata": {},
   "source": [
    "### Set Reference Line\n",
    "\n",
    "Determine a line to be used as the absolute reference line for all future data as a function of position.  This is done by hand below by determining which data point you have the most confidence in (most collected data), one closest to the lines of interest for the experiment, or one the function fits best (not the best choice).  In a perfect calibration, this choice is irrelevant. \n",
    "\n",
    "For this, the 778 keV line from Eu152 was chosen as it lines in the middle of the experimental lines of interest."
   ]
  },
  {
   "cell_type": "code",
   "execution_count": 10,
   "metadata": {
    "collapsed": false
   },
   "outputs": [],
   "source": [
    "refEnergy={}\n",
    "\n",
    "for pos in posUsed:\n",
    "    refEnergy[pos]=lines.at[6,'line']"
   ]
  },
  {
   "cell_type": "markdown",
   "metadata": {},
   "source": [
    "## Experimental Setup"
   ]
  },
  {
   "cell_type": "code",
   "execution_count": null,
   "metadata": {
    "collapsed": true
   },
   "outputs": [],
   "source": []
  }
 ],
 "metadata": {
  "kernelspec": {
   "display_name": "Python 2",
   "language": "python",
   "name": "python2"
  },
  "language_info": {
   "codemirror_mode": {
    "name": "ipython",
    "version": 2
   },
   "file_extension": ".py",
   "mimetype": "text/x-python",
   "name": "python",
   "nbconvert_exporter": "python",
   "pygments_lexer": "ipython2",
   "version": "2.7.6"
  }
 },
 "nbformat": 4,
 "nbformat_minor": 0
}
