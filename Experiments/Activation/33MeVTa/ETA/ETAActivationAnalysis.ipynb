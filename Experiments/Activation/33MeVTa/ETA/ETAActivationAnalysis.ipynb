{
 "cells": [
  {
   "cell_type": "markdown",
   "metadata": {},
   "source": [
    "# 50 MeV D on Ta \n",
    "\n",
    "This notebook documents the steps taken to calibrate, aquire, and analyze data from activation foils used to unfold the neutron spectrum from 50 MeV D breakup on Ta.  \n",
    "\n",
    "This Notebook is broken into the following main sections: <br\\>\n",
    "1) Simulated Results <br\\>\n",
    "2) Simulated Unfold <br\\>\n",
    "3) Calibration <br\\>\n",
    "4) Count Plan <br\\>\n",
    "5) Experimental Setup <br\\>\n",
    "\n",
    "The notebook has dependecies on PyScripts, which can be cloned from:\n",
    "https://github.com/jamesbevins/PyScripts"
   ]
  },
  {
   "cell_type": "code",
   "execution_count": 1,
   "metadata": {
    "collapsed": false
   },
   "outputs": [],
   "source": [
    "import os\n",
    "import sys\n",
    "import peakutils\n",
    "\n",
    "import pandas as pd\n",
    "import numpy as np\n",
    "import copy as cp\n",
    "\n",
    "from math import sqrt, exp, log\n",
    "from datetime import datetime\n",
    "from scipy.optimize import curve_fit\n",
    "from peakutils.plot import plot as pplot\n",
    "from matplotlib import pyplot\n",
    "%matplotlib inline\n",
    "\n",
    "# Path to PyScripts support functions \n",
    "sys.path.insert(0,os.path.abspath('/home/pyne-user/Dropbox/UCB/Computational_Tools/Scripts/Python/GeneralNuclear'))\n",
    "from Counting import parse_spe, simple_peak_counts, germanium_eff_exp, foil_count_time, volume_solid_angle, \\\n",
    "                     optimal_count_plan, germanium_eff_poly, ge_peakfit, get_peak_windows, find_best_fit, \\\n",
    "                     germanium_eff, channel_statistics\n",
    "from BasicNuclearCalcs import decay, production_decay, get_decay_const, fractional_solid_angle\n",
    "sys.path.insert(0,os.path.abspath('/home/pyne-user/Dropbox/UCB/Computational_Tools/Scripts/Python/DataAnalysis'))\n",
    "from Stats import red_chisq, curve_fit_error4"
   ]
  },
  {
   "cell_type": "markdown",
   "metadata": {},
   "source": [
    "## Simulated Results\n",
    "\n",
    "### MCNP\n",
    "\n",
    "The experimental configuration was simulated in MCNP to get the expected reaction rates.  The Meulder's deuterons on 197Au was used as the source, and the foil pack was suspended center beam 34.62 cm from the wall.\n",
    "\n",
    "The results are located at <path>\\Dropbox\\UCB\\Research\\ETAs\\88Inch\\Data\\Simulated\\Activation\\16MeVTa\\Model\n",
    "\n",
    "They are sumarized at:"
   ]
  },
  {
   "cell_type": "code",
   "execution_count": 2,
   "metadata": {
    "collapsed": true
   },
   "outputs": [],
   "source": [
    "simFoilPath = \"/home/pyne-user/Dropbox/UCB/Research/ETAs/88Inch/Data/Simulated/Activation/33MevTa/ETA/33MeVEtaFoils.xlsx\"\n",
    "simFpPath = \"/home/pyne-user/Dropbox/UCB/Research/ETAs/88Inch/Data/Simulated/Activation/33MevTa/ETA/33MeVEtaFPs.xlsx\""
   ]
  },
  {
   "cell_type": "markdown",
   "metadata": {},
   "source": [
    "## Simulated Unfold\n",
    "\n",
    "Unfold of the MCNP results to test the theroretical ability to unfold given a set of reaction channels.  "
   ]
  },
  {
   "cell_type": "markdown",
   "metadata": {},
   "source": [
    "## Calibration\n",
    "\n",
    "### Import source data\n",
    "\n",
    "Calibration was performed using Cs137, Co60, Eu 152, Am241, and Ba133 sources. The lines used for energy and efficiency calibration are:\n",
    "\n",
    "#### Position 18 cm\n",
    "\n",
    "Source   | Line (keV)| BR [%] | Time  | Filename\n",
    "-------- |:---------:|:------:|:-----:|:----------------:\n",
    "Cs137    |661.657    |85.10   |0733   |Cs137_18_0737_26Feb17\n",
    "Co60     |1173.23    |99.85   |0746   |Co60_18_0759_26Feb17\n",
    "Co60     |1332.49    |99.98   |0746   |Co60_18_0759_26Feb17\n",
    "Am241    |59.54      |2.14    |0804   |Am241_18_0737_26Feb17\n",
    "Ba133    |80.9979    |32.9    |0850   |Ba133_18_0921_26Feb17\n",
    "Ba133    |276.40     |7.16    |0850   |Ba133_18_0921_26Feb17\n",
    "Ba133    |302.85     |18.34   |0850   |Ba133_18_0921_26Feb17\n",
    "Ba133    |356.01     |62.05   |0850   |Ba133_18_0921_26Feb17\n",
    "Eu152    |121.70     |20.56   |0936   |Eu152_18_0737_26Feb17\n",
    "Eu152    |244.70     |5.44    |0936   |Eu152_18_0737_26Feb17\n",
    "Eu152    |344.29     |7.42    |0936   |Eu152_18_0737_26Feb17\n",
    "Eu152    |778.90     |3.61    |0936   |Eu152_18_0737_26Feb17\n",
    "Eu152    |964.06     |10.46   |0936   |Eu152_18_0737_26Feb17\n",
    "Eu152    |1112.08    |9.85    |0936   |Eu152_18_0737_26Feb17\n",
    "Eu152    |1408.01    |15.04   |0936   |Eu152_18_0737_26Feb17\n",
    "\n",
    "#### Position 1 cm\n",
    "\n",
    "The drawer was a little loose in the stack.  It was pushed to back right for repeatibility.\n",
    "\n",
    "Source   | Line (keV)| BR [%] | Time  | Filename\n",
    "-------- |:---------:|:------:|:-----:|:----------------:\n",
    "Cs137    |661.657    |85.10   |1013   |Cs137_1_1015_26Feb17\n",
    "Co60     |1173.23    |99.85   |1018   |Co60_1_1020_26Feb17\n",
    "Co60     |1332.49    |99.98   |1018   |Co60_1_1020_26Feb17\n",
    "Am241    |59.54      |2.14    |1024   |Am241_1_1025_26Feb17\n",
    "Ba133    |80.9979    |32.9    |1029   |Ba133_1_0921_26Feb17\n",
    "Ba133    |276.40     |7.16    |1029   |Ba133_1_0921_26Feb17\n",
    "Ba133    |302.85     |18.34   |1029   |Ba133_1_0921_26Feb17\n",
    "Ba133    |356.01     |62.05   |1029   |Ba133_1_0921_26Feb17\n",
    "Eu152    |121.70     |20.56   |1036   |Eu152_1_1048_26Feb17\n",
    "Eu152    |244.70     |5.44    |1036   |Eu152_1_1048_26Feb17\n",
    "Eu152    |344.29     |7.42    |1036   |Eu152_1_1048_26Feb17\n",
    "Eu152    |778.90     |3.61    |1036   |Eu152_1_1048_26Feb17\n",
    "Eu152    |964.06     |10.46   |1036   |Eu152_1_1048_26Feb17\n",
    "Eu152    |1112.08    |9.85    |1036   |Eu152_1_1048_26Feb17\n",
    "Eu152    |1408.01    |15.04   |1036   |Eu152_1_1048_26Feb17\n",
    "\n",
    "This data, along with the initial activity and decay information, is also located in the excel file located here:"
   ]
  },
  {
   "cell_type": "code",
   "execution_count": 3,
   "metadata": {
    "collapsed": true
   },
   "outputs": [],
   "source": [
    "calibSourcesPath = 'CalibrationSources.xlsx'"
   ]
  },
  {
   "cell_type": "markdown",
   "metadata": {},
   "source": [
    "Import the source and activity data and format for later analysis:"
   ]
  },
  {
   "cell_type": "code",
   "execution_count": 4,
   "metadata": {
    "collapsed": false
   },
   "outputs": [
    {
     "name": "stdout",
     "output_type": "stream",
     "text": [
      "The calibration source data used: \n",
      "\n",
      "        initActivity  initActRelUncert   initDate     halfLife  measDate\n",
      "source                                                                  \n",
      "Am241         10.300           0.01165 1970-01-01  13644204000         0\n",
      "Eu152          1.062           0.01165 2009-01-01    426326180         0\n",
      "Co60           1.007           0.01165 2009-01-01    166344192         0\n",
      "Cs137          1.042           0.01165 2009-01-01    948723200         0\n",
      "Ba133          1.078           0.01165 2009-01-01    332778540         0\n"
     ]
    }
   ],
   "source": [
    "sources = pd.read_excel(calibSourcesPath, \"Sources\")\n",
    "sources.columns = ['source', 'initActivity', 'initActRelUncert', 'initDate', 'halfLife']\n",
    "sources.index = sources.source\n",
    "del sources['source']\n",
    "sources['initDate'] = pd.to_datetime(sources['initDate'])\n",
    "sources['measDate'] = 0     \n",
    "\n",
    "print \"The calibration source data used: \\n\\n\", sources"
   ]
  },
  {
   "cell_type": "markdown",
   "metadata": {},
   "source": [
    "Import the calibration line and branching ratio data:"
   ]
  },
  {
   "cell_type": "code",
   "execution_count": 5,
   "metadata": {
    "collapsed": false
   },
   "outputs": [
    {
     "name": "stdout",
     "output_type": "stream",
     "text": [
      "The calibration peak data used: \n",
      "\n",
      "      isotope       line  branchingRatio\n",
      "0   Cs137       661.6570        0.851000\n",
      "1   Co60       1173.2300        0.998500\n",
      "2   Co60       1332.4900        0.999826\n",
      "3   Ba133        80.9979        0.329000\n",
      "4   Ba133       276.4000        0.071600\n",
      "5   Ba133       302.8500        0.183400\n",
      "6   Ba133       356.0100        0.620500\n",
      "7   Eu152       121.7000        0.285300\n",
      "8   Eu152       244.7000        0.075500\n",
      "9   Eu152       344.2900        0.265900\n",
      "10  Eu152       778.9000        0.129300\n",
      "11  Eu152       964.0600        0.145100\n",
      "12  Eu152      1112.0800        0.136700\n",
      "13  Eu152      1408.0100        0.208700\n"
     ]
    }
   ],
   "source": [
    "lines = pd.read_excel(calibSourcesPath,\"Lines\")\n",
    "lines.columns=['isotope','line','branchingRatio']\n",
    "print \"The calibration peak data used: \\n\\n\", lines"
   ]
  },
  {
   "cell_type": "markdown",
   "metadata": {},
   "source": [
    "### Perform software energy calibration\n",
    "\n",
    "The energy calibration was performed using GammaVision.\n",
    "\n",
    "[insert calibration procedure here]"
   ]
  },
  {
   "cell_type": "markdown",
   "metadata": {},
   "source": [
    "### Read in the calibration data\n",
    "\n",
    "Read in all of the data taken for calibration.  \n",
    "\n",
    "This procedure assumes: <br/>\n",
    "1) That there is a folder with only calibration data in the format \"isotope_position_anything.Spe\".  For example, a valid naming convention is \"Co60_1_8Feb17.Spe\".  The first field is used to compare against the imported lines, and the second field is to build a location dependent calibration. <br/>\n",
    "2) Only calibration data lives in the calibration path specified.  <br/>\n",
    "3) That the calibration order listed above in the table was followed. <br/>\n",
    "\n",
    "The path the calibration data is:"
   ]
  },
  {
   "cell_type": "code",
   "execution_count": 8,
   "metadata": {
    "collapsed": false
   },
   "outputs": [
    {
     "name": "stdout",
     "output_type": "stream",
     "text": [
      "Processing: Cs137_1_1015_26Feb17.Spe\n",
      "Processing: Eu152_18_1002_26Feb17.Spe\n",
      "Processing: Am241_18_0808_26Feb17.Spe\n",
      "Processing: Co60_1_1020_26Feb17.Spe\n",
      "Processing: Am241_1_1025_26Feb17.Spe\n",
      "Processing: Co60_18_0759_26Feb17.Spe\n",
      "Processing: Cs137_18_0737_26Feb17.Spe\n",
      "Processing: Eu152_1_1048_26Feb17.Spe\n",
      "Processing: Ba133_1_1034_26Feb17.Spe\n",
      "Processing: Ba133_18_0921_26Feb17.Spe\n",
      "\n",
      "Position = 1 cm\n",
      "LiveTime: {'Cs137': 103.0, 'Co60': 144.0, 'Ba133': 309.0, 'Eu152': 690.0, 'Am241': 80.0}\n",
      "Energy Calibration: 3.28854e-08*ch^2 + 0.383693 * ch + 0.174637\n",
      "   Cs137  Co60  Am241  Eu152  Ba133\n",
      "0      0     0      0      0      0\n",
      "1      0     0      0      0      0\n",
      "2      0     0      0      0      0\n",
      "\n",
      "Position = 18 cm\n",
      "LiveTime: {'Am241': 233.0, 'Co60': 1000.0, 'Ba133': 1855.0, 'Cs137': 279.0, 'Eu152': 2150.0}\n",
      "Energy Calibration: 6.241566e-08*ch^2 + 0.3835831 * ch + 0.1460746\n",
      "   Eu152  Am241  Co60  Cs137  Ba133\n",
      "0      0      0     0      0      0\n",
      "1      0      0     0      0      0\n",
      "2      0      0     0      0      0\n"
     ]
    }
   ],
   "source": [
    "calibDataPath = '/home/pyne-user/Dropbox/UCB/Research/ETAs/88Inch/Data/Experiments/Activation/33MeVTa/ETA/CalibrationData/'\n",
    "\n",
    "# Variables to allow for multiple positions to be handled at once\n",
    "posSet = False\n",
    "posUsed = []\n",
    "\n",
    "# Storage for parameters that vary by position\n",
    "liveTime = {}\n",
    "eCalibParams = {} #ax^2 +bx + c stored as (a,b,c)\n",
    "data = {}\n",
    "\n",
    "# Loop over all files\n",
    "for filename in os.listdir(calibDataPath):\n",
    "    if filename.endswith(\".Spe\"): \n",
    "        name = os.path.splitext(filename)[0]\n",
    "        \n",
    "        # Read data from this file\n",
    "        print \"Processing:\", filename\n",
    "        (time, lt, measDate, a, b, c, tmpData) = parse_spe(calibDataPath+filename)\n",
    "        \n",
    "        # Determine position, update data structures if necessary, and store data\n",
    "        position = int(name.split('_')[1])\n",
    "        if position not in posUsed:\n",
    "            posUsed.append(position)\n",
    "            liveTime[position] = {}\n",
    "            data[position] = tmpData\n",
    "            data[position].columns = [name.split('_')[0]]\n",
    "        else: \n",
    "            data[position].loc[:,name.split('_')[0]] = tmpData['counts']\n",
    "        sources.at[name.split('_')[0], 'measDate'] = measDate\n",
    "        liveTime[position][name.split('_')[0]] = time\n",
    "        if name.split('_')[0] == \"Eu152\":\n",
    "            eCalibParams[position] = (a, b, c)\n",
    "                \n",
    "for p in posUsed:\n",
    "    print \"\\nPosition = {} cm\".format(p)\n",
    "    print \"LiveTime:\", liveTime[p]\n",
    "    print \"Energy Calibration: {}*ch^2 + {} * ch + {}\".format(eCalibParams[p][0],eCalibParams[p][1],eCalibParams[p][2])\n",
    "    print data[p].head(3)"
   ]
  },
  {
   "cell_type": "markdown",
   "metadata": {},
   "source": [
    "### Calculate the peak counts\n",
    "\n",
    "Determine the peak area for each of the lines considered.  Save the data in the lines dataframe. \n",
    "\n",
    "This procedure assumes: <br/>\n",
    "1) That no significant background is present.  No background subtraction is performed. <br/>\n",
    "2) A linear interpolation of the continuum is sufficient.  <br/>\n",
    "\n",
    "There is an alternate, more sophisticated procedure immediately following this set of code.  This portion of code is redunant, but kept for now. If this peak fitting method is preferred, then change the cell to code and do not run the next peak fitting routine.   "
   ]
  },
  {
   "cell_type": "markdown",
   "metadata": {
    "collapsed": false
   },
   "source": [
    "# Create a dictionary of data frames to store each of the positional information\n",
    "peakData = {}\n",
    "\n",
    "for p in posUsed:\n",
    "    print \"\\n------------------------\"\n",
    "    print \"Position = {} cm\".format(p)\n",
    "    print \"------------------------\"\n",
    "    # Update dataframe to store calculated peak information\n",
    "    lines['measuredCounts'] = 0     \n",
    "    lines['measUncert'] = 0\n",
    "    for column in data[p]:\n",
    "        \n",
    "        # Find the peaks \n",
    "        channels = np.asarray(data[p].index)\n",
    "        energy = eCalibParams[p][2]+eCalibParams[p][1]*channels+eCalibParams[p][0]*channels**2\n",
    "        counts = np.asarray(data[p][column]).astype(float)\n",
    "        peaks = peakutils.indexes(counts, thres=0.01, min_dist=10)\n",
    "        \n",
    "        # Loop over all identified peaks to compare against calibration points loaded previously\n",
    "        print \"\\n\", data[p][column].name, \"\\nEnergy  Counts     Area\"      \n",
    "        for i in range(len(lines['line'])):\n",
    "            for e, c, pk in zip(energy[peaks], counts[peaks], peaks):\n",
    "                # Calculate the total peak counts if a calibration peak\n",
    "                if abs(e-lines['line'][i]) < 1 and data[p][column].name.strip() == lines['isotope'][i].strip():\n",
    "                    (lines.at[i, 'measuredCounts'], lines.at[i, 'measUncert']) = simple_peak_counts(channels, counts, pk)\n",
    "                    print \"{:.2f}   {:.0f}   {:.2f}\".format(e, c, lines.at[i, 'measuredCounts'])\n",
    "            lines.at[i, 'isotope'] = lines.at[i, 'isotope'].strip()\n",
    "        print \"\\n\"\n",
    "        \n",
    "        # Plot the peaks found\n",
    "        fig = pyplot.figure(figsize=(5,3))\n",
    "        ax1 = fig.add_axes([0.1, 0.1, 0.8, 0.85])\n",
    "        ax1.set_yscale('log')\n",
    "        pplot(energy, counts, peaks)\n",
    "        pyplot.title('Peaks @ {} cm for {}'.format(p,data[p][column].name))        \n",
    "        pyplot.show()\n",
    "        \n",
    "    print lines\n",
    "    peakData[p] = cp.deepcopy(lines)"
   ]
  },
  {
   "cell_type": "markdown",
   "metadata": {},
   "source": [
    "### Calculate the peak counts\n",
    "\n",
    "Determine the peak area for each of the lines considered.  Save the data in the lines dataframe. \n",
    "\n",
    "This procedure assumes: <br/>\n",
    "1) That no significant background is present.  No background subtraction is performed. <br/>  "
   ]
  },
  {
   "cell_type": "code",
   "execution_count": 9,
   "metadata": {
    "collapsed": false
   },
   "outputs": [
    {
     "name": "stdout",
     "output_type": "stream",
     "text": [
      "\n",
      "------------------------\n",
      "Position = 1 cm\n",
      "------------------------\n",
      "\n",
      "Cs137 \n",
      "Energy  Peak Area\n",
      "661.76   111265   333\n",
      "\n",
      "\n"
     ]
    },
    {
     "name": "stderr",
     "output_type": "stream",
     "text": [
      "/home/pyne-user/Dropbox/UCB/Computational_Tools/Scripts/Python/DataAnalysis/Math.py:104: RuntimeWarning: overflow encountered in exp\n",
      "  return amplitude*(np.exp(rng*z))/(1+np.exp(z))**4\n",
      "/home/pyne-user/Dropbox/UCB/Computational_Tools/Scripts/Python/DataAnalysis/Math.py:104: RuntimeWarning: overflow encountered in multiply\n",
      "  return amplitude*(np.exp(rng*z))/(1+np.exp(z))**4\n"
     ]
    },
    {
     "data": {
      "image/png": "[encoded data removed]",
      "text/plain": [
       "<matplotlib.figure.Figure at 0x2b75a4331d50>"
      ]
     },
     "metadata": {},
     "output_type": "display_data"
    },
    {
     "name": "stdout",
     "output_type": "stream",
     "text": [
      "\n",
      "Co60 \n",
      "Energy  Peak Area\n",
      "1173.05   41610   203\n",
      "1332.37   37206   192\n",
      "\n",
      "\n"
     ]
    },
    {
     "data": {
      "image/png": "[encoded data removed]",
      "text/plain": [
       "<matplotlib.figure.Figure at 0x2b75a43b1250>"
      ]
     },
     "metadata": {},
     "output_type": "display_data"
    },
    {
     "name": "stdout",
     "output_type": "stream",
     "text": [
      "\n",
      "Am241 \n",
      "Energy  Peak Area\n",
      "\n",
      "\n"
     ]
    },
    {
     "data": {
      "image/png": "[encoded data removed]",
      "text/plain": [
       "<matplotlib.figure.Figure at 0x2b75a4714d10>"
      ]
     },
     "metadata": {},
     "output_type": "display_data"
    },
    {
     "name": "stdout",
     "output_type": "stream",
     "text": [
      "\n",
      "Eu152 \n",
      "Energy  Peak Area\n",
      "121.81   538366   733\n",
      "244.60   75632   275\n",
      "344.37   276403   525\n",
      "778.82   62580   250\n",
      "963.84   48237   219\n",
      "1112.01   41007   202\n",
      "1408.00   50990   225\n",
      "\n",
      "\n"
     ]
    },
    {
     "data": {
      "image/png": "[encoded data removed]",
      "text/plain": [
       "<matplotlib.figure.Figure at 0x2b75a48705d0>"
      ]
     },
     "metadata": {},
     "output_type": "display_data"
    },
    {
     "name": "stdout",
     "output_type": "stream",
     "text": [
      "\n",
      "Ba133 \n",
      "Energy  Peak Area\n",
      "81.14   292779   541\n",
      "276.45   27183   164\n",
      "302.93   80619   283\n",
      "355.89   211441   459\n",
      "\n",
      "\n"
     ]
    },
    {
     "data": {
      "image/png": "[encoded data removed]",
      "text/plain": [
       "<matplotlib.figure.Figure at 0x2b75a4a45990>"
      ]
     },
     "metadata": {},
     "output_type": "display_data"
    },
    {
     "name": "stdout",
     "output_type": "stream",
     "text": [
      "   isotope       line  branchingRatio  measuredCounts  measUncert\n",
      "0    Cs137   661.6570        0.851000          111265         333\n",
      "1     Co60  1173.2300        0.998500           41610         203\n",
      "2     Co60  1332.4900        0.999826           37206         192\n",
      "3    Ba133    80.9979        0.329000          292779         541\n",
      "4    Ba133   276.4000        0.071600           27183         164\n",
      "5    Ba133   302.8500        0.183400           80619         283\n",
      "6    Ba133   356.0100        0.620500          211441         459\n",
      "7    Eu152   121.7000        0.285300          538366         733\n",
      "8    Eu152   244.7000        0.075500           75632         275\n",
      "9    Eu152   344.2900        0.265900          276403         525\n",
      "10   Eu152   778.9000        0.129300           62580         250\n",
      "11   Eu152   964.0600        0.145100           48237         219\n",
      "12   Eu152  1112.0800        0.136700           41007         202\n",
      "13   Eu152  1408.0100        0.208700           50990         225\n",
      "\n",
      "------------------------\n",
      "Position = 18 cm\n",
      "------------------------\n",
      "\n",
      "Eu152 \n",
      "Energy  Peak Area\n",
      "121.75   86447   294\n",
      "244.90   16432   128\n",
      "344.27   41214   203\n",
      "779.08   10371   101\n",
      "964.10   9916   99\n",
      "1111.91   8406   91\n",
      "1407.97   10488   102\n",
      "\n",
      "\n"
     ]
    },
    {
     "data": {
      "image/png": "[encoded data removed]",
      "text/plain": [
       "<matplotlib.figure.Figure at 0x2b75a4ac7590>"
      ]
     },
     "metadata": {},
     "output_type": "display_data"
    },
    {
     "name": "stdout",
     "output_type": "stream",
     "text": [
      "\n",
      "Am241 \n",
      "Energy  Peak Area\n",
      "\n",
      "\n"
     ]
    },
    {
     "data": {
      "image/png": "[encoded data removed]",
      "text/plain": [
       "<matplotlib.figure.Figure at 0x2b75a48708d0>"
      ]
     },
     "metadata": {},
     "output_type": "display_data"
    },
    {
     "name": "stdout",
     "output_type": "stream",
     "text": [
      "\n",
      "Co60 \n",
      "Energy  Peak Area\n",
      "1173.34   14034   118\n",
      "1332.31   12880   113\n",
      "\n",
      "\n"
     ]
    },
    {
     "data": {
      "image/png": "[encoded data removed]",
      "text/plain": [
       "<matplotlib.figure.Figure at 0x2b75a4b50fd0>"
      ]
     },
     "metadata": {},
     "output_type": "display_data"
    },
    {
     "name": "stdout",
     "output_type": "stream",
     "text": [
      "\n",
      "Cs137 \n",
      "Energy  Peak Area\n",
      "661.63   12764   112\n",
      "\n",
      "\n"
     ]
    },
    {
     "data": {
      "image/png": "[encoded data removed]",
      "text/plain": [
       "<matplotlib.figure.Figure at 0x2b75a4737c90>"
      ]
     },
     "metadata": {},
     "output_type": "display_data"
    },
    {
     "name": "stdout",
     "output_type": "stream",
     "text": [
      "\n",
      "Ba133 \n",
      "Energy  Peak Area\n",
      "81.08   87810   296\n",
      "276.36   17924   133\n",
      "302.83   24912   157\n",
      "356.16   73394   270\n",
      "\n",
      "\n"
     ]
    },
    {
     "data": {
      "image/png": "[encoded data removed]",
      "text/plain": [
       "<matplotlib.figure.Figure at 0x2b75a4995b10>"
      ]
     },
     "metadata": {},
     "output_type": "display_data"
    },
    {
     "name": "stdout",
     "output_type": "stream",
     "text": [
      "   isotope       line  branchingRatio  measuredCounts  measUncert\n",
      "0    Cs137   661.6570        0.851000           12764         112\n",
      "1     Co60  1173.2300        0.998500           14034         118\n",
      "2     Co60  1332.4900        0.999826           12880         113\n",
      "3    Ba133    80.9979        0.329000           87810         296\n",
      "4    Ba133   276.4000        0.071600           17924         133\n",
      "5    Ba133   302.8500        0.183400           24912         157\n",
      "6    Ba133   356.0100        0.620500           73394         270\n",
      "7    Eu152   121.7000        0.285300           86447         294\n",
      "8    Eu152   244.7000        0.075500           16432         128\n",
      "9    Eu152   344.2900        0.265900           41214         203\n",
      "10   Eu152   778.9000        0.129300           10371         101\n",
      "11   Eu152   964.0600        0.145100            9916          99\n",
      "12   Eu152  1112.0800        0.136700            8406          91\n",
      "13   Eu152  1408.0100        0.208700           10488         102\n"
     ]
    }
   ],
   "source": [
    "# Create a dictionary of data frames to store each of the positional information\n",
    "peakData = {}\n",
    "\n",
    "for p in posUsed:\n",
    "    print \"\\n------------------------\"\n",
    "    print \"Position = {} cm\".format(p)\n",
    "    print \"------------------------\"\n",
    "    \n",
    "    # Update dataframe to store calculated peak information\n",
    "    lines['measuredCounts'] = 0     \n",
    "    lines['measUncert'] = 0\n",
    "    \n",
    "    for column in data[p]:    \n",
    "        # Find the peaks and set the windows\n",
    "        channels = np.asarray(data[p].index)\n",
    "        counts = np.asarray(data[p][column]).astype(float)\n",
    "        energy = eCalibParams[p][2]+eCalibParams[p][1]*channels+eCalibParams[p][0]*channels**2\n",
    "        peaks = peakutils.indexes(counts, thres=0.015, min_dist=10)\n",
    "        windows = get_peak_windows(peaks)\n",
    "        \n",
    "        # Loop over all identified peaks to compare against calibration points loaded previously\n",
    "        print \"\\n\", data[p][column].name, \"\\nEnergy  Peak Area\"      \n",
    "        for i in range(len(lines['line'])):\n",
    "            for e, pk in zip(energy[peaks], peaks):\n",
    "                # Calculate the total peak counts if a calibration peak\n",
    "                if abs(e-lines['line'][i]) < 0.5 and data[p][column].name.strip() == lines['isotope'][i].strip():\n",
    "                    pkChannels = channels[windows[pk][0]:windows[pk][1]]\n",
    "                    pkCounts = counts[windows[pk][0]:windows[pk][1]]\n",
    "                    (lines.at[i, 'measuredCounts'], lines.at[i, 'measUncert'], redChiSq) = ge_peakfit(pkChannels, \n",
    "                                                                                                      pkCounts)\n",
    "                    \n",
    "                    print \"{:.2f}   {:.0f}   {:.0f}\".format(e, lines.at[i, 'measuredCounts'], lines.at[i, 'measUncert'])\n",
    "            lines.at[i, 'isotope'] = lines.at[i, 'isotope'].strip()\n",
    "        print \"\\n\"\n",
    "        \n",
    "        # Plot the peaks found\n",
    "        fig = pyplot.figure(figsize=(5,3))\n",
    "        ax1 = fig.add_axes([0.1, 0.1, 0.8, 0.85])\n",
    "        ax1.set_yscale('log')\n",
    "        pplot(energy, counts, peaks)\n",
    "        pyplot.title('Peaks @ {} cm for {}'.format(p,data[p][column].name))        \n",
    "        pyplot.show()\n",
    "        \n",
    "    print lines\n",
    "    peakData[p] = cp.deepcopy(lines)"
   ]
  },
  {
   "cell_type": "code",
   "execution_count": 8,
   "metadata": {
    "collapsed": false
   },
   "outputs": [
    {
     "name": "stdout",
     "output_type": "stream",
     "text": [
      "[ 104  118  184  195  221  234  248  261  273  317  638  897 1071 1157 2030\n",
      " 2512 2829 2897 3668]\n",
      "244.90   16432.95   128.19\n"
     ]
    }
   ],
   "source": [
    "####TMP#### - Can remove once satisfied that peak fitting is working correctly\n",
    "# Find the peaks \n",
    "channels = np.asarray(data[18].index)\n",
    "energy = eCalibParams[18][2]+eCalibParams[18][1]*channels+eCalibParams[18][0]*channels**2\n",
    "counts = np.asarray(data[18]['Eu152']).astype(float)\n",
    "peaks = peakutils.indexes(counts, thres=0.015, min_dist=10)\n",
    "print peaks\n",
    "\n",
    "window = get_peak_windows(peaks)\n",
    "#peaks = [210, 720, 927] # Ba133\n",
    "#peaks = [317, 637, 896, 2028, 2510, 2897, 3666] #Eu152@1\n",
    "#peaks = [317, 637, 897, 2028, 2510, 2897, 3666] #Eu152@10\n",
    "peaks = [317, 638, 897, 2029, 2511, 2897, 3668] #Eu152@18\n",
    "peaks = [638] #Eu152@18\n",
    "#peaks = [3055, 3469]\n",
    "\n",
    "# Loop over all identified peaks to compare against calibration points loaded previously\n",
    "for pk in peaks:\n",
    "    pkChannels = channels[window[pk][0]:window[pk][1]]\n",
    "    pkCounts = counts[window[pk][0]:window[pk][1]]\n",
    "    (peakCounts, peakStd, redChiSq) = ge_peakfit(pkChannels, pkCounts)\n",
    "    \n",
    "    print \"{:.2f}   {:.2f}   {:.2f}\".format(energy[pk], peakCounts, peakStd)"
   ]
  },
  {
   "cell_type": "code",
   "execution_count": 9,
   "metadata": {
    "collapsed": true
   },
   "outputs": [],
   "source": [
    "## Propogation of fitting error?\n",
    "import sys\n",
    "import os\n",
    "sys.path.insert(0,os.path.abspath('/home/pyne-user/Dropbox/UCB/Computational_Tools/Scripts/Python/DataAnalysis'))\n",
    "from Math import gaussScalar\n",
    "#from sympy import symbols, diff\n",
    "import theano\n",
    "#x, a, b, c = symbols('x a b c')\n",
    "#print diff(gaussScalar(x, a, b, c), x)"
   ]
  },
  {
   "cell_type": "markdown",
   "metadata": {},
   "source": [
    "### Calculate the current activity\n",
    "\n",
    "Using the data read in from the .spe files, calculate the current activity at the time of the measurement.  \n",
    "\n",
    "NOTE:  There is a mix in the activity units.  The initActivity is in $\\mu$Ci as reported on the source, whereas the curActivity in is Bq."
   ]
  },
  {
   "cell_type": "code",
   "execution_count": 10,
   "metadata": {
    "collapsed": false
   },
   "outputs": [
    {
     "name": "stdout",
     "output_type": "stream",
     "text": [
      "        initActivity  initActRelUncert   initDate     halfLife  \\\n",
      "source                                                           \n",
      "Am241         10.300           0.01165 1970-01-01  13644204000   \n",
      "Eu152          1.062           0.01165 2009-01-01    426326180   \n",
      "Co60           1.007           0.01165 2009-01-01    166344192   \n",
      "Cs137          1.042           0.01165 2009-01-01    948723200   \n",
      "Ba133          1.078           0.01165 2009-01-01    332778540   \n",
      "\n",
      "                   measDate  curActivity  \n",
      "source                                    \n",
      "Am241   2017-02-26 10:24:01       353351  \n",
      "Eu152   2017-02-26 10:36:42        25859  \n",
      "Co60    2017-02-26 07:43:05        12751  \n",
      "Cs137   2017-02-26 08:11:11        31946  \n",
      "Ba133   2017-02-26 08:50:46        23336  \n"
     ]
    }
   ],
   "source": [
    "sources['curActivity'] = 0\n",
    "for src in sources.index:\n",
    "    sources.at[src, 'curActivity'] = decay(sources.at[src, 'halfLife'],sources.at[src, 'initActivity'], \\\n",
    "                                        (sources.at[src, 'measDate']-sources.at[src, 'initDate']).total_seconds())\n",
    "print sources   "
   ]
  },
  {
   "cell_type": "markdown",
   "metadata": {
    "collapsed": false
   },
   "source": [
    "### Calculate absolute effficiency\n",
    "\n",
    "Determine an absolute efficiency curve for each position by curve fitting the experimental data. The germanium_eff_exp function has support for propogation of error, but the germanium_eff, or germanium_eff_poly are also available.  \n",
    "\n",
    "NOTE: The choice of which functions to onsider can be set with the functions list.\n",
    "\n",
    "NOTE: The uncertainty only currently captures the uncertainity in the counts and initial activity.  The uncertaities in BR, half lives, and measurement time are sufficiently small that they can be ignored, but there is uncertainty associated with the fit of the peak that is not captured if germanium_eff_exp is not used.  "
   ]
  },
  {
   "cell_type": "code",
   "execution_count": 11,
   "metadata": {
    "collapsed": false
   },
   "outputs": [
    {
     "name": "stdout",
     "output_type": "stream",
     "text": [
      "The fitting function was: germanium_eff\n",
      "The curve fitting parameters at 1 cm are: [ 0.04356451  0.02296546  0.30499667 -0.0114908 ]\n",
      "  with standard deviations at 1 cm of: [ 0.00202197  0.0014079   0.02443579  0.00199151]\n",
      "\n",
      "   isotope       line  expectedCounts  absEfficiency  effUncert\n",
      "0    Cs137   661.6570    2.800163e+06       0.039735   0.000463\n",
      "1     Co60  1173.2300    1.833390e+06       0.022696   0.000264\n",
      "2     Co60  1332.4900    1.835825e+06       0.020267   0.000236\n",
      "3    Ba133    80.9979    2.372361e+06       0.123412   0.001438\n",
      "4    Ba133   276.4000    5.162950e+05       0.052650   0.000613\n",
      "5    Ba133   302.8500    1.322465e+06       0.060961   0.000710\n",
      "6    Ba133   356.0100    4.474316e+06       0.047257   0.000551\n",
      "7    Eu152   121.7000    5.090525e+06       0.105758   0.001232\n",
      "8    Eu152   244.7000    1.347125e+06       0.056143   0.000654\n",
      "9    Eu152   344.2900    4.744377e+06       0.058259   0.000679\n",
      "10   Eu152   778.9000    2.307062e+06       0.027125   0.000316\n",
      "11   Eu152   964.0600    2.588977e+06       0.018632   0.000217\n",
      "12   Eu152  1112.0800    2.439098e+06       0.016812   0.000196\n",
      "13   Eu152  1408.0100    3.723774e+06       0.013693   0.000160\n"
     ]
    },
    {
     "name": "stderr",
     "output_type": "stream",
     "text": [
      "/usr/local/lib/python2.7/dist-packages/scipy/optimize/minpack.py:715: OptimizeWarning: Covariance of the parameters could not be estimated\n",
      "  category=OptimizeWarning)\n"
     ]
    },
    {
     "data": {
      "image/png": "[encoded data removed]",
      "text/plain": [
       "<matplotlib.figure.Figure at 0x2b75a487a910>"
      ]
     },
     "metadata": {},
     "output_type": "display_data"
    },
    {
     "name": "stdout",
     "output_type": "stream",
     "text": [
      "The fitting function was: germanium_eff\n",
      "The curve fitting parameters at 18 cm are: [ 0.00467034  0.00281167  0.04316261  0.00174116]\n",
      "  with standard deviations at 18 cm of: [  1.20152119e-04   8.33504272e-05   1.44201420e-03   1.13496101e-04]\n",
      "\n",
      "   isotope       line  expectedCounts  absEfficiency  effUncert\n",
      "0    Cs137   661.6570    7.584907e+06       0.001683   0.000020\n",
      "1     Co60  1173.2300    1.273187e+07       0.001102   0.000013\n",
      "2     Co60  1332.4900    1.274878e+07       0.001010   0.000012\n",
      "3    Ba133    80.9979    1.424184e+07       0.006166   0.000072\n",
      "4    Ba133   276.4000    3.099441e+06       0.005783   0.000067\n",
      "5    Ba133   302.8500    7.939071e+06       0.003138   0.000037\n",
      "6    Ba133   356.0100    2.686038e+07       0.002732   0.000032\n",
      "7    Eu152   121.7000    1.586178e+07       0.005450   0.000063\n",
      "8    Eu152   244.7000    4.197562e+06       0.003915   0.000046\n",
      "9    Eu152   344.2900    1.478320e+07       0.002788   0.000032\n",
      "10   Eu152   778.9000    7.188673e+06       0.001443   0.000017\n",
      "11   Eu152   964.0600    8.067103e+06       0.001229   0.000014\n",
      "12   Eu152  1112.0800    7.600089e+06       0.001106   0.000013\n",
      "13   Eu152  1408.0100    1.160306e+07       0.000904   0.000011\n"
     ]
    },
    {
     "data": {
      "image/png": "[encoded data removed]",
      "text/plain": [
       "<matplotlib.figure.Figure at 0x2b75a4ec42d0>"
      ]
     },
     "metadata": {},
     "output_type": "display_data"
    }
   ],
   "source": [
    "from Counting import germanium_eff\n",
    "functions=[germanium_eff, germanium_eff_exp]#, germanium_eff_poly]\n",
    "absEffParams = {}\n",
    "absEffCov = {}\n",
    "fitFunc = {} \n",
    "\n",
    "for p in posUsed:\n",
    "    peakData[p]['expectedCounts'] = 0.0\n",
    "    peakData[p]['absEfficiency'] = 0.0\n",
    "    peakData[p]['effUncert'] = 0.0\n",
    "    \n",
    "    # Calculate the absolute efficiency and uncertainty\n",
    "    for index, row in peakData[p].iterrows():\n",
    "        peakData[p].at[index, 'expectedCounts'] = sources.at[peakData[p].at[index, 'isotope'], 'curActivity'] \\\n",
    "                                               * peakData[p].at[index, 'branchingRatio'] \\\n",
    "                                               * liveTime[p][peakData[p].at[index, 'isotope']]\n",
    "        peakData[p].at[index, 'absEfficiency'] = float(peakData[p].at[index, 'measuredCounts']) \\\n",
    "                                               / float(peakData[p].at[index, 'expectedCounts'])\n",
    "        peakData[p].at[index, 'effUncert'] = peakData[p].at[index, 'absEfficiency'] * \\\n",
    "                                           sqrt((peakData[p].at[index, 'measUncert'] \\\n",
    "                                           / peakData[p].at[index, 'measuredCounts'])**2 \\\n",
    "                                               + sources.at[peakData[p].at[index, 'isotope'], 'initActRelUncert']**2)\n",
    "    \n",
    "    # Fit the data for the current position by finding best fitting routine\n",
    "    (fitFunc[p], absEffParams[p], absEffCov[p], redChiSq) = find_best_fit(*functions,\n",
    "                                                     xdata=peakData[p]['line'], ydata=peakData[p]['absEfficiency'],\n",
    "                                                     sigma=peakData[p]['effUncert'], absolute_sigma=True)\n",
    "    \n",
    "    # Output the results\n",
    "    try:\n",
    "        print 'The fitting function was: {}'.format(fitFunc[p].__name__)\n",
    "        print 'The curve fitting parameters at {} cm are: {}'.format(p, absEffParams[p])\n",
    "        print '  with standard deviations at {} cm of: {}\\n'.format(p, np.sqrt(np.diag(absEffCov[p])))\n",
    "        print peakData[p][['isotope', 'line', 'expectedCounts', 'absEfficiency', 'effUncert']]\n",
    "\n",
    "        #Plot the Data\n",
    "        pyplot.axis([0, 1500, 0, 1.25*max(peakData[p]['absEfficiency'])])\n",
    "        pyplot.errorbar(peakData[p]['line'], peakData[p]['absEfficiency'], peakData[p]['effUncert'], fmt='.')\n",
    "        pyplot.title('Position: {} cm, $\\chi^2/DOF={}$'.format(p, redChiSq))\n",
    "\n",
    "        #Plot the fit\n",
    "        xList = np.arange(min(peakData[p]['line']), 1.25*max(peakData[p]['line']), 1)\n",
    "        yList = map(lambda y: fitFunc[p](y, *absEffParams[p]), xList)\n",
    "        pyplot.plot(xList, yList)\n",
    "        pyplot.show()\n",
    "\n",
    "        #Plot the error\n",
    "        if fitFunc[p] == germanium_eff_exp:\n",
    "            pyplot.title('Efficiency 1$\\sigma$: {} cm'.format(p))\n",
    "            xList = np.arange(min(peakData[1]['line']), 1.25*max(peakData[1]['line']), 1)\n",
    "            yList = map(lambda y: curve_fit_error4(fitFunc[p], np.insert(absEffParams[p], 0, y), y*0.001, \n",
    "                                                   absEffCov[p]), xList)\n",
    "            pyplot.plot(xList, yList)\n",
    "            pyplot.show()\n",
    "    except AttributeError:\n",
    "        print 'No fit was found'\n",
    "        print peakData[p][['isotope', 'line', 'expectedCounts', 'absEfficiency', 'effUncert']]\n",
    "        \n",
    "        #Plot the Data\n",
    "        pyplot.axis([0, 1500, 0, 1.25*max(peakData[p]['absEfficiency'])])\n",
    "        pyplot.errorbar(peakData[p]['line'], peakData[p]['absEfficiency'], peakData[p]['effUncert'], fmt='.')\n",
    "        pyplot.title('Position: {} cm, $\\chi^2/DOF={}$'.format(p, redChiSq))\n",
    "        pyplot.show()"
   ]
  },
  {
   "cell_type": "markdown",
   "metadata": {},
   "source": [
    "## Count Plan\n",
    "\n",
    "Develop a count plan based on the planned irradiation. This assumes that you have a priori abs effeciency calibration parameters for the position of interest. \n",
    "\n",
    "### Experimental parameters\n",
    "\n",
    "Specifies experimental parameters for the beam and counting facility used.\n",
    "\n",
    "runTime = the beam irradiation time in s\n",
    "\n",
    "transitTime = the minimum time to counting of the first foil in s\n",
    "\n",
    "background = the background rate at the peak of interest in counts/s\n",
    "\n",
    "detR = radius of the detector in cm"
   ]
  },
  {
   "cell_type": "code",
   "execution_count": 12,
   "metadata": {
    "collapsed": false
   },
   "outputs": [],
   "source": [
    "runTime = 3600*24\n",
    "transitTime = 360\n",
    "\n",
    "background = 0.001\n",
    "detR = 3.245"
   ]
  },
  {
   "cell_type": "markdown",
   "metadata": {},
   "source": [
    "### Read in Simulation data\n",
    "\n",
    "#### Activation Foils\n",
    "Read from the designated file path.  Manipulate the file to build a dataframe with the information needed for the count plan.  "
   ]
  },
  {
   "cell_type": "code",
   "execution_count": 13,
   "metadata": {
    "collapsed": false
   },
   "outputs": [
    {
     "name": "stdout",
     "output_type": "stream",
     "text": [
      "            foil product  gammaEnergy      br  relStat  det2FoilDist  foilR  \\\n",
      "Rx                                                                            \n",
      "90Zr(n,2n)    Zr    Zr89      909.150  0.9904    0.010             1    2.5   \n",
      "58Ni(n,2n)    Ni    Ni57     1377.630  0.8170    0.015             1    2.5   \n",
      "58Ni(n,p)     Ni    Co58      810.760  0.9945    0.010             1    2.5   \n",
      "115In(n,n')   In  In115M      336.241  0.4580    0.010             1    2.5   \n",
      "115In(n,g)    In  In116M     1293.560  0.8480    0.010             1    2.5   \n",
      "197Au(n,2n)   Au   Au196      355.700  0.8090    0.010             1    2.5   \n",
      "197Au(n,g)    Au   Au198      411.800  0.9562    0.010             1    2.5   \n",
      "27Al(n,p)     Al    Mg27      843.760  0.7180    0.015             1    2.5   \n",
      "27Al(n,a)     Al    Na24     1368.630  0.9999    0.010             1    2.5   \n",
      "\n",
      "             weightFrac    halfLife  initActivity  activityUncert  \n",
      "Rx                                                                 \n",
      "90Zr(n,2n)     0.514500   282276.00    169.653150        0.882196  \n",
      "58Ni(n,2n)     0.680769   128160.00     44.844353        0.255613  \n",
      "58Ni(n,p)      0.680769  6122304.00     49.813501        0.129515  \n",
      "115In(n,n')    0.957100    16200.00   1008.230189        2.117283  \n",
      "115In(n,g)     0.957100     3247.20   1534.105516        2.914800  \n",
      "197Au(n,2n)    1.000000   533088.00     65.524532        0.255546  \n",
      "197Au(n,g)     1.000000   232848.00     49.700367        0.094431  \n",
      "27Al(n,p)      1.000000      567.48    270.971038        0.812913  \n",
      "27Al(n,a)      1.000000    54000.00    353.022994        1.235580  \n"
     ]
    }
   ],
   "source": [
    "simFoils = pd.read_excel(simFoilPath)\n",
    "\n",
    "# Delete unneccesary columns for readability and make the index the reactant\n",
    "simFoils.index = simFoils.Rx\n",
    "del simFoils['Rx']\n",
    "del simFoils['Thickness [cm]']\n",
    "del simFoils['Density']\n",
    "del simFoils['AW']\n",
    "del simFoils['Lambda [s^-1]']\n",
    "\n",
    "# Rename columns for ease of access and add in the statistics column\n",
    "simFoils.columns = ['foil', 'product', 'gammaEnergy', 'br', 'relStat', 'det2FoilDist', 'normalization', 'rxRate',\n",
    "                         'rxRateSigma', 'foilR','weightFrac', 'volume', 'halfLife']\n",
    "\n",
    "# Put branching ratios in fractional form\n",
    "simFoils['br'] = simFoils['br']/100.\n",
    "\n",
    "# Calculate the activity following transit time decay for each rx; delete columns no longer needed\n",
    "simFoils['initActivity'] = 0.0\n",
    "simFoils['activityUncert'] = 0.0\n",
    "for ind in simFoils.index:\n",
    "    simFoils.at[ind,'initActivity'] = production_decay(simFoils.at[ind, 'halfLife'], 0, runTime, \\\n",
    "                                                    simFoils.at[ind, 'rxRate'], \\\n",
    "                                                    simFoils.at[ind, 'normalization'], \\\n",
    "                                                    simFoils.at[ind, 'volume'], transitTime)\\\n",
    "                                                    *get_decay_const(simFoils.at[ind,'halfLife'])\\\n",
    "                                                    *simFoils.at[ind,'br']\n",
    "    simFoils.at[ind,'activityUncert'] = simFoils.at[ind, 'initActivity']*simFoils.at[ind, 'rxRateSigma']\n",
    "del simFoils['rxRate']\n",
    "del simFoils['normalization']\n",
    "del simFoils['volume']\n",
    "del simFoils['rxRateSigma']\n",
    "\n",
    "print simFoils"
   ]
  },
  {
   "cell_type": "code",
   "execution_count": 15,
   "metadata": {
    "collapsed": false
   },
   "outputs": [
    {
     "name": "stdout",
     "output_type": "stream",
     "text": [
      "Total count time = 5.666667e+00 hrs\n",
      "\n",
      "The order of counting is: (u'Al', u'In', u'Au', u'Zr', u'Ni')\n",
      "\n",
      "27Al(n,p)         36 min\n",
      "27Al(n,a)         36 min\n",
      "115In(n,n')       14 min\n",
      "115In(n,g)        14 min\n",
      "197Au(n,2n)       89 min\n",
      "197Au(n,g)        89 min\n",
      "90Zr(n,2n)        50 min\n",
      "58Ni(n,2n)       151 min\n",
      "58Ni(n,p)        151 min\n"
     ]
    },
    {
     "name": "stderr",
     "output_type": "stream",
     "text": [
      "/home/pyne-user/Dropbox/UCB/Computational_Tools/Scripts/Python/GeneralNuclear/Counting.py:630: RuntimeWarning: divide by zero encountered in double_scalars\n",
      "  tf = ((sqrt(s+background)+sqrt(background))**2/(sigma**2*s**2)) \\\n",
      "/home/pyne-user/Dropbox/UCB/Computational_Tools/Scripts/Python/GeneralNuclear/Counting.py:632: RuntimeWarning: invalid value encountered in double_scalars\n",
      "  diff = tf-prevt\n"
     ]
    }
   ],
   "source": [
    "(simFoils,countOrder,countTime) = optimal_count_plan(simFoils, handleTime=75, detR=detR, background=background, \n",
    "                                                    units='Bq', toMinute = True, \n",
    "                                                    funcDict=fitFunc, funcParamDict=absEffParams )\n",
    "print 'Total count time = {:2e} hrs\\n'.format(countTime/3600)\n",
    "print 'The order of counting is: {}\\n'.format(countOrder)\n",
    "for ind in simFoils.index:\n",
    "    print \"{:15s} {:4.0f} min\".format(ind, simFoils.at[ind,\"countTime\"]/60)"
   ]
  },
  {
   "cell_type": "markdown",
   "metadata": {},
   "source": [
    "#### NOTES:\n",
    "\n",
    "1) Ni58(n,2n)Ni57 channel will not be clean.  There will be contributions from Ni60(n,4n)Ni57 (threshold 33.15 MeV) and Ni61(n,5n)Ni57 (threshold 41.09 MeV) channels.  Unfortunatetly, nuclear data does not exist for these channels. <br/>\n",
    "2) Ni58(n,p)Co58 channel will not be clean.  There will be contributions from Ni60(n,2np)Co58 (threshold 20.32 MeV), Ni61(n,3np)Co58 (threshold 28.27 MeV), and Ni62(n,4np)Co58 (threshold 39.03 MeV) channels.  Unfortunatetly, nuclear data does not exist for these channels. <br/>\n",
    "3) Zr90(n,2n)Zr89 channel will not be clean.  There will be contributions from Zr91(n,3n)Zr89 (threshold 19.38 MeV), Zr92(n,4n)Zr89 (threshold 28.80 MeV), and Zr94(n,6n)Zr89 (threshold 43.21 MeV) channels.  Unfortunatetly, nuclear data does not exist for these channels. <br/>"
   ]
  },
  {
   "cell_type": "markdown",
   "metadata": {},
   "source": [
    "#### HEU Foils\n",
    "Read from the designated file path.  Manipulate the file to build a dataframe with the information needed for the count plan.  "
   ]
  },
  {
   "cell_type": "code",
   "execution_count": 24,
   "metadata": {
    "collapsed": false
   },
   "outputs": [
    {
     "name": "stdout",
     "output_type": "stream",
     "text": [
      "       foil product  gammaEnergy      br  relStat  det2FoilDist  foilR  \\\n",
      "Rx                                                                       \n",
      "Zr95   U235    Zr95      756.700  0.5438     0.01             1  0.635   \n",
      "Zr97   U235    Zr97      743.360  0.9309     0.01             1  0.635   \n",
      "Ag111  U235   Ag111      342.130  0.0670     0.01             1  0.635   \n",
      "Cd115  U235   Cd115      933.838  0.0200     0.01             1  0.635   \n",
      "I133   U235    I133      529.900  0.8700     0.01             1  0.635   \n",
      "Ba140  U235   Ba140      537.300  0.2439     0.01             1  0.635   \n",
      "Nd147  U235   Nd147       91.105  0.2810     0.01             1  0.635   \n",
      "Pm151  U235   Pm151      340.100  0.2250     0.01             1  0.635   \n",
      "Sm153  U235   Sm153      103.200  0.2925     0.01             1  0.635   \n",
      "Sr92   U235    Sr92     1383.900  0.9000     0.01             1  0.635   \n",
      "Ru105  U235   Ru105      724.200  0.4450     0.01             1  0.635   \n",
      "I135   U235    I135     1260.500  0.2860     0.01             1  0.635   \n",
      "Ce143  U235   Ce143      293.200  0.4350     0.01             1  0.635   \n",
      "\n",
      "       weightFrac    halfLife  initActivity  activityUncert  \n",
      "Rx                                                           \n",
      "Zr95       0.0618  5532364.80      0.445819        0.004458  \n",
      "Zr97       0.0575    60296.40     16.352116        0.163521  \n",
      "Ag111      0.0025   643680.00      0.016960        0.000170  \n",
      "Cd115      0.0025   192456.00      0.012390        0.000124  \n",
      "I133       0.0641    74988.00     17.900973        0.179010  \n",
      "Ba140      0.0571  1101833.28      0.871044        0.008710  \n",
      "Nd147      0.0212   948672.00      0.427299        0.004273  \n",
      "Pm151      0.0047   102240.00      0.334800        0.003348  \n",
      "Sm153      0.0018   166622.40      0.140711        0.001407  \n",
      "Sr92       0.0475     9576.00      0.140840        0.001408  \n",
      "Ru105      0.0150    15984.00      0.232072        0.002321  \n",
      "I135       0.0575    23688.00      1.711856        0.017119  \n",
      "Ce143      0.0475   118940.40      6.311166        0.063112  \n"
     ]
    }
   ],
   "source": [
    "#Update decay time based on previous foil count time\n",
    "transitTime+=countTime\n",
    "\n",
    "# Delete unneccesary columns for readability and make the index the reactant\n",
    "simFPs = pd.read_excel(simFpPath)\n",
    "simFPs.index = simFPs.Rx\n",
    "del simFPs['Rx']\n",
    "del simFPs['Thickness [cm]']\n",
    "del simFPs['Density']\n",
    "del simFPs['AW']\n",
    "del simFPs['Lambda [s^-1]']\n",
    "del simFPs['Fission Rx [vol^-1 src^-1]']\n",
    "\n",
    "# Rename columns for ease of access and add in the statistics column\n",
    "simFPs.columns = ['foil', 'product', 'gammaEnergy', 'br', 'relStat', 'det2FoilDist', 'normalization', 'rxRate',\n",
    "                         'rxRateSigma', 'foilR','weightFrac', 'volume', 'halfLife']\n",
    "\n",
    "# Put branching ratios in fractional form\n",
    "simFPs['br'] = simFPs['br']/100.\n",
    "\n",
    "# Calculate the activity following transit time decay for each rx; delete columns no longer needed\n",
    "simFPs['initActivity'] = 0.0\n",
    "simFPs['activityUncert'] = 0.0\n",
    "for ind in simFPs.index:\n",
    "    simFPs.at[ind,'initActivity'] = production_decay(simFPs.at[ind, 'halfLife'], 0, runTime, \\\n",
    "                                                    simFPs.at[ind, 'rxRate'], \\\n",
    "                                                    simFPs.at[ind, 'normalization'], \\\n",
    "                                                    simFPs.at[ind, 'volume'], transitTime)\\\n",
    "                                                    *get_decay_const(simFPs.at[ind,'halfLife'])\\\n",
    "                                                    *simFPs.at[ind,'br']\n",
    "    simFPs.at[ind,'activityUncert'] = simFPs.at[ind, 'initActivity']\\\n",
    "                                             *simFPs.at[ind, 'rxRateSigma']\n",
    "del simFPs['rxRate']\n",
    "del simFPs['normalization']\n",
    "del simFPs['volume']\n",
    "del simFPs['rxRateSigma']\n",
    "\n",
    "print simFPs"
   ]
  },
  {
   "cell_type": "code",
   "execution_count": 25,
   "metadata": {
    "collapsed": false
   },
   "outputs": [
    {
     "name": "stdout",
     "output_type": "stream",
     "text": [
      "       initActivity    halfLife        counts  countsUncert  countingStat\n",
      "Rx                                                                       \n",
      "Zr95       0.445819  5532364.80  7.749911e+05   7749.911031      0.001136\n",
      "Zr97      16.352116    60296.40  4.240854e+06  42408.544076      0.000486\n",
      "Ag111      0.016960   643680.00  2.238499e+04    223.849860      0.006684\n",
      "Cd115      0.012390   192456.00  9.116498e+03     91.164982      0.010473\n",
      "I133      17.900973    74988.00  5.745461e+06  57454.606616      0.000417\n",
      "Ba140      0.871044  1101833.28  1.304952e+06  13049.515831      0.000875\n",
      "Nd147      0.427299   948672.00  6.150381e+05   6150.380884      0.001275\n",
      "Pm151      0.334800   102240.00  1.442155e+05   1442.154798      0.002633\n",
      "Sm153      0.140711   166622.40  9.162093e+04    916.209294      0.003304\n",
      "Sr92       0.140840     9576.00  5.828910e+03     58.289102      0.013098\n",
      "Ru105      0.232072    15984.00  1.596762e+04    159.676156      0.007914\n",
      "I135       1.711856    23688.00  1.751553e+05   1751.553219      0.002389\n",
      "Ce143      6.311166   118940.40  3.118173e+06  31181.731172      0.000566\n"
     ]
    }
   ],
   "source": [
    "fpCountTime=7*24*3600\n",
    "simFPs = channel_statistics(simFPs, fpCountTime, detR=detR, func=germanium_eff_exp,\n",
    "                             a=absEffParams[1][0], b=absEffParams[1][1], c=absEffParams[1][2],\n",
    "                             d=absEffParams[1][3])\n",
    "print simFPs[['initActivity', 'halfLife', 'counts', 'countsUncert', 'countingStat']]"
   ]
  },
  {
   "cell_type": "markdown",
   "metadata": {},
   "source": [
    "## Experimental Setup\n",
    "\n",
    "Counted each foil to verify that there was not residual activity.  \n",
    "\n",
    "NOTE: Foil drawer has some wiggle room in the stack.  It was pushed all the way back and to the right.  This is not quite centered on the detector, but it is repeatable. The foil itself also doesn't quite fit, so it was ensured that the back edge was in the inset for repeatabiility.  \n",
    "\n",
    "Zr4 0825 Zr4_1_Background_0831_27Feb17\n",
    "Al4 0831 Al4_1_Background_0836_27Feb17\n",
    "In4 0838 Ni4_1_Background_0843_27Feb17\n",
    "Ni4 0844 Ni4_1_Background_0849_27Feb17\n",
    "\n",
    "Foil was placed at (65.5 cm, 0 cm, -1 cm)\n",
    "\n",
    "### Beam On\n",
    "\n",
    "Start time: 0949:55\n",
    "Current Integrator: 0\n",
    "Stop Time:\n",
    "Current Integrator: \n",
    "\n",
    "NOTE: First minute of current monitor calibration data is off. It should read 2 $\\mu$A, but it reads a little higher. The recalibration was performed ~1 minute in.  \n",
    "\n",
    "At ~1003 the beam was stopped because the radiation levels on the roof were too high. At ~1041, the beam was turned on at 1 $\\mu$A and adjusted downward until safe levels were reached.  It went down to ~650 nA at 1052.  At 1102, approval was received to go back to 2 $\\mu$A.  \n",
    "\n",
    "5:35 delay "
   ]
  },
  {
   "cell_type": "markdown",
   "metadata": {},
   "source": [
    "## Experimental Analysis"
   ]
  },
  {
   "cell_type": "code",
   "execution_count": 17,
   "metadata": {
    "collapsed": false
   },
   "outputs": [
    {
     "name": "stdout",
     "output_type": "stream",
     "text": [
      "At 511 keV, the efficiency is 4.24985141397 +/- 68.1176610313%\n"
     ]
    }
   ],
   "source": [
    "eff=germanium_eff_exp(511.0)\n",
    "std=curve_fit_error4(germanium_eff_exp, np.insert(absEffParams[p], 0, 511), 511*0.001, absEffCov[p])\n",
    "print \"At {} keV, the efficiency is {} +/- {}%\".format(511,eff*100,std*100)"
   ]
  },
  {
   "cell_type": "code",
   "execution_count": null,
   "metadata": {
    "collapsed": true
   },
   "outputs": [],
   "source": []
  }
 ],
 "metadata": {
  "kernelspec": {
   "display_name": "Python 2",
   "language": "python",
   "name": "python2"
  },
  "language_info": {
   "codemirror_mode": {
    "name": "ipython",
    "version": 2
   },
   "file_extension": ".py",
   "mimetype": "text/x-python",
   "name": "python",
   "nbconvert_exporter": "python",
   "pygments_lexer": "ipython2",
   "version": "2.7.6"
  }
 },
 "nbformat": 4,
 "nbformat_minor": 0
}
