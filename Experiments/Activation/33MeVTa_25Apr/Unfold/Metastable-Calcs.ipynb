{
 "cells": [
  {
   "cell_type": "code",
   "execution_count": 2,
   "metadata": {
    "collapsed": true
   },
   "outputs": [],
   "source": [
    "from scipy.integrate import quad\n",
    "from math import exp"
   ]
  },
  {
   "cell_type": "code",
   "execution_count": 3,
   "metadata": {
    "collapsed": true
   },
   "outputs": [],
   "source": [
    "def f(t, lm, lg):\n",
    "    return (1-exp(-lm*t))*(exp(-lm*t)-exp(-lg*t))"
   ]
  },
  {
   "cell_type": "code",
   "execution_count": 11,
   "metadata": {},
   "outputs": [
    {
     "data": {
      "text/plain": [
       "(-54.00745548138955, 5.99603205768568e-13)"
      ]
     },
     "execution_count": 11,
     "metadata": {},
     "output_type": "execute_result"
    }
   ],
   "source": [
    "lm = 2.00563E-5\n",
    "lg = 1.29815E-6\n",
    "quad(f, 0, 7861, args=(lm, lg)) #7861 for beam, 70418 for eta"
   ]
  },
  {
   "cell_type": "code",
   "execution_count": 12,
   "metadata": {},
   "outputs": [
    {
     "name": "stdout",
     "output_type": "stream",
     "text": [
      "0.125582936715\n",
      "2.23024657971\n"
     ]
    }
   ],
   "source": [
    "r=164.967\n",
    "t=7861\n",
    "A = 0\n",
    "for i in range(0,t):\n",
    "    A += r*lg*lm/(lg-lm)*(exp(-lm*(t-i))-exp(-lg*(t-i)))\n",
    "print A\n",
    "\n",
    "r=54.32\n",
    "t=70418\n",
    "A = 0\n",
    "for i in range(0,t):\n",
    "    A += r*lg*lm/(lg-lm)*(exp(-lm*(t-i))-exp(-lg*(t-i)))\n",
    "print A"
   ]
  },
  {
   "cell_type": "code",
   "execution_count": 31,
   "metadata": {},
   "outputs": [
    {
     "name": "stdout",
     "output_type": "stream",
     "text": [
      "0.547357081081\n"
     ]
    }
   ],
   "source": [
    "print 20*(1-exp(-lm*7861))"
   ]
  },
  {
   "cell_type": "code",
   "execution_count": null,
   "metadata": {
    "collapsed": true
   },
   "outputs": [],
   "source": []
  }
 ],
 "metadata": {
  "kernelspec": {
   "display_name": "Python 2",
   "language": "python",
   "name": "python2"
  },
  "language_info": {
   "codemirror_mode": {
    "name": "ipython",
    "version": 2
   },
   "file_extension": ".py",
   "mimetype": "text/x-python",
   "name": "python",
   "nbconvert_exporter": "python",
   "pygments_lexer": "ipython2",
   "version": "2.7.13"
  }
 },
 "nbformat": 4,
 "nbformat_minor": 2
}
