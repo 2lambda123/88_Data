{
 "cells": [
  {
   "cell_type": "markdown",
   "metadata": {},
   "source": [
    "# 88-Inch Foil Activation Experiment to measure 33MeV Deutron Break-up on Ta neutron Spectrum\n",
    "\n",
    "This notebook contains the code necessary to generate STAYSL inputs, a description on how to run STAYSL, and the anaysis and plotting of the resulting outputs.  \n",
    "\n",
    "## BCF\n",
    "\n",
    "The STASYL BCF input files are generated from the recoded beam current monitor files stores at:"
   ]
  },
  {
   "cell_type": "code",
   "execution_count": 1,
   "metadata": {},
   "outputs": [
    {
     "name": "stdout",
     "output_type": "stream",
     "text": [
      "The file exists at: C:/Users/James/Dropbox/UCB/Research/ETAs/88Inch/Data/Experiments/Activation/33MeVTa_25Apr/BCM/CleanBeam_Trimmed.bcm\n"
     ]
    }
   ],
   "source": [
    "from Support.Utilities import checkPath\n",
    "\n",
    "bcmPath = 'C:/Users/James/Dropbox/UCB/Research/ETAs/88Inch/Data/Experiments/Activation/33MeVTa_25Apr/BCM/CleanBeam_Trimmed.bcm'\n",
    "checkPath(bcmPath)"
   ]
  },
  {
   "cell_type": "markdown",
   "metadata": {},
   "source": [
    "The file used is a modified version of the BCM created file where pre and post calibrations are removed from the file; only the actual irradiation measurements are included.\n",
    "\n",
    "Support for generating the BCF input files can be found in the [PyScripts Repo](http://github.com/jamesbevins/PyScripts). "
   ]
  },
  {
   "cell_type": "code",
   "execution_count": 2,
   "metadata": {},
   "outputs": [
    {
     "name": "stdout",
     "output_type": "stream",
     "text": [
      "The total measurment time was 7866.0 seconds with an integrated measurement of 0.041859432.\n"
     ]
    }
   ],
   "source": [
    "from Unfolding.STAYSL import bcmToBCF\n",
    "\n",
    "bcfPath = 'C:/Users/James/Dropbox/UCB/Research/ETAs/88Inch/Data/Experiments/Activation/33MeVTa_25Apr/Unfold/CleanBeam/BCF/flux_history.dat'\n",
    "bcmToBCF(bcmPath, bcfPath)"
   ]
  },
  {
   "cell_type": "markdown",
   "metadata": {
    "collapsed": true
   },
   "source": [
    "The BCF file will be placed at the path indicated above.  The BCF code can be executed by double clicking on the BCF executable and typing in the BCF input file name.\n",
    "\n",
    "## SHIELD\n",
    "\n",
    "SHIELD requires a fine group cross section file.  For this, the [14468 group shield cross sections](https://github.com/SlaybaughLab/88_Data/tree/master/Experiments/Activation/33MeVTa_25Apr/Unfold/CleanBeam/SHIELD/shld_xsect.out) were used.\n",
    "\n",
    "NOTE: SHIELD is only valid/necessary for non-threshold reactions.\n",
    "\n",
    "The course group structure is specified in the [shldengrp.dat](https://github.com/SlaybaughLab/88_Data/tree/master/Experiments/Activation/33MeVTa_25Apr/Unfold/CleanBeam/SHIELD/shldengrp.dat) file, but this is not required with STAYSL PNNL v 1.2.0.\n",
    "\n",
    "The [input file](https://github.com/SlaybaughLab/88_Data/tree/master/Experiments/Activation/33MeVTa_25Apr/Unfold/CleanBeam/SHIELD/shldinput.dat) was generated using as measured quantities found in the [foil dimensions spreadsheet](https://github.com/SlaybaughLab/88_Data/blob/master/Experiments/Activation/33MeVTa_25Apr/BeamOnlyData/BeamFoilDimensions.xlsx).\n",
    "\n",
    "SHIELD is ran by double clicking the SHIELD executable located in the same directory as the input files.\n",
    "\n",
    "## SigPhi Calculator\n",
    "\n",
    "The [SigPhi Calculator](https://github.com/SlaybaughLab/88_Data/blob/master/Experiments/Activation/33MeVTa_25Apr/Unfold/CleanBeam/SigPhi_Calculator/SigPhi_Calculator_1.2_CleanBeam.xlsm) was filled in with data from the [foil dimensions spreadsheet](https://github.com/SlaybaughLab/88_Data/blob/master/Experiments/Activation/33MeVTa_25Apr/BeamOnlyData/BeamFoilDimensions.xlsx), [BCF output](https://github.com/SlaybaughLab/88_Data/blob/master/Experiments/Activation/33MeVTa_25Apr/Unfold/CleanBeam/BCF/flux_history.out), and the [experimental analysis data](https://github.com/SlaybaughLab/88_Data/blob/master/Experiments/Activation/33MeVTa_25Apr/33MeV_ETA_Activation_Analysis.pdf).\n",
    "\n",
    "** Note: the activities are in units of Bq/g and were adjusted as such from the calculated $A_0$ values **\n",
    "\n",
    "## STAYSL_PNNL\n",
    "\n",
    "The STAYSL_PNNL input file was created from the [SigPhi Calculator](https://github.com/SlaybaughLab/88_Data/blob/master/Experiments/Activation/33MeVTa_25Apr/Unfold/CleanBeam/SigPhi_Calculator/SigPhi_Calculator_1.2_CleanBeam.xlsm) and [MCNP simulation results]().\n",
    "\n",
    "Default values for covariance data using Gaussian formalism were used.\n",
    "\n",
    "The [SHIELD library input file](https://github.com/SlaybaughLab/88_Data/blob/master/Experiments/Activation/33MeVTa_25Apr/Unfold/CleanBeam/STAYSL_PNNL/sshldlib.dat) is an appropriately named copy of the [SHIELD ouput file](https://github.com/SlaybaughLab/88_Data/blob/master/Experiments/Activation/33MeVTa_25Apr/Unfold/CleanBeam/SHIELD/shldinput.out).\n",
    "\n",
    "The flux normalization factor (TNORM) for the MCNP flux was calculated using the [Beam Calcs spreadsheet]()\n",
    "\n",
    "To get the flux and flux uncertainty data from the MCNP output into STAYSL format:"
   ]
  },
  {
   "cell_type": "code",
   "execution_count": 12,
   "metadata": {},
   "outputs": [
    {
     "name": "stdout",
     "output_type": "stream",
     "text": [
      "The file exists at: C:/Users/James/Dropbox/UCB/Research/ETAs/88Inch/Data/Simulated/Activation/33MeVTa/BeamOnly/Model/33MeVTaBeamOnly_Foil.out\n",
      "The flux:\n",
      " 0.0000e+00 0.0000e+00 0.0000e+00 0.0000e+00 0.0000e+00 0.0000e+00 0.0000e+00 \n",
      " 0.0000e+00 0.0000e+00 0.0000e+00 0.0000e+00 0.0000e+00 0.0000e+00 0.0000e+00 \n",
      " 0.0000e+00 0.0000e+00 0.0000e+00 7.9125e-10 0.0000e+00 0.0000e+00 0.0000e+00 \n",
      " 2.4034e-10 1.2500e-09 2.7033e-09 1.2672e-09 0.0000e+00 8.0589e-10 4.0047e-10 \n",
      " 1.1380e-09 3.7101e-11 1.8246e-09 5.1787e-10 4.4323e-10 0.0000e+00 2.1595e-10 \n",
      " 0.0000e+00 5.3808e-09 3.4676e-10 5.7107e-09 1.8696e-09 1.3147e-09 2.8840e-10 \n",
      " 2.5256e-09 7.3464e-10 9.7974e-09 3.8167e-09 6.7946e-09 9.2575e-09 1.2947e-08 \n",
      " 8.2647e-09 8.2230e-09 3.0348e-08 4.2098e-08 3.2108e-08 2.0447e-08 4.2420e-08 \n",
      " 6.1212e-08 2.9381e-08 2.2786e-08 4.6676e-08 5.2816e-08 5.3527e-08 8.4569e-08 \n",
      " 8.1813e-08 1.0155e-07 7.1480e-08 8.1417e-08 6.5542e-08 8.8032e-08 1.0748e-07 \n",
      " 2.3994e-07 1.8305e-07 8.8994e-07 1.4557e-07 5.3987e-07 6.1383e-07 1.7089e-07 \n",
      " 8.5227e-07 1.1456e-07 2.3021e-06 7.6985e-07 1.0689e-06 1.4663e-06 1.5990e-06 \n",
      " 2.1633e-06 3.5597e-06 4.0404e-06 5.1052e-06 5.6395e-06 7.0727e-06 6.6883e-06 \n",
      " 6.1192e-06 5.1411e-06 4.2298e-06 3.3967e-06 2.7698e-06 2.1347e-06 1.6082e-06 \n",
      " 1.2498e-06 8.6552e-07 7.1413e-07 5.8996e-07 5.0880e-07 4.2922e-07 3.8364e-07 \n",
      " 3.5941e-07 3.4727e-07 3.3587e-07 3.2412e-07 3.1677e-07 3.2163e-07 3.0561e-07 \n",
      " 2.7235e-07 2.4608e-07 1.9375e-07 1.3744e-07 7.7436e-08 1.5735e-08 0.0000e+00 \n",
      " 0.0000e+00 0.0000e+00 0.0000e+00 0.0000e+00 0.0000e+00 0.0000e+00 0.0000e+00 \n",
      " 0.0000e+00 0.0000e+00 0.0000e+00 0.0000e+00 0.0000e+00 0.0000e+00 0.0000e+00 \n",
      " 0.0000e+00 0.0000e+00 0.0000e+00 0.0000e+00 0.0000e+00 0.0000e+00 0.0000e+00 \n",
      " \n",
      "The Uncertainty:\n",
      " 0.0000e+00 0.0000e+00 0.0000e+00 0.0000e+00 0.0000e+00 0.0000e+00 0.0000e+00 \n",
      " 0.0000e+00 0.0000e+00 0.0000e+00 0.0000e+00 0.0000e+00 0.0000e+00 0.0000e+00 \n",
      " 0.0000e+00 0.0000e+00 0.0000e+00 8.2750e-01 0.0000e+00 0.0000e+00 0.0000e+00 \n",
      " 1.0000e+00 6.3220e-01 1.0000e+00 1.0000e+00 0.0000e+00 1.0000e+00 5.9310e-01 \n",
      " 8.2680e-01 1.0000e+00 7.2910e-01 7.6080e-01 6.2230e-01 0.0000e+00 1.0000e+00 \n",
      " 0.0000e+00 7.7270e-01 1.0000e+00 7.3100e-01 8.2850e-01 6.9950e-01 7.1300e-01 \n",
      " 8.2730e-01 4.6740e-01 3.5700e-01 6.7850e-01 6.1140e-01 4.8410e-01 4.0510e-01 \n",
      " 3.1710e-01 3.0440e-01 3.0950e-01 5.5170e-01 3.1380e-01 3.4860e-01 3.0420e-01 \n",
      " 6.0370e-01 2.3290e-01 2.1000e-01 3.7500e-01 2.1600e-01 1.9780e-01 4.2000e-01 \n",
      " 3.1440e-01 3.1130e-01 2.0230e-01 2.0980e-01 1.8370e-01 2.4880e-01 1.9150e-01 \n",
      " 2.0350e-01 1.3590e-01 6.0740e-01 1.3890e-01 7.0860e-01 6.3250e-01 1.8080e-01 \n",
      " 6.3410e-01 1.5840e-01 3.7790e-01 1.9760e-01 1.2940e-01 7.3100e-02 5.3800e-02 \n",
      " 3.8100e-02 2.9500e-02 2.1200e-02 1.6300e-02 1.5800e-02 1.1400e-02 1.1400e-02 \n",
      " 1.2000e-02 1.1500e-02 1.0900e-02 9.3000e-03 9.3000e-03 1.0200e-02 1.0000e-02 \n",
      " 1.1100e-02 1.3000e-02 1.4500e-02 1.5900e-02 1.7200e-02 1.9000e-02 1.9800e-02 \n",
      " 2.0500e-02 2.0800e-02 2.1300e-02 2.1500e-02 2.3400e-02 2.1700e-02 2.2400e-02 \n",
      " 2.5400e-02 2.7100e-02 3.0600e-02 3.6300e-02 4.8400e-02 1.0720e-01 0.0000e+00 \n",
      " 0.0000e+00 0.0000e+00 0.0000e+00 0.0000e+00 0.0000e+00 0.0000e+00 0.0000e+00 \n",
      " 0.0000e+00 0.0000e+00 0.0000e+00 0.0000e+00 0.0000e+00 0.0000e+00 0.0000e+00 \n",
      " 0.0000e+00 0.0000e+00 0.0000e+00 0.0000e+00 0.0000e+00 0.0000e+00 0.0000e+00 \n",
      " \n"
     ]
    }
   ],
   "source": [
    "from GeneralNuclear.MCNP import read_tally\n",
    "from Unfolding.STAYSL import stayslFlux\n",
    "\n",
    "simPath = 'C:/Users/James/Dropbox/UCB/Research/ETAs/88Inch/Data/Simulated/Activation/33MeVTa/BeamOnly/Model/33MeVTaBeamOnly_Foil.out'\n",
    "checkPath(simPath)\n",
    "\n",
    "(tallyFrame,tallyTot, ucertTot) = read_tally(simPath, 214, readGroups=True, splitTally=False)\n",
    "tallyFrame = tallyFrame.drop(tallyFrame.index[0])\n",
    "\n",
    "stayslFlux(tallyFrame)"
   ]
  },
  {
   "cell_type": "markdown",
   "metadata": {},
   "source": [
    "The STAYSL code is ran by double clicking the executable or running from the command line. \n",
    "\n",
    "## Output Analysis\n"
   ]
  },
  {
   "cell_type": "code",
   "execution_count": null,
   "metadata": {
    "collapsed": true
   },
   "outputs": [],
   "source": []
  }
 ],
 "metadata": {
  "kernelspec": {
   "display_name": "Python 2",
   "language": "python",
   "name": "python2"
  },
  "language_info": {
   "codemirror_mode": {
    "name": "ipython",
    "version": 2
   },
   "file_extension": ".py",
   "mimetype": "text/x-python",
   "name": "python",
   "nbconvert_exporter": "python",
   "pygments_lexer": "ipython2",
   "version": "2.7.13"
  }
 },
 "nbformat": 4,
 "nbformat_minor": 2
}
