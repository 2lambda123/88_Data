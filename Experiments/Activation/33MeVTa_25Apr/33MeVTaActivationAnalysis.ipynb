{
 "cells": [
  {
   "cell_type": "markdown",
   "metadata": {},
   "source": [
    "# 33 MeV D on Ta \n",
    "\n",
    "This notebook documents the steps taken to calibrate, aquire, and analyze data from activation foils used to unfold the neutron spectrum from 33 MeV D breakup on Ta.  \n",
    "\n",
    "This Notebook is broken into the following main sections: <br\\>\n",
    "1) Simulated Results <br\\>\n",
    "2) Simulated Unfold <br\\>\n",
    "3) Calibration <br\\>\n",
    "4) Count Plan <br\\>\n",
    "5) Experimental Setup <br\\>\n",
    "\n",
    "The notebook has dependecies on PScripts, which can be cloned from:\n",
    "https://github.com/jamesbevins/PyScripts\n",
    "\n",
    "Once cloned, the path to the PyScripts/src directory must be added to the user's PYTHONPATH environement variable for this notebook to work."
   ]
  },
  {
   "cell_type": "code",
   "execution_count": 1,
   "metadata": {},
   "outputs": [
    {
     "data": {
      "text/plain": [
       "u'/home/pyne-user/Dropbox/UCB/Research/ETAs/88Inch/Data/Experiments/Activation/33MeVTa_25Apr'"
      ]
     },
     "execution_count": 1,
     "metadata": {},
     "output_type": "execute_result"
    }
   ],
   "source": [
    "pwd"
   ]
  },
  {
   "cell_type": "code",
   "execution_count": 2,
   "metadata": {},
   "outputs": [
    {
     "name": "stderr",
     "output_type": "stream",
     "text": [
      "/usr/local/lib/python2.7/dist-packages/matplotlib/__init__.py:1401: UserWarning:  This call to matplotlib.use() has no effect\n",
      "because the backend has already been chosen;\n",
      "matplotlib.use() must be called *before* pylab, matplotlib.pyplot,\n",
      "or matplotlib.backends is imported for the first time.\n",
      "\n",
      "  warnings.warn(_use_error_msg)\n"
     ]
    }
   ],
   "source": [
    "import os\n",
    "import sys\n",
    "import peakutils\n",
    "\n",
    "import pandas as pd\n",
    "import numpy as np\n",
    "import copy as cp\n",
    "\n",
    "from math import sqrt, exp, log\n",
    "from datetime import datetime\n",
    "from scipy.optimize import curve_fit\n",
    "from peakutils.plot import plot as pplot\n",
    "\n",
    "import matplotlib\n",
    "matplotlib.use('Qt5Agg')\n",
    "%matplotlib inline\n",
    "from matplotlib import pyplot\n",
    "\n",
    "# Path to PyScripts support functions \n",
    "from GeneralNuclear.Counting import parse_spe, simple_peak_counts, germanium_eff_exp, foil_count_time, \\\n",
    "                                    volume_solid_angle, optimal_count_plan, germanium_eff_poly, ge_peakfit, \\\n",
    "                                    get_peak_windows, find_best_fit,  germanium_eff, channel_statistics, count_plan\n",
    "from GeneralNuclear.BasicNuclearCalcs import decay, production_decay, get_decay_const, fractional_solid_angle\n",
    "from DataAnalysis.Stats import red_chisq, curve_fit_error4"
   ]
  },
  {
   "cell_type": "markdown",
   "metadata": {},
   "source": [
    "## Simulated Results\n",
    "\n",
    "### MCNP\n",
    "\n",
    "The experimental configuration was simulated in MCNP to get the expected reaction rates.  The Meulder's deuterons on 197Au was used as the source, and the foil pack was suspended center beam 34.62 cm from the wall.\n",
    "\n",
    "The results are located at <path>\\Dropbox\\UCB\\Research\\ETAs\\88Inch\\Data\\Simulated\\Activation\\33MevTa\\BeamOnly\\Model\n",
    "\n",
    "They are sumarized at:"
   ]
  },
  {
   "cell_type": "code",
   "execution_count": 3,
   "metadata": {},
   "outputs": [
    {
     "name": "stdout",
     "output_type": "stream",
     "text": [
      "The file exists at: /home/pyne-user/Dropbox/UCB/Research/ETAs/88Inch/Data/Simulated/Activation/33MevTa/BeamOnly/33MeVTaFoils.xlsx\n"
     ]
    }
   ],
   "source": [
    "import os.path\n",
    "\n",
    "simFoilPath = os.path.abspath('../../../Simulated/Activation/33MevTa/BeamOnly/33MeVTaFoils.xlsx')\n",
    "\n",
    "if os.path.isfile(simFoilPath): \n",
    "    print 'The file exists at: {}'.format(simFoilPath)\n",
    "else:\n",
    "    print 'ERROR: The file DOES NOT exist at: {}'.format(simFoilPath)"
   ]
  },
  {
   "cell_type": "markdown",
   "metadata": {},
   "source": [
    "## Simulated Unfold\n",
    "\n",
    "Unfold of the MCNP results to test the theroretical ability to unfold given a set of reaction channels.  \n",
    "\n",
    "### ****Analysis Pending****"
   ]
  },
  {
   "cell_type": "markdown",
   "metadata": {},
   "source": [
    "## Calibration\n",
    "\n",
    "The drawer was a little loose in the stack.  It was pushed to back right for repeatibility.\n",
    "\n",
    "### Import source data\n",
    "\n",
    "Calibration was performed using Cs137, Co60, Eu 152, Am241, and Ba133 sources @ 1, 5, 10, 1nd 18 cm.  The data are located in the Calibration folder. The lines used for energy and efficiency calibration are:\n",
    "\n",
    "#### Energy Calibrations Only\n",
    "Source   | Line (keV)| BR [%] \n",
    "-------- |:---------:|:------:\n",
    "Y88      |392.87     |97.21   \n",
    "Y88      |898.042    |93.7   \n",
    "Y88      |1836.063   |99.2   \n",
    "\n",
    "\n",
    "#### Energy And Efficiency Calibrations\n",
    "\n",
    "Source   | Line (keV)| BR [%] \n",
    "-------- |:---------:|:------:\n",
    "Cs137    |661.657    |85.10   \n",
    "Co60     |1173.23    |99.85  \n",
    "Co60     |1332.49    |99.98  \n",
    "Am241    |59.54      |2.14   \n",
    "Ba133    |80.9979    |32.9    \n",
    "Ba133    |276.40     |7.16   \n",
    "Ba133    |302.85     |18.34  \n",
    "Ba133    |356.01     |62.05  \n",
    "Eu152    |121.70     |28.53\n",
    "Eu152    |244.70     |7.55\n",
    "Eu152    |344.29     |26.59 \n",
    "Eu152    |778.90     |12.93  \n",
    "Eu152    |964.06     |14.51\n",
    "Eu152    |1085.837   |10.11\n",
    "Eu152    |1112.08    |13.67 \n",
    "Eu152    |1408.01    |20.87\n",
    "\n",
    "This data, along with the initial activity and decay information, is also located in the excel file located here:"
   ]
  },
  {
   "cell_type": "code",
   "execution_count": 4,
   "metadata": {},
   "outputs": [
    {
     "name": "stdout",
     "output_type": "stream",
     "text": [
      "The file exists at: /Users/zacharysweger/Desktop/BANG/88_Data/Experiments/Activation/33MeVTa_25Apr/CalibrationSources.xlsx\n"
     ]
    }
   ],
   "source": [
    "calibSourcesPath = os.path.abspath('CalibrationSources.xlsx')\n",
    "\n",
    "if os.path.isfile(calibSourcesPath): \n",
    "    print 'The file exists at: {}'.format(calibSourcesPath)\n",
    "else:\n",
    "    print 'ERROR: The file DOES NOT exist at: {}'.format(simFoilPath)"
   ]
  },
  {
   "cell_type": "markdown",
   "metadata": {},
   "source": [
    "Import the source and activity data and format for later analysis:"
   ]
  },
  {
   "cell_type": "code",
   "execution_count": 5,
   "metadata": {},
   "outputs": [
    {
     "name": "stdout",
     "output_type": "stream",
     "text": [
      "The calibration source data used: \n",
      "\n",
      "        initActivity  initActRelUncert   initDate      halfLife  measDate\n",
      "source                                                                   \n",
      "Am241         10.300           0.01165 1970-01-01  1.364420e+10         0\n",
      "Eu152          1.062           0.01165 2009-01-01  4.263262e+08         0\n",
      "Co60           1.007           0.01165 2009-01-01  1.663442e+08         0\n",
      "Cs137          1.042           0.01165 2009-01-01  9.487232e+08         0\n",
      "Ba133          1.078           0.01165 2009-01-01  3.327363e+08         0\n"
     ]
    }
   ],
   "source": [
    "sources = pd.read_excel(calibSourcesPath, \"Sources\")\n",
    "sources.columns = ['source', 'initActivity', 'initActRelUncert', 'initDate', 'halfLife']\n",
    "sources.index = sources.source\n",
    "del sources['source']\n",
    "sources['initDate'] = pd.to_datetime(sources['initDate'])\n",
    "sources['measDate'] = 0     \n",
    "\n",
    "print \"The calibration source data used: \\n\\n\", sources"
   ]
  },
  {
   "cell_type": "markdown",
   "metadata": {},
   "source": [
    "Import the calibration line and branching ratio data:"
   ]
  },
  {
   "cell_type": "code",
   "execution_count": 6,
   "metadata": {},
   "outputs": [
    {
     "name": "stdout",
     "output_type": "stream",
     "text": [
      "The calibration peak data used: \n",
      "\n",
      "      isotope       line  branchingRatio\n",
      "0       Am241    59.5409        0.359000\n",
      "1   Cs137       661.6570        0.851000\n",
      "2   Co60       1173.2300        0.998500\n",
      "3   Co60       1332.4900        0.999826\n",
      "4   Ba133        80.9979        0.329000\n",
      "5   Ba133       276.4000        0.071600\n",
      "6   Ba133       302.8500        0.183400\n",
      "7   Ba133       356.0100        0.620500\n",
      "8   Eu152       121.7000        0.285300\n",
      "9   Eu152       244.7000        0.075500\n",
      "10  Eu152       344.2900        0.265900\n",
      "11  Eu152       778.9000        0.129300\n",
      "12  Eu152       964.0600        0.145100\n",
      "13  Eu152      1085.8370        0.101100\n",
      "14  Eu152      1112.0800        0.136700\n",
      "15  Eu152      1408.0100        0.208700\n"
     ]
    }
   ],
   "source": [
    "lines = pd.read_excel(calibSourcesPath,\"Lines\")\n",
    "lines.columns=['isotope','line','branchingRatio']\n",
    "print \"The calibration peak data used: \\n\\n\", lines"
   ]
  },
  {
   "cell_type": "markdown",
   "metadata": {},
   "source": [
    "### Perform energy calibration\n",
    "\n",
    "The energy calibration was performed using GammaVision and is contained in the .spe files.  Since the calibration files were saved as they were added to the calibration routine in GammaVision, the .spe files for each will change as the calibration converges.  The final calibration parameters achieved for each position (1, 5, 10, and 18 cm) are:"
   ]
  },
  {
   "cell_type": "code",
   "execution_count": 7,
   "metadata": {},
   "outputs": [
    {
     "name": "stdout",
     "output_type": "stream",
     "text": [
      "1 cm Shelf Energy Calibration: -2.93662e-09*ch^2 + 0.3973171 * ch + -0.4793768\n",
      "10 cm Shelf Energy Calibration: 2.974716e-09*ch^2 + 0.3972545 * ch + -0.4236994\n",
      "18 cm Shelf Energy Calibration: -1.30709e-10*ch^2 + 0.3973216 * ch + -0.400801\n",
      "5 cm Shelf Energy Calibration: 4.985228e-09*ch^2 + 0.3971939 * ch + -0.428493\n"
     ]
    }
   ],
   "source": [
    "eCalibParams = {} #ax^2 +bx + c stored as (a,b,c)\n",
    "eCalibParams[1] = (-2.936620E-009,  3.973171E-001, -4.793768E-001,)\n",
    "eCalibParams[5] = (4.985228E-009, 3.971939E-001, -4.284930E-001)\n",
    "eCalibParams[10] = (2.974716E-009, 3.972545E-001, -4.236994E-001)\n",
    "eCalibParams[18] = (-1.307090E-010, 3.973216E-001, -4.008010E-001)\n",
    "for p in eCalibParams:\n",
    "    print \"{} cm Shelf Energy Calibration: {}*ch^2 + {} * ch + {}\".format(p, eCalibParams[p][0],\n",
    "                                                              eCalibParams[p][1],\n",
    "                                                              eCalibParams[p][2])"
   ]
  },
  {
   "cell_type": "markdown",
   "metadata": {},
   "source": [
    "### Read in the calibration data\n",
    "\n",
    "Read in all of the data taken for calibration.  \n",
    "\n",
    "This procedure assumes: <br/>\n",
    "1) That there is a folder with only calibration data in the format \"isotope_position_anything.Spe\".  For example, a valid naming convention is \"Co60_1_8Feb17.Spe\".  The first field is used to compare against the imported lines, and the second field is to build location dependent dictionaries. <br/>\n",
    "\n",
    "The path the calibration data is:"
   ]
  },
  {
   "cell_type": "code",
   "execution_count": 8,
   "metadata": {},
   "outputs": [
    {
     "name": "stdout",
     "output_type": "stream",
     "text": [
      "The file exists at: /Users/zacharysweger/Desktop/BANG/88_Data/Experiments/Activation/33MeVTa_25Apr/CalibrationSources.xlsx\n"
     ]
    }
   ],
   "source": [
    "calibDataPath = os.path.abspath('Calibration')\n",
    "\n",
    "if os.path.isfile(calibSourcesPath): \n",
    "    print 'The file exists at: {}'.format(calibSourcesPath)\n",
    "else:\n",
    "    print 'ERROR: The file DOES NOT exist at: {}'.format(simFoilPath)"
   ]
  },
  {
   "cell_type": "code",
   "execution_count": 9,
   "metadata": {},
   "outputs": [
    {
     "name": "stdout",
     "output_type": "stream",
     "text": [
      "Processing: Am241_1.Spe\n",
      "Processing: Am241_10.Spe\n",
      "Processing: Am241_18.Spe\n",
      "Processing: Am241_5.Spe\n",
      "Processing: Ba133_1.Spe\n",
      "Processing: Ba133_10.Spe\n",
      "Processing: Ba133_18.Spe\n",
      "Processing: Ba133_5.Spe\n",
      "Processing: Co60_1.Spe\n",
      "Processing: Co60_10.Spe\n",
      "Processing: Co60_18.Spe\n",
      "Processing: Co60_5.Spe\n",
      "Processing: Cs137_1.Spe\n",
      "Processing: Cs137_10.Spe\n",
      "Processing: Am241_5.Spe\n",
      "Processing: Ba133_5.Spe\n",
      "\n",
      "Position = 1 cm\n",
      "LiveTime: {'Co60': 61.0, 'Cs137': 61.0, 'Ba133': 397.0, 'Am241': 126.0, 'Eu152': 193.0}\n",
      "   Eu152  Y88  Ba133  Co60  Cs137  Am241\n",
      "0      0    0      0     0      0      0\n",
      "1      0    0      0     0      0      0\n",
      "2      0    0      0     0      0      0\n",
      "\n",
      "Position = 5 cm\n",
      "LiveTime: {'Cs137': 69.0, 'Co60': 94.0, 'Ba133': 322.0, 'Am241': 64.0, 'Eu152': 376.0}\n",
      "   Eu152  Cs137  Y88  Co60  Am241  Ba133\n",
      "0      0      0    0     0      0      0\n",
      "1      0      0    0     0      0      0\n",
      "2      0      0    0     0      0      0\n",
      "\n",
      "Position = 18 cm\n",
      "LiveTime: {'Cs137': 299.0, 'Co60': 848.0, 'Ba133': 1832.0, 'Am241': 61.0, 'Eu152': 2115.0}\n",
      "   Cs137  Co60  Y88  Eu152  Am241  Ba133\n",
      "0      0     0    0      0      0      0\n",
      "1      0     0    0      0      0      0\n",
      "2      0     0    0      0      0      0\n",
      "\n",
      "Position = 10 cm\n",
      "LiveTime: {'Co60': 319.0, 'Am241': 61.0, 'Ba133': 679.0, 'Cs137': 87.0, 'Eu152': 1664.0}\n",
      "   Co60  Am241  Ba133  Eu152  Y88  Cs137\n",
      "0     0      0      0      0    0      0\n",
      "1     0      0      0      0    0      0\n",
      "2     0      0      0      0    0      0\n"
     ]
    }
   ],
   "source": [
    "# Variables to allow for multiple positions to be handled at once\n",
    "posSet = False\n",
    "posUsed = []\n",
    "\n",
    "# Storage for parameters that vary by position\n",
    "liveTime = {}\n",
    "data = {}\n",
    "\n",
    "# Loop over all files\n",
    "for filename in os.listdir(calibDataPath):\n",
    "    if filename.endswith(\".Spe\"): \n",
    "        name = os.path.splitext(filename)[0]\n",
    "        \n",
    "        # Read data from this file\n",
    "        print \"Processing:\", filename\n",
    "        (time, t, measDate, a, b, c, tmpData) = parse_spe(calibDataPath+'/'+filename)\n",
    "        \n",
    "        # Determine position, update data structures if necessary, and store data\n",
    "        position = int(name.split('_')[1])\n",
    "        if position not in posUsed:\n",
    "            posUsed.append(position)\n",
    "            liveTime[position] = {}\n",
    "            data[position] = tmpData\n",
    "            data[position].columns = [name.split('_')[0]]\n",
    "        else: \n",
    "            data[position].loc[:,name.split('_')[0]] = tmpData['counts']\n",
    "        if name.split('_')[0] in sources.index:\n",
    "            sources.at[name.split('_')[0], 'measDate'] = measDate\n",
    "            liveTime[position][name.split('_')[0]] = time\n",
    "for p in posUsed:\n",
    "    print \"\\nPosition = {} cm\".format(p)\n",
    "    print \"LiveTime:\", liveTime[p]\n",
    "    print data[p].head(3)"
   ]
  },
  {
   "cell_type": "markdown",
   "metadata": {},
   "source": [
    "### Calculate the peak counts\n",
    "\n",
    "Determine the peak area for each of the lines considered.  Save the data in the lines dataframe. \n",
    "\n",
    "This procedure assumes: <br/>\n",
    "1) That no significant background not associated with the calibration source is present.  No background subtraction is performed. <br/>  "
   ]
  },
  {
   "cell_type": "code",
   "execution_count": 10,
   "metadata": {
    "scrolled": false
   },
   "outputs": [
=======
      "Processing: Cs137_18.Spe\n",
      "Processing: Cs137_5.Spe\n",
      "Processing: Eu152_1.Spe\n",
      "Processing: Eu152_10.Spe\n",
      "Processing: Eu152_18.Spe\n",
      "Processing: Eu152_5.Spe\n",
      "Processing: Y88_1.Spe\n",
      "Processing: Y88_10.Spe\n",
      "Processing: Y88_18.Spe\n",
      "Processing: Y88_5.Spe\n",
      "\n",
      "Position = 1 cm\n",
      "LiveTime: {'Am241': 126.0, 'Co60': 61.0, 'Ba133': 397.0, 'Cs137': 61.0, 'Eu152': 193.0}\n",
      "   Am241  Ba133  Co60  Cs137  Eu152  Y88\n",
      "0      0      0     0      0      0    0\n",
      "1      0      0     0      0      0    0\n",
      "2      0      0     0      0      0    0\n",
      "\n",
      "Position = 10 cm\n",
      "LiveTime: {'Am241': 61.0, 'Co60': 319.0, 'Ba133': 679.0, 'Cs137': 87.0, 'Eu152': 1664.0}\n",
      "   Am241  Ba133  Co60  Cs137  Eu152  Y88\n",
      "0      0      0     0      0      0    0\n",
      "1      0      0     0      0      0    0\n",
      "2      0      0     0      0      0    0\n",
      "\n",
      "Position = 18 cm\n",
      "LiveTime: {'Am241': 61.0, 'Co60': 848.0, 'Ba133': 1832.0, 'Cs137': 299.0, 'Eu152': 2115.0}\n",
      "   Am241  Ba133  Co60  Cs137  Eu152  Y88\n",
      "0      0      0     0      0      0    0\n",
      "1      0      0     0      0      0    0\n",
      "2      0      0     0      0      0    0\n",
      "\n",
      "Position = 5 cm\n",
      "LiveTime: {'Am241': 64.0, 'Co60': 94.0, 'Ba133': 322.0, 'Cs137': 69.0, 'Eu152': 376.0}\n",
      "   Am241  Ba133  Co60  Cs137  Eu152  Y88\n",
      "0      0      0     0      0      0    0\n",
      "1      0      0     0      0      0    0\n",
      "2      0      0     0      0      0    0\n"
     ]
    }
   ],
   "source": [
    "# Variables to allow for multiple positions to be handled at once\n",
    "posSet = False\n",
    "posUsed = []\n",
    "\n",
    "# Storage for parameters that vary by position\n",
    "liveTime = {}\n",
    "data = {}\n",
    "\n",
    "# Loop over all files\n",
    "for filename in os.listdir(calibDataPath):\n",
    "    if filename.endswith(\".Spe\"): \n",
    "        name = os.path.splitext(filename)[0]\n",
    "        \n",
    "        # Read data from this file\n",
    "        print \"Processing:\", filename\n",
    "        (time, t, measDate, a, b, c, tmpData) = parse_spe(calibDataPath+'/'+filename)\n",
    "        \n",
    "        # Determine position, update data structures if necessary, and store data\n",
    "        position = int(name.split('_')[1])\n",
    "        if position not in posUsed:\n",
    "            posUsed.append(position)\n",
    "            liveTime[position] = {}\n",
    "            data[position] = tmpData\n",
    "            data[position].columns = [name.split('_')[0]]\n",
    "        else: \n",
    "            data[position].loc[:,name.split('_')[0]] = tmpData['counts']\n",
    "        if name.split('_')[0] in sources.index:\n",
    "            sources.at[name.split('_')[0], 'measDate'] = measDate\n",
    "            liveTime[position][name.split('_')[0]] = time\n",
    "for p in posUsed:\n",
    "    print \"\\nPosition = {} cm\".format(p)\n",
    "    print \"LiveTime:\", liveTime[p]\n",
    "    print data[p].head(3)"
   ]
  },
  {
   "cell_type": "markdown",
   "metadata": {},
   "source": [
    "### Calculate the peak counts\n",
    "\n",
    "Determine the peak area for each of the lines considered.  Save the data in the lines dataframe. \n",
    "\n",
    "This procedure assumes: <br/>\n",
    "1) That no significant background not associated with the calibration source is present.  No background subtraction is performed. <br/>  "
   ]
  },
  {
   "cell_type": "code",
   "execution_count": 10,
   "metadata": {
    "scrolled": true
   },
   "outputs": [
    {
     "name": "stdout",
     "output_type": "stream",
     "text": [
      "\n",
      "------------------------\n",
      "Position = 1 cm\n",
      "------------------------\n",
      "Am241\n"
     ]
    },
    {
     "data": {
      "image/png": "iVBORw0KGgoAAAANSUhEUgAAAk0AAAHKCAYAAAAep3+lAAAABHNCSVQICAgIfAhkiAAAAAlwSFlz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
      "text/plain": [
       "<matplotlib.figure.Figure at 0x11187b6d0>"
      ]
     },
     "metadata": {},
     "output_type": "display_data"
    },
    {
     "name": "stdout",
     "output_type": "stream",
     "text": [
      "\n",
      " Am241\n",
      "Energy  Peak Area\n",
      "59.52   2267197   1505\n",
      "\n",
      "\n"
     ]
    },
    {
     "data": {
      "image/png": "iVBORw0KGgoAAAANSUhEUgAAAi0AAAGbCAYAAAAIkqCHAAAABHNCSVQICAgIfAhkiAAAAAlwSFlz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
      "text/plain": [
       "<matplotlib.figure.Figure at 0x111b4a7d0>"
      ]
     },
     "metadata": {},
     "output_type": "display_data"
    },
    {
     "name": "stdout",
     "output_type": "stream",
     "text": [
      "Ba133\n"
     ]
    },
    {
     "data": {
      "image/png": "iVBORw0KGgoAAAANSUhEUgAAAk0AAAHKCAYAAAAep3+lAAAABHNCSVQICAgIfAhkiAAAAAlwSFlz\nAAALEgAACxIB0t1+/AAAIABJREFUeJzsnXtcVNX6/z+buxg6gFpewSE1u2mA1bFOkAJmF+2CWXEs\nOirk6WRmBUf7nqBfhwztcjpdjLEUSyqESksrBRXKY1YMh8qyVBA078kMmMh9/f6Yvcc9w1z2XPdc\nnvfrtV4wa6/Ls/dee+1nr/WsZ3GMMRAEQRAEQRCWCZBbAIIgCIIgCG+AlCaCIAiCIAgJkNJEEARB\nEAQhAVKaCIIgCIIgJEBKE0EQBEEQhASC5BaAIAiCIJwJx3EpAOIBRPN/axljufJKRfgCHLkcIAiC\nIHwFXmECY6xSFFcGQMkYS5BNMMInoOk5giAIwpdIFStMPPMBxHMcly6HQITvQEoTQRAE4UukcByn\nFEcwxrQAGgCkyiMS4SuQ0kQQBEH4Ekro7JgIwumQ0uRlcByXznFcBcdxGj5USBly5jguRZSP8f+n\nOEGeFBPymCyX47h6vm4pod4OWdR83hxHz8tE2Vki2WzqkPlrJORVOFs2M3UqOY4r5IPF+2xv27A1\nn1E7MReKJJ5fkS33meM4BX8txG1QTdM1vgdjLJIxVi6O4587JYAKd8jgaFu3t5+XIFcOX1Y93/6L\njEflzOST3M/7PIwxCl4SoHvgGR/q+SD8rrCQr9Aon0b0u9ABecTlMiN5ckykrzdKbynU2yGP2lzd\nTrj2CpFsRTbmLePzlbmxrZRBwj22t23Yk0/i/bd4jaAbQRCeA0n3GUC6iXZaL6U+Cr4RAOTY06c4\nUJ/dbd3eft6KPAorMmVZyGtTP+/rQXYBKEi8UUAR30jV0K0CEeKVImWhz8scQIqogaeYiU+3Q54s\nCeXGO1CuzQ8jXKg08eULiojGxnx9rpOL20q8IKcVJcautuFAvnpzx6ycTzp/b8WKmaT7bCRTkdEx\nhT1tlIJ3Bb6P1Ij7TTfUaW9bt6ufl1CukLeQL0vBPxtqWH5mXdLPe3OQXQAKEm6SrpELDVRh4rjC\n3HHRQ2HpgbDpC8yoPlPlCl8majvP06Z8Js7VVUqTzYqm6BrbpGg5KKea77T1HaWV62VT23Agn70v\nkhyhTL5tCcqTxfvMt1OLiiMFs9et0FXPkQzno3b3i92etu5IP2+l3HRLzwDOj2xpLNTntH7e24Ps\nAlCQcJPON3qzjdPUi0zU6M2+sEUvFcmdiuglZrJco4dN8ted6Bzs+iJ0tdJkdL0kDZNbU1xc2FaK\nLNVtb9twpE3ZqzSZKF8ox5rSJHy1u21axheC+OUttyxOOJcidytMfL32KE129fMSyq2w8ryKlTXx\naJJL+nlvD2QI7tvczf+tsZBGOGaLUd8k/u96UwfZ+eW9ksvlOK4QummlXMZYg7X0MqLi/6ZYM+rm\nDSwFo3FJBs5OYBX/t9BKOnvbhqvalCvI4v9auxaED8IvFChijNWK4tyyEMPDKIKZvhoA+P5Wy/8U\nL3Jxej/vC5DS5B0IjtriTT30fJzQ2GtFh1JNxBkjNPpJFtIYI6y20FpII5Rr1QMvr1zkANAyxpbb\nIIcciJWfLLOpdGTzf2vdoQjyLwkFgHIJ9dnbNlzVppyK0Uojsy8Mwjfh73+tWGHisfbMyom9/bxF\nmG4lobUtZJr5v9GiOKf2874CKU1eAK/RCy/gbeIlovz/2/ify41elsKDd9pC8cLSfmd/gQkPmtXl\nrDj/QKsspnIAkTsCjakltqKluEKaIlMdF399hQ4r2/i4EUIHbXKUiV9W7BRXBHx+YURlmYQs9rYN\nZ7QpJX996525nNoIQbnTMsa0/JLpMiP3CA778jFaGs6snQ/vukLNGbo9MPsi5yy40eDdKJh0gyHK\nl8WnKxLJqDZTXiHHcYLtmBAndgOiMUofb3RNGX9PC6UsYzdzvvG8rGpr18ZEPiX/fwp0/U4zHy+E\nLFhWAFyB5LbuQD9vFb5si3Lyf2119WJLP+8byD0/SEF6gG7OW5grFy9F1cD0En+rNj44b7gr2ZgP\n51eRmV3FIarbYrmw07jRSp05RvHiJbzGdjYKGK4g0Rj932euHoYrSkzaS0BkNG7lfjrr3AX7nTJR\nnCWbJrvahiNtCn2XPGuM4iTZfUGCTZPonleIrg0zqk9j7v5JlKPCxPmIf2eJ0iqM0muM0leYagOW\nrrfRs2PcrvUrrUT1GF//QqM86bwcaiO5hFBklFZ8TY1XN9plV2jUfgV5zS6H59MphXxG18RUcNcK\nVrvbOmzs550ga7xILvGKPaf1874UZBeAgg03S9chiP3vMEuNWkqnAztW0OH8qglLxoVMSrmishz2\nl2PqBWN0vfp0mOKH3qjD0C/9tXJ+5q69Vd9M/P1Mh+OG0WJDTvE5WFKa7GobjrQpo5eGWKFIMRVv\noXwpSpOxIiw2cFWKX0p2XvMyU2WLzqfCqE5BYbK0lLzP4gJTbdqo/VhTmgzaIAyVN3MGvvqXqIR7\nkGVCpixjeey8xoJiZvYe8fV5nK8tR9o6bOznnSCryX4CTuznfSnILgAFiTfK8Gsgi3+whA5K6LyV\nRnlcpTSJX9KWlqJa/QIx1+nbeY0MXjAwHGEwpTCJr52pr/x6c7KJyjb34nHaeUk4b+ElaNzpeZrS\nZEkBsNpBm5DBktIkfmmZuvcmVwxJvN4mv8wtpE+3dm44P0pjrIQ4qjT1qdOa/JCmNAn5HRohlXDt\nhOti6h4KCqBdMkCnwGicFMy5erGprcOOft7B66t352HlGXGon/elILsAFCTcJEN/M6Y6jxTRA6UQ\nxUuZSsmxp9HD8EsonY9TijsEmPl6NiE3c9J10p+v0QNtciTH2vURXRtTHZ+4czMeabDL/5Wd5yz+\ncjXXcds7PdenbbiqTcEGJQa2jTRZGqUQlE2XengXyeJsRVOK0tRHRkv5jNu2BXmF57vIuN05uX2b\nHYnm74NDCgTOKyUOBRvrNLfE365+3oFz14/kmSsPTujnfS2QIbh3sAS6B6qWMVZpfJCPq8X5LxKB\nZuO0JhBWS0hJK2Y+zq+cKBMZkOYAmCU6ZslgcRb/t885OUg2L4eAOSNIwXix0MjglfHnIxhWxxln\nZLpVOcK5GRuEC7/d4WZAqCOXWTf2FGNv23BJm2KGhq3OMCoV6rbU/oRjttYnGF1L3cdMSC/FTYPS\nycviXbVqU1i8kQVAI9rHzNlLz0v5vwbG0xzHlQFYxhxclcoY0zoj2FinubZubz9vM/x9KoOufSRY\nOAdn9PM+BSlN3oEtnW6qKE54EPq89EVIWVbaB/4hS4BuxVstdIpPLgBhs0yhXEsvlhQJaezB+Jz6\nKC/8i0l4OZVbCWoz9Qjl6jt0I99MLlsNyNcVj/Pnmi1acaTmOE4tkiNLFC/E2ds2XNamRFgqWypC\nJ25JBuFYlI1lC+dn9UVhtIrMUnqxnLbKYwlLqxzthjGmguFLMx66F3kFx3FOe575jxMtoH/RCz7d\nDPwveTHitm5vP28TfB9QAesKk7P6eZ8iSG4BCElI6URNvQC+g+6Fnmghn1KU1iaY4RJZPfxDKSgk\nJkeRuPO7jptN4yAq6B7ug9B9vRcyxvS+SphuGbqWl3OZnR2wCvxoFMdx6XwnIihQlbZ+gTqIpdES\nsX8XAXvbhkvalNHoiq3Lnk0hKLrWrgtg+1dyA1+ulBEq8WhbIsy3dXFZto76ygLf3sv55z0Fuhd5\nCnSOX4sYY9ZcckhFBX5kg6+r3tRIjLdgoa3b28/bUnc8dK4LrCpMAo70874IjTR5B0KDtNRJm/pK\nscVZmjMb/RL+b7mFh1I/jO+CL8ZKxlg2X/d8Pi7HhF8e4VpZUgDMwpcvXDehU5nN/3X51BxjrJYx\nxpkLOK8MLBfFC9fa3rZhVz6O46xNO4nvgaUvbakIDi1NymlUp61Kk3ANrTr049uIKW/LxuhHAG1Q\ntp05ImU3fDtczhhLxfkpd2c6kRSm6LL4+pwygsv77tI4KShE5drb1u3t5yUh8vXUDIkKkxWk9PO+\nh9xGVRSsBxga+5pa7WLWiBbnjWZNGQObXTnhKllF6fS+jpxYt0mDW5w3+DU2stWvaoIFw0orx8T+\naoT74LbNea1cD7P33pG2YU8+6OwnLC0K0C/Jt+G8rO09Z3JVIX/MphVwRnmltnGF0TUxt0pTbJht\n7GPMkiG4uO2ZMwS3yYCcP25x41gr10ZftpPbss17ZNogr1MNwe1t69baFSz08xLOU4nzvqKcYUQu\n6RnwxSC7ABQk3qjzqxjqxR0H3/kLLxFTK0zEHWu6tXjRcYs+hPiHxmDljFGZ1hzSCasvnKmwmVOa\nxKtSjJfl6xUqEy8ewcmctXMRytY7FJQor1P8NFko35rSZG/bsDkfRH6v0HfFkNg1hNWXIqQrTfFm\n5Iw31x5suLYm/TTx55PCn6fYGaR+NZ+F57ePwihqnxUmzk3sTNKZSpP4eJb4Phm1+SL0dXPi9E2S\nnXG/3Bkcaeuwv58325fgfP9ns8IEB/t5XwyyC0BB4o2y06Mwn7fQQj4pL1RTX8eWZLHqtRZWnEfa\neY3MLu2Gma9y9HUkZ+y516TiYOZcJL/4pVxjJ1wPi0qTvW3DgTZlfJ2MvXOb/HrmXxhiz9Ti/Pp4\nM3mzLMjp0DJp9HVAaOwRvFCU1vj5NQ7mPILnoO/56l+e5tocHFCajNqO8XkJiw+M5Tc+d6d43ubr\nKhM9K17hRNGBtm5XPw8LfYkJWSyFIqO8DvXzvhhkF4CCjTfs/FYHQgOugDQvyilGD4CBx2Iz9Vh8\noUP34lSLHqgyc52wibwmv6AdvDYW/eHAzDQdfyxLlJ/x/xeaO3ejvOIRDVuchMquNNnTNhzJx+cp\nE3W+woiF1ClQs0FinZKfGRvuofgZUPPnY04ZybL1+UXfrVD05YvO39lKUzwMR8fK0HfURHhmNEbp\nnDJdw9dRIfotyOwV00H2tHWjdiW5nVjqS+CA0sTnt7uf98XA8ReFIAiCIDwG3nXBLMYbGfO+mdKh\n80m2XFbhCL+FVs8RBEEQHgWvIAkrYAWEVXSzTWQhCLdAI00EQRCEx8BxXBHMOK/kPVIDuiXzvuDc\nkvAy/Epp4jguX/ifMZZvPiUhJ3SfvAO6T96BN90n3tv3d0znONPU8SLobKkqmc4vlE/gTffI3/E3\npUl/skzn/I/wQOg+eQd0n7wDb7lPHMdZdV7JO2gUvGgnMMZqOY7LgU6J8tqRJ2+5R4SX2zRxHFfB\nb66q4R8cgiAIwkuxpDDxxxug88ReCWAVP/IEb1aYCO/Cq0eaOI5Lhw17fIm1+YQEqzsgEDKhVp/f\nH5fuk+dC98k7oPvk+dA9kh+1Wv07Y2ywtXRerzSZm/s2k148BOoaoQiH4bjzo9N0nzwXuk/eAd0n\nz4fukfxwHKdmjFndhzTIHcK4ECXHcSnQOUGLsja0SxAEQRAEYS8eoTTxu88vYYzNMnEsC7pdmQGd\nJ1ixUzOVyPFZBcdxlfycN0EQBEEQhFORVWnilSXBUZnSxHFhNUU5/1vJcVwRYyybjxfbMjVA57be\n0mjTM0OHDs3LyspyhviEi8jLy5NbBEICvnafSkpK8NRTT+HQoUMYNWoUCgoKkJGRIbdYDuNr98kX\noXvkPXiETROvPK1ijCUYxatNxNUzxuL4ablZggLFr6JQW5uiS0xMZDU1NU4+A4IgvJmSkhJkZWWh\nra1NHxceHg6VSuUTihNBEJaRatPksS4HOI5TQLdppDFaXmFqgG7jQIFEAOvdIRtBEL6DQqHAnDlz\nDBQmAGhra8OcOXNkkoogCE/EY5Um6KbrTLkSaIZuh+UGAAqO47J4H0255lwPcByXz/tzYmq1GhzH\n6UN+fr7rzoAgCI+nt7fX7IolTxiJJwjCNeTn5+t1AQAJgp7Ah3xTeTzCENwMUThvAC5GCyAaOG/r\nRBAEYSsHDx7Eiy++iO7ubrNpRo0a5UaJCILwdDx5pIkgCMLp/PDDD/jLX/6CMWPGQKVS4b777sOK\nFSsQHh7eJ+2QIUNw5swZGaQkCMIT8XSlKcpEnALAaVsKYYzlM8Y4xhiXkJAAxpg+0PQcQfguJSUl\niI2NRUBAAC666CJMnDgREyZMwMaNG7Fo0SIcPHgQb731Fp544gmoVCrExMSA4ziMGjUKGRkZqK2t\nxeTJk9HQQJ5MCMLXyM/P1+sC0C0k40Qh31Qej109xxuCa4w3L+Q4Tg2d/VKlPXWNHj2axcTEAAAy\nMzORmZlpt9wEQXgmycnJOHHiBPbt24fe3l6DY4MGDcKvv/6KqChT32SGVFRUYPbs2eA4DuvXr8fU\nqVNdJTJBEG6muLgYxcXFAIDq6upGxthoa3k81qaJMablOK6B4ziFkYG3wl6FCQA6OjpQXV0NQNex\nEgThe9TV1aG1tdWkIffp06clKUwAkJqaiu+++w4zZ87EtGnT8OKLL2LQoEE+6c/JFs6dO4fW1lb0\n9PTILQpB6AkMDERQUBAGDBiA4OBgq+kbGxv1+gCAUCl1eIrSZK4HKwSwBEAuoB+RslthAoDQ0FAk\nJSUBAGJjYx0piiAID2XixIniztAAW0fX4+Li8PXXX+P+++/HokWLEBgYqFcWmpqaIDjL9RfF6dy5\nc2hpaUFUVBSCg4MN9k0jCLlgjKG3txft7e04ffo0Bg4ciH79+lnMExsbq9cHqqurO6TUI6tNE+/h\nuxA65Sie47giwQs4APCOKus5jkvhOC4dQIrgzJIgCMIcVVVVGD58uMljwvS8LURERKC5udlAYRJo\na2vD3Llz7ZLTG2ltbUVUVBRCQkJIYSI8Bo7jEBgYiP79+yMyMtJlCzhkHWnifS3lWknj1E14aXqO\nIPyDCy+8EEeOHDGICw8PR0FBgV3lff/992anozo6JH2k+gQ9PT2Spj4IQi5CQkIsuhIRsGd6ztNX\nzzkdYXouKSmJpucIwkfZvHkzamtrMXv2bP2KuJiYGIe2RZk4cSJCQ033q+bifRUaYSI8GantU5ie\n46foJH35eMTqOXdCe88RhG9z7tw5XHbZZQgLC0NdXR1CQkKcVrapPer69euHVatW+Y1N09GjRzFs\n2DC5xSAIi9jaTqXuPecphuBu4/Tp0/ppOXI5QBC+x/PPP4+DBw9i+/btTlWYgPPG3sLqOcYY7rzz\nTr9RmAjClxC7HAC/04g1/E5pIpsmgvBdDhw4gMLCQtx333248cYbXVJHRkaGXkm68cYbsWPHDnR0\ndPjdFB1BeDtk0yQBsmkiCN+EMYZHHnkEoaGheOGFF9xS59KlS3H06FG88847bqmPIAjnQTZNEiCb\nJoLwTT766CPcdddd+Pe//41HH33ULXUyxnD11VdDo9Hgl19+QVCQ7w/ek02T55Kbm4vy8nKkpKQg\nNzcXcXFxqK+vh1KplFs0t0M2TQRBEGY4e/YsFi1ahAkTJuDhhx92W70cx2Hp0qW48847UVZWhnvv\nvddtdROEmNraWqhUKmg0Gn2cWq32S4XJlfjd9JxgCJ6cnCw2ACMIwot59tlncfjwYbzxxhtuH+2Z\nOXMmxo8fj+eee67PPncE4S5qamqQmGg4UBIfH6//X6VSITU11d1ieTTFxcV6fQASDcH9TmkSDMGr\nq6vR2NgotzgEQTjIzz//jBdffBEPPvggJk+e7Pb6AwICsGTJEuzZswebN292e/0EQdiHYAjOG4N7\n1d5zboP2niMI34ExhocffhgREREoLCyUTY577rkHTz/9NAoKCnDrrbf6rfPHRYsWoa6uTm4xvJqJ\nEyfi3//+t015cnNzsXz5cgBAZGQksrKysGTJEkRGRkKj0WD+/PkoLy/XH4+KikJ9fb3TZfc27Nl7\nzu+UpujoaFRVVcktBkEQTuD9999HVVUVVq5cicGDB8smR3BwMHJycvC3v/0NVVVVLnN3QBCmKCws\nRFxcHIqKiqBWqwEAWq1Wf7ysrAwqlQplZWWoqKiQS0yPQ+yrkeO401Ly+J3SRBCE91NSUoIlS5bg\n8OHDCAkJQf/+/eUWCQ8++CCeeeYZPPfcc36rNNk6QkIQ3obf2TQRBOHdCFuZHD58GADQ2dmJhx56\nCCUlJbLKFRYWhscffxyVlZX49ttvZZWFIAjX4HdKE62eIwjvJTk5GXPnzjXY+w0A2traMHfuXJmk\nOs9DDz0EhUKBZcuWyS0KQRBWoNVzEqDVcwThvdTV1aGjw7S9prl4dxIREYGFCxdiw4YN+Omnn+QW\nhyD0REVFoaGhAYDOpxNh3+o5v1OaaBsVgvBeJk6caHaPN0/Z+23hwoXo378/nn/+eblFIQg9KSkp\nAHSr53Jzcw0Mxf0V2kZFArSNCkF4NwsXLsSrr75qEBceHg6VSqXfSFduHn/8cbzyyivYt2+fz3lk\npm1UCG/AVduo+N1IE0EQ3s3PP/+M6OhojBo1ChzHISYmxqMUJgBYvHgxAgMDsWLFCrlFIQjCiZDS\nRBCE13DgwAFs27YNjz32GJqamtDb24vGxkaPUpgAYPjw4cjMzMTq1atx7NgxucUhCMJJkNJEEITX\n8NZbbyEwMBAPPvig3KJYJScnB52dnbjkkksQEBCA2NhY2d0iEAThGH7n3FJwOQAYegMlCMKz6ezs\nxJo1a3Dbbbd5hU3N7t27ERgYiNbWVgBAU1MTsrKyAMDjRsYIwh8pLi4Wux6S5HLA75QmweUAAL3y\nRBCE57Nx40acPHkS2dnZcotiFYVCgdbWVhgvtGlra8OcOXNIaSIID0BwOcBDG/aagjbsJQjvpKio\nCDExMUhNTZVbFEmYW5nsbyuWCcJToQ17JUAb9hKE9yEYgD/77LMIDAyUWxyraLVaxMbGoqmpqc+x\nmJgYGSQiCMIYezbsJUNwgiA8HsEA/K9//avcokimoKAA4eHhBnHh4eEoKCiQSSKCIByFlCaCIDwa\nbzMAF8jIyIBKpdKPLIWEhHicPymCIGyDlCaCIDwabzIANyYjIwONjY145pln0NXVpd/KgiAI74SU\nJoIgPBpvMwA3xcyZM8EYw6ZNm+QWhSAIByCliSAIj0UwAJ83b55XGICb48orr0RMTAw2btwotygE\nQTiA3ylNgnPL5ORksVMrgiA8EG80ADcFx3GYMWMGKioqcPbsWbnFIQgCOueWgj4Aic4t/U5pEpxb\nVldXo7GxUW5xCIIwg7cagJtj5syZaG9vR0VFhdyiEASB884teQeXkpxb+p3SJDi3TEpKIueWBOHB\nCAbgwtYj3s4NN9wAhUKBTz75RG5RCB8jNzcXHMchLi4OcXFxiIyMREJCAlQqlcNlx8XFITc31+zx\n5cuXO83e0FkyS0Vwbsk7uCTnlqYg55YE4R0IBuBpaWlyi+IUgoODcfPNN2PTpk3o6enxahstwvOI\nj4+HWq3W/25oaMCsWbOgVqtRVFRkd7lFRUVQKpXOENHjIOeWBEH4BL5iAG7MjBkzcOrUKXz99ddy\ni0L4OEqlEqtWrYJKpYJWq7W7nJSUFJ9VmuyBlCaCIDwOXzEAN2b69OkIDg6mVXQE4aX43fQcQRCe\nja8ZgIsZMGAAbrzxRnzyySdYsWKF3OK4BH4lkgF33303/va3v6GtrQ0333xzn+PCNMnvv/+O9PT0\nPscXLFiA2bNn4/Dhw5gzZ06f448//jhuu+02/PrrryadoP7f//0fUlJSUFdXh0WLFvU5/txzz2Hy\n5MnYtWsXli5d2uf4v//9b0ycOBGVlZX417/+1ed4UVERxo0bh08//RQvvvhin+PvvvsuRo4cidLS\nUqxcubLP8fLycgwaNAjFxcX66SJHqaysRHZ2NnJycqBQKADo9kScP38+KisrERUVhdzcXL3NYHZ2\nNiorK9Hc3KwfpYqPj0dCQgKys7P16YRpv4aGBiQmJurLFkhISMDs2bORk5MDQGfzVFpaqp86VKlU\nKCwsRHNzM6KiolBUVGTW6as5meSERpoIgvAISkpKEBsbi7CwMJw8eRJjxoyRWySXMHPmTOzbtw+/\n/PKL3KIQPkRtbS0iIyMRGRkJjuOQnZ2N3NxcFBYW6tNMnToVs2fPhkaj0ds6NTQ0oLy8HDU1Naiv\nr4dGo0FZWZnZKbnU1FQkJiZCo9GgoqLC5qm/qKgoqNVqaDQa5ObmYtasWSbT2SKTW2GM+VVISEhg\nBEF4FuvWrWPh4eEMgD6Eh4ezdevWyS2a0zl06BADwJ5//nm5RbGLI0eOyC0CYUROTg6Lj4/X/y4q\nKmJKpdIgTUVFBQPAlEqlQSgqKmIVFRVMoVCwsrIyptFoDPLFx8ezoqIigzLEFBYWspSUFIP0hYWF\nBsfFshkDgKnVapN1mZNJCra2UwA1TIIOQSNNBEHIikKhwJw5c9DW1mYQ39bWZnIqxtsZOXIk4uPj\nya6JcBnCVNry5cv1cQ0NDUhJSUF9fb1ByMrKQkpKCpYsWYLc3FxERkYiNTXV5AhSQ0ODw9NjWq0W\nubm5SEhIQEJCgtl0UmVyN6Q0EQQhO7oPPenx3s7MmTOxe/dunDhxQm5RCB+lrKwMubm5aGhoAKBb\nTVdTU2M2fU5Ojn4qrLm52aS/JKVSqS/PHrRaLUaPHo1JkyZBrVYbuEiwVyZ3Q0oTQRCyotVqERMT\nY/KYuXhvZ8aMGbSBL+FS4uPjkZ6erjeMF1wHiG2IysvLUVtbi8rKSlRWVgLQjfxGRUWZLFMw2BbK\n1Gq1fXxAKZVKnD59Wn+8tLRUf6y5uRlarVY/WlVeXm5WfqkyuRu/U5po7zmC8DwKCgoQEhJiEBce\nHo6CggKZJHItEyZMoA18CZezatUqA+Vj27ZtAKA3GC8tLdUbVxcWFurjFQqFWU/8arUaNTU1iIyM\nxPz58/usfMvOzoZKpUJcXBxmzZqFxMRE/TGlUon09HS95/LvvvvOovxSZbIXe/ae43x1+Nscw4YN\nY8eOHQMA5OXlIT8/X16BCIIAAFxxxRXYu3cvent7MWrUKBQUFCAjI0NusVzGwoULsWrVKpw+fRrh\n4eFyiyOZo0eP+pwrCML3kNJO8/Pz8cwzzwg/jzHGrDZsvxtpor3nCMLzOHjwIPbs2YOnn34avb29\naGxs9Gkg02z+AAAgAElEQVSFCaANfAlCbmjvOQnQ3nME4Xm89dZbCAgI8DkP4Ja44YYbMHDgQGzc\nuBEzZ86UWxyC8Dto7zmCILyOrq4urF69GjfffDNGjBghtzhuw3gDX4IgPB9SmgiCkJXNmzfj+PHj\nTjfy9AZmzpyJU6dOYffu3XKLQhCEBEhpIghCVlQqFYYNG4bp06fLLYrbuemmm2gDX4LwIkhpIghC\nNpqamvDFF19g7ty5CAryOxNLDBw4EMnJyaQ0EYSXQEoTQRCysXr1agDA3LlzZZZEPmgDX4LwHkhp\nIghCFrq7u/H2229j2rRpPuv5WwozZswAAHzyyScyS0IQhDVIaSIIQhY+//xzHDlyxC8NwMWMHDkS\nV111FU3REYQXQEoTQRCysGrVKlx44YW49dZb5RZFdmbOnImvv/6aNvAlCA/H/ywvCYKQnd9++w2b\nN29Gbm4ugoOD5RZHdmbOnIn8/Hxs2rTJr+27XAG/r5hZyNkxYQs00kQQhNtZvXo1ent7MW/ePLlF\n8QgmTJiAqKgoPPLIIwgICEBsbCxKSkrkFsvnqKurQ11dndxiEF6MT4w0cRynBJDOGFsutywEQVim\np6cHb7/9NlJSUvQ7rPs77733HlpbW9Hd3Q1A54pBsPXy9T34XI14JEkYdaLRJcJefGWkKRdAtNxC\nEARhna1bt+LQoUN+bwAuoFAoMGfOHL3CJNDW1oY5c+bIJBVBEKbweqWJ47gUAGq55SAIQhoqlQqD\nBw+mTWpFMMZsiicIf2L58uVITU2VWwwAPqA08TTLLQBBENY5duwYPv30U2RmZiIkJERucTwCrVZr\n1k+VP/uvIghPxCOUJo7j4jmOKzNzLIvjuHQ+5BgdS2GMVbpHSoIgbKWkpASxsbF64+ZHH30UPT09\nZABuREFBAcLDww3iwsPDUVBQIJNEvkdJSQl2796N6upqMrQn7EZWQ3CO4+IBzOZ/9rEI5TguCwAY\nY+X8byXHcUWMsWze+LvBbcISBCGZ5ORknDhxAvv27UNvby8AnXFzU1MT+vXrh7Fjx8osoWchGHs/\n+eSTOHbsGKKiovCf//yHjMCdRElJCbKystDR0QGADO0J+5F1pIkxVssYywVQaiZJNmNMJUrfACCF\n/xkPIIVXrFIBxPP2TQRByExdXR1+/fVXvcIkpr29XQaJPJ+MjAwcOXIEw4cPx9SpU+ll7kSeeuop\ntLW1GcS1tbXhqaeekkki55KQkKC3+4mMjERCQgJqa2uRm5uLyMhIREZGQqXSv0qh1Woxa9YsREZG\nIi4uzuCYSqVCXFyc/lhl5fnJnOzsbP0xoQ5x/QLLly9HQkKCgXzl5eXIzs5GZGQktFqtRRkaGhqQ\nkJCAyMhIpKam4rvvvnPJdbMHj5ieMwXHcQroFCNjtPy0XDljTMUrVWoAtTRVRxCewcSJE8m42Q44\njkNaWhoqKyvR09Mjtzg+w6FDh2yK90aWLVuGsrIyaDQaREVFISEhAZMmTYJGo8GSJUuQnZ2tTzt1\n6lTMnj0bGo0GarUaRUVFaGjQTdxERUVBrVZDo9EgNzcXs2bNAgCUl5ejpqYG9fX10Gg0KCsrs8ll\nyPz58wEABw8ehEKhsChDamoqEhMTodFoUFFRAa1W66zL5DAeqzRBN11n6ko1Q6RM8VN8s6AbdTI5\n0sRxXD7HcYzjOKZWq8FxnD7k5+e7QnaC8GuqqqrIuNlO0tLSoNFoUFNTI7coPsOoUaNsivdG7r77\nbigUCgA6pUOhUCA9PR0A9H+1Wi0qKyv1o1BxcXFISEjQxwtphXKysrKg1WpRW1sLhUKBhoYGlJeX\nQ6vVQqlU6tNJITExEUVFRVAoFBZlqKysRENDA4qKivR5XbVyLj8/X68LAEgQ9AQ+5JvK48lKUxRM\nr4rTQuSTiZ/iS2WMJdBIE0F4DqaMm8PCwsi42QopKSngOA5bt26VWxSfwR8M7ePi4gx+i0eBoqKi\n9P83NDQgJSUF9fX1BkGw8dJqtcjNzUVCQoLBFFtKSgqWLFmin/JLTU21aQRIrPhYkqGhoQHx8aYm\nmTwDT1aaCILwYjIyMqBSqfRf86GhoXjrrbfIVscKgwYNQnx8PClNTkRoi6GhoQB0o50qlcov26JS\nqTQ7iqnVajF69GhMmjQJarUaarWhC8ScnBz99Fxzc7OBHZI1xKNSlmRQKpX6aTpPxNOVpigTcQoA\np20phDGWzxjjGGNcbGwskpKSkJSUhDVr1tD0HEG4kIyMDKxcuRIASGGygbS0NHz99ddobW2VWxSf\nISMjA9deey2SkpLQ2Njot21R2L5IsFUCdPZKtbW1aG5uhlar1Y/0lJeX69MIU2eATgESj14plUqc\nPq17LWu1WpSWmlvbZV2GlBSdlY1gg6XVag2m6pyJWB8A0CjoCXzIN5XHk5WmGugUJGOiANTaW2hH\nRweqq6tRXV2NxsZGe4shCEICnZ2dWLx4MS6++GKDDpKwTFpaGnp6erBjxw65RSF8kG3btgGAfmVd\naWkplEollEol0tPTERcXh7i4uD6r1goLC/V5FAqFfkovOztbv+pu1qxZSExMtFsGAFCr1aipqUFk\nZCTmz5+vV6ScTWNjo14fABAqJQ/nCStZeGPuVYyxBKP4egAJjDGtOI4xFmdchlRGjx7NBEPUzMxM\nZGZm2lsUQRBWWL58OXJzc/HZZ59h+vTpcovjNXR0dCA6OhoPPPAAXn/9dbnFMeDo0aMYNmyY3GLY\nBW3Y6z9IaafFxcUoLi4GAFRXVzcyxkZbK9dTlKYUAIUmlKYsAHG8LydBucpmjGWbKEYSiYmJjFal\nEITrOXLkCMaNG4epU6di48aNcovjddx666349ddfsX//frlFMcDblCZBUQJ0/sMAnUsMAVKgfBNb\n2ynHcWrGmNUhMlmn53gP34UACqFzTlkkeAEHAN4HUz3HcSkcx6UDSHFEYQKA06dPIzk5GcnJyXoN\nkyAI5/PEE0+gu7sbL7/8styieCXTpk3DgQMHPNoo1tuYOHGigcJE+DfFxcV6fQCiVfmWkHUbFd7D\nd66VNNLN8yUg2DQBhl8gBEE4j6qqKnzwwQfIy8uzyQEecZ60tDQAQEVFhYFjQsI2aCSJMIdg08Qj\nyabJkw3BXUJoaKjeWj42NlZucQjC5+jq6sIjjzyC2NhY5OZa/CYiLDB27FiMGjWKXA8QhIswWj3X\nISWPrCNNchAdHU1fHgThQl5//XXs2bMHH3/8Mfr16ye3OF6LsKVKWVkZuru7ERTkd901QbgU8WIw\njuMkuTLyu5EmsmkiCNdx/Phx5OXl4aabbsLMmTPlFsfrSUtLQ0tLi0dtWEoQvoLX2TTJAdk0EYTr\n+Mc//oFz587hlVdeEfZzIhxg6tSp+i1V/vSnP8ktDkH4FGTTJAGyaSIIxykpKUFsbCwCAgIQGxuL\nkpIS7Nq1C2vXrsXjjz+OsWPHyi2iTxAVFYVJkyZ5nF2TJ7iqIQhzSG2f9tg0eYSfJndCfpoIwjFK\nSkqQlZWFtrY2fVx4eDgGDx6Mnp4e7N27FxdccIGMEvoW//znP7Fs2TL8/vvvNu0q7ypOnDiByMhI\nhISEyC0KQZiko6MDLS0tGDJkiOQ8XuGniSAI70KhUGDOnDkGChMAtLW1oampCS+++CIpTE7G07ZU\nGTBgAJqbm9HZ2UkjToTHwBhDT08Pzp49C41Gg4iICJfU43c2TYIhOEDbqBCEPVh6UdL+cs7n2muv\nxQUXXICtW7fijjvukFsc/YpIjUaDnp4emaUhiPMEBgYiODgY0dHRCA4OtppevI0KyBDcNGQIThD2\no9VqERsbi6ampj7Hhg4dSsbfLiA4OBhTpkzxKLumfv36kTsJwushQ3AJkCE4QThGQUEBwsPDDeKC\ngoKwYsUKmSTyfdLS0tDQ0ID6+nq5RSEIn4EMwSVAhuAE4TglJSVYunQpDh06hICAABQVFWHevHly\ni+Wz7N+/H2PHjsXrr7+Ov/3tb3KLQxA+BxmCEwThMjIyMvD0008D0NkFkMLkWi6++GLExsZ61BQd\nQfgjpDQRBGEz3377LRYvXozrrrsOf/nLX+QWx+cRtlTZvn07urq65BaHIPwWv1OaaBsVgnCMb7/9\nFqmpqRg0aBDef/99Mv52E2lpaThz5gy++eYbuUUhCJ+AtlGRAK2eIwj7EStMVVVVGDlypNwi+Q1T\npkxBQEAAtm7diuuvv15ucQjC66HVcxKg1XMEYR/ffvst0tLSSGGSicjISFx99dVk10QQToJWz0mA\nVs8RhO189913SE1NRXR0NHbs2IFRo0bJLZJfkp+fj2effRanTp1CVFSU3OIQhM9Aq+cIgnAKgsIU\nFRVFCpPMpKWlobe3F9u3b5dbFILwS0hpIgjCLGKFqaqqihQmmbn66qsxYMAAmqIjCJkgpYkgCJPU\n1NSQwuRhBAUFYerUqdi6dSttlksQMuB3ShO5HCAI69TU1CAlJYWm5DyQtLQ0NDU1Yf/+/XKLQhBe\nDbkckAC5HCAIywgjTJGRkdixYwdiYmLkFokQkZaWBgDYunUrxo4dK7M0BOG9kMsBCZDLAYIwz1df\nfYXU1FQoFApUVVWRwuSBKJVKxMXFYcuWLXKLQhBejT0uB/xupCk6OhpVVVVyi0EQHkVXVxfuvvtu\nbNiwAQDQv39/7Ny5k5QmD6SkpAQnT55EfX09RowYgcLCQmRkZMgtFkF4HZmZmcjMzAQAcBx3Wkoe\n8tNEEH7OgQMHMG3aNDQ0NBjEh4eHQ6VS0QvZQ0hOTsaJEyewb98+9Pb26uMDAgIwduxY7N27V0bp\nCMK7keqniZQmgvBTGGMoLi7GvHnzDF7CYkJDQ9He3u5myQhTKBQKtLa2mlw1x3Gc2XtIEIR1yLkl\nQRBmaW5uxt13342//vWvFjfc7eiQNM1PuIGJEyeadTPgbx+/BCEXpDQRhJ+xY8
      "text/plain": [
       "<matplotlib.figure.Figure at 0x11578ced0>"
      ]
     },
     "metadata": {},
     "output_type": "display_data"
    },
    {
     "data": {
      "image/png": "iVBORw0KGgoAAAANSUhEUgAAAk0AAAHKCAYAAAAep3+lAAAABHNCSVQICAgIfAhkiAAAAAlwSFlz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
      "text/plain": [
       "<matplotlib.figure.Figure at 0x11578ce90>"
      ]
     },
     "metadata": {},
     "output_type": "display_data"
    },
    {
     "data": {
      "image/png": "iVBORw0KGgoAAAANSUhEUgAAAk0AAAHKCAYAAAAep3+lAAAABHNCSVQICAgIfAhkiAAAAAlwSFlz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
      "text/plain": [
       "<matplotlib.figure.Figure at 0x115bf7150>"
      ]
     },
     "metadata": {},
     "output_type": "display_data"
    },
    {
     "data": {
      "image/png": "iVBORw0KGgoAAAANSUhEUgAAAk0AAAHKCAYAAAAep3+lAAAABHNCSVQICAgIfAhkiAAAAAlwSFlz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
      "text/plain": [
       "<matplotlib.figure.Figure at 0x115bec510>"
      ]
     },
     "metadata": {},
     "output_type": "display_data"
    },
    {
     "name": "stdout",
     "output_type": "stream",
     "text": [
      "\n",
      " Ba133\n",
      "Energy  Peak Area\n",
      "80.97   400516   632\n",
      "276.45   34700   186\n",
      "303.07   86603   294\n",
      "355.91   289000   537\n",
      "\n",
      "\n"
     ]
    },
    {
     "data": {
      "image/png": "iVBORw0KGgoAAAANSUhEUgAAAi0AAAGbCAYAAAAIkqCHAAAABHNCSVQICAgIfAhkiAAAAAlwSFlz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
      "text/plain": [
       "<matplotlib.figure.Figure at 0x11578ce50>"
      ]
     },
     "metadata": {},
     "output_type": "display_data"
    },
    {
     "name": "stdout",
     "output_type": "stream",
     "text": [
      "Co60\n"
     ]
    },
    {
     "data": {
