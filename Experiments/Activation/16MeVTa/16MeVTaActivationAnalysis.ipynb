{
 "cells": [
  {
   "cell_type": "markdown",
   "metadata": {},
   "source": [
    "# 16 MeV D on Ta \n",
    "\n",
    "This notebook documents the steps taken to calibrate, aquire, and analyze data from activation foils used to unfold the neutron spectrum from 16 MeV D breakup on Ta.  \n",
    "\n",
    "This Notebook is broken into the following main sections: <br\\>\n",
    "1) Experiment Planning  <br\\>"
   ]
  },
  {
   "cell_type": "code",
   "execution_count": 1,
   "metadata": {
    "collapsed": false
   },
   "outputs": [],
   "source": [
    "import os\n",
    "import sys\n",
    "import peakutils\n",
    "\n",
    "import pandas as pd\n",
    "import numpy as np\n",
    "import copy as cp\n",
    "\n",
    "from math import sqrt, exp, log\n",
    "from datetime import datetime\n",
    "from scipy.optimize import curve_fit\n",
    "from peakutils.plot import plot as pplot\n",
    "from matplotlib import pyplot\n",
    "%matplotlib inline\n",
    "\n",
    "# Path to support functions \n",
    "sys.path.insert(0,os.path.abspath('/home/pyne-user/Dropbox/UCB/Computational_Tools/Scripts/Python/GeneralNuclear'))\n",
    "from Counting import parse_spe, peak_counts, germanium_eff, foil_count_time, volume_solid_angle, optimal_count_plan\n",
    "from BasicNuclearCalcs import decay, production_decay, get_decay_const, fractional_solid_angle"
   ]
  },
  {
   "cell_type": "markdown",
   "metadata": {},
   "source": [
    "## Simulated Results\n",
    "\n",
    "### MCNP\n",
    "\n",
    "The experimental configuration was simulated in MCNP to get the expected reaction rates.  The Meulder's deuterons on 197Au was used as the source, and the foil pack was suspended center beam 34.62 cm from the wall.\n",
    "\n",
    "The results are located at <path>\\Dropbox\\UCB\\Research\\ETAs\\88Inch\\Data\\Simulated\\Activation\\16MeVTa\\Model\n",
    "\n",
    "They are sumarized at:"
   ]
  },
  {
   "cell_type": "code",
   "execution_count": 2,
   "metadata": {
    "collapsed": true
   },
   "outputs": [],
   "source": [
    "simPath=\"/home/pyne-user/Dropbox/UCB/Research/ETAs/88Inch/Data/Simulated/Activation/16MeVTa/16MeVTaFoils.xlsx\""
   ]
  },
  {
   "cell_type": "markdown",
   "metadata": {},
   "source": [
    "## Experiment Planning\n",
    "\n",
    "Develop a count plan based on the planned irradiation. \n",
    "\n",
    "### Experimental parameters\n",
    "\n",
    "Specifies experimental parameters for the beam and counting facility used.\n",
    "\n",
    "runTime = the beam irradiation time in s\n",
    "\n",
    "transitTime = the minimum time to counting of the first foil in s\n",
    "\n",
    "background = the background rate at the peak of interest in counts/s\n",
    "\n",
    "detR = radius of the detector in cm\n",
    "\n",
    "det2FoilDist = the distance from the detector face to the foil in cm\n",
    "\n",
    "sigma = the desired counting statistics level"
   ]
  },
  {
   "cell_type": "code",
   "execution_count": 80,
   "metadata": {
    "collapsed": false
   },
   "outputs": [],
   "source": [
    "runTime = 3600*24\n",
    "transitTime = 600\n",
    "nChannels=7\n",
    "\n",
    "background=0.01\n",
    "detR=3.245\n",
    "det2FoilDist=1\n",
    "\n",
    "# Same statistics for each channel\n",
    "#sigma=0.01\n",
    "#sigma = [sigma]*nChannels\n",
    "\n",
    "# Variable statistics\n",
    "sigma=[0.02,0.02,0.1]"
   ]
  },
  {
   "cell_type": "markdown",
   "metadata": {},
   "source": [
    "### Read in Simulation data\n",
    "\n",
    "Read from the designated file path.  Manipulate the file to build a dataframe with the information needed for the count plan.  "
   ]
  },
  {
   "cell_type": "code",
   "execution_count": 81,
   "metadata": {
    "collapsed": false
   },
   "outputs": [
    {
     "name": "stdout",
     "output_type": "stream",
     "text": [
      "            foil product  gammaEnergy      br  foilR  weightFrac   halfLife  \\\n",
      "Rx                                                                            \n",
      "58Ni(n,p)    NiP    Co58       810.76  0.9945    2.5    0.680769  6122304.0   \n",
      "115In(n,n')   In  In115M       335.00  0.4580    2.5    0.957100    16200.0   \n",
      "115In(n,g)    In  In116M      1293.56  0.8480    2.5    0.957100     3247.2   \n",
      "\n",
      "             relStat  initActivity  activityUncert  \n",
      "Rx                                                  \n",
      "58Ni(n,p)       0.02      0.424915        0.000425  \n",
      "115In(n,n')     0.02     10.950187        0.009855  \n",
      "115In(n,g)      0.10      4.545667        0.035911  \n"
     ]
    }
   ],
   "source": [
    "simFoilParams = pd.read_excel(simPath)\n",
    "\n",
    "# Delete unneccesary columns for readability and make the index the reactant\n",
    "simFoilParams.index=simFoilParams.Rx\n",
    "del simFoilParams['Rx']\n",
    "del simFoilParams['Thickness [cm]']\n",
    "del simFoilParams['Density']\n",
    "del simFoilParams['AW']\n",
    "del simFoilParams['Lambda [s^-1]']\n",
    "\n",
    "# Rename columns for ease of access and add in the statistics column\n",
    "simFoilParams.columns=['foil','product','gammaEnergy','br','normalization','rxRate','rxRateSigma','foilR','weightFrac',\\\n",
    "                       'volume', 'halfLife']\n",
    "simFoilParams['relStat']=sigma\n",
    "\n",
    "# Put branching ratios in fractional form\n",
    "simFoilParams['br']=simFoilParams['br']/100.\n",
    "\n",
    "# Calculate the activity following transit time decay for each rx; delete columns no longer needed\n",
    "simFoilParams['initActivity']=0.0\n",
    "simFoilParams['activityUncert']=0.0\n",
    "for ind in simFoilParams.index:\n",
    "    simFoilParams.at[ind,'initActivity']=production_decay(simFoilParams.at[ind,'halfLife'], 0, runTime, \\\n",
    "                                                    simFoilParams.at[ind,'rxRate'], \\\n",
    "                                                    simFoilParams.at[ind,'normalization'], \\\n",
    "                                                    simFoilParams.at[ind,'volume'], transitTime)\\\n",
    "                                                    *get_decay_const(simFoilParams.at[ind,'halfLife'])\\\n",
    "                                                    *simFoilParams.at[ind,'br']\n",
    "    simFoilParams.at[ind,'activityUncert']=simFoilParams.at[ind,'initActivity']*simFoilParams.at[ind,'rxRateSigma']\n",
    "del simFoilParams['rxRate']\n",
    "del simFoilParams['normalization']\n",
    "del simFoilParams['volume']\n",
    "del simFoilParams['rxRateSigma']\n",
    "\n",
    "print simFoilParams"
   ]
  },
  {
   "cell_type": "code",
   "execution_count": 82,
   "metadata": {
    "collapsed": false
   },
   "outputs": [
    {
     "name": "stdout",
     "output_type": "stream",
     "text": [
      "Total count time = 2.110333e+02 hrs\n",
      "\n",
      "The order of counting is: (u'In', u'NiP')\n",
      "\n",
      "115In(n,n')      102 min\n",
      "115In(n,g)       102 min\n",
      "58Ni(n,p)       12560 min\n"
     ]
    }
   ],
   "source": [
    "(countDF,countOrder,countTime)=optimal_count_plan(simFoilParams, handleTime=60, detR=detR, det2FoilDist=det2FoilDist, \\\n",
    "                                                  background=background, units='Bq', toMinute = True)\n",
    "print 'Total count time = {:2e} hrs\\n'.format(countTime/3600)\n",
    "print 'The order of counting is: {}\\n'.format(countOrder)\n",
    "for ind in countDF.index:\n",
    "    print \"{:15s} {:4.0f} min\".format(ind,countDF.at[ind,\"countTime\"]/60)"
   ]
  },
  {
   "cell_type": "markdown",
   "metadata": {},
   "source": [
    "# The neutron intensity is too low to run foil activation for this experiment.  \n",
    "\n",
    "#### Option 1) \n",
    "3 channels are lost; 3 have terrible statistics. <br/>\n",
    "\n",
    "Total count time = 2.695000e+01 hrs\n",
    "\n",
    "The order of counting is: (u'In', u'AlA', u'NiP')\n",
    "\n",
    "115In(n,n')       53 min  <br/>\n",
    "115In(n,g)        53 min <br/>\n",
    "58Ni(n,p)        477 min <br/>\n",
    "27Al(n,a)       1087 min <br/>\n",
    "\n",
    "#### Option 2)\n",
    "4 channels are lost; 1 has terrible statistics. Can count forever to get 2 channels with decent statistics and one with 10% stats. <br/>\n",
    "\n",
    "Total count time = 9.038333e+01 hrs\n",
    "\n",
    "The order of counting is: (u'In', u'NiP')\n",
    "\n",
    "115In(n,n')      102 min <br/>\n",
    "115In(n,g)       102 min <br/>\n",
    "58Ni(n,p)       12560 min <br/>"
   ]
  },
  {
   "cell_type": "code",
   "execution_count": null,
   "metadata": {
    "collapsed": true
   },
   "outputs": [],
   "source": []
  }
 ],
 "metadata": {
  "kernelspec": {
   "display_name": "Python 2",
   "language": "python",
   "name": "python2"
  },
  "language_info": {
   "codemirror_mode": {
    "name": "ipython",
    "version": 2
   },
   "file_extension": ".py",
   "mimetype": "text/x-python",
   "name": "python",
   "nbconvert_exporter": "python",
   "pygments_lexer": "ipython2",
   "version": "2.7.6"
  }
 },
 "nbformat": 4,
 "nbformat_minor": 0
}
