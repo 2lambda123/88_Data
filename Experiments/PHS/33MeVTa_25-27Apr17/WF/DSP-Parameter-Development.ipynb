{
 "cells": [
  {
   "cell_type": "markdown",
   "metadata": {},
   "source": [
    "# Digital Signal Processing Parameter Development\n",
    "\n",
    "This notebook is designed to determine the optimal parameters to use for the the experiment that ran 33 MeV deuterons on Ta in the vault on 25-27 April, 2017.  The experimental goals were:\n",
    "\n",
    "1) Measure the input beam for the ETA. <br\\>\n",
    "2) Provide baseline response for each detector in the \"native\" environment. <br\\>\n",
    "\n",
    "This experiment ran 3 EJ-309 scintillator detectors located at 0, 45, and 90 degrees of the beam. \n",
    "\n",
    "This notebook describes all of the steps required to generate pile-up rejection parameters, integration windows, and PSD parameters.\n",
    " \n",
    "The notebook is broken into the following sections: <br\\>\n",
    "1) Experiment Setup <br\\>\n",
    "2) Pile-up Rejection <br\\>\n",
    "3) Process Trees <br\\>\n",
    "4) PSD parameters <br\\>\n",
    "5) Convert to Scintillator Events <br\\>\n",
    "6) Make PHS Spectra <br\\>\n",
    "7) Perform Calibrations <br\\>\n",
    "\n",
    "At the start of each section, all of the modules necessary for that section are imported so that each can be run independently of the rest of the notebook (to the extent that the required inputs from previous sections exist). \n",
    "\n",
    "The notebook has dependencies on [PScripts](https://github.com/jamesbevins/PyScripts) and nsd-rootscripts."
   ]
  },
  {
   "cell_type": "markdown",
   "metadata": {},
   "source": [
    "## 1) Experimental Setup\n",
    "\n",
    "### Initial Setup of DAQ\n",
    "\n",
    "The DAQ was run in wave form mode. A separate pulse-amplitude-time data set was also taken, but it is not analyzed here."
   ]
  },
  {
   "cell_type": "markdown",
   "metadata": {
    "collapsed": true
   },
   "source": [
    "### Detector Configuration\n",
    "\n",
    "The detectors were set up as shown in the figure below (the figure is missing the detector at 45 and has an additional table):\n",
    "\n",
    "<img src=\"../Pics/CleanBeamSetup.jpg\">\n",
    "\n",
    "The detectors were placed at the following coordinates.  These distances were measured to the face of the detector from the wall for horizontal detectors at 45 and 90, and from the center of the face of the vertical detector at 0 degrees.\n",
    "\n",
    "EJ-309 (Det0): (81.0,0,0) cm <br\\>\n",
    "EJ-309 (Det45): (73.4,34.7,0) cm <br\\>\n",
    "EJ-309 (Det90): (52.4,91.4,0) cm <br\\>\n",
    "\n",
    "The connections were made as follows (no terminations were made on the output of the detectors):\n",
    "\n",
    "Detector   | PMT Data Out | Junction Data | Junction HV | HV Ch # | DAQ Ch #  \n",
    "---------- |:------------:|:-------------:|:-----------:|:-------:|:--------:\n",
    "Det0       |A1            |30             |50 (HV1)     |0        |0\n",
    "Det45      |A1            |31             |51 (HV2)     |1        |2\n",
    "Det90      |A1            |32             |52 (HV3)     |2        |4"
   ]
  },
  {
   "cell_type": "markdown",
   "metadata": {
    "collapsed": true
   },
   "source": [
    "### Setting Configuration\n",
    "\n",
    "#### Set Gain\n",
    "To determine the neutron (proton) energy to MeVee conversion, lightTables.getLight(neutron_energy,particle) was used from the nsd-rootscripts repo.  For this calibration, the max neutron energy is ~38 MeV. The max Be neutron energy is ~ 11 MeV.  \n",
    "\n",
    "With S = 1:  <br\\>\n",
    "lightTables.getLight(38,0) = 29.69 <br\\>\n",
    "lightTables.getLight(11,0) = 6.61  <br\\>\n",
    "\n",
    "For the 33 MeV on Ta, the ratio between the max E and the max AmBe neutron E is 4.5, which results in a FSR setting of 440 mV for neutrons, and the 4.4 MeV gamma line would be at 300 mV.  I am going to aim to put the edge of the gamma at 280 mV.  <br\\>\n",
    "\n",
    "**NOTE: Both the oscope and PSD must be scaled to ensure that the capture the full scale range (FSR) of the intended experiment.  There are two nobs to do this:**\n",
    "\n",
    "1) Bias - The higher the bias the better the PSD [affects both] <br/>\n",
    "2) Charge Sensitivity (on the channels tab) - Reduces the resolution, but allows for a wider FSR [only affects PSD]\n",
    "\n",
    "#### Determine PSD Settings\n",
    "\n",
    "After setting the gain the PSD gates and delays were set.  The best settings were determined to be:\n",
    "\n",
    "Detector | DAQ Ch# | Bias | Charge Sens | Pre-trigger | Threshold | Record Length | Trigger Holdoff  \n",
    "-------- |:-------:|:----:|:-----------:|:-----------:|:---------:|:-------------:|:----------------:\n",
    "Det0     |0        |1235V |20           |40           |50         |496            |300\n",
    "Det45    |2        |1250V |20           |40           |50         |496            |300\n",
    "Det90    |4        |1250V |20           |40           |50         |496            |300\n",
    "\n",
    "These are also saved as DppConfig_copy.txt in the 33MeVTa_25-27Apr17 folder on the DAQ and locally.\n"
   ]
  },
  {
   "cell_type": "markdown",
   "metadata": {},
   "source": [
    "## 2) Pile-up Rejection\n",
    "\n",
    "This code is best run interactively to assess the impact of the smoothing window and threshold on the pulse shape and detection of pile-up events.  \n",
    "\n",
    "An example set of commands is provided for Channel 0 for the first 10000 events with a smoothing window of 9 and a threshold of 12.  It is recommended to run this set of commands for each channel of interest.\n",
    "\n",
    "``` \n",
    "SCDigitalDaqPostProcessing ambe\n",
    "ambe.loadFile(\"AmBe_002.0.root\")\n",
    "ambe.developPileUpRejectionParameters(0,10000,0,9,12)\n",
    "```\n",
    "\n",
    "After running the command, a graph will populate with a detected threshold event looking like this:\n",
    "\n",
    "<img src=\"../Pics/Ch0_pileup.jpg\">\n",
    "\n",
    "The key here is to 1) ensure the baseline noise is smoothed without oversmoothing the peaks and 2) develop a threshold that captures real pulses without capturing random variation in the noise.  Yes, it is qualitative.  The final values used were:\n",
    "\n",
    "Detector | DAQ Ch# | Smoothing | Threshold |\n",
    "-------- |:-------:|:---------:|:---------:\n",
    "Det0     |0        |7          |15         \n",
    "Det45    |2        |7          |15         \n",
    "Det90    |4        |7          |15         "
   ]
  },
  {
   "cell_type": "markdown",
   "metadata": {},
   "source": [
    "## 3) Process Trees for Analysis \n",
    "\n",
    "The CFD Threshold was set to equal the software threshold @ 50 LSB.\n",
    "\n",
    "The baseline samples were set at 16; ~32 available from pre-trigger.\n",
    "\n",
    "The optimal integration window was chosen as 150, but multiple will be evaluated as part of the analysis process.\n",
    "\n",
    "Each of the sub-files were then combined into a single file using \"hadd\" command:\n",
    "\n",
    "```\n",
    "hadd proc-ambe_002.root AmBe_002.0.root AmBe_002.1.root \n",
    "```"
   ]
  },
  {
   "cell_type": "code",
   "execution_count": 1,
   "metadata": {
    "collapsed": false
   },
   "outputs": [
    {
     "name": "stdout",
     "output_type": "stream",
     "text": [
      "Currently working in: \n",
      " /home/pyne-user/Dropbox/UCB/Research/ETAs/88Inch/Data/Experiments/PHS/33MeVTa_25-27Apr17/WF/Calibration\n"
     ]
    }
   ],
   "source": [
    "import sys\n",
    "import os\n",
    "from ROOT import gROOT\n",
    "\n",
    "path = os.getcwd() + '/Calibration'\n",
    "os.chdir(path)\n",
    "print 'Currently working in: \\n {}'.format(os.getcwd())"
   ]
  },
  {
   "cell_type": "code",
   "execution_count": 2,
   "metadata": {
    "collapsed": false
   },
   "outputs": [
    {
     "data": {
      "text/plain": [
       "47022921531432L"
      ]
     },
     "execution_count": 2,
     "metadata": {},
     "output_type": "execute_result"
    }
   ],
   "source": [
    "gROOT.ProcessLine('SCDigitalDaqPostProcessing ambe')\n"
   ]
  },
  {
   "cell_type": "code",
   "execution_count": 7,
   "metadata": {
    "collapsed": false
   },
   "outputs": [
    {
     "data": {
      "text/plain": [
       "0L"
      ]
     },
     "execution_count": 7,
     "metadata": {},
     "output_type": "execute_result"
    }
   ],
   "source": [
    "gROOT.ProcessLine('ambe.loadFile(\"AmBe_002.root\")')\n",
    "gROOT.ProcessLine('ambe.processTreesForTailToPeakAnalysis(“../Processed-Trees/proc-AmBe_002.root”,50)')"
   ]
  },
  {
   "cell_type": "markdown",
   "metadata": {},
   "source": [
    "This allows you to plot individual PSD plots by running commands such as:\n",
    "    \n",
    "``` \n",
    "DigPSDAnalysis psd\n",
    "sd.loadFile(\"ambetree.root\")\n",
    "psd.getTailToPeakHist(0,16,28,16,200,-1)\n",
    "TBrowser a\n",
    "```"
   ]
  },
  {
   "cell_type": "markdown",
   "metadata": {},
   "source": [
    "## 4) Determine Optimal PSD Parameters:\n",
    "\n",
    "The optimal psd parameter for the tail to peak method are determined below.  Due to the interactive prompts, this section just describes the inputs used:\n",
    "\n",
    "```\n",
    "SCDigitalDaqPostProcessing test\n",
    "test.loadFilepost.loadFile(\"CleanBeam_002.3.root\")\n",
    "test.calibrateDSP() \n",
    "```\n",
    "\n",
    "The user prompts and respones: \n",
    "\n",
    "Are there any channels present that should be ignored while tuning?\n",
    "(yes,no):\n",
    ">yes\n",
    "\n",
    "enter the channel number\n",
    ">2\n",
    "\n",
    "Is there another channel to ignore?\n",
    ">yes\n",
    "\n",
    "enter the channel number\n",
    ">4\n",
    "\n",
    "Is there another channel to ignore?\n",
    ">yes\n",
    "\n",
    "enter the channel number\n",
    ">14\n",
    "\n",
    "Is there another channel to ignore?\n",
    ">no\n",
    "\n",
    "What psd method would you like to use?\n",
    "Tail to Peak: 1\n",
    "Tail to Total: 2\n",
    "90 10 Delta T: 3 \n",
    ">1\n",
    "\n",
    "Would you like to use a common start or one determined from a leading edge discriminator?\n",
    "If you would like to use leading edge, enter -1*threshold in bits \n",
    "If you would like to use a common start please reference the plot and enter the sample number \n",
    ">-50\n",
    "\n",
    "Enter Short Gate Min.(8)\n",
    ">8\n",
    "\n",
    "Enter Short Gate Max.(28)\n",
    ">28\n",
    "\n",
    "Enter Tail Min.(20)\n",
    ">20\n",
    "\n",
    "Enter Tail Max.(60)\n",
    ">60\n",
    "\n",
    "Enter tailOffsetMin.(6)\n",
    ">6 \n",
    "\n",
    "Enter tailOffsetMax.(24)\n",
    ">24\n",
    "\n",
    "Enter Integration Length(200)\n",
    ">150\n",
    "\n",
    "The results obtained were\n",
    "\n",
    "The best figure of merit is 1.76518\n",
    "The best parameters appear to be \n",
    "Peak Window = 12\n",
    "Tail Window = 30\n",
    "Tail Offset = 15\n",
    "\n",
    "### Results\n",
    "May permutations of threshold, integration widow, nd each window were tried.  In the end, there is a broad minimum that is best found with wide search parameters.  Although slightly better results could potentially be obtained by shifting the values by 1 or 2, this would have minimal impact on the final results.\n",
    "\n",
    "Th summary of the results or each channel are:\n",
    "\n",
    "#### Calibration - AmBe\n",
    "\n",
    "Parameters      | Ch 0 | Ch 2 | Ch4 |\n",
    ":--------------:|:----:|:----:|:----:\n",
    "Threshold       |-50   |-50   |-50\n",
    "Short Gate Min  |8     |10    |10         \n",
    "Short Gate Max  |28    |15    |15         \n",
    "Tail Min        |20    |24    |24  \n",
    "Tail Max        |60    |36    |36\n",
    "Tail Offset Min |6     |12    |12\n",
    "Tail Offset Max |24    |18    |18\n",
    "Integration Win |150   |150   |150\n",
    "----------------|------|------|-----\n",
    "FOM             |1.78  |1.75  |1.70\n",
    "Peak Window     |12    |13    |14\n",
    "Tail Window     |30    |33    |30\n",
    "Tail Offset     |14    |14    |14\n",
    "\n",
    "#### Beam\n",
    "\n",
    "NOTE: Ch 2 and 4 did not return optimized results, presumably from a low number of neutron events due to being off-axis.  The Ch0 settings were copied, a reasonable approach given experience.  \n",
    "\n",
    "Parameters      | Ch 0 | Ch 2 | Ch4 |\n",
    ":--------------:|:----:|:----:|:----:\n",
    "Threshold       |-50   |-50   |-50\n",
    "Short Gate Min  |10    |8     |8         \n",
    "Short Gate Max  |15    |28    |28         \n",
    "Tail Min        |31    |20    |20  \n",
    "Tail Max        |39    |60    |60\n",
    "Tail Offset Min |10    |6     |6\n",
    "Tail Offset Max |16    |24    |24\n",
    "Integration Win |150   |150   |150\n",
    "----------------|------|------|-----\n",
    "FOM             |1.69  |      | \n",
    "Peak Window     |10    |10    |10\n",
    "Tail Window     |31    |31    |31\n",
    "Tail Offset     |13    |13    |13\n",
    "\n",
    "#### ETA\n",
    "Parameters      | Ch 0 | Ch 2 | Ch4 |\n",
    ":--------------:|:----:|:----:|:----:\n",
    "Threshold       |-50   |-50   |-50\n",
    "Short Gate Min  |8     |10    |8         \n",
    "Short Gate Max  |28    |15    |13         \n",
    "Tail Min        |20    |24    |26  \n",
    "Tail Max        |60    |36    |30\n",
    "Tail Offset Min |6     |12    |12\n",
    "Tail Offset Max |24    |18    |18\n",
    "Integration Win |150   |150   |150\n",
    "----------------|------|------|-----\n",
    "FOM             |1.65  |1.67  |1.67\n",
    "Peak Window     |10    |14    |11\n",
    "Tail Window     |34    |30    |29\n",
    "Tail Offset     |13    |12    |13\n"
   ]
  },
  {
   "cell_type": "markdown",
   "metadata": {},
   "source": [
    "## 5)  Convert Waveforms to ScintillatorEvents\n",
    "\n",
    "The following gROOT commands convert the Waveforms to Scintillator events according the the parameters determined above and set in \n",
    "\n",
    "```\n",
    "calDSPFile.txt\n",
    "```\n",
    "\n",
    "The code below will loop over all of the calibration .roo files, convert to ScintillatorEvent .root trees, and output the code to add them to a combined tree.  The output code can be run from the command prompt in the directory with the .root files. "
   ]
  },
  {
   "cell_type": "code",
   "execution_count": 1,
   "metadata": {
    "collapsed": false
   },
   "outputs": [
    {
     "name": "stdout",
     "output_type": "stream",
     "text": [
      "/home/pyne-user/Dropbox/UCB/Research/ETAs/88Inch/Data/Experiments/PHS/33MeVTa_25-27Apr17/WF/Calibration/Raw\n",
      "Adding:  Co60_003.1.root\n",
      "Adding:  Cs137_002.0.root\n",
      "Adding:  AmBe_002.1.root\n",
      "Adding:  Co60_002.0.root\n",
      "Adding:  Co60_003.0.root\n",
      "Adding:  AmBe_002.0.root\n",
      "Adding:  Cs137_002.1.root\n",
      "Adding:  Co60_002.1.root\n",
      "Adding:  AmBe_003.1.root\n",
      "Adding:  Cs137_003.0.root\n",
      "Adding:  AmBe_003.0.root\n",
      "\n",
      "\n",
      "Run this code in the terminal from the following directory: /home/pyne-user/Dropbox/UCB/Research/ETAs/88Inch/Data/Experiments/PHS/33MeVTa_25-27Apr17/WF/Calibration/Raw\n",
      "\n",
      "hadd Cs137_003_SE.root Cs137_003.0_SE.root \n",
      "hadd Cs137_002_SE.root Cs137_002.0_SE.root Cs137_002.1_SE.root \n",
      "hadd AmBe_002_SE.root AmBe_002.1_SE.root AmBe_002.0_SE.root \n",
      "hadd AmBe_003_SE.root AmBe_003.1_SE.root AmBe_003.0_SE.root \n",
      "hadd Co60_003_SE.root Co60_003.1_SE.root Co60_003.0_SE.root \n",
      "hadd Co60_002_SE.root Co60_002.0_SE.root Co60_002.1_SE.root \n"
     ]
    }
   ],
   "source": [
    "import os\n",
    "from ROOT import gROOT\n",
    "\n",
    "runNum = ['002', '003']   #Run Numbers to include\n",
    "fileNum = ['0', '1']\n",
    "\n",
    "hadd= {}\n",
    "\n",
    "os.chdir(os.getcwd()+'/Calibration/Raw')\n",
    "print os.getcwd()\n",
    "\n",
    "gROOT.ProcessLine('SCDigitalDaqPostProcessing post')\n",
    "\n",
    "for filename in os.listdir(os.getcwd()):\n",
    "    prefix = os.path.splitext(filename)[0]\n",
    "    try:\n",
    "        part = prefix.split('.')[1]\n",
    "        run = prefix.split('.')[0].split('_')[1]\n",
    "    except:\n",
    "        part = -1\n",
    "        run = -1\n",
    "    \n",
    "    if filename.endswith(\".root\") and run in runNum and part in fileNum:\n",
    "        # Build dictionary off hadd commands\n",
    "        name = prefix.split('.')[0]\n",
    "        if name not in hadd:\n",
    "            hadd[name] = 'hadd {}_SE.root {}_SE.root '.format(name, prefix)\n",
    "        else:\n",
    "            hadd[name] += '{}_SE.root '.format(prefix)\n",
    "            \n",
    "        # Convert to scintillator events\n",
    "        print \"Adding: \", filename\n",
    "        gROOT.ProcessLine('post.loadFile(\"{}\")'.format(filename))\n",
    "        gROOT.ProcessLine('post.reduceToPATScintillatorEvent(\"{}_SE.root\", \"calibDSPFile.txt\")'.format(prefix))\n",
    "\n",
    "print \"\\n\\nRun this code in the terminal from the following directory: {}\\n\".format(os.getcwd())\n",
    "for k, v in hadd.iteritems():\n",
    "    print v"
   ]
  },
  {
   "cell_type": "markdown",
   "metadata": {},
   "source": [
    "## 6)  Make Pulse Height Spectra\n",
    "\n",
    "### AmBe Data (mixed neutron and gamma)\n",
    "\n",
    "#### Gaussian fitted PSD cuts:\n",
    "\n",
    "To perform the unfolding, it is necessary to toss out the gamma data from the target data.   A PSD cut based on a gaussian fitting of the neutron and gamma bands is used for the AmBe data\n",
    "\n",
    "This cannot be run interactively since the software requires user inputs in the terminal and is a little finicky.  The process is described instead.  Each step lists the values used for each channel in the format (ch 0, ch1, ..., ch N)\n",
    "\n",
    "First load up the file desired and specify the channel:\n",
    "\n",
    "```\n",
    "DDaqPostProcessing phs\n",
    "phs.loadFile(\"AmBe_002_SE.root\")\n",
    "\n",
    "What is the tree name?\n",
    ">channel_0_events\n",
    "\n",
    "```\n",
    "\n",
    "Next, create the necessary object and start the fit for the calibration set of interest:\n",
    "\n",
    "```\n",
    "phs.developFittedPSDCut(0)\n",
    "```\n",
    "This will open a PSD plot and ask for a linear PSD cut. Determine what linear cut works at high PH and enter it.  **(0.05, 0.052, ) used for this analysis**\n",
    "\n",
    "It then asks for a PH above where mixing occurs.  Chose a PH channel where there is clearly no mixing.  **(8000, 10000) used for this analysis**\n",
    "\n",
    "Next, enter a start bin # where there is PH data.  This is bin #, not channel #.  **(25, 25) used for this analysis**\n",
    "\n",
    "Finally enter a stop bin number where the fitting will stop.  This is bin #, not channel #.  **(165, 205) used for this analysis**\n",
    "\n",
    "This spawns a fitting window for the two distributions.  If the fit is good, hit update, close, and type a letter into the terminal to continue.  If the fit is bad, manually adjust the parameters until a decent fit is obtained and hit fit.  Then update, close, and type a letter in the terminal. \n",
    "\n",
    "The results should look something like this:\n",
    "\n",
    "<img src=\"../Pics/FittedCuts_Ch2.png\">\n",
    "\n",
    "#### Linear low PH cuts:\n",
    "\n",
    "The PHS will turn over due to the software threshold at some point.  This must be cut to avoid skewing the resulting unfolded neutron spectrum because the turnover is due to a software cutoff, not a lack of neutrons.  The following command will apply the Gaussian PSD cuts and ask for a linear PH cut **(1450, 1350 used for this analysis)**:\n",
    "\n",
    "```\n",
    "phs.makeDualPhSpectra(\"AmBe_002_ch0_PHS.root\", true)\n",
    "```\n",
    "\n",
    "### Co60, Cs137 data\n",
    "\n",
    "```\n",
    "DDaqPostProcessing phs\n",
    "phs.loadFile(\"Cs137_002_SE.root\")\n",
    "phs.getPhSpectrum()\n",
    "TBrowser a\n",
    "```\n",
    "\n",
    "This will open a TBrowser window.  Right click on the PhSpectrum and select \"save as\"  'Cs137_002_ch0_PHS.root'\n",
    "\n",
    "```\n",
    "DDaqPostProcessing phs\n",
    "phs.loadFile(\"Co60_002_SE.root\")\n",
    "phs.getPhSpectrum()\n",
    "TBrowser a1\n",
    "```\n",
    "\n",
    "### Combine experimental data into a single file\n",
    "\n",
    "**NOTE: Order matters!  This must be the same order as the data files above.** <br\\>\n",
    "**NOTE: These are run from the cmd line in the directory the files reside, not from within Root.**\n",
    "\n",
    "```\n",
    "rootcp AmBe_002_ch0_PHS.root:PHGamWithCut_0 Ch0_Calib.root:AmBe\n",
    "rootcp Cs137_002_ch0_PHS.root:PhSpectrum_0 Ch0_Calib.root:Cs137\n",
    "rootcp Co60_002_ch0_PHS.root:PhSpectrum_0 Ch0_Calib.root:Co60\n",
    "```\n",
    "\n",
    "### Combine the Calibration Simulation Files\n",
    "\n",
    "**NOTE: Order matters!  This must be the same order as the data files above.** <br\\>\n",
    "**NOTE: These are run from the cmd line in the directory the files reside, not from within Root.**\n",
    "\n",
    "\n",
    "```\n",
    "rootcp AmBeDeposition.root:AmBeDeposition CalibSim.root:AmBeSim \n",
    "rootcp NaCsCoGammas.root:Cs137 CalibSim.root:Cs137Sim \n",
    "rootcp CoDeposition.root:CoDeposition CalibSim.root:Co60Sim \n",
    "```\n",
    "\n",
    "\n",
    "### Rinse lather and repeat\n",
    "\n",
    "For all channels....\n"
   ]
  },
  {
   "cell_type": "markdown",
   "metadata": {},
   "source": [
    "## 7) Perform Calibrations\n",
    "\n",
    "Simulation Based Calibrations\n",
    "\n",
    "Required:  <br/>\n",
    "1) Vector of pointers to histograms of data  <br/>\n",
    "2) Vector of pointers to histograms of simulations of that data in the same order  <br/>\n",
    "\n",
    "To run the calibrations, use the start16MeVTaCalibrations_detNum.cpp script located in the Calibration folder.  \n",
    "\n",
    "**NOTE: The nsd-rootscripts repo contains an example that is similar. This script must be loaded first for both methods.**\n",
    "\n",
    "This script contains user variables that must be modified.  For this mode, two methods are used and require modifications to the script:\n",
    "\n",
    "1) startGuessSimCalib(): modify the file names <br/>\n",
    "2) startSimCalibration(): modify the file names and each of the parameters  <br/>\n",
    "\n",
    "It is recommended to use startGuessSimCalib() first; then use those parameters to use startSimCalibration with background subtraction.  However, if you have starting calibration and scale parameters, startSimCalibration() can be used without startGuessSimCalib(). \n",
    "\n",
    "### Detector 0 (ch0)\n",
    "\n",
    "#### startGuessSimCalib\n",
    "\n",
    "First load the script and run the method for detector 0:"
   ]
  },
  {
   "cell_type": "code",
   "execution_count": 1,
   "metadata": {
    "collapsed": false
   },
   "outputs": [
    {
     "name": "stdout",
     "output_type": "stream",
     "text": [
      "Currently working in: \n",
      " /home/pyne-user/Dropbox/UCB/Research/ETAs/88Inch/Data/Experiments/PHS/33MeVTa_25-27Apr17/WF/Calibration/Raw\n"
     ]
    },
    {
     "data": {
      "text/plain": [
       "0L"
      ]
     },
     "execution_count": 1,
     "metadata": {},
     "output_type": "execute_result"
    }
   ],
   "source": [
    "import os\n",
    "from ROOT import gROOT\n",
    "\n",
    "path = '/home/pyne-user/Dropbox/UCB/Research/ETAs/88Inch/Data/Experiments/PHS/33MeVTa_25-27Apr17/WF/Calibration/ScintillatorEvents'\n",
    "os.chdir(path)\n",
    "print 'Currently working in: \\n {}'.format(os.getcwd())\n",
    "\n",
    "gROOT.ProcessLine('.L start33MeVTaCalibration_0.cpp')"
   ]
  },
  {
   "cell_type": "markdown",
   "metadata": {},
   "source": [
    "Launch the gui:"
   ]
  },
  {
   "cell_type": "code",
   "execution_count": 2,
   "metadata": {
    "collapsed": false
   },
   "outputs": [
    {
     "data": {
      "text/plain": [
       "108694512L"
      ]
     },
     "execution_count": 2,
     "metadata": {},
     "output_type": "execute_result"
    },
    {
     "name": "stderr",
     "output_type": "stream",
     "text": [
      "TPad::ResizePad:0: RuntimeWarning: Inf/NaN propagated to the pad. Check drawn objects.\n",
      "TPad::ResizePad:0: RuntimeWarning: upperPad height changed from 0 to 10\n",
      "\n",
      "TPad::ResizePad:0: RuntimeWarning: Inf/NaN propagated to the pad. Check drawn objects.\n",
      "TPad::ResizePad:0: RuntimeWarning: lowerPad height changed from 0 to 10\n",
      "\n",
      "TPad::ResizePad:0: RuntimeWarning: Inf/NaN propagated to the pad. Check drawn objects.\n",
      "TPad::ResizePad:0: RuntimeWarning: upperPad height changed from 0 to 10\n",
      "\n",
      "TPad::ResizePad:0: RuntimeWarning: Inf/NaN propagated to the pad. Check drawn objects.\n",
      "TPad::ResizePad:0: RuntimeWarning: lowerPad height changed from 0 to 10\n",
      "\n",
      "TPad::ResizePad:0: RuntimeWarning: Inf/NaN propagated to the pad. Check drawn objects.\n"
     ]
    }
   ],
   "source": [
    "gROOT.ProcessLine('obj0=startGuessSimCalib()')"
   ]
  },
  {
   "cell_type": "markdown",
   "metadata": {},
   "source": [
    "Set the ranges and the good starting points using the GUI.\n",
    "\n",
    "Then run the optimization routine in the cell below. \n",
    "\n",
    "Repeat the cell below until satified with the fit.\n",
    "\n",
    "**NOTE: The plots should update.  From there, the ranges can be adjusted as necessary before running the optimization routine again. Ensure that no parameters are pegged to range limits.**"
   ]
  },
  {
   "cell_type": "code",
   "execution_count": 6,
   "metadata": {
    "collapsed": false
   },
   "outputs": [
    {
     "data": {
      "text/plain": [
       "159658096L"
      ]
     },
     "execution_count": 6,
     "metadata": {},
     "output_type": "execute_result"
    }
   ],
   "source": [
    "gROOT.ProcessLine('obj0->findGammaCalibrationConstants()')"
   ]
  },
  {
   "cell_type": "code",
   "execution_count": 9,
   "metadata": {
    "collapsed": false
   },
   "outputs": [
    {
     "data": {
      "text/plain": [
       "0L"
      ]
     },
     "execution_count": 9,
     "metadata": {},
     "output_type": "execute_result"
    }
   ],
   "source": [
    "gROOT.ProcessLine('obj0->writeStateToDisk(\"CalibParams_0.txt\")')"
   ]
  },
  {
   "cell_type": "markdown",
   "metadata": {},
   "source": [
    "#### startSimCalib\n",
    "\n",
    "Perform a more thorough calibration using the parameters found from above (copy them from the calib_params file into the startSimCalib function).  A power law fit is used for the background subtraction."
   ]
  },
  {
   "cell_type": "code",
   "execution_count": 1,
   "metadata": {
    "collapsed": false
   },
   "outputs": [
    {
     "name": "stdout",
     "output_type": "stream",
     "text": [
      "Currently working in: \n",
      " /home/pyne-user/Dropbox/UCB/Research/ETAs/88Inch/Data/Experiments/PHS/33MeVTa_25-27Apr17/WF/Calibration/Raw\n"
     ]
    },
    {
     "data": {
      "text/plain": [
       "0L"
      ]
     },
     "execution_count": 1,
     "metadata": {},
     "output_type": "execute_result"
    }
   ],
   "source": [
    "import os\n",
    "from ROOT import gROOT\n",
    "\n",
    "path = '/home/pyne-user/Dropbox/UCB/Research/ETAs/88Inch/Data/Experiments/PHS/33MeVTa_25-27Apr17/WF/Calibration/ScintillatorEvents'\n",
    "os.chdir(path)\n",
    "print 'Currently working in: \\n {}'.format(os.getcwd())\n",
    "\n",
    "gROOT.ProcessLine('.L start33MeVTaCalibration_0.cpp')"
   ]
  },
  {
   "cell_type": "code",
   "execution_count": 2,
   "metadata": {
    "collapsed": false
   },
   "outputs": [
    {
     "data": {
      "text/plain": [
       "119438176L"
      ]
     },
     "execution_count": 2,
     "metadata": {},
     "output_type": "execute_result"
    }
   ],
   "source": [
    "gROOT.ProcessLine('sim0=startSimCalibration()')"
   ]
  },
  {
   "cell_type": "code",
   "execution_count": 15,
   "metadata": {
    "collapsed": false
   },
   "outputs": [
    {
     "data": {
      "text/plain": [
       "705950624L"
      ]
     },
     "execution_count": 15,
     "metadata": {},
     "output_type": "execute_result"
    }
   ],
   "source": [
    "gROOT.ProcessLine('sim0->findGammaCalibrationConstants()')"
   ]
  },
  {
   "cell_type": "code",
   "execution_count": 16,
   "metadata": {
    "collapsed": false
   },
   "outputs": [
    {
     "data": {
      "text/plain": [
       "0L"
      ]
     },
     "execution_count": 16,
     "metadata": {},
     "output_type": "execute_result"
    }
   ],
   "source": [
    "gROOT.ProcessLine('sim0->writeStateToDisk(\"CalibParams_0.txt\")')"
   ]
  },
  {
   "cell_type": "code",
   "execution_count": 17,
   "metadata": {
    "collapsed": false
   },
   "outputs": [
    {
     "data": {
      "text/plain": [
       "1L"
      ]
     },
     "execution_count": 17,
     "metadata": {},
     "output_type": "execute_result"
    }
   ],
   "source": [
    "gROOT.ProcessLine('sim0->getMinimizer()->Hesse()')"
   ]
  },
  {
   "cell_type": "markdown",
   "metadata": {},
   "source": [
    "The calibration is saved as **CalibParams_0.txt**.  The fit obtained was:\n",
    "\n",
    "<img src=\"../Pics/33MeVTa_Det0FinalCalib.png\">\n",
    "\n",
    "##### The minimization results (Det0):\n",
    "\n",
    " ext. ||   Name    ||   type  ||     Value     ||  Error +/- \n",
    "\n",
    "   0   ||         a || limited ||   0.000250204069869 ||6.021956509881e-07 <br/>\n",
    "   1   ||         b || limited ||    0.02117200623201 ||0.00156164423595 <br/>\n",
    "   2   ||        Ec || limited ||     0.0922906401894 ||0.006951070557459 <br/>\n",
    "   3   ||        E1 || limited ||     0.1619316922919 ||0.00251963153235 <br/>\n",
    "   4   ||        E2 || limited ||    0.01000000314372* ||0.01556408847748 <br/>\n",
    "   5   ||AmBeSim_scaler || limited ||      12515.79116676 ||115.5094235447 <br/>\n",
    "   6   ||Cs137Sim_scaler || limited ||      183597.7173536 ||428.5828042477 <br/>\n",
    "   7   ||Co60Sim_scaler || limited ||      66063.85137435 ||258.0181886081 <br/>\n",
    "\n",
    "* Parameter is at Lower limit\n",
    "\n",
    "\n",
    "covariance matrix status: 3 <br/>\n",
    "covariance matrix:  <br/>\n",
    "MnUserCovariance:  <br/>\n",
    "\n",
    "  3.62642e-13 -9.22189e-10  3.82461e-09 -1.04584e-09 -7.01477e-16 -1.72787e-05   2.8022e-06  1.28513e-05 <br/>\n",
    " -9.22189e-10   2.4672e-06 -9.85076e-06  2.97065e-06  1.94802e-12    0.0436021  -0.00894099   -0.0304707 <br/>\n",
    "  3.82461e-09 -9.85076e-06  4.86144e-05 -1.45475e-05 -2.86436e-12    -0.185787    0.0315942     0.137285 <br/>\n",
    " -1.04584e-09  2.97065e-06 -1.45475e-05  6.35064e-06 -7.56139e-12     0.050265   -0.0104243    -0.033823 <br/>\n",
    " -7.01477e-16  1.94802e-12 -2.86436e-12 -7.56139e-12    2.001e-10  3.11535e-08 -1.64882e-08  -2.0588e-08 <br/>\n",
    " -1.72787e-05    0.0436021    -0.185787     0.050265  3.11535e-08      13342.7      -129.03     -620.191 <br/>\n",
    "   2.8022e-06  -0.00894099    0.0315942   -0.0104243 -1.64882e-08      -129.03       183685      65.0487 <br/>\n",
    "  1.28513e-05   -0.0304707     0.137285    -0.033823  -2.0588e-08     -620.191      65.0487      66574.4 <br/>\n",
    "\n",
    "MnUserCovariance Parameter correlations:  <br/>\n",
    "\n",
    "            1    -0.974941     0.910888    -0.689154 -8.23476e-05    -0.248399    0.0108573    0.0827095 <br/>\n",
    "    -0.974941            1    -0.899466     0.750483  8.76734e-05     0.240317   -0.0132815   -0.0751842 <br/>\n",
    "     0.910888    -0.899466            1    -0.827936 -2.90417e-05    -0.230681    0.0105728    0.0763112 <br/>\n",
    "    -0.689154     0.750483    -0.827936            1 -0.000212114     0.172678  -0.00965161   -0.0520175 <br/>\n",
    " -8.23476e-05  8.76734e-05 -2.90417e-05 -0.000212114            1  1.90661e-05 -2.71965e-06 -5.64077e-06 <br/>\n",
    "    -0.248399     0.240317    -0.230681     0.172678  1.90661e-05            1  -0.00260635    -0.020809 <br/>\n",
    "    0.0108573   -0.0132815    0.0105728  -0.00965161 -2.71965e-06  -0.00260635            1  0.000588231 <br/>\n",
    "    0.0827095   -0.0751842    0.0763112   -0.0520175 -5.64077e-06    -0.020809  0.000588231            1 <br/>\n",
    "\n",
    "global correlation coefficients :  <br/>\n",
    "MnGlobalCorrelationCoeff:  <br/>\n",
    "\n",
    "      0.98595 \n",
    "     0.982836 \n",
    "     0.956655 \n",
    "     0.893037 \n",
    "   0.00052918 \n",
    "     0.248828 \n",
    "    0.0169782 \n",
    "    0.0864814 \n"
   ]
  },
  {
   "cell_type": "code",
   "execution_count": 18,
   "metadata": {
    "collapsed": false
   },
   "outputs": [
    {
     "data": {
      "text/plain": [
       "0L"
      ]
     },
     "execution_count": 18,
     "metadata": {},
     "output_type": "execute_result"
    }
   ],
   "source": [
    "# Plot Resolution function\n",
    "gROOT.ProcessLine('TF1* resolution = sim0->getResolutionFunction()')\n",
    "gROOT.ProcessLine('TCanvas c2')\n",
    "gROOT.ProcessLine('resolution->Draw()')"
   ]
  },
  {
   "cell_type": "markdown",
   "metadata": {},
   "source": [
    "#### Resolution Function\n",
    "<img src=\"../Pics/ResolutionFunct_Det0.png\">\n",
    "\n",
    "#### Resolution Function From Literature\n",
    "<img src=\"../Pics/LitEJ309ResolutionFunct.png\">"
   ]
  },
  {
   "cell_type": "markdown",
   "metadata": {},
   "source": [
    "### Detector 45 (Ch2)\n",
    "#### startSimCalib\n",
    "\n",
    "Perform a more thorough calibration using the parameters found from above (copy them from the calib_params file into the startSimCalib function).  A power law fit is used for the background subtraction."
   ]
  },
  {
   "cell_type": "code",
   "execution_count": 1,
   "metadata": {
    "collapsed": false
   },
   "outputs": [
    {
     "name": "stdout",
     "output_type": "stream",
     "text": [
      "Currently working in: \n",
      " /home/pyne-user/Dropbox/UCB/Research/ETAs/88Inch/Data/Experiments/PHS/33MeVTa_29-31Mar17/CalibData\n"
     ]
    },
    {
     "data": {
      "text/plain": [
       "0L"
      ]
     },
     "execution_count": 1,
     "metadata": {},
     "output_type": "execute_result"
    }
   ],
   "source": [
    "import os\n",
    "from ROOT import gROOT\n",
    "\n",
    "path = '/home/pyne-user/Dropbox/UCB/Research/ETAs/88Inch/Data/Experiments/PHS/33MeVTa_29-31Mar17/CalibData/'\n",
    "os.chdir(path)\n",
    "print 'Currently working in: \\n {}'.format(os.getcwd())\n",
    "\n",
    "gROOT.ProcessLine('.L start33MeVTaCalibration_45.cpp')"
   ]
  },
  {
   "cell_type": "code",
   "execution_count": 2,
   "metadata": {
    "collapsed": false
   },
   "outputs": [
    {
     "data": {
      "text/plain": [
       "101036864L"
      ]
     },
     "execution_count": 2,
     "metadata": {},
     "output_type": "execute_result"
    }
   ],
   "source": [
    "gROOT.ProcessLine('sim0=startSimCalibration()')"
   ]
  },
  {
   "cell_type": "code",
   "execution_count": 23,
   "metadata": {
    "collapsed": false
   },
   "outputs": [
    {
     "data": {
      "text/plain": [
       "107781200L"
      ]
     },
     "execution_count": 23,
     "metadata": {},
     "output_type": "execute_result"
    }
   ],
   "source": [
    "gROOT.ProcessLine('sim0->findGammaCalibrationConstants()')"
   ]
  },
  {
   "cell_type": "code",
   "execution_count": 24,
   "metadata": {
    "collapsed": false
   },
   "outputs": [
    {
     "data": {
      "text/plain": [
       "0L"
      ]
     },
     "execution_count": 24,
     "metadata": {},
     "output_type": "execute_result"
    }
   ],
   "source": [
    "gROOT.ProcessLine('std::vector<double> params0 = sim0->findGammaCalibrationConstants()')\n",
    "gROOT.ProcessLine('sim0->writeStateToDisk(\"CalibParams_2.txt\")')"
   ]
  },
  {
   "cell_type": "code",
   "execution_count": 25,
   "metadata": {
    "collapsed": false
   },
   "outputs": [
    {
     "data": {
      "text/plain": [
       "1L"
      ]
     },
     "execution_count": 25,
     "metadata": {},
     "output_type": "execute_result"
    }
   ],
   "source": [
    "gROOT.ProcessLine('sim0->getMinimizer()->Hesse()')"
   ]
  },
  {
   "cell_type": "markdown",
   "metadata": {},
   "source": [
    "The calibration is saved as **CalibParams_2.txt**.  The fit obtained was:\n",
    "\n",
    "<img src=\"Pics/33MeVTa_Det45FinalCalib.png\">\n",
    "\n",
    "##### The minimization results (Det45):\n",
    "\n",
    " EIGENVALUES OF SECOND-DERIVATIVE MATRIX: <br\\>\n",
    "-2.5809e+02  4.3164e-01  7.2905e-01  8.0125e-01  9.1741e-01  9.3912e-01  9.4229e-01  9.9491e-01  9.9775e-01  1.0000e+00  1.0000e+00  1.0027e+00  1.0049e+00  1.0572e+00  1.2470e+00  1.6060e+00  2.6042e+02 <br\\>\n",
    " FCN=2007.51 FROM HESSE     STATUS=NOT POSDEF    249 CALLS         250 TOTAL <br\\>\n",
    "                     EDM=9.25554e+06    STRATEGY= 1      ERR MATRIX NOT POS-DEF <br\\>\n",
    "  EXT PARAMETER                APPROXIMATE     INTERNAL      INTERNAL   <br\\>\n",
    "  NO.   NAME      VALUE            ERROR       STEP SIZE       VALUE    <br\\>\n",
    "   1  a            1.17689e-03   1.71843e-07   2.39372e-04   3.45520e-01 <br\\>\n",
    "   2  b            3.19963e-02   2.33971e-02   5.22846e-05  -2.29474e-04 <br\\>\n",
    "   3  Ec           1.22023e-01   7.49948e-06   1.08847e-02  -2.54454e-01 <br\\>\n",
    "   4  E1           9.75827e-02   1.00534e-05   1.65469e-02  -3.74239e-01 <br\\>\n",
    "   5  E2           1.52449e-01   7.06010e-05   3.28449e-03   1.08105e-01 <br\\>\n",
    "   \n",
    " EXTERNAL ERROR MATRIX.    NDIM=  25    NPAR= 17    ERR DEF=1 <br\\>\n",
    " ELEMENTS ABOVE DIAGONAL ARE NOT PRINTED. <br\\>\n",
    "  2.953e-14 -5.382e-09 -4.518e-13 -1.009e-12 -1.194e-11 <br\\>\n",
    " -5.382e-09  9.841e-04  8.261e-08  1.845e-07  2.184e-06  <br\\>\n",
    " -4.518e-13  8.261e-08  5.624e-11  1.548e-11  1.833e-10 <br\\>\n",
    " -1.009e-12  1.845e-07  1.548e-11  1.011e-10  4.092e-10 <br\\>\n",
    " -1.194e-11  2.184e-06  1.833e-10  4.092e-10  4.984e-09  <br\\>\n",
    "ERR MATRIX NOT POS-DEF  <br\\>\n",
    "\n",
    " PARAMETER  CORRELATION COEFFICIENTS   <br\\>\n",
    "       NO.  GLOBAL      1      2      3      4      5      6      7      8      9     10     11     12     13     14     15     16 <br\\>\n",
    "        1  0.99835   1.000 -0.998 -0.351 -0.584 -0.984 -0.498 -0.995 -0.524 -0.149 -0.305  0.000 -0.964  0.882 -0.002 -0.253 -0.092 <br\\>\n",
    "        2  0.99900  -0.998  1.000  0.351  0.585  0.986  0.499  0.996  0.525  0.149  0.306 -0.000  0.966 -0.883  0.002  0.254  0.092 <br\\>\n",
    "        3  0.35116  -0.351  0.351  1.000  0.205  0.346  0.175  0.350  0.184  0.052  0.107 -0.000  0.339 -0.310  0.001  0.089  0.032 <br\\>\n",
    "        4  0.58484  -0.584  0.585  0.205  1.000  0.577  0.292  0.583  0.307  0.087  0.179 -0.000  0.565 -0.517  0.001  0.148  0.054 <br\\>\n",
    "        5  0.98587  -0.984  0.986  0.346  0.577  1.000  0.492  0.982  0.517  0.147  0.301 -0.000  0.952 -0.871  0.002  0.250  0.091 <br\\>\n",
    "        6  0.49882  -0.498  0.499  0.175  0.292  0.492  1.000  0.497  0.262  0.074  0.152 -0.000  0.482 -0.441  0.001  0.127  0.046 <br\\>\n",
    "        7  0.99649  -0.995  0.996  0.350  0.583  0.982  0.497  1.000  0.523  0.149  0.305 -0.000  0.962 -0.880  0.002  0.253  0.092 <br\\>\n",
    "        8  0.52454  -0.524  0.525  0.184  0.307  0.517  0.262  0.523  1.000  0.078  0.160 -0.000  0.507 -0.463  0.001  0.133  0.048 <br\\>\n",
    "        9  0.14903  -0.149  0.149  0.052  0.087  0.147  0.074  0.149  0.078  1.000  0.045 -0.000  0.144 -0.132  0.000  0.038  0.014 <br\\>\n",
    "       10  0.30572  -0.305  0.306  0.107  0.179  0.301  0.152  0.305  0.160  0.045  1.000 -0.000  0.295 -0.270  0.000  0.078  0.028 <br\\>\n",
    "       11  0.00020   0.000 -0.000 -0.000 -0.000 -0.000 -0.000 -0.000 -0.000 -0.000 -0.000  1.000 -0.000  0.000 -0.000 -0.000 -0.000 <br\\>\n",
    "       12  0.96584  -0.964  0.966  0.339  0.565  0.952  0.482  0.962  0.507  0.144  0.295 -0.000  1.000 -0.853  0.002  0.245  0.089 <br\\>\n",
    "       13  0.88349   0.882 -0.883 -0.310 -0.517 -0.871 -0.441 -0.880 -0.463 -0.132 -0.270  0.000 -0.853  1.000 -0.001 -0.224 -0.082 <br\\>\n",
    "       14  0.00156  -0.002  0.002  0.001  0.001  0.002  0.001  0.002  0.001  0.000  0.000 -0.000  0.002 -0.001  1.000  0.000  0.000 <br\\>\n",
    "       15  0.25386  -0.253  0.254  0.089  0.148  0.250  0.127  0.253  0.133  0.038  0.078 -0.000  0.245 -0.224  0.000  1.000  0.023 <br\\>\n",
    "       16  0.09238  -0.092  0.092  0.032  0.054  0.091  0.046  0.092  0.048  0.014  0.028 -0.000  0.089 -0.082  0.000  0.023  1.000 <br\\>\n",
    "       17  0.01553  -0.016  0.016  0.005  0.009  0.015  0.008  0.015  0.008  0.002  0.005 -0.000  0.015 -0.014  0.000  0.004  0.001 <br\\>"
   ]
  },
  {
   "cell_type": "code",
   "execution_count": 26,
   "metadata": {
    "collapsed": false
   },
   "outputs": [
    {
     "data": {
      "text/plain": [
       "0L"
      ]
     },
     "execution_count": 26,
     "metadata": {},
     "output_type": "execute_result"
    }
   ],
   "source": [
    "# Plot Resolution function\n",
    "gROOT.ProcessLine('TF1* resolution = sim0->getResolutionFunction()')\n",
    "gROOT.ProcessLine('TCanvas c2')\n",
    "gROOT.ProcessLine('resolution->Draw()')"
   ]
  },
  {
   "cell_type": "markdown",
   "metadata": {},
   "source": [
    "#### Resolution Function\n",
    "<img src=\"Pics/ResolutionFunct_Det45.png\">\n",
    "\n",
    "#### Resolution Function From Literature\n",
    "<img src=\"Pics/LitEJ309ResolutionFunct.png\">"
   ]
  },
  {
   "cell_type": "markdown",
   "metadata": {},
   "source": [
    "### Detector 90 (Ch4)\n",
    "#### startSimCalib\n",
    "\n",
    "Perform a more thorough calibration using the parameters found from above (copy them from the calib_params file into the startSimCalib function).  A power law fit is used for the background subtraction."
   ]
  },
  {
   "cell_type": "code",
   "execution_count": 7,
   "metadata": {
    "collapsed": false
   },
   "outputs": [
    {
     "name": "stdout",
     "output_type": "stream",
     "text": [
      "Currently working in: \n",
      " /home/pyne-user/Dropbox/UCB/Research/ETAs/88Inch/Data/Experiments/PHS/33MeVTa_29-31Mar17/CalibData\n"
     ]
    },
    {
     "data": {
      "text/plain": [
       "0L"
      ]
     },
     "execution_count": 7,
     "metadata": {},
     "output_type": "execute_result"
    }
   ],
   "source": [
    "import os\n",
    "from ROOT import gROOT\n",
    "\n",
    "path = '/home/pyne-user/Dropbox/UCB/Research/ETAs/88Inch/Data/Experiments/PHS/33MeVTa_29-31Mar17/CalibData/'\n",
    "os.chdir(path)\n",
    "print 'Currently working in: \\n {}'.format(os.getcwd())\n",
    "\n",
    "gROOT.ProcessLine('.L start33MeVTaCalibration_90.cpp')"
   ]
  },
  {
   "cell_type": "code",
   "execution_count": 8,
   "metadata": {
    "collapsed": false
   },
   "outputs": [
    {
     "data": {
      "text/plain": [
       "120845008L"
      ]
     },
     "execution_count": 8,
     "metadata": {},
     "output_type": "execute_result"
    }
   ],
   "source": [
    "gROOT.ProcessLine('sim0=startSimCalibration()')"
   ]
  },
  {
   "cell_type": "code",
   "execution_count": 13,
   "metadata": {
    "collapsed": false
   },
   "outputs": [
    {
     "data": {
      "text/plain": [
       "123357472L"
      ]
     },
     "execution_count": 13,
     "metadata": {},
     "output_type": "execute_result"
    }
   ],
   "source": [
    "gROOT.ProcessLine('sim0->findGammaCalibrationConstants()')"
   ]
  },
  {
   "cell_type": "code",
   "execution_count": 14,
   "metadata": {
    "collapsed": false
   },
   "outputs": [
    {
     "data": {
      "text/plain": [
       "0L"
      ]
     },
     "execution_count": 14,
     "metadata": {},
     "output_type": "execute_result"
    }
   ],
   "source": [
    "gROOT.ProcessLine('std::vector<double> params0 = sim0->findGammaCalibrationConstants()')\n",
    "gROOT.ProcessLine('sim0->writeStateToDisk(\"CalibParams_4.txt\")')"
   ]
  },
  {
   "cell_type": "code",
   "execution_count": 15,
   "metadata": {
    "collapsed": false
   },
   "outputs": [
    {
     "data": {
      "text/plain": [
       "1L"
      ]
     },
     "execution_count": 15,
     "metadata": {},
     "output_type": "execute_result"
    }
   ],
   "source": [
    "gROOT.ProcessLine('sim0->getMinimizer()->Hesse()')"
   ]
  },
  {
   "cell_type": "markdown",
   "metadata": {},
   "source": [
    "The calibration is saved as **CalibParams_4.txt**.  The fit obtained was:\n",
    "\n",
    "<img src=\"Pics/33MeVTa_Det90FinalCalib.png\">\n",
    "\n",
    "##### The minimization results (Det90):\n",
    "\n",
    " EIGENVALUES OF SECOND-DERIVATIVE MATRIX: <br\\>\n",
    "        -1.5225e-01  7.3387e-04  3.3268e-02  5.8975e-02  9.5601e-02  3.4520e-01  3.7284e-01  5.2547e-01  7.7016e-01  9.9462e-01  9.9542e-01  1.1758e+00  1.4002e+00  1.8223e+00  2.1730e+00  2.5915e+00  3.7971e+00 <br\\>\n",
    " FCN=2418.41 FROM HESSE     STATUS=NOT POSDEF    247 CALLS         248 TOTAL <br\\>\n",
    "                     EDM=138.578    STRATEGY= 1      ERR MATRIX NOT POS-DEF <br\\>\n",
    "  EXT PARAMETER                APPROXIMATE     INTERNAL      INTERNAL  <br\\> \n",
    "  NO.   NAME      VALUE            ERROR       STEP SIZE       VALUE   <br\\> \n",
    "   1  a            1.04706e-03   2.24692e-07   2.19212e-04   8.07836e-02 <br\\>\n",
    "   2  b            3.33962e-02   1.33382e-04   4.22420e-03   8.73705e-02 <br\\>\n",
    "   3  Ec           1.17010e-01   1.25941e-03   1.26882e-02  -4.64887e-01 <br\\>\n",
    "   4  E1           1.20893e-01   2.21046e-03   7.14901e-03  -6.18203e-01 <br\\>\n",
    "   5  E2           1.38368e-01   1.08538e-03   1.37168e-02   9.34005e-01 <br\\>\n",
    "   \n",
    " EXTERNAL ERROR MATRIX.    NDIM=  25    NPAR= 17    ERR DEF=1\n",
    "  5.049e-14 -1.854e-11  8.917e-11  3.237e-11  5.745e-12 <br\\>\n",
    " -1.854e-11  1.779e-08 -3.362e-08 -6.442e-09  4.121e-08 <br\\>\n",
    "  8.917e-11 -3.362e-08  1.586e-06 -8.979e-07  8.388e-08 <br\\>\n",
    "  3.237e-11 -6.442e-09 -8.979e-07  4.887e-06 -1.594e-06 <br\\>\n",
    "  5.745e-12  4.121e-08  8.388e-08 -1.594e-06  1.178e-06 <br\\> \n",
    "\n",
    " PARAMETER  CORRELATION COEFFICIENTS   <br\\>\n",
    "       NO.  GLOBAL      1      2      3      4      5      6      7      8      9     10     11     12     13     14     15     16 <br\\>\n",
    "        1  0.78787   1.000 -0.618  0.315  0.065  0.024  0.167 -0.080  0.065  0.004  0.031  0.002  0.044 -0.066 -0.046 -0.013  0.054 <br\\>\n",
    "        2  0.79306  -0.618  1.000 -0.200 -0.022  0.285 -0.085  0.304  0.018 -0.001 -0.016 -0.001 -0.013  0.033  0.012 -0.002 -0.011 <br\\>\n",
    "        3  0.61076   0.315 -0.200  1.000 -0.322  0.061  0.215 -0.039  0.035 -0.149 -0.009  0.010 -0.046  0.019  0.046 -0.029  0.003 <br\\>\n",
    "        4  0.84430   0.065 -0.022 -0.322  1.000 -0.664  0.019  0.073  0.033 -0.010  0.001  0.001  0.146 -0.090 -0.152 -0.045 -0.022 <br\\>\n",
    "        5  0.84633   0.024  0.285  0.061 -0.664  1.000 -0.026  0.121  0.015  0.039  0.007 -0.002  0.129 -0.077 -0.138  0.017  0.025 <br\\>\n",
    "        6  0.65778   0.167 -0.085  0.215  0.019 -0.026  1.000 -0.002  0.018 -0.401 -0.000  0.024  0.009 -0.011 -0.010 -0.011  0.005 <br\\>\n",
    "        7  0.39669  -0.080  0.304 -0.039  0.073  0.121 -0.002  1.000  0.022 -0.003 -0.002  0.000  0.152 -0.078 -0.165 -0.009  0.001 <br\\>\n",
    "        8  0.67577   0.065  0.018  0.035  0.033  0.015  0.018  0.022  1.000 -0.005  0.002  0.000  0.013 -0.010 -0.014 -0.540  0.033 <br\\>\n",
    "        9  0.88075   0.004 -0.001 -0.149 -0.010  0.039 -0.401 -0.003 -0.005  1.000 -0.769 -0.028 -0.002  0.000  0.002  0.008  0.005 <br\\>\n",
    "       10  0.85332   0.031 -0.016 -0.009  0.001  0.007 -0.000 -0.002  0.002 -0.769  1.000 -0.016  0.001 -0.002 -0.001  0.001  0.002 <br\\>\n",
    "       11  0.07008   0.002 -0.001  0.010  0.001 -0.002  0.024  0.000  0.000 -0.028 -0.016  1.000  0.000 -0.000 -0.000 -0.001 -0.000 <br\\>\n",
    "       12  0.99666   0.044 -0.013 -0.046  0.146  0.129  0.009  0.152  0.013 -0.002  0.001  0.000  1.000 -0.577 -0.996 -0.017 -0.007 <br\\>\n",
    "       13  0.58256  -0.066  0.033  0.019 -0.090 -0.077 -0.011 -0.078 -0.010  0.000 -0.002 -0.000 -0.577  1.000  0.580  0.010  0.002 <br\\>\n",
    "       14  0.99676  -0.046  0.012  0.046 -0.152 -0.138 -0.010 -0.165 -0.014  0.002 -0.001 -0.000 -0.996  0.580  1.000  0.018  0.007 <br\\>\n",
    "       15  0.81604  -0.013 -0.002 -0.029 -0.045  0.017 -0.011 -0.009 -0.540  0.008  0.001 -0.001 -0.017  0.010  0.018  1.000  0.541 <br\\>\n",
    "       16  0.71760   0.054 -0.011  0.003 -0.022  0.025  0.005  0.001  0.033  0.005  0.002 -0.000 -0.007  0.002  0.007  0.541  1.000 <br\\>\n",
    "       17  0.70675  -0.002 -0.001  0.003  0.007 -0.005  0.001  0.000  0.107 -0.001 -0.000  0.000  0.002 -0.001 -0.003 -0.599 -0.626 <br\\> "
   ]
  },
  {
   "cell_type": "code",
   "execution_count": 16,
   "metadata": {
    "collapsed": false
   },
   "outputs": [
    {
     "data": {
      "text/plain": [
       "0L"
      ]
     },
     "execution_count": 16,
     "metadata": {},
     "output_type": "execute_result"
    }
   ],
   "source": [
    "# Plot Resolution function\n",
    "gROOT.ProcessLine('TF1* resolution = sim0->getResolutionFunction()')\n",
    "gROOT.ProcessLine('TCanvas c2')\n",
    "gROOT.ProcessLine('resolution->Draw()')"
   ]
  },
  {
   "cell_type": "markdown",
   "metadata": {},
   "source": [
    "#### Resolution Function\n",
    "<img src=\"Pics/ResolutionFunct_Det90.png\">\n",
    "\n",
    "#### Resolution Function From Literature\n",
    "<img src=\"Pics/LitEJ309ResolutionFunct.png\">"
   ]
  },
  {
   "cell_type": "markdown",
   "metadata": {},
   "source": [
    "### To Dos:\n",
    "\n",
    " - Channel #2:\n",
    "   - Cs to PHS\n",
    "   - Co to PHS\n",
    "   - Combine Exp Data Calibs\n",
    "   - Calibration\n",
    "   - Resolution Function\n",
    " - Channel #4:\n",
    "   - AmBe to PHS\n",
    "   - Cs to PHS\n",
    "   - Co to PHS\n",
    "   - Combine Exp Data Calibs\n",
    "   - Calibration\n",
    "   - Resolution Function"
   ]
  },
  {
   "cell_type": "code",
   "execution_count": null,
   "metadata": {
    "collapsed": true
   },
   "outputs": [],
   "source": []
  }
 ],
 "metadata": {
  "kernelspec": {
   "display_name": "Python 2",
   "language": "python",
   "name": "python2"
  },
  "language_info": {
   "codemirror_mode": {
    "name": "ipython",
    "version": 2
   },
   "file_extension": ".py",
   "mimetype": "text/x-python",
   "name": "python",
   "nbconvert_exporter": "python",
   "pygments_lexer": "ipython2",
   "version": "2.7.6"
  }
 },
 "nbformat": 4,
 "nbformat_minor": 1
}
