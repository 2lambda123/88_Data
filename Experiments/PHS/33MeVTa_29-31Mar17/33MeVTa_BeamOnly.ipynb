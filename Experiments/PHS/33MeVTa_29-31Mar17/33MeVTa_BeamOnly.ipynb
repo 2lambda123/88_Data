{
 "cells": [
  {
   "cell_type": "markdown",
   "metadata": {},
   "source": [
    "# 33 MeV D on Ta Experimental Notebook\n",
    "\n",
    "This experiment ran 33 MeV deuterons on Ta in the vault on 29-31 March, 2017.  The experimental goals were:\n",
    "\n",
    "1) Measure the input beam for the ETA. <br\\>\n",
    "2) Provide baseline response for each detector in the \"native\" environment. <br\\>\n",
    "\n",
    "This experiment ran 3 EJ-309 scintillator detectors located at 0, 45, and 90 degrees of the beam. \n",
    "\n",
    "This notebook describes all of the steps required to take experimental data, parse that data, perform pulse shape discrimination (PSD) cuts, calibrate the data, and generate a pulse height spectrum (PHS) for unfolding of the 16 MeV on Ta spectrum.  It does not describe the dTOF light yield measurements, analysis, or setup.  \n",
    " \n",
    "The notebook is broken into the following sections: <br\\>\n",
    "1) Experimental Setup <br\\>\n",
    "2) Aquire Calibration Data <br\\>\n",
    "3) Calibration Post-Processing <br\\>\n",
    "4) Perform Calibrations <br\\>\n",
    "5) Experimental Data Acquisition <br\\>\n",
    "6) Pulse Height Spectrum Post-Processing <br\\>\n",
    "7) Spectrum Unfolding <br\\>\n",
    "\n",
    "At the start of each section, all of the modules necessary for that section are imported so that each can be run independently of the rest of the notebook (to the extent that the required inputs from previous sections exist). "
   ]
  },
  {
   "cell_type": "markdown",
   "metadata": {},
   "source": [
    "## 1) Experimental Setup\n",
    "\n",
    "### Initial Setup of DAQ\n",
    "\n",
    "The DAQ was run in pulse-amplitude mode. A separate waveform data set was also taken, but it is not analyzed here."
   ]
  },
  {
   "cell_type": "markdown",
   "metadata": {
    "collapsed": true
   },
   "source": [
    "### Detector Configuration\n",
    "\n",
    "The detectors were set up as shown in the figure below (the figure is missing the detector at 45 and has an additional table):\n",
    "\n",
    "<img src=\"Pics/CleanBeamSetup.jpg\">\n",
    "\n",
    "The detectors were placed at the following coordinates.  These distances were measured to the face of the detector from the wall for horizontal detectors at 45 and 90, and from the center of the face of the vertical detector at 0 degrees.\n",
    "\n",
    "EJ-309 (Det0): (81.0,0,0) cm <br\\>\n",
    "EJ-309 (Det45): (73.4,34.7,0) cm <br\\>\n",
    "EJ-309 (Det90): (52.4,91.4,0) cm <br\\>\n",
    "\n",
    "The connections were made as follows (no terminations were made on the output of the detectors):\n",
    "\n",
    "Detector   | PMT Data Out | Junction Data | Junction HV | HV Ch # | DAQ Ch #  \n",
    "---------- |:------------:|:-------------:|:-----------:|:-------:|:--------:\n",
    "Det0       |A1            |30             |50 (HV1)     |0        |0\n",
    "Det45      |A1            |31             |51 (HV2)     |1        |2\n",
    "Det90      |A1            |32             |52 (HV3)     |2        |4"
   ]
  },
  {
   "cell_type": "markdown",
   "metadata": {
    "collapsed": true
   },
   "source": [
    "### Setting Configuration\n",
    "\n",
    "#### Set Gain\n",
    "To determine the neutron (proton) energy to MeVee conversion, lightTables.getLight(neutron_energy,particle) was used from the nsd-rootscripts repo.  For this calibration, the max neutron energy is ~38 MeV. The max Be neutron energy is ~ 11 MeV.  \n",
    "\n",
    "With S = 1:  <br\\>\n",
    "lightTables.getLight(38,0) = 29.69 <br\\>\n",
    "lightTables.getLight(11,0) = 6.61  <br\\>\n",
    "\n",
    "For the 33 MeV on Ta, the ratio between the max E and the max AmBe neutron E is 4.5, which results in a FSR setting of 440 mV for neutrons, and the 4.4 MeV gamma line would be at 300 mV.  I am going to aim to put the edge of the gamma at 280 mV.  \\newline\n",
    "\n",
    "**NOTE: Both the oscope and PSD must be scaled to ensure that the capture the full scale range (FSR) of the intended experiment.  There are two nobs to do this:**\n",
    "\n",
    "1) Bias - The higher the bias the better the PSD [affects both] <br/>\n",
    "2) Charge Sensitivity (on the channels tab) - Reduces the resolution, but allows for a wider FSR [only affects PSD]\n",
    "\n",
    "#### Determine PSD Settings\n",
    "\n",
    "After setting the gain the PSD gates and delays were set.  The best settings were determined to be:\n",
    "\n",
    "Detector | DAQ Ch# | Bias | Charge Sens | Short Gate | Long Gate | Gate Offset | Threshold | BL  | Trigger Holdoff  \n",
    "---------- |:-------:|:----:|:-----------:|:----------:|:---------:|:-----------:|:---------:|:---:|:---------------:\n",
    "Det0    |0        |1190V |20           |36          |300        |12           |50        |1024 |300\n",
    "Det45   |2        |1220V |20           |36          |300        |12           |50        |1024 |300\n",
    "Det90   |4        |1220V |20           |36          |300        |12           |50        |1024 |300\n",
    "\n",
    "These are also saved as DppConfig_29Mar17.txt in the 33MeVTa_29-31Feb17 folder on the DAQ and locally.\n"
   ]
  },
  {
   "cell_type": "markdown",
   "metadata": {},
   "source": [
    "## 2) Acquire Calibration Data\n",
    "The targets were calibrated together with one source at a time.  The source was placed on the side of the detectors as shown below:\n",
    "\n",
    "<img src=\"Pics/Det0_AmBe.jpg\">\n",
    "<img src=\"Pics/Det45_AmBe.jpg\">\n",
    "\n",
    "### Calibration #1\n",
    "\n",
    "Source  | Time (min) | File name          \n",
    "------- |:----------:|:------------------:\n",
    "AmBe    |~30 min     |AmBe_001_ls_ch.dat\n",
    "Co60    |~30 min     |Co60_001_ls_ch.dat\n",
    "Cs137   |~30 min     |Cs137_001_ls_ch.dat\n",
    "Bckgrnd |            |Background_001_ls_ch.dat\n",
    "\n",
    "where ch is the channel number (0, 2, 4).\n",
    "\n",
    "The files are stored on the DAQ in the 33MeVTa_29-31Mar17/CalibData folder. \n",
    "\n",
    "The Src_002_ls_ch.dat series of calibrations was taken under the same conditions for the waveform data.\n",
    "\n",
    "### Calibration #2 (This can be used to test for gain drift)\n",
    "A second set of calibration data was taken just after the first run since the gain settings were modified to get better FSR performance. The following settings were used:\n",
    "\n",
    "Detector | DAQ Ch# | Bias | Charge Sens | Short Gate | Long Gate | Gate Offset | Threshold | BL  | Trigger Holdoff  \n",
    "---------- |:-------:|:----:|:-----------:|:----------:|:---------:|:-----------:|:---------:|:---:|:---------------:\n",
    "Det0    |0        |1235V |20           |36          |300        |12           |50        |1024 |300\n",
    "Det45   |2        |1250V |20           |36          |300        |12           |50        |1024 |300\n",
    "Det90   |4        |1250V |20           |36          |300        |12           |50        |1024 |300\n",
    "\n",
    "Source  | Time (min) | File name          \n",
    "------- |:----------:|:------------------:\n",
    "AmBe    |~5 min      |AmBe_002_ls_ch.dat\n",
    "Co60    |~5 min      |Co60_002_ls_ch.dat\n",
    "Cs137   |~5 min      |Cs137_002_ls_ch.dat\n",
    "Bckgrnd |            |Background_002_ls_ch.dat\n",
    "\n",
    "where ch is the channel number (0, 2, 4).\n",
    "\n",
    "### Calibration #3 (Use this for calibration of data)\n",
    "A third set of calibration data was taken just after the experimental run since there was a long delay between calibration #2 and experimental data acquisition. These are located in the  33MeVTa_29-31Mar17/CalibData/postRunCalibration folder on the DAQ.  \n",
    "\n",
    "Source  | Time (min) | File name          \n",
    "------- |:----------:|:------------------:\n",
    "AmBe    |~5 min      |AmBe_001_ls_ch.dat\n",
    "Co60    |~5 min      |Co60_001_ls_ch.dat\n",
    "Cs137   |~5 min      |Cs137_001_ls_ch.dat\n",
    "Bckgrnd |            |Background_001_ls_ch.dat\n",
    "\n",
    "where ch is the channel number (0, 2, 4).\n",
    "\n",
    "For simplicity, this set was copied to 33MeVTa_29-31Mar17/CalibData/ and renamed as:\n",
    "\n",
    "Source  | Time (min) | File name          \n",
    "------- |:----------:|:------------------:\n",
    "AmBe    |~5 min      |AmBe_003_ls_ch.dat\n",
    "Co60    |~5 min      |Co60_003_ls_ch.dat\n",
    "Cs137   |~5 min      |Cs137_003_ls_ch.dat\n",
    "Bckgrnd |            |Background_003_ls_ch.dat\n",
    "\n",
    "where ch is the channel number (0, 2, 4)."
   ]
  },
  {
   "cell_type": "markdown",
   "metadata": {},
   "source": [
    "## 3) Calibration Post-Processing:\n",
    "\n",
    "The rest of this notebook is both descriptive and interactive.  Choose which step to perform in the notebook, or you can run them in root.  NOTE: If using this notebook as a guide to a different data set, check each of variables and commands to make sure they make sense in the context of your data set.\n",
    "\n",
    "To use the interactive commands, Root must be installed and PyRoot enabled for this notebook to work. Make sure that $ROOTSYS/lib is in your PYTHONPATH and LD_LIBRARY_PATH variables.\n",
    "\n",
    "First, load the necessary libraries, set the appropriate environment variables, and compile the C++ support macros from the instructions @ https://bitbucket.org/berkeleylab/nsd-rootscripts/wiki/LibraryCompilation.\n",
    "\n",
    "Next, The notebook has dependencies on PScripts, which can be cloned from:\n",
    "https://github.com/jamesbevins/PyScripts"
   ]
  },
  {
   "cell_type": "code",
   "execution_count": 1,
   "metadata": {
    "collapsed": false
   },
   "outputs": [
    {
     "name": "stdout",
     "output_type": "stream",
     "text": [
      "Currently working in: \n",
      " /home/pyne-user/Dropbox/UCB/Research/ETAs/88Inch/Data/Experiments/PHS/33MeVTa_29-31Mar17/CalibData\n"
     ]
    }
   ],
   "source": [
    "import sys\n",
    "import os\n",
    "from ROOT import gROOT\n",
    "\n",
    "sys.path.insert(0,os.path.abspath('/home/pyne-user/Dropbox/UCB/Computational_Tools/Scripts/Python/Support'))\n",
    "from Utilities import pause\n",
    "\n",
    "path = '/home/pyne-user/Dropbox/UCB/Research/ETAs/88Inch/Data/Experiments/PHS/33MeVTa_29-31Mar17/CalibData/'\n",
    "os.chdir(path)\n",
    "print 'Currently working in: \\n {}'.format(os.getcwd())"
   ]
  },
  {
   "cell_type": "markdown",
   "metadata": {},
   "source": [
    "### Convert Binaries to root trees\n",
    "\n",
    "The following gROOT commands can be copied and run directly in ROOT if preferred.  \n",
    "\n",
    "Loop over all of the calibration .dat files, convert to .root Trees, and add them to a combined Calibrations.root tree.  "
   ]
  },
  {
   "cell_type": "code",
   "execution_count": 5,
   "metadata": {
    "collapsed": false
   },
   "outputs": [
    {
     "name": "stdout",
     "output_type": "stream",
     "text": [
      "Processing:  AmBe_003_ls_0\n",
      "Processing:  Co60_001_ls_0\n",
      "Processing:  Co60_003_ls_2\n",
      "Processing:  AmBe_003_ls_2\n",
      "Processing:  Background_002_ls_4\n",
      "Processing:  Co60_001_ls_4\n",
      "Processing:  AmBe_001_ls_4\n",
      "Processing:  Cs137_003_ls_2\n",
      "Processing:  Background_001_ls_2\n",
      "Processing:  Co60_003_ls_0\n",
      "Processing:  Background_001_ls_4\n",
      "Processing:  Background_001_ls_0\n",
      "Processing:  Cs137_002_ls_2\n",
      "Processing:  Co60_001_ls_2\n",
      "Processing:  background_003_ls_2\n",
      "Processing:  Cs137_002_ls_0\n",
      "Processing:  Cs137_003_ls_0\n",
      "Processing:  Background_002_ls_0\n",
      "Processing:  Cs137_002_ls_4\n",
      "Processing:  AmBe_003_ls_4\n",
      "Processing:  AmBe_002_ls_4\n",
      "Processing:  Co60_003_ls_4\n",
      "Processing:  AmBe_002_ls_2\n",
      "Processing:  Cs137_001_ls_4\n",
      "Processing:  AmBe_001_ls_0\n",
      "Processing:  Co60_002_ls_4\n",
      "Processing:  Background_002_ls_2\n",
      "Processing:  Cs137_003_ls_4\n",
      "Processing:  background_003_ls_0\n",
      "Processing:  AmBe_001_ls_2\n",
      "Processing:  Co60_002_ls_0\n",
      "Processing:  Cs137_001_ls_0\n",
      "Processing:  Cs137_001_ls_2\n",
      "Processing:  AmBe_002_ls_0\n",
      "Processing:  Co60_002_ls_2\n",
      "Processing:  background_003_ls_4\n"
     ]
    },
    {
     "data": {
      "text/plain": [
       "0L"
      ]
     },
     "execution_count": 5,
     "metadata": {},
     "output_type": "execute_result"
    }
   ],
   "source": [
    "gROOT.ProcessLine('DPPBinaryParser parser;')\n",
    "gROOT.ProcessLine('vector<string> names;')\n",
    "\n",
    "for filename in os.listdir(path):\n",
    "    if filename.endswith(\".dat\"): \n",
    "        name = os.path.splitext(filename)[0]\n",
    "        print \"Processing: \", name\n",
    "        gROOT.ProcessLine('parser.readDatFile(\"{0}.dat\", \"{0}.root\");'.format(name))\n",
    "        gROOT.ProcessLine('names.push_back(\"{0}.root\");'.format(name))\n",
    "        \n",
    "gROOT.ProcessLine('DDaqPostProcessing obj;')\n",
    "gROOT.ProcessLine('obj.makePhCalibs(names,\"Calibrations_All.root\");')"
   ]
  },
  {
   "cell_type": "markdown",
   "metadata": {},
   "source": [
    "### Test Gain Drift\n",
    "\n",
    "This looks at the gain drift across the experiment by using before and after calibrations from one of the sources.\n",
    "\n",
    "** NOTE: Since the gains changed between calibration set 001 and 002, only 002 and 003 are used. **"
   ]
  },
  {
   "cell_type": "code",
   "execution_count": 2,
   "metadata": {
    "collapsed": true
   },
   "outputs": [],
   "source": [
    "detNames = {0: 'Det0', 2: 'Det45', 4: 'Det90'}"
   ]
  },
  {
   "cell_type": "code",
   "execution_count": 3,
   "metadata": {
    "collapsed": false
   },
   "outputs": [
    {
     "name": "stdout",
     "output_type": "stream",
     "text": [
      "Press enter to continue\n",
      "Press enter to continue\n",
      "Press enter to continue\n"
     ]
    }
   ],
   "source": [
    "driftSrc = 'AmBe'\n",
    "runNums = ['002', '003']\n",
    "colorWheel = ['kGreen', 'kBlue']\n",
    "\n",
    "gROOT.ProcessLine('TFile f(\"Calibrations_All.root\")')\n",
    "gROOT.ProcessLine('TLine* line = new TLine(0,1,7000,1)')\n",
    "\n",
    "for detNum, detName in detNames.iteritems():\n",
    "    gROOT.ProcessLine('TCanvas c{}'.format(detNum))\n",
    "    for run, color in zip(runNums, colorWheel):\n",
    "        gROOT.ProcessLine('TH1* {0}_{1} = (TH1*) f.Get(\"{2}_{1}_ls_{3}.root\")->Clone()'.format(detName, run, driftSrc, detNum))\n",
    "        gROOT.ProcessLine('{0}_{1}->Scale(1.0/{0}_{1}->Integral())'.format(detName, run))\n",
    "        gROOT.ProcessLine('{0}_{1}->Rebin(2)'.format(detName, run))\n",
    "        gROOT.ProcessLine('{0}_{1}->SetLineColor({2})'.format(detName, run, color))\n",
    "        gROOT.ProcessLine('{0}_{1}->Draw(\"same\")'.format(detName, run))\n",
    "        \n",
    "    gROOT.ProcessLine('TH1* postToPreRatio{0} = (TH1*){0}_{1}->Clone()'.format(detName, runNums[-1]))\n",
    "    gROOT.ProcessLine('postToPreRatio{0}->Divide({0}_{1})'.format(detName, runNums[-2]))\n",
    "    gROOT.ProcessLine('TCanvas c{}'.format(detName))\n",
    "    gROOT.ProcessLine('postToPreRatio{0}->Draw()'.format(detName))\n",
    "    gROOT.ProcessLine('line->Draw(\"same\")')\n",
    "    pause()"
   ]
  },
  {
   "cell_type": "markdown",
   "metadata": {},
   "source": [
    "#### Detector 0 (EJ309)\n",
    "\n",
    "<img src=\"Pics/AmBe_PrePostCalibCompDet0.png\">\n",
    "<img src=\"Pics/AmBe_PrePostCalibRatioDet0.png\">\n",
    "\n",
    "#### Detector 45 (EJ309)\n",
    "\n",
    "<img src=\"Pics/AmBe_PrePostCalibCompDet45.png\">\n",
    "<img src=\"Pics/AmBe_PrePostCalibRatioDet45.png\">\n",
    "\n",
    "#### Detector 90 (EJ309)\n",
    "\n",
    "<img src=\"Pics/AmBe_PrePostCalibCompDet90.png\">\n",
    "<img src=\"Pics/AmBe_PrePostCalibRatioDet90.png\">\n",
    "\n",
    "Det 45 and Det 90 show great stability over ~24 hours.  However, Det0 does not.  It is unclear why this is, but similar behavior is seen with the other sources.  The prerun calibrations (data set 002) doesn't make sense, but it is unclear why.  Maybe different orientation?"
   ]
  },
  {
   "cell_type": "markdown",
   "metadata": {},
   "source": [
    "### Make PSD cuts on AmBe\n",
    "\n",
    "To perform the calibration, it is necessary to toss out the neutron data from the AmBe data.  The PSD cut is based on a linear cut of the neutron and gamma bands. \n",
    "\n",
    "Each of the gROOT commands can be copied and run directly in ROOT if desired."
   ]
  },
  {
   "cell_type": "code",
   "execution_count": 3,
   "metadata": {
    "collapsed": false
   },
   "outputs": [
    {
     "name": "stdout",
     "output_type": "stream",
     "text": [
      "Press enter to continue\n",
      "Press enter to continue\n",
      "Press enter to continue\n"
     ]
    }
   ],
   "source": [
    "# Set file characteristics\n",
    "runNum = \"003\"\n",
    "\n",
    "# Initialize storage        \n",
    "# Plot each PSD\n",
    "for detNum, detName in detNames.iteritems():\n",
    "    gROOT.ProcessLine('TFile *AmBe{0} = new TFile(\"AmBe_{1}_ls_{0}.root\",\"update\")'.format(detNum,runNum))\n",
    "    #gROOT.ProcessLine('eventTree->Draw(\"(m_amplitude-m_shape)/m_shape:m_shape>>(1250,0,35000,1024,0,1)\",\"\",\"colz\")')\n",
    "    \n",
    "    gROOT.ProcessLine('TFile *{0} = new TFile(\"CalibData_{1}.root\",\"recreate\")'.format(detName, detNum))\n",
    "    pause()"
   ]
  },
  {
   "cell_type": "markdown",
   "metadata": {},
   "source": [
    "This will open a PSD plot.  \n",
    "\n",
    "Right click and click SetShowProjectY.  This opens a new canvas.  On the original PSD canvas, you can select different projections which are plotted on the right.  use this to find the location of the minima between the neutron and gamma band.  In this case it is ~0.28 for channel 0 (Det0), ~0.3 (Det45) for channel 2, and ~0.29 (Det90) for channel 4.\n",
    "\n",
    "You can now view those cuts to ensure they are appropriate:"
   ]
  },
  {
   "cell_type": "code",
   "execution_count": 4,
   "metadata": {
    "collapsed": false
   },
   "outputs": [
    {
     "name": "stdout",
     "output_type": "stream",
     "text": [
      "Press enter to continue\n",
      "Press enter to continue\n",
      "Press enter to continue\n"
     ]
    }
   ],
   "source": [
    "cutPt={0: 0.28, 2: 0.3, 4:0.29}\n",
    "for detNum, detName in detNames.iteritems():\n",
    "    gROOT.ProcessLine('AmBe{}->cd()'.format(detNum))\n",
    "    #gROOT.ProcessLine('eventTree->Draw(\"(m_amplitude-m_shape)/m_shape:m_shape>>(1250,0,35000,1024,0,1)\",\"(m_amplitude-m_shape)/m_amplitude<{}\",\"colz\")'.format(cutPt[detNum]))\n",
    "    pause()"
   ]
  },
  {
   "cell_type": "markdown",
   "metadata": {},
   "source": [
    "Now we can save the cuts.  This generates a gamma histogram and saves it to the current file."
   ]
  },
  {
   "cell_type": "code",
   "execution_count": 5,
   "metadata": {
    "collapsed": false
   },
   "outputs": [
    {
     "name": "stdout",
     "output_type": "stream",
     "text": [
      "Press enter to continue\n",
      "Press enter to continue\n",
      "Press enter to continue\n"
     ]
    }
   ],
   "source": [
    "for detNum, detName in detNames.iteritems():\n",
    "    gROOT.ProcessLine('AmBe{}->cd()'.format(detNum))\n",
    "    gROOT.ProcessLine('eventTree->Draw(\"m_amplitude>>AmBeGamma(1250,0,35000)\",\"(m_amplitude-m_shape)/m_shape<{}\")'.format(cutPt[detNum]))\n",
    "    gROOT.ProcessLine('TH1F* AmBeData{0} = (TH1F*) AmBe{0}->Get(\"AmBeGamma\")'.format(detNum))\n",
    "    gROOT.ProcessLine('AmBe{0}->Write()'.format(detNum))\n",
    "    pause()\n",
    "    \n",
    "    gROOT.ProcessLine('{0}->cd()'.format(detName))\n",
    "    gROOT.ProcessLine('AmBeData{}->Write()'.format(detNum))\n",
    "    gROOT.ProcessLine('AmBe{}->Close()'.format(detNum))"
   ]
  },
  {
   "cell_type": "markdown",
   "metadata": {},
   "source": [
    "### Combine the Calibration Data Files\n",
    "\n",
    "Next, the experimental claibration files need to be combined into a single TFile for each channel. Only the pre-experimental calibration data set specified above is included.  \n",
    "\n",
    "This loops over all of the root trees in the directory and combines them by channel number.  It assumes that the standard DAQ naming format is used.  The first prefix assumes that the names of \"Co60\" and \"Cs137\" are used for the calibration data of those isotopes.\n",
    "\n",
    "The background measurements are also rebinned into the same structure for use in background subtraction.\n",
    "\n",
    "After each data set is read it, the script pauses to allow inspection of the histogram.  The user is prompted to hit <enter> to continue. The histograms are"
   ]
  },
  {
   "cell_type": "code",
   "execution_count": 6,
   "metadata": {
    "collapsed": false
   },
   "outputs": [
    {
     "name": "stdout",
     "output_type": "stream",
     "text": [
      "Adding:  Background_003_ls_4\n",
      "Press enter to continue\n",
      "Adding:  Background_003_ls_2\n",
      "Press enter to continue\n",
      "Adding:  Cs137_003_ls_2\n",
      "Press enter to continue\n",
      "Adding:  Background_003_ls_0\n",
      "Press enter to continue\n",
      "Adding:  Co60_003_ls_4\n",
      "Press enter to continue\n",
      "Adding:  Co60_003_ls_2\n",
      "Press enter to continue\n",
      "Adding:  Cs137_003_ls_0\n",
      "Press enter to continue\n",
      "Adding:  Co60_003_ls_0\n",
      "Press enter to continue\n",
      "Adding:  Cs137_003_ls_4\n",
      "Press enter to continue\n"
     ]
    }
   ],
   "source": [
    "exclude = [\"AmBe\", \"CalibData\"]   #File prefixes for the current calibration run to exclude\n",
    "tmpName = 'a'\n",
    "for filename in os.listdir(path):\n",
    "    name = os.path.splitext(filename)[0]\n",
    "            \n",
    "    if filename.endswith(\".root\") and name.split('_')[1] == runNum \\\n",
    "          and  name.split('_')[0] == \"Background\":\n",
    "        print \"Adding: \", name\n",
    "        gROOT.ProcessLine('TFile *{0} = new TFile(\"{1}.root\",\"update\")'.format(tmpName, name))\n",
    "        gROOT.ProcessLine('eventTree->Draw(\"m_amplitude>>rebin{0}(1250,0,35000)\")'.format(name.split('_')[3]))\n",
    "        gROOT.ProcessLine('{}->Write()'.format(tmpName)) \n",
    "        gROOT.ProcessLine('{}->Close()'.format(tmpName))\n",
    "        tmpName = chr(ord(tmpName) + 1)\n",
    "        pause()     \n",
    "    elif filename.endswith(\".root\") and name.split('_')[1] == runNum: \n",
    "        if name.split('_')[0] not in exclude:\n",
    "            print \"Adding: \", name\n",
    "            gROOT.ProcessLine('TFile *{0} = new TFile(\"{1}.root\")'.format(tmpName, name))\n",
    "            gROOT.ProcessLine('eventTree->Draw(\"m_amplitude>>{0}(1250,0,35000)\")'.format(name.split('_')[0]))\n",
    "            \n",
    "            gROOT.ProcessLine('TH1F* {0}Data{1} = (TH1F*) {2}->Get(\"{0}Data\")'.format(name.split('_')[0], name.split('_')[3], tmpName))\n",
    "            gROOT.ProcessLine('{}->cd()'.format(detNames[int(name.split('_')[3])]))\n",
    "            gROOT.ProcessLine('{}->Write()'.format(name.split('_')[0]))            \n",
    "            \n",
    "            gROOT.ProcessLine('{}->Close()'.format(tmpName))\n",
    "            tmpName = chr(ord(tmpName) + 1)\n",
    "            pause() "
   ]
  },
  {
   "cell_type": "code",
   "execution_count": 7,
   "metadata": {
    "collapsed": true
   },
   "outputs": [],
   "source": [
    "# Close all of the files\n",
    "for detNum, detName in detNames.iteritems():\n",
    "    gROOT.ProcessLine('{}->Close()'.format(detName))"
   ]
  },
  {
   "cell_type": "markdown",
   "metadata": {},
   "source": [
    "### Combine the Calibration Simulation Files\n",
    "\n",
    "Next, the simulated calibration files need to be combined into a single TFile.  These commands can be run through the python script, but it is probably easier to run from the command line, which is what was done.  \n",
    "\n",
    "**NOTE: Order matters!  This must be the same order as the data files above.** <br\\>\n",
    "**NOTE: These are run from the cmd line in the directory the files reside, not from within Root.**\n",
    "\n",
    "#### Commands to run: <br/>\n",
    "rootcp AmBeDeposition.root:AmBeDeposition CalibSim.root:AmBeSim <br/>\n",
    "rootcp NaCsCoGammas.root:Cs137 CalibSim.root:Cs137Sim <br/>\n",
    "rootcp CoDeposition.root:CoDeposition CalibSim.root:Co60Sim <br/>"
   ]
  },
  {
   "cell_type": "markdown",
   "metadata": {},
   "source": [
    "## 4) Perform Calibrations\n",
    "\n",
    "Simulation Based Calibrations\n",
    "\n",
    "Required:  <br/>\n",
    "1) Vector of pointers to histograms of data  <br/>\n",
    "2) Vector of pointers to histograms of simulations of that data in the same order  <br/>\n",
    "\n",
    "To run the calibrations, use the start16MeVTaCalibrations_detNum.cpp script located in the CalibData folder.  \n",
    "\n",
    "**NOTE: The nsd-rootscripts repo contains an example that is similar but may differ. This script must be loaded first for both methods.**\n",
    "\n",
    "This script contains user variables that must be modified.  For this mode, two methods are used and require modifications to the script:\n",
    "\n",
    "1) startGuessSimCalib(): modify the file names <br/>\n",
    "2) startSimCalibration(): modify the file names and each of the parameters  <br/>\n",
    "\n",
    "It is recommended to use startGuessSimCalib() first; then use those parameters to use startSimCalibration with background subtraction.  However, if you have starting calibration and scale parameters, startSimCalibration() can be used without startGuessSimCalib(). \n",
    "\n",
    "### Detector 0 (ch0)\n",
    "\n",
    "#### startGuessSimCalib\n",
    "\n",
    "First load the script and run the method for detector 0:"
   ]
  },
  {
   "cell_type": "code",
   "execution_count": 1,
   "metadata": {
    "collapsed": false
   },
   "outputs": [
    {
     "name": "stdout",
     "output_type": "stream",
     "text": [
      "Currently working in: \n",
      " /home/pyne-user/Dropbox/UCB/Research/ETAs/88Inch/Data/Experiments/PHS/33MeVTa_29-31Mar17/CalibData\n"
     ]
    },
    {
     "data": {
      "text/plain": [
       "0L"
      ]
     },
     "execution_count": 1,
     "metadata": {},
     "output_type": "execute_result"
    }
   ],
   "source": [
    "import os\n",
    "from ROOT import gROOT\n",
    "\n",
    "path = '/home/pyne-user/Dropbox/UCB/Research/ETAs/88Inch/Data/Experiments/PHS/33MeVTa_29-31Mar17/CalibData/'\n",
    "os.chdir(path)\n",
    "print 'Currently working in: \\n {}'.format(os.getcwd())\n",
    "\n",
    "gROOT.ProcessLine('.L start33MeVTaCalibration_0.cpp')"
   ]
  },
  {
   "cell_type": "markdown",
   "metadata": {},
   "source": [
    "Launch the gui:"
   ]
  },
  {
   "cell_type": "code",
   "execution_count": 2,
   "metadata": {
    "collapsed": false
   },
   "outputs": [
    {
     "data": {
      "text/plain": [
       "121578208L"
      ]
     },
     "execution_count": 2,
     "metadata": {},
     "output_type": "execute_result"
    }
   ],
   "source": [
    "gROOT.ProcessLine('obj0=startGuessSimCalib()')"
   ]
  },
  {
   "cell_type": "markdown",
   "metadata": {},
   "source": [
    "Set the ranges and the good starting points using the GUI.\n",
    "\n",
    "Then run the optimization routine in the cell below. \n",
    "\n",
    "Repeat the cell below until satified with the fit.\n",
    "\n",
    "**NOTE: The plots should update.  From there, the ranges can be adjusted as necessary before running the optimization routine again. Ensure that no parameters are pegged to range limits.**"
   ]
  },
  {
   "cell_type": "code",
   "execution_count": 6,
   "metadata": {
    "collapsed": false
   },
   "outputs": [
    {
     "data": {
      "text/plain": [
       "159658096L"
      ]
     },
     "execution_count": 6,
     "metadata": {},
     "output_type": "execute_result"
    }
   ],
   "source": [
    "gROOT.ProcessLine('obj0->findGammaCalibrationConstants()')"
   ]
  },
  {
   "cell_type": "code",
   "execution_count": 9,
   "metadata": {
    "collapsed": false
   },
   "outputs": [
    {
     "data": {
      "text/plain": [
       "0L"
      ]
     },
     "execution_count": 9,
     "metadata": {},
     "output_type": "execute_result"
    }
   ],
   "source": [
    "gROOT.ProcessLine('obj0->writeStateToDisk(\"CalibParams_0.txt\")')"
   ]
  },
  {
   "cell_type": "markdown",
   "metadata": {},
   "source": [
    "The fit obtained was:\n",
    "\n",
    "<img src=\"Pics/33MeVTa_Det0InitCalib.png\">"
   ]
  },
  {
   "cell_type": "markdown",
   "metadata": {},
   "source": [
    "#### startSimCalib\n",
    "\n",
    "Perform a more thorough calibration using the parameters found from above (copy them from the calib_params file into the startSimCalib function).  A power law fit is used for the background subtraction."
   ]
  },
  {
   "cell_type": "code",
   "execution_count": 1,
   "metadata": {
    "collapsed": false
   },
   "outputs": [
    {
     "name": "stdout",
     "output_type": "stream",
     "text": [
      "Currently working in: \n",
      " /home/pyne-user/Dropbox/UCB/Research/ETAs/88Inch/Data/Experiments/PHS/33MeVTa_29-31Mar17/CalibData\n"
     ]
    },
    {
     "data": {
      "text/plain": [
       "0L"
      ]
     },
     "execution_count": 1,
     "metadata": {},
     "output_type": "execute_result"
    }
   ],
   "source": [
    "import os\n",
    "from ROOT import gROOT\n",
    "\n",
    "path = '/home/pyne-user/Dropbox/UCB/Research/ETAs/88Inch/Data/Experiments/PHS/33MeVTa_29-31Mar17/CalibData/'\n",
    "os.chdir(path)\n",
    "print 'Currently working in: \\n {}'.format(os.getcwd())\n",
    "\n",
    "gROOT.ProcessLine('.L start33MeVTaCalibration_0.cpp')"
   ]
  },
  {
   "cell_type": "code",
   "execution_count": 2,
   "metadata": {
    "collapsed": false
   },
   "outputs": [
    {
     "data": {
      "text/plain": [
       "117036368L"
      ]
     },
     "execution_count": 2,
     "metadata": {},
     "output_type": "execute_result"
    }
   ],
   "source": [
    "gROOT.ProcessLine('sim0=startSimCalibration()')"
   ]
  },
  {
   "cell_type": "code",
   "execution_count": 15,
   "metadata": {
    "collapsed": false
   },
   "outputs": [
    {
     "data": {
      "text/plain": [
       "705950624L"
      ]
     },
     "execution_count": 15,
     "metadata": {},
     "output_type": "execute_result"
    }
   ],
   "source": [
    "gROOT.ProcessLine('sim0->findGammaCalibrationConstants()')"
   ]
  },
  {
   "cell_type": "code",
   "execution_count": 16,
   "metadata": {
    "collapsed": false
   },
   "outputs": [
    {
     "data": {
      "text/plain": [
       "0L"
      ]
     },
     "execution_count": 16,
     "metadata": {},
     "output_type": "execute_result"
    }
   ],
   "source": [
    "gROOT.ProcessLine('std::vector<double> params0 = sim0->findGammaCalibrationConstants()')\n",
    "gROOT.ProcessLine('sim0->writeStateToDisk(\"CalibParams_0.txt\")')"
   ]
  },
  {
   "cell_type": "code",
   "execution_count": 17,
   "metadata": {
    "collapsed": false
   },
   "outputs": [
    {
     "data": {
      "text/plain": [
       "1L"
      ]
     },
     "execution_count": 17,
     "metadata": {},
     "output_type": "execute_result"
    }
   ],
   "source": [
    "gROOT.ProcessLine('sim0->getMinimizer()->Hesse()')"
   ]
  },
  {
   "cell_type": "markdown",
   "metadata": {},
   "source": [
    "The calibration is saved as **CalibParams_0.txt**.  The fit obtained was:\n",
    "\n",
    "<img src=\"Pics/33MeVTa_Det0FinalCalib.png\">\n",
    "\n",
    "##### The minimization results (Det0):\n",
    "\n",
    "EIGENVALUES OF SECOND-DERIVATIVE MATRIX: <br\\>\n",
    "9.3806e-05  9.7271e-03  3.6317e-02  1.9474e-01  2.1647e-01  3.2337e-01  3.8180e-01  6.6398e-01  8.4285e-01  9.2820e-01  9.9739e-01  1.0290e+00  1.2964e+00  1.7833e+00  2.3381e+00  2.7867e+00  3.1716e+00\n",
    "\n",
    " COVARIANCE MATRIX CALCULATED SUCCESSFULLY <br\\>\n",
    " FCN=1031.37 FROM HESSE     STATUS=OK            251 CALLS         252 TOTAL  <br\\>\n",
    "                     EDM=13.5854    STRATEGY= 1      ERROR MATRIX ACCURATE  <br\\>\n",
    "  EXT PARAMETER                                INTERNAL      INTERNAL   <br\\>\n",
    "  NO.   NAME      VALUE            ERROR       STEP SIZE       VALUE    <br\\>\n",
    "   1  a            1.00558e-03   6.35035e-07   2.28730e-04  -1.72940e-03 <br\\>\n",
    "   2  b            3.36577e-02   2.62736e-04   4.34693e-03   1.03794e-01 <br\\>\n",
    "   3  Ec           1.60420e-01   2.00196e-03   7.79597e-03   1.27696e-01 <br\\>\n",
    "   4  E1           5.00000e-02   2.60672e-03   8.29164e-02  -1.57010e+00 <br\\>\n",
    "                                 WARNING -   - ABOVE PARAMETER IS AT LIMIT. <br\\>\n",
    "   5  E2           1.51149e-01   1.53469e-03   1.04398e-02   8.15661e-01 <br\\>\n",
    "   \n",
    " EXTERNAL ERROR MATRIX.    NDIM=  25    NPAR= 17    ERR DEF=1 <br\\>\n",
    " ELEMENTS ABOVE DIAGONAL ARE NOT PRINTED. <br\\>\n",
    "  4.033e-13 -1.143e-10 -5.170e-10  2.326e-13  4.680e-10 <br\\>\n",
    " -1.143e-10  6.904e-08  1.225e-07 -6.650e-11 -3.171e-08 <br\\>\n",
    " -5.170e-10  1.225e-07  4.009e-06 -2.141e-09 -1.491e-06 <br\\>\n",
    "  2.326e-13 -6.650e-11 -2.141e-09  4.321e-10 -3.217e-09  <br\\>\n",
    "  4.680e-10 -3.171e-08 -1.491e-06 -3.217e-09  2.356e-06  <br\\>\n",
    "\n",
    " PARAMETER  CORRELATION COEFFICIENTS   <br\\>\n",
    "       NO.  GLOBAL      1      2      3      4      5      6      7      8      9     10     11     12     13     14     15     16 <br\\>\n",
    "        1  0.94382   1.000 -0.685 -0.407  0.018  0.480  0.649  0.029  0.073 -0.883  0.882 -0.533  0.017  0.108  0.011  0.110  0.208 <br\\>\n",
    "        2  0.80298  -0.685  1.000  0.233 -0.012 -0.079 -0.405  0.234  0.026  0.554 -0.553  0.334 -0.039 -0.056  0.030 -0.081 -0.119 <br\\>\n",
    "        3  0.80290  -0.407  0.233  1.000 -0.051 -0.485 -0.165 -0.020  0.076  0.641 -0.649  0.399 -0.001 -0.041 -0.013 -0.165 -0.179 <br\\>\n",
    "        4  0.20496   0.018 -0.012 -0.051  1.000 -0.101  0.012  0.009  0.014 -0.017  0.017 -0.010 -0.009 -0.008  0.008 -0.011 -0.006 <br\\>\n",
    "        5  0.75659   0.480 -0.079 -0.485 -0.101  1.000  0.301  0.368  0.082 -0.535  0.536 -0.326 -0.288 -0.164  0.267  0.035  0.097 <br\\>\n",
    "        6  0.89265   0.649 -0.405 -0.165  0.012  0.301  1.000  0.041  0.067 -0.624  0.609 -0.357  0.007  0.070  0.011  0.056  0.125 <br\\>\n",
    "        7  0.85925   0.029  0.234 -0.020  0.009  0.368  0.041  1.000  0.062 -0.043  0.042 -0.026 -0.555 -0.328  0.525 -0.027 -0.004 <br\\>\n",
    "        8  0.86280   0.073  0.026  0.076  0.014  0.082  0.067  0.062  1.000 -0.034  0.032 -0.019 -0.028 -0.009  0.028 -0.734 -0.420 <br\\>\n",
    "        9  0.99991  -0.883  0.554  0.641 -0.017 -0.535 -0.624 -0.043 -0.034  1.000 -1.000  0.610 -0.014 -0.098 -0.012 -0.138 -0.217 <br\\>\n",
    "       10  0.99991   0.882 -0.553 -0.649  0.017  0.536  0.609  0.042  0.032 -1.000  1.000 -0.612  0.014  0.098  0.012  0.139  0.218 <br\\>\n",
    "       11  0.61336  -0.533  0.334  0.399 -0.010 -0.326 -0.357 -0.026 -0.019  0.610 -0.612  1.000 -0.008 -0.059 -0.007 -0.085 -0.132 <br\\>\n",
    "       12  0.99185   0.017 -0.039 -0.001 -0.009 -0.288  0.007 -0.555 -0.028 -0.014  0.014 -0.008  1.000  0.944 -0.971  0.031  0.025 <br\\>\n",
    "       13  0.97853   0.108 -0.056 -0.041 -0.008 -0.164  0.070 -0.328 -0.009 -0.098  0.098 -0.059  0.944  1.000 -0.908  0.034  0.041 <br\\>\n",
    "       14  0.97406   0.011  0.030 -0.013  0.008  0.267  0.011  0.525  0.028 -0.012  0.012 -0.007 -0.971 -0.908  1.000 -0.024 -0.016 <br\\>\n",
    "       15  0.96612   0.110 -0.081 -0.165 -0.011  0.035  0.056 -0.027 -0.734 -0.138  0.139 -0.085  0.031  0.034 -0.024  1.000  0.863 <br\\>\n",
    "       16  0.92849   0.208 -0.119 -0.179 -0.006  0.097  0.125 -0.004 -0.420 -0.217  0.218 -0.132  0.025  0.041 -0.016  0.863  1.000 <br\\>\n",
    "       17  0.91854  -0.090  0.061  0.115  0.007 -0.032 -0.048  0.015  0.493  0.106 -0.106  0.065 -0.021 -0.025  0.016 -0.878 -0.879 <br\\>"
   ]
  },
  {
   "cell_type": "code",
   "execution_count": 18,
   "metadata": {
    "collapsed": false
   },
   "outputs": [
    {
     "data": {
      "text/plain": [
       "0L"
      ]
     },
     "execution_count": 18,
     "metadata": {},
     "output_type": "execute_result"
    }
   ],
   "source": [
    "# Plot Resolution function\n",
    "gROOT.ProcessLine('TF1* resolution = sim0->getResolutionFunction()')\n",
    "gROOT.ProcessLine('TCanvas c2')\n",
    "gROOT.ProcessLine('resolution->Draw()')"
   ]
  },
  {
   "cell_type": "markdown",
   "metadata": {},
   "source": [
    "#### Resolution Function\n",
    "<img src=\"Pics/ResolutionFunct_Det0.png\">\n",
    "\n",
    "#### Resolution Function From Literature\n",
    "<img src=\"Pics/LitEJ309ResolutionFunct.png\">"
   ]
  },
  {
   "cell_type": "markdown",
   "metadata": {},
   "source": [
    "### Detector 45 (Ch2)\n",
    "#### startSimCalib\n",
    "\n",
    "Perform a more thorough calibration using the parameters found from above (copy them from the calib_params file into the startSimCalib function).  A power law fit is used for the background subtraction."
   ]
  },
  {
   "cell_type": "code",
   "execution_count": 1,
   "metadata": {
    "collapsed": false
   },
   "outputs": [
    {
     "name": "stdout",
     "output_type": "stream",
     "text": [
      "Currently working in: \n",
      " /home/pyne-user/Dropbox/UCB/Research/ETAs/88Inch/Data/Experiments/PHS/33MeVTa_29-31Mar17/CalibData\n"
     ]
    },
    {
     "data": {
      "text/plain": [
       "0L"
      ]
     },
     "execution_count": 1,
     "metadata": {},
     "output_type": "execute_result"
    }
   ],
   "source": [
    "import os\n",
    "from ROOT import gROOT\n",
    "\n",
    "path = '/home/pyne-user/Dropbox/UCB/Research/ETAs/88Inch/Data/Experiments/PHS/33MeVTa_29-31Mar17/CalibData/'\n",
    "os.chdir(path)\n",
    "print 'Currently working in: \\n {}'.format(os.getcwd())\n",
    "\n",
    "gROOT.ProcessLine('.L start33MeVTaCalibration_45.cpp')"
   ]
  },
  {
   "cell_type": "code",
   "execution_count": 2,
   "metadata": {
    "collapsed": false
   },
   "outputs": [
    {
     "data": {
      "text/plain": [
       "101036864L"
      ]
     },
     "execution_count": 2,
     "metadata": {},
     "output_type": "execute_result"
    }
   ],
   "source": [
    "gROOT.ProcessLine('sim0=startSimCalibration()')"
   ]
  },
  {
   "cell_type": "code",
   "execution_count": 23,
   "metadata": {
    "collapsed": false
   },
   "outputs": [
    {
     "data": {
      "text/plain": [
       "107781200L"
      ]
     },
     "execution_count": 23,
     "metadata": {},
     "output_type": "execute_result"
    }
   ],
   "source": [
    "gROOT.ProcessLine('sim0->findGammaCalibrationConstants()')"
   ]
  },
  {
   "cell_type": "code",
   "execution_count": 24,
   "metadata": {
    "collapsed": false
   },
   "outputs": [
    {
     "data": {
      "text/plain": [
       "0L"
      ]
     },
     "execution_count": 24,
     "metadata": {},
     "output_type": "execute_result"
    }
   ],
   "source": [
    "gROOT.ProcessLine('std::vector<double> params0 = sim0->findGammaCalibrationConstants()')\n",
    "gROOT.ProcessLine('sim0->writeStateToDisk(\"CalibParams_2.txt\")')"
   ]
  },
  {
   "cell_type": "code",
   "execution_count": 25,
   "metadata": {
    "collapsed": false
   },
   "outputs": [
    {
     "data": {
      "text/plain": [
       "1L"
      ]
     },
     "execution_count": 25,
     "metadata": {},
     "output_type": "execute_result"
    }
   ],
   "source": [
    "gROOT.ProcessLine('sim0->getMinimizer()->Hesse()')"
   ]
  },
  {
   "cell_type": "markdown",
   "metadata": {},
   "source": [
    "The calibration is saved as **CalibParams_2.txt**.  The fit obtained was:\n",
    "\n",
    "<img src=\"Pics/33MeVTa_Det45FinalCalib.png\">\n",
    "\n",
    "##### The minimization results (Det45):\n",
    "\n",
    " EIGENVALUES OF SECOND-DERIVATIVE MATRIX: <br\\>\n",
    "-2.5809e+02  4.3164e-01  7.2905e-01  8.0125e-01  9.1741e-01  9.3912e-01  9.4229e-01  9.9491e-01  9.9775e-01  1.0000e+00  1.0000e+00  1.0027e+00  1.0049e+00  1.0572e+00  1.2470e+00  1.6060e+00  2.6042e+02 <br\\>\n",
    " FCN=2007.51 FROM HESSE     STATUS=NOT POSDEF    249 CALLS         250 TOTAL <br\\>\n",
    "                     EDM=9.25554e+06    STRATEGY= 1      ERR MATRIX NOT POS-DEF <br\\>\n",
    "  EXT PARAMETER                APPROXIMATE     INTERNAL      INTERNAL   <br\\>\n",
    "  NO.   NAME      VALUE            ERROR       STEP SIZE       VALUE    <br\\>\n",
    "   1  a            1.17689e-03   1.71843e-07   2.39372e-04   3.45520e-01 <br\\>\n",
    "   2  b            3.19963e-02   2.33971e-02   5.22846e-05  -2.29474e-04 <br\\>\n",
    "   3  Ec           1.22023e-01   7.49948e-06   1.08847e-02  -2.54454e-01 <br\\>\n",
    "   4  E1           9.75827e-02   1.00534e-05   1.65469e-02  -3.74239e-01 <br\\>\n",
    "   5  E2           1.52449e-01   7.06010e-05   3.28449e-03   1.08105e-01 <br\\>\n",
    "   \n",
    " EXTERNAL ERROR MATRIX.    NDIM=  25    NPAR= 17    ERR DEF=1 <br\\>\n",
    " ELEMENTS ABOVE DIAGONAL ARE NOT PRINTED. <br\\>\n",
    "  2.953e-14 -5.382e-09 -4.518e-13 -1.009e-12 -1.194e-11 <br\\>\n",
    " -5.382e-09  9.841e-04  8.261e-08  1.845e-07  2.184e-06  <br\\>\n",
    " -4.518e-13  8.261e-08  5.624e-11  1.548e-11  1.833e-10 <br\\>\n",
    " -1.009e-12  1.845e-07  1.548e-11  1.011e-10  4.092e-10 <br\\>\n",
    " -1.194e-11  2.184e-06  1.833e-10  4.092e-10  4.984e-09  <br\\>\n",
    "ERR MATRIX NOT POS-DEF  <br\\>\n",
    "\n",
    " PARAMETER  CORRELATION COEFFICIENTS   <br\\>\n",
    "       NO.  GLOBAL      1      2      3      4      5      6      7      8      9     10     11     12     13     14     15     16 <br\\>\n",
    "        1  0.99835   1.000 -0.998 -0.351 -0.584 -0.984 -0.498 -0.995 -0.524 -0.149 -0.305  0.000 -0.964  0.882 -0.002 -0.253 -0.092 <br\\>\n",
    "        2  0.99900  -0.998  1.000  0.351  0.585  0.986  0.499  0.996  0.525  0.149  0.306 -0.000  0.966 -0.883  0.002  0.254  0.092 <br\\>\n",
    "        3  0.35116  -0.351  0.351  1.000  0.205  0.346  0.175  0.350  0.184  0.052  0.107 -0.000  0.339 -0.310  0.001  0.089  0.032 <br\\>\n",
    "        4  0.58484  -0.584  0.585  0.205  1.000  0.577  0.292  0.583  0.307  0.087  0.179 -0.000  0.565 -0.517  0.001  0.148  0.054 <br\\>\n",
    "        5  0.98587  -0.984  0.986  0.346  0.577  1.000  0.492  0.982  0.517  0.147  0.301 -0.000  0.952 -0.871  0.002  0.250  0.091 <br\\>\n",
    "        6  0.49882  -0.498  0.499  0.175  0.292  0.492  1.000  0.497  0.262  0.074  0.152 -0.000  0.482 -0.441  0.001  0.127  0.046 <br\\>\n",
    "        7  0.99649  -0.995  0.996  0.350  0.583  0.982  0.497  1.000  0.523  0.149  0.305 -0.000  0.962 -0.880  0.002  0.253  0.092 <br\\>\n",
    "        8  0.52454  -0.524  0.525  0.184  0.307  0.517  0.262  0.523  1.000  0.078  0.160 -0.000  0.507 -0.463  0.001  0.133  0.048 <br\\>\n",
    "        9  0.14903  -0.149  0.149  0.052  0.087  0.147  0.074  0.149  0.078  1.000  0.045 -0.000  0.144 -0.132  0.000  0.038  0.014 <br\\>\n",
    "       10  0.30572  -0.305  0.306  0.107  0.179  0.301  0.152  0.305  0.160  0.045  1.000 -0.000  0.295 -0.270  0.000  0.078  0.028 <br\\>\n",
    "       11  0.00020   0.000 -0.000 -0.000 -0.000 -0.000 -0.000 -0.000 -0.000 -0.000 -0.000  1.000 -0.000  0.000 -0.000 -0.000 -0.000 <br\\>\n",
    "       12  0.96584  -0.964  0.966  0.339  0.565  0.952  0.482  0.962  0.507  0.144  0.295 -0.000  1.000 -0.853  0.002  0.245  0.089 <br\\>\n",
    "       13  0.88349   0.882 -0.883 -0.310 -0.517 -0.871 -0.441 -0.880 -0.463 -0.132 -0.270  0.000 -0.853  1.000 -0.001 -0.224 -0.082 <br\\>\n",
    "       14  0.00156  -0.002  0.002  0.001  0.001  0.002  0.001  0.002  0.001  0.000  0.000 -0.000  0.002 -0.001  1.000  0.000  0.000 <br\\>\n",
    "       15  0.25386  -0.253  0.254  0.089  0.148  0.250  0.127  0.253  0.133  0.038  0.078 -0.000  0.245 -0.224  0.000  1.000  0.023 <br\\>\n",
    "       16  0.09238  -0.092  0.092  0.032  0.054  0.091  0.046  0.092  0.048  0.014  0.028 -0.000  0.089 -0.082  0.000  0.023  1.000 <br\\>\n",
    "       17  0.01553  -0.016  0.016  0.005  0.009  0.015  0.008  0.015  0.008  0.002  0.005 -0.000  0.015 -0.014  0.000  0.004  0.001 <br\\>"
   ]
  },
  {
   "cell_type": "code",
   "execution_count": 26,
   "metadata": {
    "collapsed": false
   },
   "outputs": [
    {
     "data": {
      "text/plain": [
       "0L"
      ]
     },
     "execution_count": 26,
     "metadata": {},
     "output_type": "execute_result"
    }
   ],
   "source": [
    "# Plot Resolution function\n",
    "gROOT.ProcessLine('TF1* resolution = sim0->getResolutionFunction()')\n",
    "gROOT.ProcessLine('TCanvas c2')\n",
    "gROOT.ProcessLine('resolution->Draw()')"
   ]
  },
  {
   "cell_type": "markdown",
   "metadata": {},
   "source": [
    "#### Resolution Function\n",
    "<img src=\"Pics/ResolutionFunct_Det45.png\">\n",
    "\n",
    "#### Resolution Function From Literature\n",
    "<img src=\"Pics/LitEJ309ResolutionFunct.png\">"
   ]
  },
  {
   "cell_type": "markdown",
   "metadata": {},
   "source": [
    "### Detector 90 (Ch4)\n",
    "#### startSimCalib\n",
    "\n",
    "Perform a more thorough calibration using the parameters found from above (copy them from the calib_params file into the startSimCalib function).  A power law fit is used for the background subtraction."
   ]
  },
  {
   "cell_type": "code",
   "execution_count": 7,
   "metadata": {
    "collapsed": false
   },
   "outputs": [
    {
     "name": "stdout",
     "output_type": "stream",
     "text": [
      "Currently working in: \n",
      " /home/pyne-user/Dropbox/UCB/Research/ETAs/88Inch/Data/Experiments/PHS/33MeVTa_29-31Mar17/CalibData\n"
     ]
    },
    {
     "data": {
      "text/plain": [
       "0L"
      ]
     },
     "execution_count": 7,
     "metadata": {},
     "output_type": "execute_result"
    }
   ],
   "source": [
    "import os\n",
    "from ROOT import gROOT\n",
    "\n",
    "path = '/home/pyne-user/Dropbox/UCB/Research/ETAs/88Inch/Data/Experiments/PHS/33MeVTa_29-31Mar17/CalibData/'\n",
    "os.chdir(path)\n",
    "print 'Currently working in: \\n {}'.format(os.getcwd())\n",
    "\n",
    "gROOT.ProcessLine('.L start33MeVTaCalibration_90.cpp')"
   ]
  },
  {
   "cell_type": "code",
   "execution_count": 8,
   "metadata": {
    "collapsed": false
   },
   "outputs": [
    {
     "data": {
      "text/plain": [
       "120845008L"
      ]
     },
     "execution_count": 8,
     "metadata": {},
     "output_type": "execute_result"
    }
   ],
   "source": [
    "gROOT.ProcessLine('sim0=startSimCalibration()')"
   ]
  },
  {
   "cell_type": "code",
   "execution_count": 13,
   "metadata": {
    "collapsed": false
   },
   "outputs": [
    {
     "data": {
      "text/plain": [
       "123357472L"
      ]
     },
     "execution_count": 13,
     "metadata": {},
     "output_type": "execute_result"
    }
   ],
   "source": [
    "gROOT.ProcessLine('sim0->findGammaCalibrationConstants()')"
   ]
  },
  {
   "cell_type": "code",
   "execution_count": 14,
   "metadata": {
    "collapsed": false
   },
   "outputs": [
    {
     "data": {
      "text/plain": [
       "0L"
      ]
     },
     "execution_count": 14,
     "metadata": {},
     "output_type": "execute_result"
    }
   ],
   "source": [
    "gROOT.ProcessLine('std::vector<double> params0 = sim0->findGammaCalibrationConstants()')\n",
    "gROOT.ProcessLine('sim0->writeStateToDisk(\"CalibParams_4.txt\")')"
   ]
  },
  {
   "cell_type": "code",
   "execution_count": 15,
   "metadata": {
    "collapsed": false
   },
   "outputs": [
    {
     "data": {
      "text/plain": [
       "1L"
      ]
     },
     "execution_count": 15,
     "metadata": {},
     "output_type": "execute_result"
    }
   ],
   "source": [
    "gROOT.ProcessLine('sim0->getMinimizer()->Hesse()')"
   ]
  },
  {
   "cell_type": "markdown",
   "metadata": {},
   "source": [
    "The calibration is saved as **CalibParams_4.txt**.  The fit obtained was:\n",
    "\n",
    "<img src=\"Pics/33MeVTa_Det90FinalCalib.png\">\n",
    "\n",
    "##### The minimization results (Det90):\n",
    "\n",
    " EIGENVALUES OF SECOND-DERIVATIVE MATRIX: <br\\>\n",
    "        -1.5225e-01  7.3387e-04  3.3268e-02  5.8975e-02  9.5601e-02  3.4520e-01  3.7284e-01  5.2547e-01  7.7016e-01  9.9462e-01  9.9542e-01  1.1758e+00  1.4002e+00  1.8223e+00  2.1730e+00  2.5915e+00  3.7971e+00 <br\\>\n",
    " FCN=2418.41 FROM HESSE     STATUS=NOT POSDEF    247 CALLS         248 TOTAL <br\\>\n",
    "                     EDM=138.578    STRATEGY= 1      ERR MATRIX NOT POS-DEF <br\\>\n",
    "  EXT PARAMETER                APPROXIMATE     INTERNAL      INTERNAL  <br\\> \n",
    "  NO.   NAME      VALUE            ERROR       STEP SIZE       VALUE   <br\\> \n",
    "   1  a            1.04706e-03   2.24692e-07   2.19212e-04   8.07836e-02 <br\\>\n",
    "   2  b            3.33962e-02   1.33382e-04   4.22420e-03   8.73705e-02 <br\\>\n",
    "   3  Ec           1.17010e-01   1.25941e-03   1.26882e-02  -4.64887e-01 <br\\>\n",
    "   4  E1           1.20893e-01   2.21046e-03   7.14901e-03  -6.18203e-01 <br\\>\n",
    "   5  E2           1.38368e-01   1.08538e-03   1.37168e-02   9.34005e-01 <br\\>\n",
    "   \n",
    " EXTERNAL ERROR MATRIX.    NDIM=  25    NPAR= 17    ERR DEF=1\n",
    "  5.049e-14 -1.854e-11  8.917e-11  3.237e-11  5.745e-12 <br\\>\n",
    " -1.854e-11  1.779e-08 -3.362e-08 -6.442e-09  4.121e-08 <br\\>\n",
    "  8.917e-11 -3.362e-08  1.586e-06 -8.979e-07  8.388e-08 <br\\>\n",
    "  3.237e-11 -6.442e-09 -8.979e-07  4.887e-06 -1.594e-06 <br\\>\n",
    "  5.745e-12  4.121e-08  8.388e-08 -1.594e-06  1.178e-06 <br\\> \n",
    "\n",
    " PARAMETER  CORRELATION COEFFICIENTS   <br\\>\n",
    "       NO.  GLOBAL      1      2      3      4      5      6      7      8      9     10     11     12     13     14     15     16 <br\\>\n",
    "        1  0.78787   1.000 -0.618  0.315  0.065  0.024  0.167 -0.080  0.065  0.004  0.031  0.002  0.044 -0.066 -0.046 -0.013  0.054 <br\\>\n",
    "        2  0.79306  -0.618  1.000 -0.200 -0.022  0.285 -0.085  0.304  0.018 -0.001 -0.016 -0.001 -0.013  0.033  0.012 -0.002 -0.011 <br\\>\n",
    "        3  0.61076   0.315 -0.200  1.000 -0.322  0.061  0.215 -0.039  0.035 -0.149 -0.009  0.010 -0.046  0.019  0.046 -0.029  0.003 <br\\>\n",
    "        4  0.84430   0.065 -0.022 -0.322  1.000 -0.664  0.019  0.073  0.033 -0.010  0.001  0.001  0.146 -0.090 -0.152 -0.045 -0.022 <br\\>\n",
    "        5  0.84633   0.024  0.285  0.061 -0.664  1.000 -0.026  0.121  0.015  0.039  0.007 -0.002  0.129 -0.077 -0.138  0.017  0.025 <br\\>\n",
    "        6  0.65778   0.167 -0.085  0.215  0.019 -0.026  1.000 -0.002  0.018 -0.401 -0.000  0.024  0.009 -0.011 -0.010 -0.011  0.005 <br\\>\n",
    "        7  0.39669  -0.080  0.304 -0.039  0.073  0.121 -0.002  1.000  0.022 -0.003 -0.002  0.000  0.152 -0.078 -0.165 -0.009  0.001 <br\\>\n",
    "        8  0.67577   0.065  0.018  0.035  0.033  0.015  0.018  0.022  1.000 -0.005  0.002  0.000  0.013 -0.010 -0.014 -0.540  0.033 <br\\>\n",
    "        9  0.88075   0.004 -0.001 -0.149 -0.010  0.039 -0.401 -0.003 -0.005  1.000 -0.769 -0.028 -0.002  0.000  0.002  0.008  0.005 <br\\>\n",
    "       10  0.85332   0.031 -0.016 -0.009  0.001  0.007 -0.000 -0.002  0.002 -0.769  1.000 -0.016  0.001 -0.002 -0.001  0.001  0.002 <br\\>\n",
    "       11  0.07008   0.002 -0.001  0.010  0.001 -0.002  0.024  0.000  0.000 -0.028 -0.016  1.000  0.000 -0.000 -0.000 -0.001 -0.000 <br\\>\n",
    "       12  0.99666   0.044 -0.013 -0.046  0.146  0.129  0.009  0.152  0.013 -0.002  0.001  0.000  1.000 -0.577 -0.996 -0.017 -0.007 <br\\>\n",
    "       13  0.58256  -0.066  0.033  0.019 -0.090 -0.077 -0.011 -0.078 -0.010  0.000 -0.002 -0.000 -0.577  1.000  0.580  0.010  0.002 <br\\>\n",
    "       14  0.99676  -0.046  0.012  0.046 -0.152 -0.138 -0.010 -0.165 -0.014  0.002 -0.001 -0.000 -0.996  0.580  1.000  0.018  0.007 <br\\>\n",
    "       15  0.81604  -0.013 -0.002 -0.029 -0.045  0.017 -0.011 -0.009 -0.540  0.008  0.001 -0.001 -0.017  0.010  0.018  1.000  0.541 <br\\>\n",
    "       16  0.71760   0.054 -0.011  0.003 -0.022  0.025  0.005  0.001  0.033  0.005  0.002 -0.000 -0.007  0.002  0.007  0.541  1.000 <br\\>\n",
    "       17  0.70675  -0.002 -0.001  0.003  0.007 -0.005  0.001  0.000  0.107 -0.001 -0.000  0.000  0.002 -0.001 -0.003 -0.599 -0.626 <br\\> "
   ]
  },
  {
   "cell_type": "code",
   "execution_count": 16,
   "metadata": {
    "collapsed": false
   },
   "outputs": [
    {
     "data": {
      "text/plain": [
       "0L"
      ]
     },
     "execution_count": 16,
     "metadata": {},
     "output_type": "execute_result"
    }
   ],
   "source": [
    "# Plot Resolution function\n",
    "gROOT.ProcessLine('TF1* resolution = sim0->getResolutionFunction()')\n",
    "gROOT.ProcessLine('TCanvas c2')\n",
    "gROOT.ProcessLine('resolution->Draw()')"
   ]
  },
  {
   "cell_type": "markdown",
   "metadata": {},
   "source": [
    "#### Resolution Function\n",
    "<img src=\"Pics/ResolutionFunct_Det90.png\">\n",
    "\n",
    "#### Resolution Function From Literature\n",
    "<img src=\"Pics/LitEJ309ResolutionFunct.png\">"
   ]
  },
  {
   "cell_type": "markdown",
   "metadata": {},
   "source": [
    "## 5) Experimental Data Acquisition:\n",
    "\n",
    "\n",
    "\n",
    "### Run #001\n",
    "**This was with an unstable beam. Only use for up purposes.**\n",
    "\n",
    "All current monitor data is stored in: **2H+1_33MeV_0216_31Mar2017_Goldblum at 50 nA.bcm** in the 33MeVTa_29-31Mar17/BCM. \n",
    "\n",
    "The current was ~50 nA. The current integrator was set to the 2E-7 Scale.\n",
    "\n",
    "Start: 0216\n",
    "Current integrator reading is 0 <br\\>\n",
    "Stop: 0243 <br\\>\n",
    "Current integrator reading is 595 <br\\>\n",
    "\n",
    "### Run #002\n",
    "All current monitor data is stored in: **2H+1_33MeV_1027_31Mar2017_Goldblum at 100 nA no bias.bcm** in the 33MeVTa_29-31Mar17/BCM. \n",
    "\n",
    "The current was ~100 nA. The current integrator was set to the 2E-7 Scale.\n",
    "\n",
    "Start: 1028\n",
    "Current integrator reading is 0 <br\\>\n",
    "Stop: 1044 <br\\>\n",
    "Current integrator reading is 575 <br\\>"
   ]
  },
  {
   "cell_type": "markdown",
   "metadata": {},
   "source": [
    "## 6) Pulse Height Spectrum Post-Processing:\n",
    "\n",
    "These steps convert the experimental data to root files, makes a TChain combining the run data, applys PSD cuts, and generates a heprow formatted .phs file for use in unfolding.  "
   ]
  },
  {
   "cell_type": "code",
   "execution_count": 1,
   "metadata": {
    "collapsed": false
   },
   "outputs": [
    {
     "name": "stdout",
     "output_type": "stream",
     "text": [
      "Currently working in: \n",
      " /home/pyne-user/Dropbox/UCB/Research/ETAs/88Inch/Data/Experiments/PHS/33MeVTa_29-31Mar17/BeamOnly\n"
     ]
    }
   ],
   "source": [
    "import sys\n",
    "import os\n",
    "from ROOT import gROOT\n",
    "\n",
    "sys.path.insert(0,os.path.abspath('/home/pyne-user/Dropbox/UCB/Computational_Tools/Scripts/Python/Support'))\n",
    "sys.path.insert(0,os.path.abspath('/home/pyne-user/Dropbox/UCB/Computational_Tools/Scripts/Python/Unfolding'))\n",
    "from Utilities import pause\n",
    "from Root import CalibParams\n",
    "calPath = '/home/pyne-user/Dropbox/UCB/Research/ETAs/88Inch/Data/Experiments/PHS/33MeVTa_29-31Mar17/CalibData/'\n",
    "\n",
    "path = '/home/pyne-user/Dropbox/UCB/Research/ETAs/88Inch/Data/Experiments/PHS/33MeVTa_29-31Mar17/BeamOnly/'\n",
    "os.chdir(path)\n",
    "print 'Currently working in: \\n {}'.format(os.getcwd())\n",
    "\n",
    "detNames = {0: 'Det0', 2: 'Det45', 4: 'Det90'}\n",
    "runNum = '002'\n",
    "calNames = {0: 'CalibParams_0.txt', 2: 'CalibParams_2.txt', 4: 'CalibParams_4.txt'}"
   ]
  },
  {
   "cell_type": "markdown",
   "metadata": {},
   "source": [
    "### Convert Data Files from Binary to Root\n",
    "\n",
    "Since the 3rd input to the parser is set to true, this also cuts all flagged pile-up events."
   ]
  },
  {
   "cell_type": "code",
   "execution_count": 2,
   "metadata": {
    "collapsed": false
   },
   "outputs": [
    {
     "name": "stdout",
     "output_type": "stream",
     "text": [
      "Processing:  33MeVTa_002_ls_4.dat\n",
      "Processing:  33MeVTa_001_ls_0.dat\n",
      "Processing:  33MeVTa_002_ls_2.dat\n",
      "Processing:  33MeVTa_001_ls_2.dat\n",
      "Processing:  33MeVTa_002_ls_0.dat\n",
      "Processing:  33MeVTa_001_ls_4.dat\n"
     ]
    }
   ],
   "source": [
    "gROOT.ProcessLine('DPPBinaryParser parser;')\n",
    "\n",
    "for filename in os.listdir(path):\n",
    "    if filename.endswith(\".dat\"): \n",
    "        name = os.path.splitext(filename)[0]\n",
    "        print 'Processing: ', filename\n",
    "        gROOT.ProcessLine('parser.readDatFile(\"{0}.dat\", \"{0}.root\", true);'.format(name))"
   ]
  },
  {
   "cell_type": "markdown",
   "metadata": {},
   "source": [
    "### Make PSD Cuts\n",
    "\n",
    "To perform the unfolding, it is necessary to toss out the gamma data from the target data.   A PSD cut based on a gaussian fitting of the neutron and gamma bands is used. \n",
    "\n",
    "#### Gaussian fitted PSD cuts:\n",
    "\n",
    "This cannot be run interactively since the software requires user inputs in the terminal and is a little finicky.  The process is described instead.  All statements following >>> are intended to be typed in a root terminal session in the folder with the root files. Each step lists the values used for each channel in the format (ch 0, ch1, ..., ch N)\n",
    "\n",
    "Next, create the necessary object and start the fit for the calibration set of interest:\n",
    "\n",
    "\\>>>obj=DDaqPostProcessing(\"33MeVTa_002_ls_0.root\") <br\\>\n",
    "\\>>>obj.developFittedPSDCut()\n",
    "\n",
    "This will open a PSD plot and ask for a linear PSD cut. Determine what linear cut works at high PH and enter it.  **(0.205) used for this analysis**\n",
    "\n",
    "It then asks for a PH above where mixing occurs.  Chose a PH channel where there is clearly no mixing.  **(3000) used for this analysis**\n",
    "\n",
    "Next, enter a start bin # where there is PH data.  This is bin #, not channel #.  **(40) used for this analysis**\n",
    "\n",
    "Finally enter a stop bin number where the fitting will stop.  This is bin #, not channel #.  **(400) used for this analysis**\n",
    "\n",
    "This spawns a fitting window for the two distributions.  If the fit is good, hit update, close, and type a letter into the terminal to continue.  If the fit is bad, manually adjust the parameters until a decent fit is obtained and hit fit.  Then update, close, and type a letter in the terminal. \n",
    "\n",
    "Now the spectra can be saved with:\n",
    "\n",
    "\\>>>obj.makeDualPhSpectra(\"33MeVTa_002_ls_0_fittedPSDCut.root\", true)\n",
    "\n",
    "The next cell takes that data and populates it into a root tree for calibration."
   ]
  },
  {
   "cell_type": "markdown",
   "metadata": {},
   "source": [
    "### Apply Calibrations\n",
    "\n",
    "params.a is the slope of the calibration <br\\>\n",
    "params.b is the intercept of the calibration"
   ]
  },
  {
   "cell_type": "code",
   "execution_count": 2,
   "metadata": {
    "collapsed": false
   },
   "outputs": [
    {
     "name": "stderr",
     "output_type": "stream",
     "text": [
      "TH1D::Rebin:0: RuntimeWarning: ngroup=3 is not an exact divider of nbins=5000.\n"
     ]
    },
    {
     "name": "stdout",
     "output_type": "stream",
     "text": [
      "Press enter to continue\n"
     ]
    }
   ],
   "source": [
    "detNames = {0: 'Det0'}  ###REMOVE WHEN YOU GET ACTUAL PSD CUTS ON THEM ALL!\n",
    "\n",
    "gROOT.ProcessLine('HistogramOperations ops')\n",
    "gROOT.ProcessLine('lightTables.setBirksParams(1.0,6.90)')\n",
    "\n",
    "for detNum, detName in detNames.iteritems():\n",
    "    params = CalibParams(calPath+calNames[detNum])\n",
    "    gROOT.ProcessLine('vector<TH1*> phs{1} = ops.loadHistograms(\"33MeVTa_{0}_ls_{1}_fittedPSDCut.root\")'.format(runNum,detNum))\n",
    "    gROOT.ProcessLine('ops.applyCalibration(phs{0}[1],{1},{2})'.format(detNum, params.a, params.b))\n",
    "    gROOT.ProcessLine('TFile *tgt{0} = new TFile(\"33MeVTa_{0}_ls_{1}_calibFittedPSDCut.root\",\"recreate\")'.format(runNum,detNum))\n",
    "    gROOT.ProcessLine('phs{0}[1]->Rebin(3)'.format(detNum))\n",
    "    gROOT.ProcessLine('phs{0}[1]->Draw()'.format(detNum))    \n",
    "    gROOT.ProcessLine('phs{0}[1]->Write()'.format(str(detNum)))\n",
    "    pause()"
   ]
  },
  {
   "cell_type": "markdown",
   "metadata": {},
   "source": [
    "<img src=\"Pics/CalibPHS_Det0.png\">"
   ]
  },
  {
   "cell_type": "markdown",
   "metadata": {},
   "source": [
    "### Generate the HEPROW .phs file\n",
    "\n",
    "Find the first bin with non tuncated data.  Due the nonlinear threshold at low PH, the low PH bins will be truncated and should not be used.  This is best done visually with the plot generated immediately above in combination with the full PSD plot.  The following commands can be usedful for finding the lower bin edge for the peak bin (the values in the commands are the ones used for further analysis):\n",
    "\n",
    "\\>>>TFile f(\"33MeVTa_002_ls_0_calibFittedPSDCut.root\") <br\\>\n",
    "\\>>>PHNeuWithCut_0->GetBinContent(5) <br\\>\n",
    "\\>>>PHNeuWithCut_0->GetXaxis()->GetBinLowEdge(5) <br\\>\n",
    "\n",
    "If necessary, choose a rebin number to get the desired MeVee/bin.  In this case, the rebinning to get ~ 0.01 MeVee/bin was done above.  \n",
    "\n",
    "Rebin to stastically significant bins and print .phs file."
   ]
  },
  {
   "cell_type": "code",
   "execution_count": 3,
   "metadata": {
    "collapsed": false
   },
   "outputs": [],
   "source": [
    "rebin = 0\n",
    "truncate = {0: 3.365770e-02}#, 1: 2.729744e-01}\n",
    "outPath = \"/home/pyne-user/Dropbox/UCB/Research/ETAs/88Inch/Data/Experiments/PHS/33MeVTa_29-31Mar17/Unfold/BeamOnly/HEPROW/Inputs/\"\n",
    "\n",
    "gROOT.ProcessLine('HistogramWriter writer;')\n",
    "\n",
    "for detNum, detName in detNames.iteritems():\n",
    "    gROOT.ProcessLine('PulseHeightSpectrum{0} = (TH1D*)ops.truncateHist(phs{0}[1],{1},30)'.format(detNum, truncate[detNum]))\n",
    "    gROOT.ProcessLine('PulseHeightSpectrum{0}->Rebin({1})'.format(detNum, rebin))\n",
    "    gROOT.ProcessLine('TH1* dataHist{0} = ops.rebinStatistically(PulseHeightSpectrum{0},100);'.format(detNum))\n",
    "    gROOT.ProcessLine('writer.PhToHEPROW(PulseHeightSpectrum{0},\"{1}{2}_phs_03\")'.format(detNum, outPath, detName))\n",
    "    gROOT.ProcessLine('writer.PhToHEPROW(dataHist{0},\"{1}{2}_stat_100_phs_03\")'.format(detNum, outPath, detName))"
   ]
  },
  {
   "cell_type": "markdown",
   "metadata": {
    "collapsed": true
   },
   "source": [
    "## 7) Spectrum Unfolding\n",
    "\n",
    "From here forward, the rest of the notebook is on a detector by detector basis.\n",
    "\n",
    "### Generate 1 MeV EJ309 Response Matrix\n",
    "\n",
    "A unique smeare matrix is generated for each detector"
   ]
  },
  {
   "cell_type": "code",
   "execution_count": 1,
   "metadata": {
    "collapsed": false
   },
   "outputs": [
    {
     "name": "stdout",
     "output_type": "stream",
     "text": [
      "Currently working in: \n",
      " /home/pyne-user/Dropbox/UCB/Research/ETAs/88Inch/Data/Experiments/PHS/33MeVTa_29-31Mar17/Unfold/BeamOnly/HEPROW/Inputs\n"
     ]
    }
   ],
   "source": [
    "import os\n",
    "import sys\n",
    "from ROOT import gROOT\n",
    "import numpy as np\n",
    "\n",
    "sys.path.insert(0,os.path.abspath('/home/pyne-user/Dropbox/UCB/Computational_Tools/Scripts/Python/Support'))\n",
    "sys.path.insert(0,os.path.abspath('/home/pyne-user/Dropbox/UCB/Computational_Tools/Scripts/Python/Unfolding'))\n",
    "from Utilities import pause\n",
    "from Root import CalibParams\n",
    "\n",
    "outPath = \"/home/pyne-user/Dropbox/UCB/Research/ETAs/88Inch/Data/Experiments/PHS/33MeVTa_29-31Mar17/Unfold/BeamOnly/HEPROW/Inputs/\"\n",
    "rspPath= '/home/pyne-user/Dropbox/UCB/Research/ETAs/88Inch/Data/Simulated/PHS/ResponseMatrices/simSideResponse20Mil.root'\n",
    "calPath = '/home/pyne-user/Dropbox/UCB/Research/ETAs/88Inch/Data/Experiments/PHS/33MeVTa_29-31Mar17/CalibData/'\n",
    "\n",
    "os.chdir(outPath)\n",
    "print 'Currently working in: \\n {}'.format(os.getcwd())\n",
    "\n",
    "detNames = {0: 'Det0'}#, 2: 'Det45', 4: 'Det90'}\n",
    "calNames = {0: 'CalibParams_0.txt'}#, 2: 'CalibParams_2.txt', 4: 'CalibParams_4.txt'}"
   ]
  },
  {
   "cell_type": "markdown",
   "metadata": {},
   "source": [
    "#### Response Matrix Binning\n",
    "\n",
    "rspEwidth = the width of bins to use for the binning of the response matrix energy <br/>\n",
    "rspEmin = the minimum Energy to use for the binning of the response matrix  <br/>\n",
    "rspEmax = the maximum Energy to use for the binning of the response matrix  <br/>\n",
    "rspLwidth = the width of bins to use for the binning of the response matrix light <br/>\n",
    "rspLmin = the minimum Light to use for the binning of the response matrix  <br/>\n",
    "rspLmax = the maximum Light to use for the binning of the response matrix  <br/>"
   ]
  },
  {
   "cell_type": "code",
   "execution_count": 2,
   "metadata": {
    "collapsed": true
   },
   "outputs": [],
   "source": [
    "rspEwidth=1\n",
    "rspEmin=0\n",
    "rspEmax=40\n",
    "rspLwidth=0.03\n",
    "rspLmin=0.0\n",
    "rspLmax=40.0"
   ]
  },
  {
   "cell_type": "markdown",
   "metadata": {},
   "source": [
    "#### Create the bin structures, normalize and smear the response matrix, and print .rsp file"
   ]
  },
  {
   "cell_type": "code",
   "execution_count": 3,
   "metadata": {
    "collapsed": false
   },
   "outputs": [
    {
     "name": "stdout",
     "output_type": "stream",
     "text": [
      "Press enter to continue\n"
     ]
    }
   ],
   "source": [
    "# Initialize objects\n",
    "gROOT.ProcessLine('SimulationManipulation sm(\"{}\",0)'.format(rspPath))\n",
    "gROOT.ProcessLine('HistogramOperations ops')\n",
    "gROOT.ProcessLine('HistogramWriter writer;')\n",
    "gROOT.ProcessLine('lightTables.setBirksParams(1.0,6.90)')\n",
    "\n",
    "# Create the bin structures\n",
    "rspEbins=np.arange(rspEmin,rspEmax,rspEwidth)\n",
    "rspEbins=np.append(rspEbins,rspEmax)\n",
    "#print rspEbins\n",
    "rspLbins=np.arange(rspLmin,rspLmax,rspLwidth)\n",
    "rspLbins=np.append(rspLbins,rspLmax)\n",
    "#print rspLbins\n",
    "gROOT.ProcessLine('const Int_t EBINS = {}; const Int_t LBINS = {};'.format(len(rspEbins)-1,len(rspLbins)-1))\n",
    "gROOT.ProcessLine('Double_t eEdges[EBINS + 1] = {}{}{};'.format(\"{\",\", \".join(str(e) for e in rspEbins),\"}\"))\n",
    "gROOT.ProcessLine('Double_t lEdges[LBINS + 1] = {}{}{};'.format(\"{\",\", \".join(str(e) for e in rspLbins),\"}\"))\n",
    "gROOT.ProcessLine('axis1 = TAxis(EBINS,eEdges);')\n",
    "gROOT.ProcessLine('axis2 = TAxis(LBINS,lEdges);')\n",
    "\n",
    "# Create the Histogram and output file\n",
    "#gROOT.ProcessLine('TH2* matrix1=sm.getNormalizedResponseMatrix(axis1,axis2,1)')\n",
    "gROOT.ProcessLine('TH2* matrix1=sm.getNormalizedResponseMatrix(axis1,axis2)')\n",
    "gROOT.ProcessLine('writer.ResponseToHEPROW(matrix1,\"EJ309_resp_03_1\")')\n",
    "\n",
    "# Smear the Response Matrix and Create the .rsp File\n",
    "for detNum, detName in detNames.iteritems():   \n",
    "    params = CalibParams(calPath+calNames[detNum])\n",
    "\n",
    "    gROOT.ProcessLine('TH2* smearMatrix{0} = ops.skewedGausSmearMatrix(matrix1, {1}, {2}, {3})'.format(detNum, params.alpha, params.beta, params.gamma))\n",
    "    gROOT.ProcessLine('smearMatrix{0}->Draw(\"colz\")'.format(detNum))\n",
    "    gROOT.ProcessLine('writer.ResponseToHEPROW(smearMatrix{0},\"{1}_smearedResp_03_1\")'.format(detNum,detName))\n",
    "    \n",
    "    pause()"
   ]
  },
  {
   "cell_type": "markdown",
   "metadata": {},
   "source": [
    "#### Det0:\n",
    "<img src=\"Pics/1MeVSmearedResp_Det0.png\">"
   ]
  },
  {
   "cell_type": "markdown",
   "metadata": {
    "collapsed": true
   },
   "source": [
    "### Generate 0.5 MeV EJ309 Response Matrix\n",
    "\n",
    "#### Load the simulated respose matrix\n",
    "\n",
    "The kernel must be restarted for this section to work."
   ]
  },
  {
   "cell_type": "code",
   "execution_count": 1,
   "metadata": {
    "collapsed": false
   },
   "outputs": [
    {
     "name": "stdout",
     "output_type": "stream",
     "text": [
      "Currently working in: \n",
      " /home/pyne-user/Dropbox/UCB/Research/ETAs/88Inch/Data/Experiments/PHS/33MeVTa_29-31Mar17/Unfold/BeamOnly/HEPROW/Inputs\n"
     ]
    }
   ],
   "source": [
    "import os\n",
    "import sys\n",
    "from ROOT import gROOT\n",
    "import numpy as np\n",
    "\n",
    "sys.path.insert(0,os.path.abspath('/home/pyne-user/Dropbox/UCB/Computational_Tools/Scripts/Python/Support'))\n",
    "sys.path.insert(0,os.path.abspath('/home/pyne-user/Dropbox/UCB/Computational_Tools/Scripts/Python/Unfolding'))\n",
    "from Utilities import pause\n",
    "from Root import CalibParams\n",
    "\n",
    "outPath = \"/home/pyne-user/Dropbox/UCB/Research/ETAs/88Inch/Data/Experiments/PHS/33MeVTa_29-31Mar17/Unfold/BeamOnly/HEPROW/Inputs/\"\n",
    "rspPath= '/home/pyne-user/Dropbox/UCB/Research/ETAs/88Inch/Data/Simulated/PHS/ResponseMatrices/simSideResponse20Mil.root'\n",
    "calPath = '/home/pyne-user/Dropbox/UCB/Research/ETAs/88Inch/Data/Experiments/PHS/33MeVTa_29-31Mar17/CalibData/'\n",
    "\n",
    "os.chdir(outPath)\n",
    "print 'Currently working in: \\n {}'.format(os.getcwd())\n",
    "\n",
    "detNames = {0: 'Det0'}#, 2: 'Det45', 4: 'Det90'}\n",
    "calNames = {0: 'CalibParams_0.txt'}#, 2: 'CalibParams_2.txt', 4: 'CalibParams_4.txt'}"
   ]
  },
  {
   "cell_type": "markdown",
   "metadata": {},
   "source": [
    "#### Response Matrix Binning\n",
    "\n",
    "rspEwidth = the width of bins to use for the binning of the response matrix energy <br/>\n",
    "rspEmin = the minimum Energy to use for the binning of the response matrix  <br/>\n",
    "rspEmax = the maximum Energy to use for the binning of the response matrix  <br/>\n",
    "rspLwidth = the width of bins to use for the binning of the response matrix light <br/>\n",
    "rspLmin = the minimum Light to use for the binning of the response matrix  <br/>\n",
    "rspLmax = the maximum Light to use for the binning of the response matrix  <br/>"
   ]
  },
  {
   "cell_type": "code",
   "execution_count": 2,
   "metadata": {
    "collapsed": true
   },
   "outputs": [],
   "source": [
    "rspEwidth=0.5\n",
    "rspEmin=0\n",
    "rspEmax=40\n",
    "rspLwidth=0.03\n",
    "rspLmin=0.0\n",
    "rspLmax=40.0"
   ]
  },
  {
   "cell_type": "markdown",
   "metadata": {},
   "source": [
    "#### Create the bin structures, normalize and smear the response matrix, and print .rsp file"
   ]
  },
  {
   "cell_type": "code",
   "execution_count": 3,
   "metadata": {
    "collapsed": false
   },
   "outputs": [
    {
     "name": "stdout",
     "output_type": "stream",
     "text": [
      "Press enter to continue\n"
     ]
    }
   ],
   "source": [
    "# Initialize objects\n",
    "gROOT.ProcessLine('SimulationManipulation sm(\"{}\",0)'.format(rspPath))\n",
    "gROOT.ProcessLine('HistogramOperations ops')\n",
    "gROOT.ProcessLine('HistogramWriter writer;')\n",
    "gROOT.ProcessLine('lightTables.setBirksParams(1.0,6.90)')\n",
    "\n",
    "# Create the bin structures\n",
    "rspEbins=np.arange(rspEmin,rspEmax,rspEwidth)\n",
    "rspEbins=np.append(rspEbins,rspEmax)\n",
    "#print rspEbins\n",
    "rspLbins=np.arange(rspLmin,rspLmax,rspLwidth)\n",
    "rspLbins=np.append(rspLbins,rspLmax)\n",
    "#print rspLbins\n",
    "gROOT.ProcessLine('const Int_t EBINS = {}; const Int_t LBINS = {};'.format(len(rspEbins)-1,len(rspLbins)-1))\n",
    "gROOT.ProcessLine('Double_t eEdges[EBINS + 1] = {}{}{};'.format(\"{\",\", \".join(str(e) for e in rspEbins),\"}\"))\n",
    "gROOT.ProcessLine('Double_t lEdges[LBINS + 1] = {}{}{};'.format(\"{\",\", \".join(str(e) for e in rspLbins),\"}\"))\n",
    "gROOT.ProcessLine('axis1 = TAxis(EBINS,eEdges);')\n",
    "gROOT.ProcessLine('axis2 = TAxis(LBINS,lEdges);')\n",
    "\n",
    "# Create the Histogram and output file\n",
    "gROOT.ProcessLine('TH2* matrix1=sm.getNormalizedResponseMatrix(axis1,axis2)')\n",
    "gROOT.ProcessLine('writer.ResponseToHEPROW(matrix1,\"EJ309_resp_03_50\")')\n",
    "\n",
    "# Smear the Response Matrix and Create the .rsp File\n",
    "for detNum, detName in detNames.iteritems():   \n",
    "    params = CalibParams(calPath+calNames[detNum])\n",
    "\n",
    "    gROOT.ProcessLine('TH2* smearMatrix{0} = ops.skewedGausSmearMatrix(matrix1, {1}, {2}, {3})'.format(detNum, params.alpha, params.beta, params.gamma))\n",
    "    gROOT.ProcessLine('smearMatrix{0}->Draw(\"colz\")'.format(detNum))\n",
    "    gROOT.ProcessLine('writer.ResponseToHEPROW(smearMatrix{0},\"{0}_smearedResp_03_50\")'.format(detNum))\n",
    "\n",
    "    pause()"
   ]
  },
  {
   "cell_type": "markdown",
   "metadata": {},
   "source": [
    "<img src=\"Pics/halfMeVSmearedResp_Det0.png\">"
   ]
  },
  {
   "cell_type": "markdown",
   "metadata": {},
   "source": [
    "### NSD Unfold - EJ309\n",
    "\n",
    "The 16MevTaUnfold.cpp script must be updated manually with the following items:\n",
    "\n",
    "1) The desired bin structure (numBins, lowE, highE)\n",
    "2) The calibration parameters <br\\>\n",
    "3) The covariance matrix for the calibration parameters <br\\>\n",
    "4) The output file path <br\\>\n",
    "\n",
    "#### Detector 0 (EJ-309), 1 MeV Bins:"
   ]
  },
  {
   "cell_type": "code",
   "execution_count": 1,
   "metadata": {
    "collapsed": false
   },
   "outputs": [
    {
     "name": "stdout",
     "output_type": "stream",
     "text": [
      "Currently working in: \n",
      " /home/pyne-user/Dropbox/UCB/Research/ETAs/88Inch/Data/Experiments/PHS/16MeVTa/Unfold/NSD\n"
     ]
    }
   ],
   "source": [
    "import os\n",
    "import sys\n",
    "from ROOT import gROOT\n",
    "\n",
    "path='/home/pyne-user/Dropbox/UCB/Research/ETAs/88Inch/Data/Experiments/PHS/16MeVTa/Unfold/NSD/'\n",
    "os.chdir(path)\n",
    "print 'Currently working in: \\n {}'.format(os.getcwd())"
   ]
  },
  {
   "cell_type": "code",
   "execution_count": null,
   "metadata": {
    "collapsed": false
   },
   "outputs": [],
   "source": [
    "gROOT.ProcessLine('.L 16MeVTaMCUnfold_1.cpp')\n",
    "gROOT.ProcessLine('runMCUnfold()')\n",
    "gROOT.ProcessLine('HistogramWriter writer')\n",
    "gROOT.ProcessLine('writer.Th1ToAsciiError(meanResultHisto,\"16MeVTa_NSDUnfold_1\")')"
   ]
  },
  {
   "cell_type": "markdown",
   "metadata": {},
   "source": [
    "<img src=\"Unfold/NSD/16MeVTa_NSDUnfold_1.png\">\n",
    "\n",
    "#### Detector 0 (EJ-309), 0.5 MeV Bins:"
   ]
  },
  {
   "cell_type": "code",
   "execution_count": 4,
   "metadata": {
    "collapsed": false
   },
   "outputs": [
    {
     "name": "stderr",
     "output_type": "stream",
     "text": [
      "TH1D::Rebin:0: RuntimeWarning: ngroup=2 is not an exact divider of nbins=347.\n"
     ]
    },
    {
     "data": {
      "text/plain": [
       "0L"
      ]
     },
     "execution_count": 4,
     "metadata": {},
     "output_type": "execute_result"
    }
   ],
   "source": [
    "gROOT.ProcessLine('.L 16MeVTaMCUnfold_50.cpp')\n",
    "gROOT.ProcessLine('runMCUnfold()')\n",
    "gROOT.ProcessLine('HistogramWriter writer')\n",
    "gROOT.ProcessLine('writer.Th1ToAsciiError(meanResultHisto,\"16MeVTa_NSDUnfold_50\")')"
   ]
  },
  {
   "cell_type": "markdown",
   "metadata": {},
   "source": [
    "<img src=\"Unfold/NSD/16MeVTa_NSDUnfold_50.png\">"
   ]
  },
  {
   "cell_type": "markdown",
   "metadata": {},
   "source": [
    "#### Mik.inp Support\n",
    "\n",
    "These lines are useful to develop the mik.inp file:"
   ]
  },
  {
   "cell_type": "markdown",
   "metadata": {},
   "source": [
    "### HEPROW Unfold\n",
    "\n",
    "The actually running of HEPROW is done separately through the Windows executables.  The location for the files is: <br\\>\n",
    "\n",
    "/home/pyne-user/Dropbox/UCB/Research/ETAs/88Inch/Data/Experiments/PHS/16MeVTa/Unfold/HEPROW"
   ]
  },
  {
   "cell_type": "code",
   "execution_count": 4,
   "metadata": {
    "collapsed": false
   },
   "outputs": [
    {
     "name": "stdout",
     "output_type": "stream",
     "text": [
      "For 1 MeV Mik file:\n",
      "36\n",
      "2.0                                      right boundary of energy interval 1\n",
      "3.0                                      right boundary of energy interval 2\n",
      "4.0                                      right boundary of energy interval 3\n",
      "5.0                                      right boundary of energy interval 4\n",
      "6.0                                      right boundary of energy interval 5\n",
      "7.0                                      right boundary of energy interval 6\n",
      "8.0                                      right boundary of energy interval 7\n",
      "9.0                                      right boundary of energy interval 8\n",
      "10.0                                      right boundary of energy interval 9\n",
      "11.0                                      right boundary of energy interval 10\n",
      "12.0                                      right boundary of energy interval 11\n",
      "13.0                                      right boundary of energy interval 12\n",
      "14.0                                      right boundary of energy interval 13\n",
      "15.0                                      right boundary of energy interval 14\n",
      "16.0                                      right boundary of energy interval 15\n",
      "17.0                                      right boundary of energy interval 16\n",
      "18.0                                      right boundary of energy interval 17\n",
      "19.0                                      right boundary of energy interval 18\n",
      "20.0                                      right boundary of energy interval 19\n",
      "21.0                                      right boundary of energy interval 20\n",
      "22.0                                      right boundary of energy interval 21\n",
      "23.0                                      right boundary of energy interval 22\n",
      "24.0                                      right boundary of energy interval 23\n",
      "25.0                                      right boundary of energy interval 24\n",
      "26.0                                      right boundary of energy interval 25\n",
      "27.0                                      right boundary of energy interval 26\n",
      "28.0                                      right boundary of energy interval 27\n",
      "29.0                                      right boundary of energy interval 28\n",
      "30.0                                      right boundary of energy interval 29\n",
      "31.0                                      right boundary of energy interval 30\n",
      "32.0                                      right boundary of energy interval 31\n",
      "33.0                                      right boundary of energy interval 32\n",
      "34.0                                      right boundary of energy interval 33\n",
      "35.0                                      right boundary of energy interval 34\n",
      "36.0                                      right boundary of energy interval 35\n",
      "37.0                                      right boundary of energy interval 36\n",
      "\n",
      "For 1 MeV Mik file:\n",
      "73\n",
      "1.5                                      right boundary of energy interval 1\n",
      "2.0                                      right boundary of energy interval 2\n",
      "2.5                                      right boundary of energy interval 3\n",
      "3.0                                      right boundary of energy interval 4\n",
      "3.5                                      right boundary of energy interval 5\n",
      "4.0                                      right boundary of energy interval 6\n",
      "4.5                                      right boundary of energy interval 7\n",
      "5.0                                      right boundary of energy interval 8\n",
      "5.5                                      right boundary of energy interval 9\n",
      "6.0                                      right boundary of energy interval 10\n",
      "6.5                                      right boundary of energy interval 11\n",
      "7.0                                      right boundary of energy interval 12\n",
      "7.5                                      right boundary of energy interval 13\n",
      "8.0                                      right boundary of energy interval 14\n",
      "8.5                                      right boundary of energy interval 15\n",
      "9.0                                      right boundary of energy interval 16\n",
      "9.5                                      right boundary of energy interval 17\n",
      "10.0                                      right boundary of energy interval 18\n",
      "10.5                                      right boundary of energy interval 19\n",
      "11.0                                      right boundary of energy interval 20\n",
      "11.5                                      right boundary of energy interval 21\n",
      "12.0                                      right boundary of energy interval 22\n",
      "12.5                                      right boundary of energy interval 23\n",
      "13.0                                      right boundary of energy interval 24\n",
      "13.5                                      right boundary of energy interval 25\n",
      "14.0                                      right boundary of energy interval 26\n",
      "14.5                                      right boundary of energy interval 27\n",
      "15.0                                      right boundary of energy interval 28\n",
      "15.5                                      right boundary of energy interval 29\n",
      "16.0                                      right boundary of energy interval 30\n",
      "16.5                                      right boundary of energy interval 31\n",
      "17.0                                      right boundary of energy interval 32\n",
      "17.5                                      right boundary of energy interval 33\n",
      "18.0                                      right boundary of energy interval 34\n",
      "18.5                                      right boundary of energy interval 35\n",
      "19.0                                      right boundary of energy interval 36\n",
      "19.5                                      right boundary of energy interval 37\n",
      "20.0                                      right boundary of energy interval 38\n",
      "20.5                                      right boundary of energy interval 39\n",
      "21.0                                      right boundary of energy interval 40\n",
      "21.5                                      right boundary of energy interval 41\n",
      "22.0                                      right boundary of energy interval 42\n",
      "22.5                                      right boundary of energy interval 43\n",
      "23.0                                      right boundary of energy interval 44\n",
      "23.5                                      right boundary of energy interval 45\n",
      "24.0                                      right boundary of energy interval 46\n",
      "24.5                                      right boundary of energy interval 47\n",
      "25.0                                      right boundary of energy interval 48\n",
      "25.5                                      right boundary of energy interval 49\n",
      "26.0                                      right boundary of energy interval 50\n",
      "26.5                                      right boundary of energy interval 51\n",
      "27.0                                      right boundary of energy interval 52\n",
      "27.5                                      right boundary of energy interval 53\n",
      "28.0                                      right boundary of energy interval 54\n",
      "28.5                                      right boundary of energy interval 55\n",
      "29.0                                      right boundary of energy interval 56\n",
      "29.5                                      right boundary of energy interval 57\n",
      "30.0                                      right boundary of energy interval 58\n",
      "30.5                                      right boundary of energy interval 59\n",
      "31.0                                      right boundary of energy interval 60\n",
      "31.5                                      right boundary of energy interval 61\n",
      "32.0                                      right boundary of energy interval 62\n",
      "32.5                                      right boundary of energy interval 63\n",
      "33.0                                      right boundary of energy interval 64\n",
      "33.5                                      right boundary of energy interval 65\n",
      "34.0                                      right boundary of energy interval 66\n",
      "34.5                                      right boundary of energy interval 67\n",
      "35.0                                      right boundary of energy interval 68\n",
      "35.5                                      right boundary of energy interval 69\n",
      "36.0                                      right boundary of energy interval 70\n",
      "36.5                                      right boundary of energy interval 71\n",
      "37.0                                      right boundary of energy interval 72\n",
      "37.5                                      right boundary of energy interval 73\n"
     ]
    }
   ],
   "source": [
    "import numpy as np\n",
    "\n",
    "# 1 MeV\n",
    "print \"For 1 MeV Mik file:\"\n",
    "bounds = np.linspace(2.0,37,36)   #(First right bin boundary, last right bin, boundary, number of bins)\n",
    "print len(bounds)\n",
    "for i in range(0,len(bounds)):\n",
    "    print '{}                                      right boundary of energy interval {}'.format(bounds[i],i+1)\n",
    "\n",
    "# 0.5 MeV\n",
    "print \"\\nFor 1 MeV Mik file:\"\n",
    "bounds = np.linspace(1.5,37.5,73)   #(First right bin boundary, last right bin, boundary, number of bins)\n",
    "print len(bounds)\n",
    "for i in range(0,len(bounds)):\n",
    "    print '{}                                      right boundary of energy interval {}'.format(bounds[i],i+1)"
   ]
  },
  {
   "cell_type": "markdown",
   "metadata": {},
   "source": [
    "### EJ309 Unfold Plotting: 0.5 MeV Bins\n",
    "\n",
    "This section contains all of the output post-processing to end up with a plot of the spectrum for 0.5 MeV bins.\n",
    "\n",
    "However, only 58 bins can be used, so spectrum is too broad to unfold with HEPROW."
   ]
  },
  {
   "cell_type": "markdown",
   "metadata": {},
   "source": [
    "### Det0 Unfold Plotting: 1 MeV Bins\n",
    "\n",
    "This section contains all of the output post-processing to end up with a plot of the spectrum for 1 MeV bins."
   ]
  },
  {
   "cell_type": "code",
   "execution_count": 2,
   "metadata": {
    "collapsed": false
   },
   "outputs": [],
   "source": [
    "import sys\n",
    "import os\n",
    "\n",
    "import pandas as pd\n",
    "import numpy as np\n",
    "\n",
    "from datetime import datetime\n",
    "from math import cos, radians\n",
    "\n",
    "%matplotlib inline\n",
    "\n",
    "# Path to support scripts \n",
    "sys.path.insert(0,os.path.abspath('/home/pyne-user/Dropbox/UCB/Computational_Tools/Scripts/Python/DataAnalysis'))\n",
    "from DataManipulation import bin_differentiation, normAUBC\n",
    "from DataIO import read_delimited_data_file\n",
    "from Histograms import Histogram\n",
    "\n",
    "sys.path.insert(0,os.path.abspath('/home/pyne-user/Dropbox/UCB/Computational_Tools/Scripts/Python/Unfolding'))\n",
    "from HEPROW import readMTX, readGru, readFlu\n",
    "from Root import FluxNormalization\n",
    "\n",
    "sys.path.insert(0,os.path.abspath('/home/pyne-user/Dropbox/UCB/Computational_Tools/Scripts/Python/GeneralNuclear'))\n",
    "from Detectors import nonparalyzable_beam_dead_time, nonparalyzable_dead_time\n",
    "from MCNP import read_tally"
   ]
  },
  {
   "cell_type": "markdown",
   "metadata": {},
   "source": [
    "#### Set normalization parameters\n",
    "\n",
    "Based on the detector setup and readings from the current integrator and current monitor reported earlier in this notbook."
   ]
  },
  {
   "cell_type": "code",
   "execution_count": 28,
   "metadata": {
    "collapsed": false
   },
   "outputs": [
    {
     "name": "stdout",
     "output_type": "stream",
     "text": [
      "\n",
      "Normalization Parameters\n",
      "Total Run Time = 921.0 s\n",
      "Current Monitor Inegrated Current = 124.79 microC\n",
      "Current Integrator Reading = 115.0 microC\n",
      "Solid Angle = 5.3062225265e-05 sr\n",
      "Fractional Dead Time = 0.012341823471\n",
      "MCNP Normalization Factor = 2.29e+09 src n\n",
      "\n"
     ]
    }
   ],
   "source": [
    "start = datetime(2017, 3, 31, 10, 27)\n",
    "stop = datetime(2017, 3, 31, 10, 44)\n",
    "rangeSetting = 2*10**-7\n",
    "\n",
    "norm = FluxNormalization('/home/pyne-user/Dropbox/UCB/Research/ETAs/88Inch/Data/Experiments/PHS/33MeVTa_29-31Mar17/BCM/2H+1_33MeV_1027_31Mar2017_Goldblum at 100 nA no bias.bcm', \n",
    "                        startTime=start, stopTime=stop)\n",
    "norm.currentIntegrator = (575)*rangeSetting*1E6\n",
    "norm.set_solid_angle(640+46.4, 25)\n",
    "norm.set_dead_time(nonparalyzable_beam_dead_time, obsCountRate=(47833445)/norm.runTime, \n",
    "                   tauDetector=300E-9, tauBeam=158.5E-9)\n",
    "norm.mcnpNormFactor=(1-cos(radians(1)))/2*4*np.pi*20.8E9*norm.currentIntegrator\n",
    "\n",
    "print str(norm)"
   ]
  },
  {
   "cell_type": "markdown",
   "metadata": {},
   "source": [
    "#### Set Data Locations"
   ]
  },
  {
   "cell_type": "code",
   "execution_count": 20,
   "metadata": {
    "collapsed": true
   },
   "outputs": [],
   "source": [
    "# HEPROW Inputs:\n",
    "heprowPath = \"/home/pyne-user/Dropbox/UCB/Research/ETAs/88Inch/Data/Experiments/PHS/33MeVTa_29-31Mar17/Unfold/BeamOnly/HEPROW/\"\n",
    "\n",
    "heprowName = \"mik_Det0_1.gru\"\n",
    "unfanaName = \"unf_Det0_1.gru\"\n",
    "gravelName = \"grv_out_Det0_1.flu\"\n",
    "faltwPHSName = \"faltw_Det0_1.phs\"\n",
    "measPHSName = \"Inputs/Det0_stat_100_phs_03.phs\"\n",
    "mtxName = \"MIEKE_Det0_1.MTX\"\n",
    "heprowBinBounds = \"low\"\n",
    "\n",
    "# Meulders - 33 MeV d on Ta\n",
    "meuldersPath=\"/home/pyne-user/Dropbox/UCB/Research/ETAs/88Inch/Data/Experiments/PHS/33MeVTa_29-31Mar17/Unfold/\"\n",
    "\n",
    "meuldersName=\"Meulders33MeVTaSpectrum_1.txt\"\n",
    "meuldersBinBounds=\"up\"\n",
    "\n",
    "# MCNP - 33 MeV d on Ta\n",
    "mcnpPath=\"/home/pyne-user/Dropbox/UCB/Research/ETAs/88Inch/Data/Simulated/PHS/33MeVTa/BeamOnly/Model/NoExtrap_Void_1deg/\"\n",
    "\n",
    "mcnpName=\"33MeVTaBeamOnly_Det.out\"\n",
    "mcnpBinBounds=\"up\"\n",
    "\n",
    "# Output\n",
    "outPath=\"/home/pyne-user/Dropbox/UCB/Research/ETAs/88Inch/Data/Experiments/PHS/33MeVTa_29-31Mar17/Unfold/BeamOnly/HEPROW/\""
   ]
  },
  {
   "cell_type": "markdown",
   "metadata": {},
   "source": [
    "#### Read in and Manipulate HEPROW Data\n",
    "\n",
    "Convert Each Data Set to a Probability Density Function (PDF), calculate error for PDF, and normalize the abs spectrum."
   ]
  },
  {
   "cell_type": "code",
   "execution_count": 21,
   "metadata": {
    "collapsed": false,
    "scrolled": false
   },
   "outputs": [
    {
     "data": {
      "image/png": "[encoded data removed]",
      "text/plain": [
       "<matplotlib.figure.Figure at 0x2b222f4e6250>"
      ]
     },
     "metadata": {},
     "output_type": "display_data"
    }
   ],
   "source": [
    "# Import HEPROW, UNFANA, and Gravel data and normalize\n",
    "heprowData = readGru(heprowPath+heprowName, delim_whitespace=True, names=[heprowBinBounds, 'absFlux', 'absSigma'],\n",
    "               skiprows=3)\n",
    "heprowData['absCovSigma'] = readMTX(heprowPath+mtxName).tolist()\n",
    "heprowData['normFlux'] = np.asarray(bin_differentiation(heprowData[heprowBinBounds].tolist(), \n",
    "                                            heprowData['absFlux'].tolist(), heprowBinBounds)) \\\n",
    "                                            / norm.currentIntegrator / norm.solidAngle \\\n",
    "                                            / (1-norm.deadTime)\n",
    "heprowData['normSigma'] = np.asarray(bin_differentiation(heprowData[heprowBinBounds].tolist(), \n",
    "                                            heprowData['absCovSigma'].tolist(), heprowBinBounds)) \\\n",
    "                                            / norm.currentIntegrator / norm.solidAngle \\\n",
    "                                            / (1-norm.deadTime)\n",
    "        \n",
    "unfData = readGru(heprowPath+unfanaName, delim_whitespace=True, \n",
    "                  names=[heprowBinBounds, 'absFlux', 'absSigma'], skiprows=3)\n",
    "unfData['absCovSigma'] = readMTX(heprowPath+mtxName).tolist()\n",
    "unfData['normFlux'] = np.asarray(bin_differentiation(unfData[heprowBinBounds].tolist(), \n",
    "                                            unfData['absFlux'].tolist(), heprowBinBounds)) \\\n",
    "                                            / norm.currentIntegrator / norm.solidAngle \\\n",
    "                                            / (1-norm.deadTime)\n",
    "unfData['normSigma'] = np.asarray(bin_differentiation(unfData[heprowBinBounds].tolist(), \n",
    "                                            unfData['absCovSigma'].tolist(), heprowBinBounds)) \\\n",
    "                                            / norm.currentIntegrator / norm.solidAngle \\\n",
    "                                            / (1-norm.deadTime)    \n",
    "        \n",
    "grvData = readFlu(heprowPath+gravelName, delim_whitespace=True, \n",
    "                  names=[heprowBinBounds, 'absFlux', 'absSigma'], skiprows=3)\n",
    "grvData['absCovSigma'] = readMTX(heprowPath+mtxName).tolist()\n",
    "grvData['normFlux'] = np.asarray(bin_differentiation(grvData[heprowBinBounds].tolist(), \n",
    "                                            grvData['absFlux'].tolist(), heprowBinBounds)) \\\n",
    "                                            / norm.currentIntegrator / norm.solidAngle \\\n",
    "                                            / (1-norm.deadTime)\n",
    "grvData['normSigma'] = np.asarray(bin_differentiation(grvData[heprowBinBounds].tolist(), \n",
    "                                            grvData['absCovSigma'].tolist(), heprowBinBounds)) \\\n",
    "                                            / norm.currentIntegrator / norm.solidAngle \\\n",
    "                                            / (1-norm.deadTime)\n",
    "\n",
    "# Calculate the pdf and its uncertainty\n",
    "heprowData['pdfFlux'] = normAUBC(heprowData['absFlux'])\n",
    "heprowData['pdfSigma'] = heprowData['absSigma']/heprowData['absFlux']*heprowData['pdfFlux']\n",
    "heprowData['pdfCovSigma'] = heprowData['absCovSigma']/heprowData['absFlux']*heprowData['pdfFlux']\n",
    "\n",
    "unfData['pdfFlux'] = normAUBC(unfData['absFlux'])\n",
    "unfData['pdfSigma'] = unfData['absSigma']/unfData['absFlux']*unfData['pdfFlux']\n",
    "unfData['pdfCovSigma'] = unfData['absCovSigma']/unfData['absFlux']*unfData['pdfFlux']\n",
    "\n",
    "grvData['pdfFlux'] = normAUBC(grvData['absFlux'])\n",
    "grvData['pdfSigma'] = grvData['absSigma']/grvData['absFlux']*grvData['pdfFlux']\n",
    "grvData['pdfCovSigma'] = grvData['absCovSigma']/grvData['absFlux']*grvData['pdfFlux']\n",
    "\n",
    "# Build pdf histogram object\n",
    "heprowHisto = Histogram()\n",
    "heprowHisto.build_histo(heprowData[heprowBinBounds].tolist(), heprowData['pdfFlux'].tolist(),\n",
    "                       uncert=heprowData['pdfCovSigma'].tolist(), edgeLoc=heprowBinBounds,\n",
    "                       name='HEPROW')\n",
    "unfHisto = Histogram()\n",
    "unfHisto.build_histo(unfData[heprowBinBounds].tolist(), unfData['pdfFlux'].tolist(),\n",
    "                       uncert=unfData['pdfCovSigma'].tolist(), edgeLoc=heprowBinBounds,\n",
    "                       name='UNFANA')\n",
    "grvHisto = Histogram()\n",
    "grvHisto.build_histo(grvData[heprowBinBounds].tolist(), grvData['pdfFlux'].tolist(),\n",
    "                       uncert=grvData['pdfCovSigma'].tolist(), edgeLoc=heprowBinBounds,\n",
    "                       name='Gravel')\n",
    "heprowHisto.plot(grvHisto,logY=True, title='33MeV Deutrons on Ta', xLabel='Energy [MeV]',\n",
    "                 yLabel='Neutron PDF')\n",
    "heprowHisto.write(outPath+'Det0_HEPROW_1_pdf', includeUncert=True, edge=False)\n",
    "\n",
    "# Build norm histogram object\n",
    "heprowNormHisto = Histogram()\n",
    "heprowNormHisto.build_histo(heprowData[heprowBinBounds].tolist(), heprowData['normFlux'].tolist(),\n",
    "                       uncert=heprowData['normSigma'].tolist(), edgeLoc=heprowBinBounds,\n",
    "                       name='HEPROW')\n",
    "heprowNormHisto.write(outPath+'Det0_HEPROW_1_norm', includeUncert=True, edge=False)\n",
    "\n",
    "# Build error histogram objects\n",
    "heprowErrorHisto = Histogram()\n",
    "heprowErrorHisto.build_histo(heprowData[heprowBinBounds].tolist(),\n",
    "                               heprowData['pdfSigma']/heprowData['pdfFlux'].tolist(),\n",
    "                               edgeLoc=heprowBinBounds, name='HEPROW Errors')\n",
    "heprowCovErrorHisto = Histogram()\n",
    "heprowCovErrorHisto.build_histo(heprowData[heprowBinBounds].tolist(),\n",
    "                               heprowData['pdfCovSigma']/heprowData['pdfFlux'].tolist(),\n",
    "                               edgeLoc=heprowBinBounds, name='HEPROW Covariance Errors')"
   ]
  },
  {
   "cell_type": "code",
   "execution_count": 22,
   "metadata": {
    "collapsed": false
   },
   "outputs": [
    {
     "data": {
      "image/png": "[encoded data removed]",
      "text/plain": [
       "<matplotlib.figure.Figure at 0x2b222f721650>"
      ]
     },
     "metadata": {},
     "output_type": "display_data"
    }
   ],
   "source": [
    "# Import PHS data and plot\n",
    "faltwPHSData = readFlu(heprowPath+faltwPHSName, delim_whitespace=True, names=['lowE', 'absPHS', 'absSigma'],\n",
    "               skiprows=3)\n",
    "measPHSData = readFlu(heprowPath+measPHSName, delim_whitespace=True, names=['lowE', 'absPHS', 'absSigma'],\n",
    "               skiprows=3)\n",
    "faltwPHSHisto = Histogram()\n",
    "faltwPHSHisto.build_histo(faltwPHSData['lowE'].tolist(), \n",
    "                         bin_differentiation(faltwPHSData['lowE'].tolist(),\n",
    "                                             faltwPHSData['absPHS'].tolist()),\n",
    "                       uncert=faltwPHSData['absSigma'].tolist(), edgeLoc=heprowBinBounds,\n",
    "                       name='FALTW')\n",
    "measPHSHisto = Histogram()\n",
    "measPHSHisto.build_histo(measPHSData['lowE'].tolist(), \n",
    "                         bin_differentiation(measPHSData['lowE'].tolist(),\n",
    "                                             measPHSData['absPHS'].tolist()),\n",
    "                         uncert=measPHSData['absSigma'].tolist(), edgeLoc=heprowBinBounds,\n",
    "                         name='Measured')\n",
    "faltwPHSHisto.plot(measPHSHisto, logY=True, title='33MeV Deutrons on Ta', xLabel='Light Yield [MeVee]',\n",
    "                 yLabel='Counts per MeVee')"
   ]
  },
  {
   "cell_type": "markdown",
   "metadata": {},
   "source": [
    "#### Read in and Manipulate Meulders Data"
   ]
  },
  {
   "cell_type": "code",
   "execution_count": 23,
   "metadata": {
    "collapsed": false
   },
   "outputs": [
    {
     "data": {
      "image/png": "[encoded data removed]",
      "text/plain": [
       "<matplotlib.figure.Figure at 0x2b222fa020d0>"
      ]
     },
     "metadata": {},
     "output_type": "display_data"
    }
   ],
   "source": [
    "# Read in Meulders data and normalize\n",
    "meuldersData = pd.read_table(meuldersPath+meuldersName, delim_whitespace=True, \n",
    "                             names=['upE', 'absFlux'])\n",
    "meuldersData['absFlux'] = bin_differentiation(meuldersData['upE'],meuldersData['absFlux'],\n",
    "                                             edgeLoc=meuldersBinBounds)\n",
    "meuldersData['pdfFlux'] = normAUBC(meuldersData['absFlux'])\n",
    "\n",
    "# Build pdf histogram object\n",
    "meuldersHisto=Histogram()\n",
    "meuldersHisto.build_histo(meuldersData['upE'].tolist(), meuldersData['pdfFlux'].tolist(), \n",
    "                         edgeLoc=meuldersBinBounds, name='Meulders')\n",
    "\n",
    "# Build norm histogram object\n",
    "meuldersNormHisto=Histogram()\n",
    "meuldersNormHisto.build_histo(meuldersData['upE'].tolist(), meuldersData['absFlux'].tolist(), \n",
    "                         edgeLoc=meuldersBinBounds, name='Meulders')\n",
    "meuldersNormHisto.plot(logY=True, title='33MeV Deutrons on Ta', xLabel='Energy [MeV]',\n",
    "                 yLabel='Neutron Intensity [n/MeV/uC/sr]')"
   ]
  },
  {
   "cell_type": "markdown",
   "metadata": {},
   "source": [
    "#### Read in and Manipulate MCNP Data"
   ]
  },
  {
   "cell_type": "code",
   "execution_count": 29,
   "metadata": {
    "collapsed": false,
    "scrolled": false
   },
   "outputs": [
    {
     "data": {
      "image/png": "[encoded data removed]",
      "text/plain": [
       "<matplotlib.figure.Figure at 0x2b222f651450>"
      ]
     },
     "metadata": {},
     "output_type": "display_data"
    },
    {
     "data": {
      "image/png": "[encoded data removed]",
      "text/plain": [
       "<matplotlib.figure.Figure at 0x2b223001e490>"
      ]
     },
     "metadata": {},
     "output_type": "display_data"
    }
   ],
   "source": [
    "# Read in MCNP Simulated data\n",
    "mcnpData = read_tally(mcnpPath+mcnpName,31, readGroups=True, splitTally=True)[1][1]\n",
    "mcnpData.columns = [mcnpBinBounds, 'absFlux', 'relSigma']\n",
    "mcnpData['absSigma'] = mcnpData['relSigma'] * mcnpData['absFlux']\n",
    "\n",
    "tmpData1 = read_tally(mcnpPath+mcnpName,131, readGroups=True, splitTally=True)[0][1]\n",
    "\n",
    "mcnpData['absFlux'] = mcnpData['absFlux'] + tmpData1['tally']\n",
    "mcnpData['absSigma'] = np.sqrt(mcnpData['absSigma']**2 \\\n",
    "                                + (tmpData1['tally']*tmpData1['uncertainty'])**2)\n",
    "mcnpData['relSigma'] = mcnpData['absSigma']/mcnpData['absFlux']\n",
    "\n",
    "# Normalize the spectrum\n",
    "mcnpData['normFlux'] = np.asarray(bin_differentiation(mcnpData[mcnpBinBounds].tolist(), \n",
    "                                 mcnpData['absFlux'].tolist(), mcnpBinBounds)) \\\n",
    "                                 * norm.mcnpNormFactor / norm.solidAngle \\\n",
    "                                 / norm.currentIntegrator/ (1-norm.deadTime)\n",
    "mcnpData['normSigma'] = mcnpData['relSigma']*mcnpData['normFlux']\n",
    "        \n",
    "# Calculate the pdf and its uncertainty\n",
    "mcnpData['pdfFlux'] = np.asarray(bin_differentiation(mcnpData[mcnpBinBounds].tolist(), \n",
    "                                  normAUBC(mcnpData['absFlux']).tolist(), mcnpBinBounds)) \n",
    "mcnpData['pdfSigma'] = mcnpData['relSigma']*mcnpData['pdfFlux']\n",
    "\n",
    "# Build pdf histogram object\n",
    "mcnpHisto=Histogram()\n",
    "mcnpHisto.build_histo(mcnpData[mcnpBinBounds].tolist(), mcnpData['pdfFlux'].tolist(), \n",
    "                      uncert=mcnpData['pdfSigma'].tolist(), edgeLoc=mcnpBinBounds, name='MCNP')\n",
    "mcnpHisto.plot(meuldersHisto, heprowHisto, heplogY=False, title='33MeV Deutrons on Ta',\n",
    "                   xLabel='Energy [MeV]', yLabel='Neutron Intensity Energy Differential PDF', \n",
    "                   savePath=outPath+'33MeVTa_MCNP_pdf_lin_1_zoom')\n",
    "\n",
    "# Build norm histogram object\n",
    "mcnpNormHisto=Histogram()\n",
    "mcnpNormHisto.build_histo(mcnpData[mcnpBinBounds].tolist(), mcnpData['normFlux'].tolist(), \n",
    "                          uncert=mcnpData['normSigma'].tolist(),edgeLoc=mcnpBinBounds,\n",
    "                          name='MCNP')\n",
    "mcnpNormHisto.plot(meuldersNormHisto, heprowNormHisto, heplogY=False, title='33MeV Deutrons on Ta',\n",
    "                   xLabel='Energy [MeV]', yLabel='Neutron Intensity [n/MeV/uC/sr]', \n",
    "                   savePath=outPath+'33MeVTa_MCNP_norm_lin_1')"
   ]
  },
  {
   "cell_type": "markdown",
   "metadata": {},
   "source": [
    "#### Plot"
   ]
  },
  {
   "cell_type": "code",
   "execution_count": 17,
   "metadata": {
    "collapsed": false,
    "scrolled": false
   },
   "outputs": [
    {
     "data": {
      "image/png": "[encoded data removed]",
      "text/plain": [
       "<matplotlib.figure.Figure at 0x2b222fd18490>"
      ]
     },
     "metadata": {},
     "output_type": "display_data"
    },
    {
     "data": {
      "image/png": "[encoded data removed]",
      "text/plain": [
       "<matplotlib.figure.Figure at 0x2b222fd18e50>"
      ]
     },
     "metadata": {},
     "output_type": "display_data"
    },
    {
     "data": {
      "image/png": "[encoded data removed]",
      "text/plain": [
       "<matplotlib.figure.Figure at 0x2b222fbd7510>"
      ]
     },
     "metadata": {},
     "output_type": "display_data"
    },
    {
     "data": {
      "image/png": "[encoded data removed]",
      "text/plain": [
       "<matplotlib.figure.Figure at 0x2b222f977e10>"
      ]
     },
     "metadata": {},
     "output_type": "display_data"
    }
   ],
   "source": [
    "# Log\n",
    "heprowHisto.plot(meuldersHisto, logY=True, title='33MeV Deutrons on Ta Spectra',\n",
    "                 xLabel='Energy [MeV]', yLabel='Neutron PDF',\n",
    "                 savePath=outPath+'33MeVTa_pdf_log_1')\n",
    "heprowNormHisto.plot(meuldersNormHisto, logY=True, title='33MeV Deutrons on Ta Spectra',\n",
    "                 xLabel='Energy [MeV]', yLabel='Neutron Flux [n/MeV/uC/sr]',\n",
    "                 savePath=outPath+'33MeVTa_norm_log_1')\n",
    "#heprowCovErrorHisto.plot(heprowErrorHisto, nsdErrorHisto, logY=True, \n",
    "#                         title='16MeV Deutrons on Ta Spectra Errors',\n",
    "#                         xLabel='Energy [MeV]', yLabel='Relative Error')\n",
    "\n",
    "# Linear\n",
    "heprowHisto.plot(meuldersHisto, title='33MeV Deutrons on Ta Spectra',\n",
    "                 xLabel='Energy [MeV]', yLabel='Neutron PDF',\n",
    "                 savePath=outPath+'33MeVTa_pdf_lin_1')\n",
    "heprowNormHisto.plot(meuldersNormHisto, title='33MeV Deutrons on Ta Spectra',\n",
    "                 xLabel='Energy [MeV]', yLabel='Neutron Intensity [n/MeV/uC/sr]',\n",
    "                 savePath=outPath+'33MeVTa_norm_lin_1')"
   ]
  },
  {
   "cell_type": "markdown",
   "metadata": {
    "collapsed": true
   },
   "source": [
    "# ToDos\n",
    "\n",
    "- Tail/Total vs Tail/Peak? <br\\>\n",
    "- Cut non-proton events from response matrix? <br\\>\n",
    "- Fitted PSD discrepancy? Then PSD cut all data sets\n",
    "- 0.5 MeV Response Matrix\n",
    "- 0.5 MeV Unfold\n",
    "- Rerun simulations with new sources (from Isaac)\n",
    "- Determine appropriate source (measured?)\n",
    "- Contribution of neutrons outside of direct line to solution?\n",
    "- Linear extrapolation at high E?\n",
    "- Create Layered simulations\n",
    "- Add Chi**2 (to plot?)"
   ]
  },
  {
   "cell_type": "code",
   "execution_count": null,
   "metadata": {
    "collapsed": true
   },
   "outputs": [],
   "source": []
  }
 ],
 "metadata": {
  "kernelspec": {
   "display_name": "Python 2",
   "language": "python",
   "name": "python2"
  },
  "language_info": {
   "codemirror_mode": {
    "name": "ipython",
    "version": 2
   },
   "file_extension": ".py",
   "mimetype": "text/x-python",
   "name": "python",
   "nbconvert_exporter": "python",
   "pygments_lexer": "ipython2",
   "version": "2.7.6"
  }
 },
 "nbformat": 4,
 "nbformat_minor": 0
}
