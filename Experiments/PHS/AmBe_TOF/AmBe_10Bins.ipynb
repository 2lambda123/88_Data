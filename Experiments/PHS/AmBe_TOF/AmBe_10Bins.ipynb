{
 "cells": [
  {
   "cell_type": "markdown",
   "metadata": {},
   "source": [
    "# AmBe Experimental Unfold\n",
    "\n",
    "This notebook describes the HEPROW unfold steps for a truncated AmBe spectrum.  The setup was where the PHS data is all neutrons emitted in coincidence with a 4.4 MeV gamma.  This data waas taken to compare the unfolding algorithms to a known TOF spectrum.  The bulk of the data and experiment was analyzed by Matt Harasty, and is documented elsewhere. \n",
    "\n",
    "This notebook is broken into the following sections: <br\\>\n",
    "1) Conversion from ROOT to HEPROW\n",
    "2) HEPROW Unfold <br\\>\n",
    "3) Results <br\\>\n",
    "\n",
    "The Birk's parameters used were: <br\\>\n",
    "s = 0.93686 +- 0.0186051 <br\\>\n",
    "kB = 6.74325 +- 0.388009 <br\\>\n",
    "\n",
    "The calibration was done elsewhere by Matthew Harasty.  The calibration parameters found were:\n",
    "\n",
    "a = 5.32645e-05 <br\\>\n",
    "b = 0.0227792  <br\\>\n",
    "Ec = 0.0714542  <br\\>\n",
    "E1 = 3.67687e-05  <br\\>\n",
    "E2 = 0.0521025 <br\\>\n",
    "\n",
    "Root must be installed and PyRoot enabled for this notebook to work.\n",
    "\n",
    "First, load the necessary libraries, set the appropriate environment variables, and compile the C++ support macros from the instructions @ https://bitbucket.org/berkeleylab/nsd-rootscripts/wiki/LibraryCompilation.\n",
    "\n",
    "Load python dependencies:"
   ]
  },
  {
   "cell_type": "code",
   "execution_count": 1,
   "metadata": {
    "collapsed": false
   },
   "outputs": [
    {
     "data": {
      "text/plain": [
       "47078025609264L"
      ]
     },
     "execution_count": 1,
     "metadata": {},
     "output_type": "execute_result"
    }
   ],
   "source": [
    "from ROOT import gROOT\n",
    "import numpy as np\n",
    "\n",
    "gROOT.ProcessLine('HistogramWriter writer;')\n",
    "gROOT.ProcessLine('HistogramOperations ops;')"
   ]
  },
  {
   "cell_type": "markdown",
   "metadata": {},
   "source": [
    "## Conversion from ROOT to HEPROW\n",
    "\n",
    "### User inputs\n",
    "\n",
    "dataPath = the absolute location of where the root files are located <br/>\n",
    "phsName = file name for the pulse height spectra TTree <br/>\n",
    "outPath = the absolute path of where to place the generated HEPROW input files"
   ]
  },
  {
   "cell_type": "code",
   "execution_count": 2,
   "metadata": {
    "collapsed": false
   },
   "outputs": [],
   "source": [
    "dataPath=\"/home/pyne-user/Dropbox/UCB/Research/ETAs/88Inch/Data/\"\n",
    "phsName=\"Experiments/PHS/AmBe_TOF/Data/jamesRespMat.root\"\n",
    "outPath=\"/home/pyne-user/Dropbox/UCB/Research/ETAs/88Inch/Data/Experiments/PHS/AmBe_TOF/Unfold/10Bins/Inputs/\""
   ]
  },
  {
   "cell_type": "markdown",
   "metadata": {},
   "source": [
    "### Load PHS Data File"
   ]
  },
  {
   "cell_type": "code",
   "execution_count": 3,
   "metadata": {
    "collapsed": false
   },
   "outputs": [
    {
     "data": {
      "text/plain": [
       "47078025609312L"
      ]
     },
     "execution_count": 3,
     "metadata": {},
     "output_type": "execute_result"
    }
   ],
   "source": [
    "gROOT.ProcessLine('TFile f(\"{}\")'.format(dataPath+phsName))"
   ]
  },
  {
   "cell_type": "code",
   "execution_count": 4,
   "metadata": {
    "collapsed": false
   },
   "outputs": [
    {
     "data": {
      "text/plain": [
       "0L"
      ]
     },
     "execution_count": 4,
     "metadata": {},
     "output_type": "execute_result"
    }
   ],
   "source": [
    "gROOT.ProcessLine('calibPhSpec->Draw()')"
   ]
  },
  {
   "cell_type": "markdown",
   "metadata": {},
   "source": [
    "Print out the .phs file for both statistic bins and the intrinsic rebin from above:\n",
    "\n",
    "NOTE: The PHS has negative entries. These were manually set to 1."
   ]
  },
  {
   "cell_type": "code",
   "execution_count": null,
   "metadata": {
    "collapsed": false
   },
   "outputs": [],
   "source": [
    "gROOT.ProcessLine('TH1* dataHist = ops.rebinStatistically(calibPhSpec,100);')\n",
    "gROOT.ProcessLine('writer.PhToHEPROW(calibPhSpec,\"{}phs_01\")'.format(outPath))\n",
    "gROOT.ProcessLine('writer.PhToHEPROW(dataHist,\"{}stat_100_phs_01\")'.format(outPath))"
   ]
  },
  {
   "cell_type": "markdown",
   "metadata": {},
   "source": [
    "### Response Matrix\n",
    "\n",
    "#### Response Matrix Inputs\n",
    "\n",
    "rspName = file name for the response matrix TTree <br/>"
   ]
  },
  {
   "cell_type": "code",
   "execution_count": 5,
   "metadata": {
    "collapsed": false
   },
   "outputs": [],
   "source": [
    "rspName=\"Experiments/PHS/AmBe_TOF/Data/jamesResponseMatrixAndPh.root\""
   ]
  },
  {
   "cell_type": "markdown",
   "metadata": {},
   "source": [
    "#### Create the .rsp File"
   ]
  },
  {
   "cell_type": "code",
   "execution_count": 6,
   "metadata": {
    "collapsed": false
   },
   "outputs": [
    {
     "data": {
      "text/plain": [
       "0L"
      ]
     },
     "execution_count": 6,
     "metadata": {},
     "output_type": "execute_result"
    }
   ],
   "source": [
    "gROOT.ProcessLine('TFile g(\"{}\")'.format(dataPath+rspName))\n",
    "gROOT.ProcessLine('respMat10Bin->Draw(\"colz\")')\n",
    "gROOT.ProcessLine('writer.ResponseToHEPROW(respMat10Bin,\"{}smearedResp_01_1\")'.format(outPath))"
   ]
  },
  {
   "cell_type": "markdown",
   "metadata": {},
   "source": [
    "## HEPROW Unfold\n",
    "\n",
    "The actually running of HEPROW is done separately through the Windows executables.  The location for the files is: <br\\>\n",
    "\n",
    "/home/pyne-user/Dropbox/UCB/Research/ETAs/88Inch/Data/Experiments/PHS/16MeVBe/Unfold/HEPROW\n",
    "\n",
    "### Mik.inp Support\n",
    "\n",
    "These lines are useful to develop the mik.inp file:"
   ]
  },
  {
   "cell_type": "code",
   "execution_count": 7,
   "metadata": {
    "collapsed": false
   },
   "outputs": [
    {
     "name": "stdout",
     "output_type": "stream",
     "text": [
      "11\n",
      "1.4                                      right boundary of energy interval 1\n",
      "1.91                                      right boundary of energy interval 2\n",
      "2.42                                      right boundary of energy interval 3\n",
      "2.93                                      right boundary of energy interval 4\n",
      "3.44                                      right boundary of energy interval 5\n",
      "3.95                                      right boundary of energy interval 6\n",
      "4.46                                      right boundary of energy interval 7\n",
      "4.97                                      right boundary of energy interval 8\n",
      "5.48                                      right boundary of energy interval 9\n",
      "5.99                                      right boundary of energy interval 10\n",
      "6.5                                      right boundary of energy interval 11\n"
     ]
    }
   ],
   "source": [
    "bounds = np.linspace(1.4,6.5,11)   #(First right bin boundary, last right bin, boundary, number of bins)\n",
    "print len(bounds)\n",
    "for i in range(0,len(bounds)):\n",
    "    print '{}                                      right boundary of energy interval {}'.format(bounds[i],i+1)"
   ]
  },
  {
   "cell_type": "markdown",
   "metadata": {},
   "source": [
    "## Results\n",
    "\n",
    "This section contains all of the output post-processing to end up with a plot of the spectrum."
   ]
  },
  {
   "cell_type": "code",
   "execution_count": 9,
   "metadata": {
    "collapsed": false
   },
   "outputs": [],
   "source": [
    "import sys\n",
    "import os\n",
    "\n",
    "import pandas as pd\n",
    "import numpy as np\n",
    "\n",
    "from datetime import datetime\n",
    "\n",
    "%matplotlib inline\n",
    "\n",
    "# Path to support scripts \n",
    "from DataAnalysis.DataManipulation import bin_differentiation, normAUBC\n",
    "from DataAnalysis.DataIO import read_delimited_data_file\n",
    "from DataAnalysis.Histograms import Histogram\n",
    "\n",
    "from Unfolding.HEPROW import readMTX, readGru, readFlu"
   ]
  },
  {
   "cell_type": "markdown",
   "metadata": {},
   "source": [
    "### Set Data Locations"
   ]
  },
  {
   "cell_type": "code",
   "execution_count": 10,
   "metadata": {
    "collapsed": true
   },
   "outputs": [],
   "source": [
    "# HEPROW Inputs:\n",
    "heprowPath = \"/home/pyne-user/Dropbox/UCB/Research/ETAs/88Inch/Data/Experiments/PHS/AmBe_TOF/Unfold/10Bins/\"\n",
    "\n",
    "heprowName = \"mik.gru\"\n",
    "unfanaName = \"unf.gru\"\n",
    "gravelName = \"grv_out.flu\"\n",
    "faltwPHSName = \"faltw.phs\"\n",
    "measPHSName = \"Inputs/stat_100_phs_01.phs\"\n",
    "mtxName = \"MIEKE.MTX\"\n",
    "heprowBinBounds = \"low\"\n",
    "\n",
    "# Output\n",
    "outPath=\"/home/pyne-user/Dropbox/UCB/Research/ETAs/88Inch/Data/Experiments/PHS/AmBe_TOF/Unfold/\""
   ]
  },
  {
   "cell_type": "markdown",
   "metadata": {},
   "source": [
    "### Read in and Manipulate Data\n",
    "\n",
    "Convert Each Data Set to a Probability Density Function (PDF), calculate error for PDF, and normalize the abs spectrum."
   ]
  },
  {
   "cell_type": "code",
   "execution_count": 17,
   "metadata": {
    "collapsed": false
   },
   "outputs": [],
   "source": [
    "# Import HEPROW, UNFANA, and Gravel data and normalize\n",
    "heprowData = readGru(heprowPath+heprowName, delim_whitespace=True, names=['lowE', 'absFlux', 'absSigma'],\n",
    "               skiprows=3)\n",
    "heprowData['absSigma'] = readMTX(heprowPath+mtxName).tolist()\n",
    "heprowData['absFlux'] = np.asarray(bin_differentiation(heprowData['lowE'].tolist(), \n",
    "                                            heprowData['absFlux'].tolist(), heprowBinBounds))\n",
    "heprowData['absSigma'] = np.asarray(bin_differentiation(heprowData['lowE'].tolist(), \n",
    "                                            heprowData['absSigma'].tolist(), heprowBinBounds))\n",
    "        \n",
    "grvData = readFlu(heprowPath+gravelName, delim_whitespace=True, names=['lowE', 'absFlux', 'absSigma'],\n",
    "               skiprows=3)\n",
    "grvData['absSigma'] = readMTX(heprowPath+mtxName).tolist()\n",
    "grvData['absFlux'] = np.asarray(bin_differentiation(grvData['lowE'].tolist(), \n",
    "                                            grvData['absFlux'].tolist(), heprowBinBounds))\n",
    "grvData['absSigma'] = np.asarray(bin_differentiation(grvData['lowE'].tolist(), \n",
    "                                            grvData['absSigma'].tolist(), heprowBinBounds))\n",
    "\n",
    "# Calculate the pdf and its uncertainty\n",
    "heprowData['pdfFlux'] = normAUBC(heprowData['absFlux'])\n",
    "heprowData['pdfSigma'] = heprowData['absSigma']/heprowData['absFlux']*heprowData['pdfFlux']\n",
    "\n",
    "grvData['pdfFlux'] = normAUBC(grvData['absFlux'])\n",
    "grvData['pdfSigma'] = grvData['absSigma']/grvData['absFlux']*grvData['pdfFlux']\n",
    "\n",
    "# Build pdf histogram object\n",
    "heprowHisto = Histogram()\n",
    "heprowHisto.build_histo(heprowData['lowE'].tolist(), heprowData['pdfFlux'].tolist(),\n",
    "                       uncert=heprowData['pdfSigma'].tolist(), edgeLoc=heprowBinBounds,\n",
    "                       name='HEPROW')\n",
    "\n",
    "grvHisto = Histogram()\n",
    "grvHisto.build_histo(grvData['lowE'].tolist(), grvData['pdfFlux'].tolist(),\n",
    "                       uncert=grvData['pdfSigma'].tolist(), edgeLoc=heprowBinBounds,\n",
    "                       name='Gravel')\n",
    "heprowHisto.write(outPath+'AmBe_pdf_10bins', includeUncert=True, edge=False)\n",
    "\n",
    "# Build abs histogram object\n",
    "heprowAbsHisto = Histogram()\n",
    "heprowAbsHisto.build_histo(heprowData['lowE'].tolist(), heprowData['absFlux'].tolist(),\n",
    "                       uncert=heprowData['absSigma'].tolist(), edgeLoc=heprowBinBounds,\n",
    "                       name='HEPROW')\n",
    "heprowAbsHisto.write(outPath+'AmBe_abs_10bins', includeUncert=True, edge=False)"
   ]
  },
  {
   "cell_type": "code",
   "execution_count": 18,
   "metadata": {
    "collapsed": false
   },
   "outputs": [
    {
     "data": {
      "image/png": "[encoded data removed]",
      "text/plain": [
       "<matplotlib.figure.Figure at 0x2ad16ebf5b50>"
      ]
     },
     "metadata": {},
     "output_type": "display_data"
    }
   ],
   "source": [
    "# Import PHS data and plot\n",
    "faltwPHSData = readFlu(heprowPath+faltwPHSName, delim_whitespace=True, names=['lowE', 'absPHS', 'absSigma'],\n",
    "               skiprows=3)\n",
    "measPHSData = readFlu(heprowPath+measPHSName, delim_whitespace=True, names=['lowE', 'absPHS', 'absSigma'],\n",
    "               skiprows=3)\n",
    "faltwPHSHisto = Histogram()\n",
    "faltwPHSHisto.build_histo(faltwPHSData['lowE'].tolist(), \n",
    "                         bin_differentiation(faltwPHSData['lowE'].tolist(),\n",
    "                                             faltwPHSData['absPHS'].tolist()),\n",
    "                       uncert=faltwPHSData['absSigma'].tolist(), edgeLoc=heprowBinBounds,\n",
    "                       name='FALTW')\n",
    "measPHSHisto = Histogram()\n",
    "measPHSHisto.build_histo(measPHSData['lowE'].tolist(), \n",
    "                         bin_differentiation(measPHSData['lowE'].tolist(),\n",
    "                                             measPHSData['absPHS'].tolist()),\n",
    "                         uncert=measPHSData['absSigma'].tolist(), edgeLoc=heprowBinBounds,\n",
    "                         name='Measured')\n",
    "faltwPHSHisto.plot(measPHSHisto, logY=False, title='AmBe', xLabel='Light Yield [MeVee]',\n",
    "                 yLabel='Counts per MeVee', yMax=320000, xMin=0.34, xMax=4.0)"
   ]
  },
  {
   "cell_type": "code",
   "execution_count": 19,
   "metadata": {
    "collapsed": false
   },
   "outputs": [
    {
     "data": {
      "image/png": "[encoded data removed]",
      "text/plain": [
       "<matplotlib.figure.Figure at 0x2ad16ebf5fd0>"
      ]
     },
     "metadata": {},
     "output_type": "display_data"
    },
    {
     "data": {
      "image/png": "[encoded data removed]",
      "text/plain": [
       "<matplotlib.figure.Figure at 0x2ad16e6993d0>"
      ]
     },
     "metadata": {},
     "output_type": "display_data"
    }
   ],
   "source": [
    "# Linear\n",
    "heprowHisto.plot(grvHisto, title='AmBe Spectrum', xLabel='Energy [MeV]',\n",
    "                 yLabel='Neutron Energy Differential PDF', savePath=outPath+'AmBe_pdf_10bins',\n",
    "                 xMin=1.4, xMax=6.5)\n",
    "heprowAbsHisto.plot(title='AmBe Spectrum', xLabel='Energy [MeV]', \n",
    "                    yLabel='Neutron Intensity [n/MeV]', savePath=outPath+'AmBe_abs_10bins',\n",
    "                    xMin=1.4, xMax=6.5)"
   ]
  },
  {
   "cell_type": "code",
   "execution_count": null,
   "metadata": {
    "collapsed": true
   },
   "outputs": [],
   "source": []
  }
 ],
 "metadata": {
  "kernelspec": {
   "display_name": "Python 2",
   "language": "python",
   "name": "python2"
  },
  "language_info": {
   "codemirror_mode": {
    "name": "ipython",
    "version": 2
   },
   "file_extension": ".py",
   "mimetype": "text/x-python",
   "name": "python",
   "nbconvert_exporter": "python",
   "pygments_lexer": "ipython2",
   "version": "2.7.6"
  }
 },
 "nbformat": 4,
 "nbformat_minor": 0
}
