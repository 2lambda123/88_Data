{
 "cells": [
  {
   "cell_type": "markdown",
   "metadata": {},
   "source": [
    "# 50 MeV D on Ta Experimental Notebook\n",
    "\n",
    "This experiment ran 50 MeV deuterons on Ta in the vault.  Two experimental setups were arranged in Cave 02.  The experimental goals were:\n",
    "\n",
    "1) Test run for the ETA measurements on 24-26 March <br\\>\n",
    "2) Pulse height spectum unfolding of the neutron spectrum <br\\>\n",
    "3) Low energy light yield measurement on EJ-309 and EJ-299 <br\\>\n",
    "\n",
    "This experiment ran 1 EJ-309 and 1 EJ-299 scintillator detector. \n",
    "\n",
    "This notebook describes all of the steps required to take experimental data, parse that data, perform pulse shape discrimination (PSD) cuts, calibrate the data, and generate a pulse height spectrum (PHS) for unfolding of the 50 MeV on Ta spectrum.  It does not describe the dTOF light yield measurements, analysis, or setup.  \n",
    " \n",
    "The notebook is broken into the following sections:\n",
    "1) Experimental Setup <br\\>\n",
    "2) Aquire Calibration Data <br\\>\n",
    "3) Calibration Post-Processing <br\\>\n",
    "4) Pulse Height Spectrum Post-Processing <br\\>\n",
    "5) Spectrum Unfolding <br\\>"
   ]
  },
  {
   "cell_type": "markdown",
   "metadata": {},
   "source": [
    "## Experimental Setup\n",
    "\n",
    "### Initial Setup of DAQ\n",
    "\n",
    "The DAQ was run in pulse-amplitude mode. \n",
    "\n",
    "Power on CAEN NV8020 and CAEN 8315 power supplies on the digital DAQ for the E-J309 and EJ-299 targets. \n",
    "\n",
    "Open up terminal and launch the DPP_PSD app by typing:\n",
    "DPP-PSD_ControlSoftware\n",
    "\n",
    "Connect the DAQ by presing the connect button.  The connection type is USB, and the base address is 32100000."
   ]
  },
  {
   "cell_type": "markdown",
   "metadata": {
    "collapsed": true
   },
   "source": [
    "### Detector Configuration\n",
    "\n",
    "The detectors were set up as shown in the figure below:\n",
    "\n",
    "<img src=\"Pics/TargetSetup.jpg\">\n",
    "\n",
    "The detectors were placed at the following coordinates (measured to the face of the detector from the wall):\n",
    "\n",
    "EJ-309 (Tgt0): (46.9,0,0) cm <br\\>\n",
    "EJ-309 (Tgt0): (46.9,0,-2) cm <br\\>\n",
    "\n",
    "The connections were made as follows (no terminations were made on the output of the detectors):\n",
    "\n",
    "Detector   | PMT Data Out | Junction Data | Junction HV | HV Ch # | DAQ Ch #  \n",
    "---------- |:------------:|:-------------:|:-----------:|:-------:|:--------:\n",
    "EJ309 Tgt  |A1            |30             |50 (HV1)     |0        |0\n",
    "EJ299 Tgt  |A1            |32             |52 (HV3)     |2        |2 "
   ]
  },
  {
   "cell_type": "markdown",
   "metadata": {
    "collapsed": true
   },
   "source": [
    "### Setting Configuration\n",
    "\n",
    "#### Set Gain\n",
    "To determine the neutron (proton) energy to MeVee conversion, lightTables.getLight(neutron_energy,particle) was used from the nsd-rootscripts repo.  For this calibration, the max neutron energy is ~50 MeV. The max Be neutron energy is ~ 10 MeV.  \n",
    "\n",
    "lightTables.getLight(49,0) = 33 MeVee\n",
    "lightTables.getLight(10,0) = 4.9 MeVee. \n",
    "\n",
    "The edge of the 4.4 MeV AmBe gamma was set to be at ~0.25V and the edge of the AmBe neutrons at channel ~3500 for the PSD. \n",
    "\n",
    "NOTE: Both the oscope and PSD must be scaled to ensure that the capture the full scale range (FSR) of the intended experiment.  There are two nobs to do this:\n",
    "\n",
    "1) Bias - The higher the bias the better the PSD [affects both] <br/>\n",
    "2) Charge Sensitivity (on the channels tab) - Reduces the resolution, but allows for a wider FSR [only affects PSD]\n",
    "\n",
    "#### Determine PSD Settings\n",
    "\n",
    "After setting the gain the PSD gates and delays were set.  The best settings were determined to be:\n",
    "\n",
    "Detector   | DAQ Ch# | Bias | Charge Sens | Short Gate | Long Gate | Gate Offset | Threshold | BL  | Trigger Holdoff  \n",
    "---------- |:-------:|:----:|:-----------:|:----------:|:---------:|:-----------:|:---------:|:---:|:---------------:\n",
    "EJ309 Tgt  |0        |1150V |20           |48          |500        |24           |60         |1024 |500\n",
    "EJ299 Tgt  |2        |1225V |20           |56          |500        |24           |125        |1024 |500\n",
    "\n",
    "These are also saved as 16MeVTa_Unfolding_DppConfig_25Feb17.txt in the 50MeVTa_24-26Feb17 folder on the DAQ."
   ]
  },
  {
   "cell_type": "markdown",
   "metadata": {},
   "source": [
    "## Acquire Calibration Data\n",
    "Click on the Output tab.  Select a file location and name.  Select list, and binary format.  Finally turn dumping on.\n",
    "\n",
    "Each detector was calibrated individually with one source at a time.  The following total events were stored for each calibration source:\n",
    "\n",
    "### Pre-run Calibration #1\n",
    "EJ-309 Target:\n",
    "\n",
    "Source | Start Time | Time (s) | File name  \n",
    "------ |:----------:|:----------:|:----------:\n",
    "AmBe   |1802       |300          |AmBe_001_ls_0.dat\n",
    "Co60   |1809       |600          |Co60_001_ls_0.dat\n",
    "Cs137  |1820       |320          |Cs_001_ls_0.dat\n",
    "Bkgrnd |1828       |2800         |Background_001_ls_0.dat\n",
    "\n",
    "EJ-299 Target:\n",
    "\n",
    "Source | Start Time | Time (s) | File name  \n",
    "------ |:----------:|:----------:|:----------:\n",
    "AmBe   |1802        |300         |AmBe_001_ls_2.dat\n",
    "Co60   |1809        |600         |Co60_001_ls_2.dat\n",
    "Cs137  |1820        |320         |Cs137_001_ls_2.dat\n",
    "Bkgrnd |1828        |2800        |Background_001_ls_2.dat\n",
    "\n",
    "\n",
    "### Pre-run Calibration #2 - Use this set\n",
    "\n",
    "Bumped the bias up a bit to extend the full scale range to ~1.75V.  Scatter cells were enabled, but are not optimized for this experiment.\n",
    "\n",
    "Detector   | DAQ Ch# | Bias | Charge Sens | Short Gate | Long Gate | Gate Offset | Threshold | BL  | Trigger Holdoff  \n",
    "---------- |:-------:|:----:|:-----------:|:----------:|:---------:|:-----------:|:---------:|:---:|:---------------:\n",
    "EJ309 Tgt  |0        |1175V |20           |40          |250        |12           |125        |1024 |250\n",
    "EJ299 Tgt  |2        |1250V |20           |40          |600        |12           |125        |1024 |600\n",
    "Scatter0   |0        |1900V |20           |40          |250        |12           |125        |1024 |250\n",
    "Scatter1   |0        |1800V |20           |40          |250        |12           |125        |1024 |250\n",
    "Scatter2   |0        |2200V |20           |40          |250        |12           |125        |1024 |250\n",
    "Scatter3   |0        |1790V |20           |40          |250        |12           |125        |1024 |250\n",
    "Scatter4   |0        |1800V |20           |40          |250        |12           |125        |1024 |250\n",
    "Scatter5   |0        |1725V |20           |40          |250        |12           |125        |1024 |250\n",
    "Scatter6   |0        |1810V |20           |40          |250        |12           |125        |1024 |250\n",
    "\n",
    "EJ-309 Target:\n",
    "\n",
    "Source | Start Time | Time (s) | File name  \n",
    "------ |:----------:|:----------:|:----------:\n",
    "AmBe   |2050       |300          |AmBe_002_ls_0.dat\n",
    "Co60   |2056       |600          |Co60_002_ls_0.dat\n",
    "Cs137  |2104       |320          |Cs_002_ls_0.dat\n",
    "\n",
    "EJ-299 Target:\n",
    "\n",
    "Source | Start Time | Time (s) | File name  \n",
    "------ |:----------:|:----------:|:----------:\n",
    "AmBe   |2050        |300         |AmBe_002_ls_2.dat\n",
    "Co60   |2056        |600         |Co60_002_ls_2.dat\n",
    "Cs137  |2104        |300         |Cs137_002_ls_2.dat\n",
    "\n",
    "### Pre-run Calibration #3\n",
    "\n",
    "\n",
    "EJ-309 Target:\n",
    "\n",
    "Source | Start Time | Time (s) | File name  \n",
    "------ |:----------:|:----------:|:----------:\n",
    "AmBe   |2237       |300          |AmBe_003_ls_0.dat\n",
    "Co60   |2243       |300          |Co60_003_ls_0.dat\n",
    "\n",
    "EJ-299 Target:\n",
    "\n",
    "Source | Start Time | Time (s) | File name  \n",
    "------ |:----------:|:----------:|:----------:\n",
    "AmBe   |2237        |300         |AmBe_003_ls_2.dat\n",
    "Co60   |2243        |300         |Co60_003_ls_2.dat\n",
    "\n",
    "The files are stored on the DAQ in the 50MeVTa_24-26Feb17/CalibrationData folder. \n",
    "\n",
    "A background was taken with all detectors running at once.  It is also stored in the 50MeVTa_24-26Feb17/Unfolding/CalibrationData folder."
   ]
  },
  {
   "cell_type": "markdown",
   "metadata": {},
   "source": [
    "## Experimental Data Acquisition\n",
    "\n",
    "All current monitor data is stored in: Bevins_2H16+1_1914_24FEB17 in the 16MeVTa/Data. \n",
    "Current monitor is set to read 1000 times actual current.\n",
    "\n",
    "The current was ~50 $\\mu$A. The current integrator was set to the 6E-8 Scale.  Two ~30 min runs were performed.\n",
    "\n",
    "### Run #1\n",
    "Start: 2136\n",
    "Current integrator reading is 0 \n",
    "Stop: 2207\n",
    "Current integrator reading is 1448\n",
    "\n",
    "### Run #2\n",
    "Start: 2210\n",
    "Current integrator reading is 0\n",
    "Stop: 2231\n",
    "Current Integrator is 974 "
   ]
  },
  {
   "cell_type": "markdown",
   "metadata": {},
   "source": [
    "## Calibration Post-Processing Steps:\n",
    "\n",
    "The rest of this notebook is both descriptive and interactive.  Choose which step to perform in the notebook, or you can run them in root.  NOTE: If using this notebook as a guide to a different data set, check each of variables and commands to make sure they make sense in the context of your data set.\n",
    "\n",
    "To use the interactive commands, Root must be installed and PyRoot enabled for this notebook to work. Make sure that $ROOTSYS/lib is in your PYTHONPATH and LD_LIBRARY_PATH variables.\n",
    "\n",
    "First, load the necessary libraries, set the appropriate environment variables, and compile the C++ support macros from the instructions @ https://bitbucket.org/berkeleylab/nsd-rootscripts/wiki/LibraryCompilation.\n",
    "\n",
    "\n",
    "## Convert Binaries to root trees\n",
    "\n",
    "For each of the files, run the following (the gROOT commands can be copied and run directly in ROOT if preferred):\n",
    "\n",
    "DPPBinaryParser parser;  \n",
    "parser.readDatFile(\"your file name.dat\", \"output file name.root\");"
   ]
  },
  {
   "cell_type": "code",
   "execution_count": 1,
   "metadata": {
    "collapsed": true
   },
   "outputs": [],
   "source": [
    "from ROOT import gROOT\n",
    "import os\n",
    "\n",
    "path=\"/home/pyne-user/Dropbox/UCB/Research/ETAs/88Inch/Unfolding/Experiments/25MeVTa/Calibration/\""
   ]
  },
  {
   "cell_type": "code",
   "execution_count": null,
   "metadata": {
    "collapsed": false
   },
   "outputs": [],
   "source": [
    "gROOT.ProcessLine('DPPBinaryParser parser;')\n",
    "\n",
    "for filename in os.listdir(path):\n",
    "    if filename.endswith(\".dat\"): \n",
    "        name = os.path.splitext(filename)[0]\n",
    "        gROOT.ProcessLine('parser.readDatFile(\"{0}{1}.dat\", \"{0}{1}.root\");'.format(path,name))"
   ]
  },
  {
   "cell_type": "markdown",
   "metadata": {},
   "source": [
    "## Make PSD cuts on AmBe\n",
    "\n",
    "To perform the calibration, it is necessary to toss out the neutron data from the AmBe data.  Here a simple linear cut is demonstrated.  psdplotfitter.h has some more advanced options if needed.\n",
    "\n",
    "Each of the gROOT commands can be copied and run directly in ROOT if desired.\n",
    "\n",
    "First draw the PSD reducing the number of bins in both directions:"
   ]
  },
  {
   "cell_type": "code",
   "execution_count": 2,
   "metadata": {
    "collapsed": false
   },
   "outputs": [
    {
     "data": {
      "text/plain": [
       "3293057L"
      ]
     },
     "execution_count": 2,
     "metadata": {},
     "output_type": "execute_result"
    }
   ],
   "source": [
    "gROOT.ProcessLine('TFile f(\"{0}AmBe_000_ls_1.root\",\"update\")'.format(path))\n",
    "gROOT.ProcessLine('eventTree->Draw(\"(m_amplitude-m_shape)/m_amplitude:m_amplitude>>(5000,0,35000,1024,0,1)\",\"\",\"colz\")')"
   ]
  },
  {
   "cell_type": "markdown",
   "metadata": {},
   "source": [
    "This will open a PSD plot.  \n",
    "\n",
    "Right click and click SetShowProjectY.  This opens a new canvas.  On the original PSD canvas, you can select different projections which are plotted on the right.  use this to find the location of the minima between the neutron and gamma band.  In this case it is ~0.23.\n",
    "\n",
    "You can now view those cuts to ensure they are appropriate:"
   ]
  },
  {
   "cell_type": "code",
   "execution_count": 3,
   "metadata": {
    "collapsed": false
   },
   "outputs": [
    {
     "data": {
      "text/plain": [
       "1290540L"
      ]
     },
     "execution_count": 3,
     "metadata": {},
     "output_type": "execute_result"
    }
   ],
   "source": [
    "cutPt=0\n",
    "gROOT.ProcessLine('eventTree->Draw(\"(m_amplitude-m_shape)/m_amplitude:m_amplitude>>(5000,0,35000,1024,0,1)\",\"(m_amplitude-m_shape)/m_amplitude<0.20\",\"colz\")')"
   ]
  },
  {
   "cell_type": "markdown",
   "metadata": {},
   "source": [
    "Now we can save the cuts.  This generates a gamma and neutron histogram and saves it to the current file."
   ]
  },
  {
   "cell_type": "code",
   "execution_count": null,
   "metadata": {
    "collapsed": false
   },
   "outputs": [],
   "source": [
    "gROOT.ProcessLine('eventTree->Draw(\"m_amplitude>>AmBeGamma(5000,0,35000)\",\"(m_amplitude-m_shape)/m_amplitude<0.23\")')\n",
    "gROOT.ProcessLine('TH1F* AmBeData = (TH1F*) f.Get(\"AmBeGamma\")')"
   ]
  },
  {
   "cell_type": "code",
   "execution_count": null,
   "metadata": {
    "collapsed": false
   },
   "outputs": [],
   "source": [
    "gROOT.ProcessLine('eventTree->Draw(\"m_amplitude>>AmBeNeutron(5000,0,35000)\",\"(m_amplitude-m_shape)/m_amplitude>0.23\")')\n",
    "gROOT.ProcessLine('f.Write()')"
   ]
  },
  {
   "cell_type": "markdown",
   "metadata": {},
   "source": [
    "## Combine the Calibration Data Files\n",
    "\n",
    "Next, the experimental claibration files need to be combined into a single TFile for each channel.  \n",
    "\n",
    "This loops over all of the root trees in the directory and combines them by channel number.  It assumes that the standard DAQ naming format is used.  The first prefix assumes that the names of \"Co60\" and \"Cs137\" are used for the calibration data of those isotopes.\n",
    "\n",
    "After each data set is read it, the script pauses to allow inspection of the histogram.  The user is prompted to hit <enter> to continue."
   ]
  },
  {
   "cell_type": "code",
   "execution_count": null,
   "metadata": {
    "collapsed": false
   },
   "outputs": [],
   "source": [
    "chSet=False\n",
    "\n",
    "for filename in os.listdir(path):\n",
    "    if filename.endswith(\".root\"): \n",
    "        name = os.path.splitext(filename)[0]\n",
    "        if chSet==False:\n",
    "            ch=int(name.split('_')[3])\n",
    "            chSet=True\n",
    "            print ch\n",
    "        if int(name.split('_')[3])==ch:\n",
    "            print name\n",
    "            gROOT.ProcessLine('TFile h(\"{0}{1}.root\",\"update\")'.format(path,name))\n",
    "            gROOT.ProcessLine('eventTree->Draw(\"m_amplitude>>{0}(5000,0,35000)\")'.format(name.split('_')[0]))\n",
    "            #gROOT.ProcessLine('h.Write()')\n",
    "            gROOT.ProcessLine('TH1F* {0}Data = (TH1F*) h.Get(\"{0}Data\")'.format(name.split('_')[0]))\n",
    "#            elif name.split('_')[0]==\"Cs137\":\n",
    "                # Cs137\n",
    "#                gROOT.ProcessLine('TFile g(\"{0}Cs137_det1.root\",\"update\")'.format(path))\n",
    "#                gROOT.ProcessLine('eventTree->Draw(\"m_amplitude>>Cs137Data(5000,0,35000)\")')\n",
    "                #gROOT.ProcessLine('g.Write()')\n",
    "#                gROOT.ProcessLine('TH1F* Cs137Data = (TH1F*) g.Get(\"Cs137Data\")')\n",
    "            try:\n",
    "                input(\"Press enter to continue\")\n",
    "            except SyntaxError:\n",
    "                pass        \n"
   ]
  },
  {
   "cell_type": "code",
   "execution_count": null,
   "metadata": {
    "collapsed": true
   },
   "outputs": [],
   "source": [
    "        # Cs137\n",
    "        gROOT.ProcessLine('TFile g(\"{0}Cs137_det1.root\",\"update\")'.format(path))\n",
    "        gROOT.ProcessLine('eventTree->Draw(\"m_amplitude>>Cs137Data(5000,0,35000)\")')\n",
    "        gROOT.ProcessLine('g.Write()')\n",
    "        gROOT.ProcessLine('TH1F* Cs137Data = (TH1F*) g.Get(\"Cs137Data\")')\n",
    "\n",
    "\n",
    "\n",
    "        # Co60\n",
    "        gROOT.ProcessLine('TFile h(\"{0}Co60_det1.root\",\"update\")'.format(path))\n",
    "        gROOT.ProcessLine('eventTree->Draw(\"m_amplitude>>Co60Data(5000,0,35000)\")')\n",
    "        gROOT.ProcessLine('h.Write()')\n",
    "        gROOT.ProcessLine('TH1F* Co60Data = (TH1F*) h.Get(\"Co60Data\")')\n",
    "\n",
    "        try:\n",
    "            input(\"Press enter to continue\")\n",
    "        except SyntaxError:\n",
    "            pass"
   ]
  },
  {
   "cell_type": "code",
   "execution_count": null,
   "metadata": {
    "collapsed": false
   },
   "outputs": [],
   "source": [
    "# Cs137\n",
    "gROOT.ProcessLine('TFile g(\"{0}Cs137_det1.root\",\"update\")'.format(path))\n",
    "gROOT.ProcessLine('eventTree->Draw(\"m_amplitude>>Cs137Data(5000,0,35000)\")')\n",
    "gROOT.ProcessLine('g.Write()')\n",
    "gROOT.ProcessLine('TH1F* Cs137Data = (TH1F*) g.Get(\"Cs137Data\")')"
   ]
  },
  {
   "cell_type": "code",
   "execution_count": null,
   "metadata": {
    "collapsed": false
   },
   "outputs": [],
   "source": [
    "# Co60\n",
    "gROOT.ProcessLine('TFile h(\"{0}Co60_det1.root\",\"update\")'.format(path))\n",
    "gROOT.ProcessLine('eventTree->Draw(\"m_amplitude>>Co60Data(5000,0,35000)\")')\n",
    "gROOT.ProcessLine('h.Write()')\n",
    "gROOT.ProcessLine('TH1F* Co60Data = (TH1F*) h.Get(\"Co60Data\")')"
   ]
  },
  {
   "cell_type": "code",
   "execution_count": null,
   "metadata": {
    "collapsed": false
   },
   "outputs": [],
   "source": [
    "# Na22\n",
    "#gROOT.ProcessLine('TFile i(\"{0}Na22_det1.root\",\"update\")'.format(path))\n",
    "#gROOT.ProcessLine('eventTree->Draw(\"m_amplitude>>Na22Data(35000,0,35000)\")')\n",
    "#gROOT.ProcessLine('i.Write()')\n",
    "#gROOT.ProcessLine('TH1F* Na22Data = (TH1F*) i.Get(\"Na22Data\")')"
   ]
  },
  {
   "cell_type": "markdown",
   "metadata": {},
   "source": [
    "Now Combine them into a single file:"
   ]
  },
  {
   "cell_type": "code",
   "execution_count": null,
   "metadata": {
    "collapsed": false
   },
   "outputs": [],
   "source": [
    "gROOT.ProcessLine('TFile j(\"{0}CalibData.root\",\"new\")'.format(path))\n",
    "gROOT.ProcessLine('Co60Data->Write()')\n",
    "gROOT.ProcessLine('Cs137Data->Write()')\n",
    "#gROOT.ProcessLine('Na22Data->Write()')\n",
    "gROOT.ProcessLine('AmBeData->Write()')"
   ]
  },
  {
   "cell_type": "markdown",
   "metadata": {},
   "source": [
    "## Combine the Calibration Sim Files\n",
    "\n",
    "Next, the simulated calibration files need to be combined into a single TFile.  These commands can be run through the python script, but it is probably easier to run from the command line, which is what was done.  \n",
    "\n",
    "NOTE: Order matters!  This must be the same order as the data files above.\n",
    "NOTE: These are run from the cmd line in the directory the files reside, not from within Root.\n",
    "\n",
    "### Commands to run: <br/>\n",
    "rootcp CoDeposition.root:CoDeposition CalibSim.root:Co60Sim <br/>\n",
    "rootcp NaCsCoGammas.root:Cs137 CalibSim.root:Cs137Sim <br/>\n",
    "rootcp AmBeDeposition.root:AmBeDeposition CalibSim.root:AmBeSim <br/>"
   ]
  },
  {
   "cell_type": "markdown",
   "metadata": {},
   "source": [
    "## Run the Calibration Software\n",
    "\n",
    "There are two options for running the calibration sofware:\n",
    "\n",
    "1) Simulation based calibrations\n",
    "2) Klein-Nishina based calibration\n",
    "\n",
    "Each The two options will be explained separately."
   ]
  },
  {
   "cell_type": "markdown",
   "metadata": {},
   "source": [
    "### Mode 1 - Simulation Based Calibrations\n",
    "\n",
    "Required:  <br/>\n",
    "1) Vector of pointers to histograms of data  <br/>\n",
    "2) Vector of pointers to histograms of simulations of that data in the same order  <br/>\n",
    "\n",
    "To run the calibrations, use the startCalibrations script.  NOTE: The repo contains an example that is similar but may differ. This script must be loaded first for both methods.\n",
    "\n",
    "This script contains user variables that must be modified.  For this mode you can use one of two methods:\n",
    "\n",
    "1) startGuessSimCalib(): modify the file names <br/>\n",
    "2) startSimCalibration(): modify the file names and each of the parameters  <br/>\n",
    "\n",
    "It is recommneded to use startGuessSimCalib(), and that method is explained in this notebook.  However, if you have starting calibration and scale parameters, startSimCalibration() will get you in a closer starting position to begin with. \n",
    "\n",
    "First load the script and run the method:"
   ]
  },
  {
   "cell_type": "code",
   "execution_count": null,
   "metadata": {
    "collapsed": false
   },
   "outputs": [],
   "source": [
    "from ROOT import gROOT\n",
    "\n",
    "gROOT.ProcessLine('.L CalibData/startAmBeCalibration.cpp')\n",
    "gROOT.ProcessLine('obj=startGuessSimCalib()')"
   ]
  },
  {
   "cell_type": "markdown",
   "metadata": {},
   "source": [
    "Set the ranges and the good starting points using the GUI.  Then run the optimization routine.\n",
    "\n",
    "Repeat until satified with the fit.\n",
    "\n",
    "NOTE: The plots should update.  From there, the ranges can be adjusted as necessary before running the optimization routine again."
   ]
  },
  {
   "cell_type": "code",
   "execution_count": null,
   "metadata": {
    "collapsed": false
   },
   "outputs": [],
   "source": [
    "gROOT.ProcessLine('obj->findGammaCalibrationConstants()')"
   ]
  },
  {
   "cell_type": "markdown",
   "metadata": {},
   "source": [
    "Save the results to file and create a local object with the optimization parameters."
   ]
  },
  {
   "cell_type": "code",
   "execution_count": null,
   "metadata": {
    "collapsed": false
   },
   "outputs": [],
   "source": [
    "gROOT.ProcessLine('obj->writeStateToDisk(\"CalibParams.txt\")')\n",
    "gROOT.ProcessLine('std::vector<double> params = obj->findGammaCalibrationConstants()')"
   ]
  },
  {
   "cell_type": "markdown",
   "metadata": {},
   "source": [
    "### Mode 2 - Klein-Nishina Based Calibrations\n",
    "\n",
    "Required:\n",
    "1) Vector of pointers to histograms of data\n",
    "\n",
    "To run the calibrations, use the startCalibrations script.  NOTE: The repo contains an example that is similar but may differ. This script must be loaded first for both methods.\n",
    "\n",
    "This script contains user variables that must be modified.  For this mode you can use one of two methods:\n",
    "\n",
    "1) startGuessKNCalib(): modify the file name and isotopes considered\n",
    "2) startCalcCalibration(): modify the file names and each of the parameters\n",
    "\n",
    "It is recommneded to use startGuessKNCalib(), and that method is explained in this notebook.  However, if you have starting calibration and scale parameters, startCalcCalibration() will get you in a closer starting position to begin with. \n",
    "\n",
    "First load the script and run the method:"
   ]
  },
  {
   "cell_type": "code",
   "execution_count": null,
   "metadata": {
    "collapsed": false
   },
   "outputs": [],
   "source": [
    "from ROOT import gROOT\n",
    "\n",
    "gROOT.ProcessLine('.L startCalibration.cpp')\n",
    "gROOT.ProcessLine('a=startGuessKNCalib()')"
   ]
  },
  {
   "cell_type": "markdown",
   "metadata": {},
   "source": [
    "Set the ranges and the good starting points using the GUI.\n"
   ]
  },
  {
   "cell_type": "code",
   "execution_count": null,
   "metadata": {
    "collapsed": true
   },
   "outputs": [],
   "source": [
    "a->findGammaCalibrationConstants()\n",
    "vector<doubles> params = a->findGammaCalibrationConstants()\n"
   ]
  },
  {
   "cell_type": "markdown",
   "metadata": {},
   "source": [
    "## Apply the Calibration\n",
    "\n",
    "params[0] and params[1] are the slope and intercept from the calibration routine found above."
   ]
  },
  {
   "cell_type": "code",
   "execution_count": null,
   "metadata": {
    "collapsed": true
   },
   "outputs": [],
   "source": [
    "gROOT.ProcessLine('HistogramOperations ops')\n",
    "gROOT.ProcessLine('vector<TH1*> hists = b.loadHistograms(“AmBe_det1.root”)')\n",
    "gROOT.ProcessLine('ops.applyCalibration(AmBeNeutron,params[0],params[1])')\n",
    "gROOT.ProcessLine('AmBeNeutron->Draw()')"
   ]
  },
  {
   "cell_type": "markdown",
   "metadata": {},
   "source": [
    "## Generate the HEPROW .phs file\n",
    "\n",
    "Truncate all negative and all zeros data until there is rebin bins left remaining.  This makes the bottom of the PHS cleaner and easier for working with in HEPROW.  \n",
    "\n",
    "Find the first bin with data.  The cell will print the first bin, but not the lower MeVee edge.  It is a bit clunky, but you can read it directly from the terminal running this notebook (or run the commands in Root directly)."
   ]
  },
  {
   "cell_type": "code",
   "execution_count": null,
   "metadata": {
    "collapsed": false
   },
   "outputs": [],
   "source": [
    "gROOT.ProcessLine('PulseHeightSpectrum = (TH1D*)ops.truncateHist(AmBeNeutron,0.08,14);')\n",
    "\n",
    "i=0\n",
    "while gROOT.ProcessLine('PulseHeightSpectrum->GetBinContent({})'.format(i))==0:\n",
    "    i+=1\n",
    "print i\n",
    "\n",
    "gROOT.ProcessLine('PulseHeightSpectrum->GetXaxis()->GetBinLowEdge({})'.format(i))"
   ]
  },
  {
   "cell_type": "markdown",
   "metadata": {},
   "source": [
    "Choose a rebin number to get the desired MeVee/bin.  In this case, 80 was chosen to get ~ 0.25 MeVee/bin "
   ]
  },
  {
   "cell_type": "code",
   "execution_count": null,
   "metadata": {
    "collapsed": true
   },
   "outputs": [],
   "source": [
    "rebin=80\n",
    "gROOT.ProcessLine('PulseHeightSpectrum->Rebin({})'.format(rebin))\n",
    "gROOT.ProcessLine('PulseHeightSpectrum->GetXaxis()->GetBinLowEdge({})'.format(i//rebin))"
   ]
  },
  {
   "cell_type": "markdown",
   "metadata": {},
   "source": [
    "Print out the .phs file for both statistic bins and the intrinsic rebin from above:"
   ]
  },
  {
   "cell_type": "code",
   "execution_count": null,
   "metadata": {
    "collapsed": true
   },
   "outputs": [],
   "source": [
    "gROOT.ProcessLine('TH1* dataHist = ops.rebinStatistically(PulseHeightSpectrum,100);')\n",
    "gROOT.ProcessLine('HistogramWriter writer;')\n",
    "gROOT.ProcessLine('writer.PhToHEPROW(PulseHeightSpectrum,\"{}AmBe_phs_25\")'.format(outPath))\n",
    "gROOT.ProcessLine('writer.PhToHEPROW(dataHist,\"{}AmBe_stat_100_phs_25\")'.format(outPath))"
   ]
  },
  {
   "cell_type": "code",
   "execution_count": null,
   "metadata": {
    "collapsed": true
   },
   "outputs": [],
   "source": []
  },
  {
   "cell_type": "code",
   "execution_count": null,
   "metadata": {
    "collapsed": true
   },
   "outputs": [],
   "source": [
    "#Scratch code:\n",
    "\n",
    "eventTree->Draw(\"m_shape:m_amplitude>>(1024,0,70000,1024,0,35000)\",\"\",\"colz\")\n",
    "\n",
    "#draw psd\n",
    "eventTree->Draw(\"(m_amplitude-m_shape)/m_amplitude:m_amplitude>>(1024,0,35000,1024,0,1)\",\"\",\"colz\")\n",
    "\n",
    "#view psd linear cuts\n",
    "eventTree->Draw(\"(m_amplitude-m_shape)/m_amplitude:m_amplitude>>(1024,0,35000,1024,0,1)\",\"(m_amplitude-m_shape)/m_amplitude>0.16\",\"colz\")\n",
    "\n",
    "#generate phs with linear psd cuts\n",
    "eventTree->Draw(\"m_amplitude>>phs\",\"(m_amplitude-m_shape)/m_amplitude>0.16\")"
   ]
  }
 ],
 "metadata": {
  "kernelspec": {
   "display_name": "Python 2",
   "language": "python",
   "name": "python2"
  },
  "language_info": {
   "codemirror_mode": {
    "name": "ipython",
    "version": 2
   },
   "file_extension": ".py",
   "mimetype": "text/x-python",
   "name": "python",
   "nbconvert_exporter": "python",
   "pygments_lexer": "ipython2",
   "version": "2.7.6"
  }
 },
 "nbformat": 4,
 "nbformat_minor": 0
}
