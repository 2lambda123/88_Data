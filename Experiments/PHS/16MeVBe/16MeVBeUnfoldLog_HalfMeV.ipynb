{
 "cells": [
  {
   "cell_type": "markdown",
   "metadata": {},
   "source": [
    "# Unfolding of an Experimental 16 MeV on Be PHS: 0.5 MeV bins\n",
    "This notebook contains the specific commands used to take the 16 MeV on Be experimental data from Root TTrees and turn them into the correctly formatted .phs and .rsp files for the the NSD and HEPROW unfolding programs.  It will also generate the input neutron spectrum to use in comparison.  \n",
    "\n",
    "Root must be installed and PyRoot enabled for this notebook to work.\n",
    "\n",
    "First, load the necessary libraries, set the appropriate environment variables, and compile the C++ support macros from the instructions @ https://bitbucket.org/berkeleylab/nsd-rootscripts/wiki/LibraryCompilation.\n",
    "\n",
    "Load python dependencies:"
   ]
  },
  {
   "cell_type": "code",
   "execution_count": 1,
   "metadata": {
    "collapsed": false
   },
   "outputs": [
    {
     "data": {
      "text/plain": [
       "47127012139056L"
      ]
     },
     "execution_count": 1,
     "metadata": {},
     "output_type": "execute_result"
    }
   ],
   "source": [
    "from ROOT import gROOT\n",
    "import numpy as np\n",
    "\n",
    "gROOT.ProcessLine('HistogramWriter writer;')\n",
    "gROOT.ProcessLine('HistogramOperations ops;')"
   ]
  },
  {
   "cell_type": "markdown",
   "metadata": {},
   "source": [
    "## Specify the user inputs\n",
    "\n",
    "#### Input File Locations\n",
    "dataPath = the absolute location of where the root files are located <br/>\n",
    "phsName = file name for the pulse height spectra TTree <br/>\n",
    "rspName = file name for the response matrix TTree <br/>"
   ]
  },
  {
   "cell_type": "code",
   "execution_count": 2,
   "metadata": {
    "collapsed": false
   },
   "outputs": [],
   "source": [
    "dataPath=\"/home/pyne-user/Dropbox/UCB/Research/ETAs/88Inch/Unfolding/\"\n",
    "phsName=\"Experiments/PHS/16MeVBe/SinglePh.root\"\n",
    "\n",
    "rspName=\"Simulated/PHS/ResponseMatrices/simSideResponse100Mil.root\""
   ]
  },
  {
   "cell_type": "markdown",
   "metadata": {},
   "source": [
    "#### Output File Location\n",
    "outPath = the absolute path of where to place the generated HEPROW input files"
   ]
  },
  {
   "cell_type": "code",
   "execution_count": 3,
   "metadata": {
    "collapsed": false
   },
   "outputs": [],
   "source": [
    "outPath=\"/home/pyne-user/Dropbox/UCB/Research/ETAs/88Inch/Unfolding/Experiments/PHS/16MeVBe/Unfold/HEPROW/Inputs/\""
   ]
  },
  {
   "cell_type": "markdown",
   "metadata": {},
   "source": [
    "#### Response Matrix Binning\n",
    "\n",
    "rspEwidth = the width of bins to use for the binning of the response matrix energy <br/>\n",
    "rspEmin = the minimum Energy to use for the binning of the response matrix  <br/>\n",
    "rspEmax = the maximum Energy to use for the binning of the response matrix  <br/>\n",
    "rspLwidth = the width of bins to use for the binning of the response matrix light <br/>\n",
    "rspLmin = the minimum Light to use for the binning of the response matrix  <br/>\n",
    "rspLmax = the maximum Light to use for the binning of the response matrix  <br/>"
   ]
  },
  {
   "cell_type": "code",
   "execution_count": 4,
   "metadata": {
    "collapsed": false
   },
   "outputs": [],
   "source": [
    "rspEwidth=0.5\n",
    "rspEmin=0.0\n",
    "rspEmax=20.0\n",
    "rspLwidth=0.05\n",
    "rspLmin=0.0\n",
    "rspLmax=14.0"
   ]
  },
  {
   "cell_type": "markdown",
   "metadata": {},
   "source": [
    "## Create the .phs File\n",
    "### Load PHS Data File"
   ]
  },
  {
   "cell_type": "code",
   "execution_count": null,
   "metadata": {
    "collapsed": false
   },
   "outputs": [],
   "source": [
    "gROOT.ProcessLine('TFile f(\"{}\")'.format(dataPath+phsName))"
   ]
  },
  {
   "cell_type": "markdown",
   "metadata": {},
   "source": [
    "### Apply Calibration and print the .phs file\n",
    "\n",
    "The calibration constants used were:\n",
    "\n",
    "3)\n",
    "a = 0.00327102  <br/>\n",
    "b = -0.427562 <br/>\n",
    "Ec = 0.0531585  <br/>\n",
    "E1 = 0.0310429 <br/>\n",
    "E2 = 0.0151981 <br/>"
   ]
  },
  {
   "cell_type": "code",
   "execution_count": null,
   "metadata": {
    "collapsed": false
   },
   "outputs": [],
   "source": [
    "gROOT.ProcessLine('ops.applyCalibration(histo3, 0.00327102, -0.427562);')"
   ]
  },
  {
   "cell_type": "code",
   "execution_count": null,
   "metadata": {
    "collapsed": false
   },
   "outputs": [],
   "source": [
    "gROOT.ProcessLine('histo3->Draw()')"
   ]
  },
  {
   "cell_type": "markdown",
   "metadata": {},
   "source": [
    "Truncate all negative and all zeros data until there is n * rebin bins left remaining.  This makes the bottom of the PHS cleaner and easier for working with in HEPROW.  \n",
    "\n",
    "Find the first bin with data.  The cell will print the first bin, but not the lower MeVee edge.  It is a bit clunky, but you can read it directly from the terminal running this notebook (or run the commands in Root directly)."
   ]
  },
  {
   "cell_type": "code",
   "execution_count": null,
   "metadata": {
    "collapsed": false
   },
   "outputs": [],
   "source": [
    "gROOT.ProcessLine('tmpSpectrum = (TH1D*)ops.truncateHist(histo3,0.105,14);')\n",
    "\n",
    "i=0\n",
    "while gROOT.ProcessLine('tmpSpectrum->GetBinContent({})'.format(i))==0:\n",
    "    i+=1\n",
    "print i\n",
    "\n",
    "gROOT.ProcessLine('tmpSpectrum->GetXaxis()->GetBinLowEdge({})'.format(i))"
   ]
  },
  {
   "cell_type": "markdown",
   "metadata": {},
   "source": [
    "Choose a rebin number to get the desired MeVee/bin.  In this case, 16 was chosen to get ~ 0.05 MeVee/bin "
   ]
  },
  {
   "cell_type": "code",
   "execution_count": null,
   "metadata": {
    "collapsed": false
   },
   "outputs": [],
   "source": [
    "rebin=16\n",
    "gROOT.ProcessLine('tmpSpectrum->Rebin({})'.format(rebin))\n",
    "gROOT.ProcessLine('PulseHeightSpectrum = (TH1D*)ops.truncateHist(tmpSpectrum,0.31,14);')\n",
    "gROOT.ProcessLine('PulseHeightSpectrum->GetXaxis()->GetBinLowEdge({})'.format(0))"
   ]
  },
  {
   "cell_type": "markdown",
   "metadata": {},
   "source": [
    "Print out the .phs file for both statistic bins and the intrinsic rebin from above:"
   ]
  },
  {
   "cell_type": "code",
   "execution_count": null,
   "metadata": {
    "collapsed": false
   },
   "outputs": [],
   "source": [
    "gROOT.ProcessLine('TH1* dataHist = ops.rebinStatistically(PulseHeightSpectrum,100);')\n",
    "gROOT.ProcessLine('writer.PhToHEPROW(PulseHeightSpectrum,\"{}histo3_phs_05\")'.format(outPath))\n",
    "gROOT.ProcessLine('writer.PhToHEPROW(dataHist,\"{}histo3_stat_100_phs_05\")'.format(outPath))"
   ]
  },
  {
   "cell_type": "markdown",
   "metadata": {},
   "source": [
    "## Ouput the Initial Spectrum\n",
    "\n",
    "Uses the simulated 16 MeV spectrum, which was created from Meulders"
   ]
  },
  {
   "cell_type": "code",
   "execution_count": null,
   "metadata": {
    "collapsed": false
   },
   "outputs": [],
   "source": [
    "gROOT.ProcessLine('TFile g(\"/home/pyne-user/Dropbox/UCB/Research/ETAs/88Inch/Unfolding/Simulated/PHS/16MeVBe/meulders16BeSimulation.root)')\n",
    "gROOT.ProcessLine('primary->Draw(\"nEn>>initSpec(20,0,20)\")')\n",
    "gROOT.ProcessLine('writer.Th1ToAscii(initSpec,\"{}inputSpectrum_1\")'.format(outPath))"
   ]
  },
  {
   "cell_type": "markdown",
   "metadata": {},
   "source": [
    "## Create the .rsp File\n",
    "### Load Response Matrix Data File"
   ]
  },
  {
   "cell_type": "code",
   "execution_count": 5,
   "metadata": {
    "collapsed": false
   },
   "outputs": [
    {
     "data": {
      "text/plain": [
       "47127012139104L"
      ]
     },
     "execution_count": 5,
     "metadata": {},
     "output_type": "execute_result"
    }
   ],
   "source": [
    "gROOT.ProcessLine('SimulationManipulation sm(\"{}\",0)'.format(dataPath+rspName))"
   ]
  },
  {
   "cell_type": "markdown",
   "metadata": {},
   "source": [
    "### Create the bin structures and print .rsp file"
   ]
  },
  {
   "cell_type": "code",
   "execution_count": 6,
   "metadata": {
    "collapsed": false,
    "scrolled": true
   },
   "outputs": [
    {
     "data": {
      "text/plain": [
       "0L"
      ]
     },
     "execution_count": 6,
     "metadata": {},
     "output_type": "execute_result"
    }
   ],
   "source": [
    "# Create the bin structures\n",
    "rspEbins=np.arange(rspEmin,rspEmax,rspEwidth)\n",
    "rspEbins=np.append(rspEbins,rspEmax)\n",
    "#print rspEbins\n",
    "rspLbins=np.arange(rspLmin,rspLmax,rspLwidth)\n",
    "rspLbins=np.append(rspLbins,rspLmax)\n",
    "#print rspLbins\n",
    "gROOT.ProcessLine('const Int_t EBINS = {}; const Int_t LBINS = {};'.format(len(rspEbins)-1,len(rspLbins)-1))\n",
    "gROOT.ProcessLine('Double_t eEdges[EBINS + 1] = {}{}{};'.format(\"{\",\", \".join(str(e) for e in rspEbins),\"}\"))\n",
    "gROOT.ProcessLine('Double_t lEdges[LBINS + 1] = {}{}{};'.format(\"{\",\", \".join(str(e) for e in rspLbins),\"}\"))\n",
    "gROOT.ProcessLine('axis1 = TAxis(EBINS,eEdges);')\n",
    "gROOT.ProcessLine('axis2 = TAxis(LBINS,lEdges);')\n",
    "\n",
    "# Create the Histogram and output file\n",
    "gROOT.ProcessLine('TH2* hist=sm.getNormalizedResponseMatrix(axis1,axis2)')\n",
    "gROOT.ProcessLine('hist->Draw(\"colz\")')\n",
    "gROOT.ProcessLine('writer.ResponseToHEPROW(hist,\"{}resp_05_50\")'.format(outPath))"
   ]
  },
  {
   "cell_type": "markdown",
   "metadata": {},
   "source": [
    "### Smear the Response Matrix and Create the .rsp File"
   ]
  },
  {
   "cell_type": "code",
   "execution_count": 7,
   "metadata": {
    "collapsed": false
   },
   "outputs": [
    {
     "data": {
      "text/plain": [
       "0L"
      ]
     },
     "execution_count": 7,
     "metadata": {},
     "output_type": "execute_result"
    }
   ],
   "source": [
    "gROOT.ProcessLine('TH2* smearHist2 = ops.skewedGausSmearMatrix(hist,0.0531585, 0.0310429, 0.0151981)')\n",
    "gROOT.ProcessLine('smearHist2->Draw(\"colz\")')\n",
    "gROOT.ProcessLine('writer.ResponseToHEPROW(smearHist2,\"{}smearedResp_05_50\")'.format(outPath))"
   ]
  },
  {
   "cell_type": "markdown",
   "metadata": {},
   "source": [
    "## Mik.inp Support\n",
    "\n",
    "These lines are useful to develop the mik.inp file:"
   ]
  },
  {
   "cell_type": "code",
   "execution_count": 9,
   "metadata": {
    "collapsed": false
   },
   "outputs": [
    {
     "name": "stdout",
     "output_type": "stream",
     "text": [
      "39\n",
      "0.5                                     right boundary of 1 energy interval\n",
      "1.0                                     right boundary of 2 energy interval\n",
      "1.5                                     right boundary of 3 energy interval\n",
      "2.0                                     right boundary of 4 energy interval\n",
      "2.5                                     right boundary of 5 energy interval\n",
      "3.0                                     right boundary of 6 energy interval\n",
      "3.5                                     right boundary of 7 energy interval\n",
      "4.0                                     right boundary of 8 energy interval\n",
      "4.5                                     right boundary of 9 energy interval\n",
      "5.0                                     right boundary of 10 energy interval\n",
      "5.5                                     right boundary of 11 energy interval\n",
      "6.0                                     right boundary of 12 energy interval\n",
      "6.5                                     right boundary of 13 energy interval\n",
      "7.0                                     right boundary of 14 energy interval\n",
      "7.5                                     right boundary of 15 energy interval\n",
      "8.0                                     right boundary of 16 energy interval\n",
      "8.5                                     right boundary of 17 energy interval\n",
      "9.0                                     right boundary of 18 energy interval\n",
      "9.5                                     right boundary of 19 energy interval\n",
      "10.0                                     right boundary of 20 energy interval\n",
      "10.5                                     right boundary of 21 energy interval\n",
      "11.0                                     right boundary of 22 energy interval\n",
      "11.5                                     right boundary of 23 energy interval\n",
      "12.0                                     right boundary of 24 energy interval\n",
      "12.5                                     right boundary of 25 energy interval\n",
      "13.0                                     right boundary of 26 energy interval\n",
      "13.5                                     right boundary of 27 energy interval\n",
      "14.0                                     right boundary of 28 energy interval\n",
      "14.5                                     right boundary of 29 energy interval\n",
      "15.0                                     right boundary of 30 energy interval\n",
      "15.5                                     right boundary of 31 energy interval\n",
      "16.0                                     right boundary of 32 energy interval\n",
      "16.5                                     right boundary of 33 energy interval\n",
      "17.0                                     right boundary of 34 energy interval\n",
      "17.5                                     right boundary of 35 energy interval\n",
      "18.0                                     right boundary of 36 energy interval\n",
      "18.5                                     right boundary of 37 energy interval\n",
      "19.0                                     right boundary of 38 energy interval\n",
      "19.5                                     right boundary of 39 energy interval\n"
     ]
    }
   ],
   "source": [
    "print \"{}\".format(len(rspEbins)-2)\n",
    "for i in range(1,len(rspEbins)-1):\n",
    "    print \"{:.1f}                                     right boundary of {:1d} energy interval\".format(rspEbins[i],i)"
   ]
  },
  {
   "cell_type": "markdown",
   "metadata": {
    "collapsed": true
   },
   "source": [
    "## NSD Unfold\n",
    "\n",
    "This uses the unfolding algorithms developed by Matt Harasty and Josh Brown contained in the nsd-rootscripts library to unfold the same data.  \n",
    "\n",
    "First we must load the script to do the unfolding. NOTE: All of the parameters set in this notebook above are done explicitly within this script.  It is recommended that a unique script be made in each unfold directory to document the settings used.\n",
    "\n",
    "NOTE: Do not run the ROOT import cell if it was run about and still active in the kernel.  It is repeated here for convience when not doing the HEPROW processing."
   ]
  },
  {
   "cell_type": "code",
   "execution_count": null,
   "metadata": {
    "collapsed": false
   },
   "outputs": [],
   "source": [
    "from ROOT import gROOT\n",
    "\n",
    "gROOT.ProcessLine('HistogramWriter writer;')"
   ]
  },
  {
   "cell_type": "code",
   "execution_count": null,
   "metadata": {
    "collapsed": false
   },
   "outputs": [],
   "source": [
    "gROOT.ProcessLine('.L /home/pyne-user/Dropbox/UCB/Research/ETAs/88Inch/Unfolding/Experiments/16MeVBe/Unfold/16MeVBeUnfold.cpp')"
   ]
  },
  {
   "cell_type": "markdown",
   "metadata": {},
   "source": [
    "### Run the Algorithm\n",
    "Create the unfolding object, run the unfolding algorithm, and plot the results:"
   ]
  },
  {
   "cell_type": "code",
   "execution_count": null,
   "metadata": {
    "collapsed": false
   },
   "outputs": [],
   "source": [
    "gROOT.ProcessLine('NeutronSpectrumUnfolding* obj = setupHalfMeVUnfolding()')\n",
    "gROOT.ProcessLine('obj->runRootMinimization(\"Minuit\")')\n",
    "gROOT.ProcessLine('obj->drawState()')"
   ]
  },
  {
   "cell_type": "markdown",
   "metadata": {},
   "source": [
    "### Write the results \n",
    "\n",
    "Save to both a root file and .phs file:"
   ]
  },
  {
   "cell_type": "code",
   "execution_count": null,
   "metadata": {
    "collapsed": false
   },
   "outputs": [],
   "source": [
    "gROOT.ProcessLine('obj->writeState(\"/home/pyne-user/Dropbox/UCB/Research/ETAs/88Inch/Unfolding/Experiments/16MeVBe/Unfold/NSDUnfolded16MeV_Cal3_50.root\")')\n",
    "gROOT.ProcessLine('TH1D* outputHisto = obj->getCurrentTrialClone()')\n",
    "gROOT.ProcessLine('writer.Th1ToAscii(outputHisto, \"/home/pyne-user/Dropbox/UCB/Research/ETAs/88Inch/Unfolding/Experiments/16MeVBe/Unfold/NSD16MeVSpectrum_Cal3_0\")')"
   ]
  },
  {
   "cell_type": "code",
   "execution_count": null,
   "metadata": {
    "collapsed": true
   },
   "outputs": [],
   "source": []
  }
 ],
 "metadata": {
  "kernelspec": {
   "display_name": "Python 2",
   "language": "python",
   "name": "python2"
  },
  "language_info": {
   "codemirror_mode": {
    "name": "ipython",
    "version": 2
   },
   "file_extension": ".py",
   "mimetype": "text/x-python",
   "name": "python",
   "nbconvert_exporter": "python",
   "pygments_lexer": "ipython2",
   "version": "2.7.6"
  }
 },
 "nbformat": 4,
 "nbformat_minor": 0
}
