{
 "cells": [
  {
   "cell_type": "markdown",
   "metadata": {},
   "source": [
    "# 16 MeV D on Ta Experimental Notebook\n",
    "\n",
    "This experiment ran 16 MeV deuterons on Ta in the vault.  Two experimental setups were arranged in Cave 02.  The experimental goals were:\n",
    "\n",
    "1) Test run for the ETA measurements on 24-26 Feb <br\\>\n",
    "2) Pulse height spectum unfolding of the neutron spectrum <br\\>\n",
    "3) Low energy light yield measurement on EJ-309 and EJ-299 <br\\>\n",
    "\n",
    "\n",
    "This experiment ran 1 EJ-309 and 1 EJ-299 scintillator detector. \n",
    "\n",
    "This notebook describes all of the steps required to take experimental data, parse that data, perform pulse shape discrimination (PSD) cuts, calibrate the data, and generate a pulse height spectrum (PHS) for unfolding of the 16 MeV on Ta spectrum.  It does not describe the dTOF light yield measurements, analysis, or setup.  \n",
    " \n",
    "The notebook is broken into the following sections: <br\\>\n",
    "1) Experimental Setup <br\\>\n",
    "2) Aquire Calibration Data <br\\>\n",
    "3) Calibration Post-Processing <br\\>\n",
    "4) Perform Calibrations <br\\>\n",
    "5) Experimental Data Acquisition <br\\>\n",
    "6) Pulse Height Spectrum Post-Processing <br\\>\n",
    "7) EJ309 Spectrum Unfolding <br\\>\n",
    "\n",
    "At the start of each section, all of the modules necessary for that section are imported so that each can be run independently of the rest of the notebook (to the extent that the required inputs from previous sections exist). "
   ]
  },
  {
   "cell_type": "markdown",
   "metadata": {},
   "source": [
    "## 1) Experimental Setup\n",
    "\n",
    "### Initial Setup of DAQ\n",
    "\n",
    "The DAQ was run in pulse-amplitude mode. \n",
    "\n",
    "Power on CAEN NV8020 and CAEN 8315 power supplies on the digital DAQ for the E-J309 and EJ-299 targets. \n",
    "\n",
    "Open up terminal and launch the DPP_PSD app by typing:\n",
    "DPP-PSD_ControlSoftware\n",
    "\n",
    "Connect the DAQ by presing the connect button.  The connection type is USB, and the base address is 32100000."
   ]
  },
  {
   "cell_type": "markdown",
   "metadata": {
    "collapsed": true
   },
   "source": [
    "### Detector Configuration\n",
    "\n",
    "The detectors were set up as shown in the figure below:\n",
    "\n",
    "<img src=\"Pics/UnfoldSetup.jpg\">\n",
    "\n",
    "The detectors were placed at the following coordinates (measured to the face of the detector from the wall):\n",
    "\n",
    "EJ-309 (Tgt0): (46.9,0,0) cm <br\\>\n",
    "EJ-309 (Tgt0): (46.9,0,-2.5) cm <br\\>\n",
    "\n",
    "The connections were made as follows (no terminations were made on the output of the detectors):\n",
    "\n",
    "Detector   | PMT Data Out | Junction Data | Junction HV | HV Ch # | DAQ Ch #  \n",
    "---------- |:------------:|:-------------:|:-----------:|:-------:|:--------:\n",
    "EJ309 Tgt  |A1            |30             |50 (HV1)     |0        |0\n",
    "Ej299 Tgt  |A1            |31             |51 (HV2)     |1        |1 "
   ]
  },
  {
   "cell_type": "markdown",
   "metadata": {
    "collapsed": true
   },
   "source": [
    "### Setting Configuration\n",
    "\n",
    "#### Set Gain\n",
    "To determine the neutron (proton) energy to MeVee conversion, lightTables.getLight(neutron_energy,particle) was used from the nsd-rootscripts repo.  For this calibration, the max neutron energy is ~16 MeV. The max Be neutron energy is ~ 10 MeV.  \n",
    "\n",
    "lightTables.getLight(16,0) = 8.9 MeVee\n",
    "lightTables.getLight(10,0) = 4.9 MeVee. \n",
    "\n",
    "The edge of the 4.4 MeV AmBe gamma was set to be at ~0.9V and the edge of the AmBe neutrons at channel ~1600 for the PSD. \n",
    "\n",
    "**NOTE: Both the oscope and PSD must be scaled to ensure that the capture the full scale range (FSR) of the intended experiment.  There are two nobs to do this:**\n",
    "\n",
    "1) Bias - The higher the bias the better the PSD [affects both] <br/>\n",
    "2) Charge Sensitivity (on the channels tab) - Reduces the resolution, but allows for a wider FSR [only affects PSD]\n",
    "\n",
    "#### Determine PSD Settings\n",
    "\n",
    "After setting the gain the PSD gates and delays were set.  The best settings were determined to be:\n",
    "\n",
    "Detector   | DAQ Ch# | Bias | Charge Sens | Short Gate | Long Gate | Gate Offset | Threshold | BL  | Trigger Holdoff  \n",
    "---------- |:-------:|:----:|:-----------:|:----------:|:---------:|:-----------:|:---------:|:---:|:---------------:\n",
    "EJ309 Tgt  |0        |1375V |20           |60          |500        |24           |175        |1024 |500\n",
    "EJ299 Tgt  |1        |1750V |20           |60          |600        |24           |200        |1024 |600\n",
    "\n",
    "These are also saved as 16MeVTa_Unfolding_DppConfig_23Feb17.txt in the 16MeVTa_24-26Feb17 folder on the DAQ.\n"
   ]
  },
  {
   "cell_type": "markdown",
   "metadata": {},
   "source": [
    "## 2) Acquire Calibration Data\n",
    "Click on the Output tab.  Select a file location and name.  Select list, and binary format.  Finally turn dumping on.\n",
    "\n",
    "The targets were calibrated together with one source at a time.  The times were set to get ~ 1000 counts/bin at the compton edge in with 4k bins. The following total events were stored for each calibration source:\n",
    "\n",
    "### Calibration #1\n",
    "\n",
    "EJ-309 Target:\n",
    "\n",
    "Source | Events | Time (min) | File name          \n",
    "------ |:------:|:----------:|:------------------:\n",
    "AmBe   |        |~30 min     |AmBe_000_ls_0.dat\n",
    "Co60   |380k    |~20 min     |Co60_000_ls_0.dat\n",
    "Cs137  |250k    |~11 min     |Cs137_000_ls_0.dat\n",
    "\n",
    "EJ-299 Target:\n",
    "\n",
    "Source | Events | Time (min) | File name  \n",
    "------ |:------:|:----------:|:-----------------:\n",
    "AmBe   |        |~30 min     |AmBe_000_ls_1.dat\n",
    "Co60   |380k    |~20 min     |Co60_000_ls_1.dat\n",
    "Cs137  |460k    |~11 min     |Cs137_000_ls_1.dat\n",
    "\n",
    "The files are stored on the DAQ in the 16MeVTa_24-26Feb17/Unfolding/CalibrationData folder. \n",
    "\n",
    "### Calibration #2\n",
    "A second set of calibration data was takenn just prior to the run to test for drift. The calibration source was placed on Target 1 (EJ-299).\n",
    "\n",
    "EJ-309 Target:\n",
    "\n",
    "Source | Start | Time (min) | File name          \n",
    "------ |:------:|:----------:|:------------------:\n",
    "AmBe   |1743    |312 sec     |AmBe_001_ls_0.dat\n",
    "Cs137  |1749    |300 sec     |Cs137_001_ls_0.dat\n",
    "Bkgrnd |1755    |600 sec     |Background_001_ls_0.dat\n",
    "\n",
    "EJ-299 Target:\n",
    "\n",
    "Source | Start | Time (min) | File name          \n",
    "------ |:------:|:----------:|:------------------:\n",
    "AmBe   |1743    |312 sec     |AmBe_001_ls_1.dat\n",
    "Cs137  |1749    |300 sec     |Cs137_001_ls_1.dat\n",
    "Bkgrnd |1755    |600 sec     |Background_001_ls_1.dat\n",
    "\n",
    "### Calibration #3 \n",
    "Ringing was noticed in the EJ-299 when the beam was turned on, so a terminator was added.  Also, the full energy peaks were slightly off scale so the gains were changed.  The calibration sources were placed on Taget 1 (EJ-299). The following were used:\n",
    "\n",
    "Detector   | DAQ Ch# | Bias | Charge Sens | Short Gate | Long Gate | Gate Offset | Threshold | BL  | Trigger Holdoff  \n",
    "---------- |:-------:|:----:|:-----------:|:----------:|:---------:|:-----------:|:---------:|:---:|:---------------:\n",
    "EJ309 Tgt  |0        |1325V |20           |60          |500        |24           |175        |1024 |500\n",
    "EJ299 Tgt  |1        |1850V |20           |60          |600        |24           |200        |1024 |600\n",
    "\n",
    "EJ-309 Target:\n",
    "\n",
    "Source | Start | Time (min) | File name          \n",
    "------ |:------:|:----------:|:------------------:\n",
    "AmBe   |1843    |600 sec     |AmBe_002_ls_0.dat\n",
    "Cs137  |1854    |600 sec     |Cs137_002_ls_0.dat\n",
    "Bkgrnd |1905    |300 sec     |Background_002_ls_0.dat\n",
    "\n",
    "EJ-299 Target:\n",
    "\n",
    "Source | Start | Time (min) | File name          \n",
    "------ |:------:|:----------:|:------------------:\n",
    "AmBe   |1843    |600 sec     |AmBe_002_ls_0.dat\n",
    "Cs137  |1854    |600 sec     |Cs137_002_ls_0.dat\n",
    "Bkgrnd |1905    |300 sec     |Background_002_ls_0.dat\n",
    "\n",
    "### Post Run Calibration  -- USE THIS SET FOR THE CALIBRATION\n",
    "EJ-309 Target:\n",
    "\n",
    "Source | Start | Time (min) | File name          \n",
    "------ |:------:|:----------:|:------------------:\n",
    "AmBe   |1902    |300 sec     |AmBe_003_ls_0.dat\n",
    "Cs137  |2057    |300 sec     |Cs137_003_ls_0.dat\n",
    "Co60   |2046    |600 sec     |Co60_003_ls_0.dat\n",
    "\n",
    "EJ-299 Target:\n",
    "\n",
    "Source | Start | Time (min) | File name          \n",
    "------ |:------:|:----------:|:------------------:\n",
    "AmBe   |1902    |300 sec     |AmBe_003_ls_1.dat\n",
    "Cs137  |2057    |300 sec     |Cs137_003_ls_1.dat\n",
    "Co60   |2046    |600 sec     |Co60_003_ls_1.dat"
   ]
  },
  {
   "cell_type": "markdown",
   "metadata": {},
   "source": [
    "## 3) Calibration Post-Processing:\n",
    "\n",
    "The rest of this notebook is both descriptive and interactive.  Choose which step to perform in the notebook, or you can run them in root.  NOTE: If using this notebook as a guide to a different data set, check each of variables and commands to make sure they make sense in the context of your data set.\n",
    "\n",
    "To use the interactive commands, Root must be installed and PyRoot enabled for this notebook to work. Make sure that $ROOTSYS/lib is in your PYTHONPATH and LD_LIBRARY_PATH variables.\n",
    "\n",
    "First, load the necessary libraries, set the appropriate environment variables, and compile the C++ support macros from the instructions @ https://bitbucket.org/berkeleylab/nsd-rootscripts/wiki/LibraryCompilation.\n",
    "\n",
    "Next, The notebook has dependencies on PScripts, which can be cloned from:\n",
    "https://github.com/jamesbevins/PyScripts"
   ]
  },
  {
   "cell_type": "code",
   "execution_count": 1,
   "metadata": {
    "collapsed": false
   },
   "outputs": [
    {
     "name": "stdout",
     "output_type": "stream",
     "text": [
      "Currently working in: \n",
      " /home/pyne-user/Dropbox/UCB/Research/ETAs/88Inch/Data/Experiments/PHS/16MeVTa/Calibration\n"
     ]
    }
   ],
   "source": [
    "import sys\n",
    "import os\n",
    "from ROOT import gROOT\n",
    "\n",
    "sys.path.insert(0,os.path.abspath('/home/pyne-user/Dropbox/UCB/Computational_Tools/Scripts/Python/Support'))\n",
    "from Utilities import pause\n",
    "\n",
    "path = '/home/pyne-user/Dropbox/UCB/Research/ETAs/88Inch/Data/Experiments/PHS/16MeVTa/Calibration/'\n",
    "os.chdir(path)\n",
    "print 'Currently working in: \\n {}'.format(os.getcwd())"
   ]
  },
  {
   "cell_type": "markdown",
   "metadata": {},
   "source": [
    "### Convert Binaries to root trees\n",
    "\n",
    "The following gROOT commands can be copied and run directly in ROOT if preferred.  \n",
    "\n",
    "Loop over all of the calibration .dat files, convert to .root Trees, and add them to a combined Calibrations.root tree.  "
   ]
  },
  {
   "cell_type": "code",
   "execution_count": 2,
   "metadata": {
    "collapsed": false
   },
   "outputs": [
    {
     "name": "stdout",
     "output_type": "stream",
     "text": [
      "Processing:  AmBe_000_ls_0\n",
      "Processing:  Co60_000_ls_1\n",
      "Processing:  Cs137_002_ls_1\n",
      "Processing:  AmBe_003_ls_0\n",
      "Processing:  AmBe_002_ls_1\n",
      "Processing:  Cs137_000_ls_1\n",
      "Processing:  Cs137_001_ls_1\n",
      "Processing:  Co60_003_ls_0\n",
      "Processing:  Background_002_ls_1\n",
      "Processing:  Background_001_ls_0\n",
      "Processing:  Co60_003_ls_1\n",
      "Processing:  Cs137_002_ls_0\n",
      "Processing:  Cs137_003_ls_0\n",
      "Processing:  AmBe_003_ls_1\n",
      "Processing:  Background_002_ls_0\n",
      "Processing:  AmBe_001_ls_1\n",
      "Processing:  Co60_000_ls_0\n",
      "Processing:  Cs137_000_ls_0\n",
      "Processing:  AmBe_001_ls_0\n",
      "Processing:  Cs137_003_ls_1\n",
      "Processing:  Background_001_ls_1\n",
      "Processing:  Cs137_001_ls_0\n",
      "Processing:  AmBe_002_ls_0\n",
      "Processing:  AmBe_000_ls_1\n"
     ]
    },
    {
     "data": {
      "text/plain": [
       "0L"
      ]
     },
     "execution_count": 2,
     "metadata": {},
     "output_type": "execute_result"
    }
   ],
   "source": [
    "gROOT.ProcessLine('DPPBinaryParser parser;')\n",
    "gROOT.ProcessLine('vector<string> names;')\n",
    "\n",
    "for filename in os.listdir(path):\n",
    "    if filename.endswith(\".dat\"): \n",
    "        name = os.path.splitext(filename)[0]\n",
    "        print \"Processing: \", name\n",
    "        gROOT.ProcessLine('parser.readDatFile(\"{0}.dat\", \"{0}.root\");'.format(name))\n",
    "        gROOT.ProcessLine('names.push_back(\"{0}.root\");'.format(name))\n",
    "        \n",
    "gROOT.ProcessLine('DDaqPostProcessing obj;')\n",
    "gROOT.ProcessLine('obj.makePhCalibs(names,\"Calibrations_All.root\");')"
   ]
  },
  {
   "cell_type": "markdown",
   "metadata": {},
   "source": [
    "### Test Gain Drift\n",
    "\n",
    "This looks at the gain drift across the experiment by using before and after calibrations from one of the sources.\n",
    "\n",
    "** NOTE: Since the gains changed between calibration set 001 and 002, only 002 and 003 are used. **"
   ]
  },
  {
   "cell_type": "code",
   "execution_count": 2,
   "metadata": {
    "collapsed": true
   },
   "outputs": [],
   "source": [
    "detNames = {0: 'EJ309', 1: 'EJ299'}"
   ]
  },
  {
   "cell_type": "code",
   "execution_count": 4,
   "metadata": {
    "collapsed": false
   },
   "outputs": [
    {
     "name": "stdout",
     "output_type": "stream",
     "text": [
      "Press enter to continue\n",
      "Press enter to continue\n"
     ]
    }
   ],
   "source": [
    "driftSrc = 'Cs137'\n",
    "runNums = ['002', '003']\n",
    "colorWheel = ['kGreen', 'kBlue']\n",
    "\n",
    "gROOT.ProcessLine('TFile f(\"Calibrations_All.root\")')\n",
    "gROOT.ProcessLine('TLine* line = new TLine(0,1,7000,1)')\n",
    "\n",
    "for detNum, detName in detNames.iteritems():\n",
    "    gROOT.ProcessLine('TCanvas c{}'.format(detNum))\n",
    "    for run, color in zip(runNums, colorWheel):\n",
    "        gROOT.ProcessLine('TH1* {0}_{1} = (TH1*) f.Get(\"{2}_{1}_ls_{3}.root\")->Clone()'.format(detName, run, driftSrc, detNum))\n",
    "        gROOT.ProcessLine('{0}_{1}->Scale(1.0/{0}_{1}->Integral())'.format(detName, run))\n",
    "        gROOT.ProcessLine('{0}_{1}->Rebin(2)'.format(detName, run))\n",
    "        gROOT.ProcessLine('{0}_{1}->SetLineColor({2})'.format(detName, run, color))\n",
    "        gROOT.ProcessLine('{0}_{1}->Draw(\"same\")'.format(detName, run))\n",
    "        \n",
    "    gROOT.ProcessLine('TH1* postToPreRatio{0} = (TH1*){0}_{1}->Clone()'.format(detName, runNums[-1]))\n",
    "    gROOT.ProcessLine('postToPreRatio{0}->Divide({0}_{1})'.format(detName, runNums[-2]))\n",
    "    gROOT.ProcessLine('TCanvas c{}'.format(detName))\n",
    "    gROOT.ProcessLine('postToPreRatio{0}->Draw()'.format(detName))\n",
    "    gROOT.ProcessLine('line->Draw(\"same\")')\n",
    "    pause()"
   ]
  },
  {
   "cell_type": "markdown",
   "metadata": {},
   "source": [
    "#### Detector 0 (EJ309)\n",
    "\n",
    "<img src=\"Pics/PrePostCalibComp0.png\">\n",
    "<img src=\"Pics/PrePostCalibRatio0.png\">\n",
    "\n",
    "#### Detector 1 (EJ299)\n",
    "\n",
    "<img src=\"Pics/PrePostCalibComp1.png\">\n",
    "<img src=\"Pics/PrePostCalibRatio1.png\">"
   ]
  },
  {
   "cell_type": "markdown",
   "metadata": {},
   "source": [
    "### Make PSD cuts on AmBe\n",
    "\n",
    "To perform the calibration, it is necessary to toss out the neutron data from the AmBe data.  Here two options are shown.  First, a linear cut can be used since the compton edge is cleanly separated from the neutron band.  Second, a PSD cut based on a gaussian fitting of the neutron and gamma bands is used. \n",
    "\n",
    "**NOTE: The fitted PSD cut was used for all subsequent analysis in this notebook to cut out the neutron background at low PH and allow for better calibration**\n",
    "\n",
    "Each of the gROOT commands can be copied and run directly in ROOT if desired.\n",
    "\n",
    "#### Option 1 (linear cut):\n",
    "\n",
    "Good for a quick look.\n",
    "\n",
    "First draw the PSD reducing the number of bins in both directions for the calibration run:"
   ]
  },
  {
   "cell_type": "code",
   "execution_count": 4,
   "metadata": {
    "collapsed": false
   },
   "outputs": [
    {
     "name": "stdout",
     "output_type": "stream",
     "text": [
      "Press enter to continue\n",
      "Press enter to continue\n"
     ]
    }
   ],
   "source": [
    "# Set file characteristics\n",
    "runNum = \"003\"\n",
    "\n",
    "# Initialize storage        \n",
    "# Plot each PSD\n",
    "for detNum, detName in detNames.iteritems():\n",
    "    gROOT.ProcessLine('TFile *AmBe{0} = new TFile(\"AmBe_{1}_ls_{0}.root\",\"update\")'.format(detNum,runNum))\n",
    "    #gROOT.ProcessLine('eventTree->Draw(\"(m_amplitude-m_shape)/m_amplitude:m_amplitude>>(1250,0,35000,1024,0,1)\",\"\",\"colz\")')\n",
    "    \n",
    "    gROOT.ProcessLine('TFile *{0} = new TFile(\"CalibData_{1}.root\",\"recreate\")'.format(detName, detNum))\n",
    "    pause()"
   ]
  },
  {
   "cell_type": "markdown",
   "metadata": {},
   "source": [
    "This will open a PSD plot.  \n",
    "\n",
    "Right click and click SetShowProjectY.  This opens a new canvas.  On the original PSD canvas, you can select different projections which are plotted on the right.  use this to find the location of the minima between the neutron and gamma band.  In this case it is ~0.18 for channel 0 (EJ-309) and ~0.21 (EJ-299) for channel 1.\n",
    "\n",
    "You can now view those cuts to ensure they are appropriate:"
   ]
  },
  {
   "cell_type": "code",
   "execution_count": 5,
   "metadata": {
    "collapsed": false
   },
   "outputs": [
    {
     "name": "stdout",
     "output_type": "stream",
     "text": [
      "Press enter to continue\n",
      "Press enter to continue\n"
     ]
    }
   ],
   "source": [
    "cutPt={0: 0.18, 1: 0.21}\n",
    "for detNum, detName in detNames.iteritems():\n",
    "    gROOT.ProcessLine('AmBe{}->cd()'.format(detNum))\n",
    "    #gROOT.ProcessLine('eventTree->Draw(\"(m_amplitude-m_shape)/m_amplitude:m_amplitude>>(1250,0,35000,1024,0,1)\",\"(m_amplitude-m_shape)/m_amplitude<{}\",\"colz\")'.format(cutPt[detNum]))\n",
    "    pause()"
   ]
  },
  {
   "cell_type": "markdown",
   "metadata": {},
   "source": [
    "Now we can save the cuts.  This generates a gamma histogram and saves it to the current file."
   ]
  },
  {
   "cell_type": "code",
   "execution_count": 6,
   "metadata": {
    "collapsed": false
   },
   "outputs": [
    {
     "name": "stdout",
     "output_type": "stream",
     "text": [
      "Press enter to continue\n",
      "Press enter to continue\n"
     ]
    }
   ],
   "source": [
    "for detNum, detName in detNames.iteritems():\n",
    "    gROOT.ProcessLine('AmBe{}->cd()'.format(detNum))\n",
    "    gROOT.ProcessLine('eventTree->Draw(\"m_amplitude>>AmBeGamma(1250,0,35000)\",\"(m_amplitude-m_shape)/m_amplitude<{}\")'.format(cutPt[detNum]))\n",
    "    gROOT.ProcessLine('TH1F* AmBeData{0} = (TH1F*) AmBe{0}->Get(\"AmBeGamma\")'.format(detNum))\n",
    "    gROOT.ProcessLine('AmBe{0}->Write()'.format(detNum))\n",
    "    pause()\n",
    "    \n",
    "    gROOT.ProcessLine('{0}->cd()'.format(detName))\n",
    "    gROOT.ProcessLine('AmBeData{}->Write()'.format(detNum))\n",
    "    gROOT.ProcessLine('AmBe{}->Close()'.format(detNum))"
   ]
  },
  {
   "cell_type": "markdown",
   "metadata": {},
   "source": [
    "#### Option 2 (gaussian fitted PSD cuts):\n",
    "\n",
    "This cannot be run interactively since the software requires user inputs in the terminal and is a little finicky.  The process is described instead.  All statements following >>> are intended to be typed in a root terminal session in the folder with the root files.\n",
    "\n",
    "First, create the necessary object and start the fit for the calibration set of interest:\n",
    "\n",
    "\\>>>obj=DDaqPostProcessing(\"AmBe_003_ls_0.root\") <br\\>\n",
    "\\>>>obj.developFittedPSDCut()\n",
    "\n",
    "This will open a PSD plot and ask for a linear PSD cut. Determine what linear cut works at high PH and enter it.  **0.17 used for this analysis**\n",
    "\n",
    "It then asks for a PH above where mixing occurs.  Chose a PH channel where there is clearly no mixing.  **5000 used for this analysis**\n",
    "\n",
    "Next, enter a start bin # where there is PH data.  This is bin #, not channel #.  **80 used for this analysis**\n",
    "\n",
    "Finally enter a stop bin number where the fitting will stop.  This is bin #, not channel #.  **1500 used for this analysis**\n",
    "\n",
    "This spawns a fitting window for the two distributions.  If the fit is good, hit update, close, and type a letter into the terminal to continue.  If the fit is bad, manually adjust the parameters until a decent fit is obtained and hit fit.  Then update, close, and type a letter in the terminal. \n",
    "\n",
    "Now the spectra can be saved with:\n",
    "\n",
    "\\>>>obj.makeDualPhSpectra(\"AmBe_003_ls__0_fittedPSDCut.root\", true)\n",
    "\n",
    "The next cell takes that data and populate it into a root tree for calibration."
   ]
  },
  {
   "cell_type": "code",
   "execution_count": 3,
   "metadata": {
    "collapsed": false
   },
   "outputs": [],
   "source": [
    "detNames = {0: 'EJ309', 1: 'EJ299'}\n",
    "runNum =\"003\"\n",
    "\n",
    "for detNum, detName in detNames.iteritems():\n",
    "    gROOT.ProcessLine('TFile* cut{0} = new TFile(\"AmBe_{1}_ls_{0}_fittedPSDCut.root\")'.format(detNum, runNum))\n",
    "    gROOT.ProcessLine('TH1F* AmBeData{0} = (TH1F*) cut{0}->Get(\"PHGamWithCut_0\")'.format(detNum))     \n",
    "    gROOT.ProcessLine('AmBeData{0}->Rebin(20)'.format(detNum))        \n",
    "    gROOT.ProcessLine('TFile *{0} = new TFile(\"CalibData_{1}.root\",\"recreate\")'.format(detName, detNum))\n",
    "    gROOT.ProcessLine('AmBeData{0}->Write()'.format(detNum)) \n",
    "    \n",
    "    gROOT.ProcessLine('cut{}->Close()'.format(detNum))"
   ]
  },
  {
   "cell_type": "markdown",
   "metadata": {},
   "source": [
    "### Combine the Calibration Data Files\n",
    "\n",
    "Next, the experimental claibration files need to be combined into a single TFile for each channel. Only the pre-experimental calibration data set specified above is included.  \n",
    "\n",
    "This loops over all of the root trees in the directory and combines them by channel number.  It assumes that the standard DAQ naming format is used.  The first prefix assumes that the names of \"Co60\" and \"Cs137\" are used for the calibration data of those isotopes.\n",
    "\n",
    "The background measurements are also rebinned into the same structure for use in background subtraction.\n",
    "\n",
    "After each data set is read it, the script pauses to allow inspection of the histogram.  The user is prompted to hit <enter> to continue. The histograms are"
   ]
  },
  {
   "cell_type": "code",
   "execution_count": 4,
   "metadata": {
    "collapsed": false
   },
   "outputs": [
    {
     "name": "stdout",
     "output_type": "stream",
     "text": [
      "Adding:  Background_002_ls_0\n",
      "Press enter to continue\n",
      "Adding:  Co60_003_ls_1\n",
      "Press enter to continue\n",
      "Adding:  Background_002_ls_1\n",
      "Press enter to continue\n",
      "Adding:  Cs137_003_ls_0\n",
      "Press enter to continue\n",
      "Adding:  Co60_003_ls_0\n",
      "Press enter to continue\n",
      "Adding:  Cs137_003_ls_1\n",
      "Press enter to continue\n"
     ]
    }
   ],
   "source": [
    "exclude = [\"AmBe\", \"CalibData\"]   #File prefixes for the current calibration run to exclude\n",
    "tmpName = 'a'\n",
    "for filename in os.listdir(path):\n",
    "    name = os.path.splitext(filename)[0]\n",
    "    if filename.endswith(\".root\") and name.split('_')[1] == runNum: \n",
    "        if name.split('_')[0] not in exclude:\n",
    "            print \"Adding: \", name\n",
    "            gROOT.ProcessLine('TFile *{0} = new TFile(\"{1}.root\")'.format(tmpName, name))\n",
    "            gROOT.ProcessLine('eventTree->Draw(\"m_amplitude>>{0}(1250,0,35000)\")'.format(name.split('_')[0]))\n",
    "            \n",
    "            gROOT.ProcessLine('TH1F* {0}Data{1} = (TH1F*) {2}->Get(\"{0}Data\")'.format(name.split('_')[0], name.split('_')[3], tmpName))\n",
    "            gROOT.ProcessLine('{}->cd()'.format(detNames[int(name.split('_')[3])]))\n",
    "            gROOT.ProcessLine('{}->Write()'.format(name.split('_')[0]))            \n",
    "            \n",
    "            gROOT.ProcessLine('{}->Close()'.format(tmpName))\n",
    "            tmpName = chr(ord(tmpName) + 1)\n",
    "            pause() \n",
    "            \n",
    "    elif filename.endswith(\".root\") and name.split('_')[1] == \"002\" \\\n",
    "          and  name.split('_')[0] == \"Background\":\n",
    "        print \"Adding: \", name\n",
    "        gROOT.ProcessLine('TFile *{0} = new TFile(\"{1}.root\",\"update\")'.format(tmpName, name))\n",
    "        gROOT.ProcessLine('eventTree->Draw(\"m_amplitude>>rebin{0}(1250,0,35000)\")'.format(name.split('_')[3]))\n",
    "        gROOT.ProcessLine('{}->Write()'.format(tmpName)) \n",
    "        gROOT.ProcessLine('{}->Close()'.format(tmpName))\n",
    "        tmpName = chr(ord(tmpName) + 1)\n",
    "        pause()     "
   ]
  },
  {
   "cell_type": "code",
   "execution_count": 5,
   "metadata": {
    "collapsed": true
   },
   "outputs": [],
   "source": [
    "# Close all of the files\n",
    "for detNum, detName in detNames.iteritems():\n",
    "    gROOT.ProcessLine('{}->Close()'.format(detName))"
   ]
  },
  {
   "cell_type": "markdown",
   "metadata": {},
   "source": [
    "### Combine the Calibration Simulation Files\n",
    "\n",
    "Next, the simulated calibration files need to be combined into a single TFile.  These commands can be run through the python script, but it is probably easier to run from the command line, which is what was done.  \n",
    "\n",
    "**NOTE: Order matters!  This must be the same order as the data files above.** <br\\>\n",
    "**NOTE: These are run from the cmd line in the directory the files reside, not from within Root.**\n",
    "\n",
    "#### Commands to run: <br/>\n",
    "rootcp AmBeDeposition.root:AmBeDeposition CalibSim.root:AmBeSim <br/>\n",
    "rootcp NaCsCoGammas.root:Cs137 CalibSim.root:Cs137Sim <br/>\n",
    "rootcp CoDeposition.root:CoDeposition CalibSim.root:Co60Sim <br/>"
   ]
  },
  {
   "cell_type": "markdown",
   "metadata": {},
   "source": [
    "## 4) Perform Calibrations\n",
    "\n",
    "Simulation Based Calibrations\n",
    "\n",
    "Required:  <br/>\n",
    "1) Vector of pointers to histograms of data  <br/>\n",
    "2) Vector of pointers to histograms of simulations of that data in the same order  <br/>\n",
    "\n",
    "To run the calibrations, use the start16MeVTaCalibrations_<detNum>.cpp script located in the Calibrations folder.  \n",
    "\n",
    "**NOTE: The nsd-rootscripts repo contains an example that is similar but may differ. This script must be loaded first for both methods.**\n",
    "\n",
    "This script contains user variables that must be modified.  For this mode, two methods are used and require modifications to the script:\n",
    "\n",
    "1) startGuessSimCalib(): modify the file names <br/>\n",
    "2) startSimCalibration(): modify the file names and each of the parameters  <br/>\n",
    "\n",
    "It is recommended to use startGuessSimCalib() first; then use those parameters to use startSimCalibration with background subtraction.  However, if you have starting calibration and scale parameters, startSimCalibration() can be used without startGuessSimCalib().\n",
    "\n",
    "### Detector 0\n",
    "\n",
    "#### startGuessSimCalib\n",
    "\n",
    "First load the script and run the method for detector 0:"
   ]
  },
  {
   "cell_type": "code",
   "execution_count": 1,
   "metadata": {
    "collapsed": false
   },
   "outputs": [
    {
     "name": "stdout",
     "output_type": "stream",
     "text": [
      "Currently working in: \n",
      " /home/pyne-user/Dropbox/UCB/Research/ETAs/88Inch/Data/Experiments/PHS/16MeVTa/Calibration\n"
     ]
    },
    {
     "data": {
      "text/plain": [
       "0L"
      ]
     },
     "execution_count": 1,
     "metadata": {},
     "output_type": "execute_result"
    }
   ],
   "source": [
    "import os\n",
    "from ROOT import gROOT\n",
    "\n",
    "path = '/home/pyne-user/Dropbox/UCB/Research/ETAs/88Inch/Data/Experiments/PHS/16MeVTa/Calibration/'\n",
    "os.chdir(path)\n",
    "print 'Currently working in: \\n {}'.format(os.getcwd())\n",
    "\n",
    "gROOT.ProcessLine('.L start16MeVTaCalibration_0.cpp')"
   ]
  },
  {
   "cell_type": "markdown",
   "metadata": {},
   "source": [
    "Launch the gui:"
   ]
  },
  {
   "cell_type": "code",
   "execution_count": null,
   "metadata": {
    "collapsed": true
   },
   "outputs": [],
   "source": [
    "gROOT.ProcessLine('obj0=startGuessSimCalib()')"
   ]
  },
  {
   "cell_type": "markdown",
   "metadata": {},
   "source": [
    "Set the ranges and the good starting points using the GUI.\n",
    "\n",
    "Then run the optimization routine in the cell below. \n",
    "\n",
    "Repeat the cell below until satified with the fit.\n",
    "\n",
    "**NOTE: The plots should update.  From there, the ranges can be adjusted as necessary before running the optimization routine again. Ensure that no parameters are pegged to range limits.**"
   ]
  },
  {
   "cell_type": "code",
   "execution_count": null,
   "metadata": {
    "collapsed": false
   },
   "outputs": [],
   "source": [
    "gROOT.ProcessLine('obj0->findGammaCalibrationConstants()')"
   ]
  },
  {
   "cell_type": "markdown",
   "metadata": {},
   "source": [
    "The fit obtained was:\n",
    "\n",
    "<img src=\"Pics/16MeVTa_Det0PreCalib.png\">"
   ]
  },
  {
   "cell_type": "markdown",
   "metadata": {},
   "source": [
    "#### startSimCalib\n",
    "\n",
    "Perform a more thorough calibration using the parameters found from above.  A power law fit is used for the background subtraction."
   ]
  },
  {
   "cell_type": "code",
   "execution_count": 2,
   "metadata": {
    "collapsed": false
   },
   "outputs": [
    {
     "data": {
      "text/plain": [
       "108710976L"
      ]
     },
     "execution_count": 2,
     "metadata": {},
     "output_type": "execute_result"
    }
   ],
   "source": [
    "gROOT.ProcessLine('sim0=startSimCalibration()')"
   ]
  },
  {
   "cell_type": "code",
   "execution_count": null,
   "metadata": {
    "collapsed": true
   },
   "outputs": [],
   "source": [
    "gROOT.ProcessLine('sim0->findGammaCalibrationConstants()')"
   ]
  },
  {
   "cell_type": "code",
   "execution_count": null,
   "metadata": {
    "collapsed": true
   },
   "outputs": [],
   "source": [
    "gROOT.ProcessLine('std::vector<double> params0 = sim0->findGammaCalibrationConstants()')\n",
    "gROOT.ProcessLine('sim0->writeStateToDisk(\"CalibParams_0.txt\")')"
   ]
  },
  {
   "cell_type": "code",
   "execution_count": null,
   "metadata": {
    "collapsed": false
   },
   "outputs": [],
   "source": [
    "gROOT.ProcessLine('sim0->getMinimizer()->Hesse()')"
   ]
  },
  {
   "cell_type": "markdown",
   "metadata": {},
   "source": [
    "The calibration is saved as **CalibParams_0.txt**.  The fit obtained was:\n",
    "\n",
    "<img src=\"Pics/16MeVTa_Det0Calib.png\">\n",
    "\n",
    "##### The minimization results:\n",
    "\n",
    " EIGENVALUES OF SECOND-DERIVATIVE MATRIX: <br\\>\n",
    "-5.8039e-01 -1.0375e-01 -2.8904e-02 -7.3428e-03  1.8819e-02  8.1309e-02  1.2297e-01  4.0414e-01  5.3467e-01  <br\\> 6.8695e-01   7.5707e-01  9.5876e-01  9.9876e-01  2.3290e+00  2.6914e+00  3.3227e+00  4.8138e+00  <br\\>\n",
    "\n",
    "  EXT PARAMETER                APPROXIMATE     INTERNAL      INTERNAL  <br\\> \n",
    "  NO.   NAME      VALUE            ERROR       STEP SIZE       VALUE   <br\\> \n",
    "   1  a            4.97604e-04   1.58488e-07   2.40616e-04  -1.69623e-03 <br\\>\n",
    "   2  b            3.60000e-02   8.92676e-06   4.05357e-05   1.94604e-01 <br\\>\n",
    "   3  Ec           1.19007e-01   1.86845e-03   4.99390e-03  -4.79607e-02 <br\\>\n",
    "   4  E1           8.12814e-03   4.14634e-02   2.35286e-01  -1.20819e+00 <br\\>\n",
    "   5  E2           1.04545e-01   5.43622e-03   9.36350e-03   4.54633e-02 <br\\>\n",
    "   6  AmBeSim_scaler   1.31780e+05   4.95840e+02   2.00014e-03  -3.33170e-03 <br\\>\n",
    "   7  Cs137Sim_scaler   1.16570e+05   3.31345e+03   3.11698e-03   2.72993e-02 <br\\>\n",
    "   8  Co60Sim_scaler   9.65993e+04   1.16870e+03   2.00133e-03  -3.46083e-02 <br\\>\n",
    "   9  AmBeSim Power Law - Scalar   2.61975e-01   3.90060e-03   2.27460e-03  -4.96157e-01 <br\\>\n",
    "  10  AmBeSim Power Law - Exponent  -4.17833e+00   1.21088e-02   7.08312e-04   1.65083e-01 <br\\>\n",
    "  11  AmBeSim Constant Background   9.57997e-07   1.55151e+00   2.74117e-01  -1.57029e+00 <br\\>\n",
    "                                 WARNING -   - ABOVE PARAMETER IS AT LIMIT. <br\\>\n",
    "  12  Cs137Sim Power Law - Scalar   1.00040e-03   1.19114e-04   1.04099e-03  -1.50753e+00 <br\\>\n",
    "  13  Cs137Sim Power Law - Exponent  -3.01632e-06   3.08828e-01   6.30619e-02   1.56970e+00 <br\\>\n",
    "  14  Cs137Sim Constant Background   3.83217e+00   1.62571e+01   1.86779e-01  -7.66234e-01 <br\\>\n",
    "  15  Co60Sim Power Law - Scalar   6.68239e-04   2.37101e-05   1.02495e-03  -1.51909e+00 <br\\>\n",
    "  16  Co60Sim Power Law - Exponent  -3.87878e+00   4.50045e-02   2.05243e-03   2.26166e-01 <br\\>\n",
    "  17  Co60Sim Constant Background   1.53995e-04   3.50120e-01   9.76512e-02  -1.56525e+00 <br\\>\n",
    "  \n",
    " EXTERNAL ERROR MATRIX.    NDIM=  25    NPAR= 17    ERR DEF=1 <br\\>\n",
    " ELEMENTS ABOVE DIAGONAL ARE NOT PRINTED. <br\\>\n",
    "  2.512e-14  3.109e-13  2.757e-11  1.194e-09  1.713e-10 <br\\>\n",
    "  3.109e-13  7.969e-11 -4.391e-09  2.300e-07  4.077e-08 <br\\>\n",
    "  2.757e-11 -4.391e-09  3.491e-06 -3.323e-05 -1.840e-06 <br\\>\n",
    "  1.194e-09  2.300e-07 -3.323e-05  1.486e-03  7.653e-05 <br\\>\n",
    "  1.713e-10  4.077e-08 -1.840e-06  7.653e-05  2.958e-05  <br\\>\n",
    "\n",
    " PARAMETER  CORRELATION COEFFICIENTS   <br\\>\n",
    "       NO.  GLOBAL      1      2      3      4      5      6      7      8      9     10     11     12     13     14     15     16 <br\\>\n",
    "        1  0.40252   1.000  0.220  0.093  0.195  0.199  0.068 -0.218 -0.184 -0.002  0.041  0.061 -0.179 -0.162 -0.189 -0.178  0.097 <br\\>\n",
    "        2  0.99772   0.220  1.000 -0.263  0.668  0.840  0.077 -0.985 -0.952 -0.035 -0.044 -0.020 -0.901 -0.747 -0.952 -0.845  0.234 <br\\>\n",
    "        3  0.55990   0.093 -0.263  1.000 -0.461 -0.181  0.114  0.253  0.256 -0.060 -0.086 -0.052  0.246  0.198  0.260  0.223 -0.053 <br\\>\n",
    "        4  0.82500   0.195  0.668 -0.461  1.000  0.365  0.076 -0.648 -0.626 -0.036 -0.046 -0.022 -0.608 -0.501 -0.643 -0.572  0.163 <br\\>\n",
    "        5  0.89371   0.199  0.840 -0.181  0.365  1.000  0.051 -0.811 -0.799 -0.021 -0.024 -0.008 -0.774 -0.632 -0.817 -0.710  0.196 <br\\>\n",
    "        6  0.64605   0.068  0.077  0.114  0.076  0.051  1.000 -0.075 -0.070 -0.322 -0.338 -0.076 -0.068 -0.057 -0.072 -0.066  0.021 <br\\>\n",
    "        7  0.99094  -0.218 -0.985  0.253 -0.648 -0.811 -0.075  1.000  0.937  0.034  0.043  0.019  0.870  0.722  0.920  0.831 -0.231 <br\\>\n",
    "        8  0.96652  -0.184 -0.952  0.256 -0.626 -0.799 -0.070  0.937  1.000  0.033  0.042  0.020  0.857  0.711  0.906  0.733 -0.203 <br\\>\n",
    "        9  0.68565  -0.002 -0.035 -0.060 -0.036 -0.021 -0.322  0.034  0.033  1.000 -0.427 -0.065  0.032  0.026  0.034  0.030 -0.008 <br\\>\n",
    "       10  0.69741   0.041 -0.044 -0.086 -0.046 -0.024 -0.338  0.043  0.042 -0.427  1.000 -0.086  0.041  0.033  0.043  0.039 -0.009 <br\\>\n",
    "       11  0.29257   0.061 -0.020 -0.052 -0.022 -0.008 -0.076  0.019  0.020 -0.065 -0.086  1.000  0.019  0.015  0.020  0.018 -0.002 <br\\>\n",
    "       12  0.95388  -0.179 -0.901  0.246 -0.608 -0.774 -0.068  0.870  0.857  0.032  0.041  0.019  1.000  0.632  0.791  0.762 -0.210 <br\\>\n",
    "       13  0.80651  -0.162 -0.747  0.198 -0.501 -0.632 -0.057  0.722  0.711  0.026  0.033  0.015  0.632  1.000  0.680  0.632 -0.175 <br\\>\n",
    "       14  0.97907  -0.189 -0.952  0.260 -0.643 -0.817 -0.072  0.920  0.906  0.034  0.043  0.020  0.791  0.680  1.000  0.805 -0.222 <br\\>\n",
    "       15  0.92260  -0.178 -0.845  0.223 -0.572 -0.710 -0.066  0.831  0.733  0.030  0.039  0.018  0.762  0.632  0.805  1.000  0.069 <br\\>\n",
    "       16  0.63148   0.097  0.234 -0.053  0.163  0.196  0.021 -0.231 -0.203 -0.008 -0.009 -0.002 -0.210 -0.175 -0.222  0.069  1.000 <br\\>\n",
    "       17  0.11044  -0.015 -0.102  0.028 -0.069 -0.086 -0.008  0.100  0.089  0.004  0.005  0.003  0.092  0.076  0.097  0.080 -0.026 1.000  <br\\>"
   ]
  },
  {
   "cell_type": "code",
   "execution_count": 1,
   "metadata": {
    "collapsed": true
   },
   "outputs": [],
   "source": [
    "# Plot Resolution function\n",
    "gROOT.ProcessLine('TF1* resolution = sim0->getResolutionFunction()')\n",
    "gROOT.ProcessLine('TCanvas c2')\n",
    "gROOT.ProcessLine('resolution->Draw()')"
   ]
  },
  {
   "cell_type": "markdown",
   "metadata": {},
   "source": [
    "#### Resolution Function\n",
    "<img src=\"Pics/EJ309ResolutionFunct.png\">\n",
    "\n",
    "#### Resolution Function From Literature\n",
    "<img src=\"Pics/LitEJ309ResolutionFunct.png\">"
   ]
  },
  {
   "cell_type": "markdown",
   "metadata": {},
   "source": [
    "### Alternate Det0 Calibration\n",
    "Temporary alternate calibration.\n",
    "\n",
    "<img src=\"Pics/16MeVTa_Det0Calib2.png\">\n",
    "\n",
    " EIGENVALUES OF SECOND-DERIVATIVE MATRIX:\n",
    "        -3.0759e-03  1.2719e-01  1.9759e-01  2.0793e-01  3.4596e-01  4.0157e-01  5.4198e-01  6.1719e-01  7.5545e-01  1.0000e+00  1.0006e+00  1.0016e+00  1.0311e+00  1.8733e+00  2.2310e+00  2.6318e+00  3.0387e+00\n",
    "        \n",
    " FCN=3170.91 FROM HESSE     STATUS=NOT POSDEF    263 CALLS         264 TOTAL\n",
    "                     EDM=0.00827234    STRATEGY= 1      ERR MATRIX NOT POS-DEF\n",
    "  EXT PARAMETER                APPROXIMATE     INTERNAL      INTERNAL  \n",
    "  NO.   NAME      VALUE            ERROR       STEP SIZE       VALUE   \n",
    "   1  a            4.99392e-04   2.61350e-07   5.96087e-04   5.48462e-03\n",
    "   2  b            3.44937e-02   6.81879e-04   2.34356e-02   1.01778e-01\n",
    "   3  Ec           1.62957e-01   2.45847e-03   2.47154e-03   6.27625e-01\n",
    "   4  E1           4.00000e-02   1.06555e-02   4.52574e-01  -1.57041e+00\n",
    "                                 WARNING -   - ABOVE PARAMETER IS AT LIMIT.\n",
    "   5  E2           8.38129e-02   5.12539e-03   4.74086e-02   1.15792e-01\n",
    "   6  AmBeSim_scaler   1.57779e+05   7.30256e+02   7.07176e-03   4.01274e-01\n",
    "   7  Cs137Sim_scaler   1.06150e+05   7.48810e+02   5.43115e-03  -1.54531e-01\n",
    "   8  Co60Sim_scaler   1.02882e+05   5.41368e+02   5.93453e-03   9.33687e-02\n",
    "   9  AmBeSim Power Law - Scalar   2.30442e+00   3.59886e-01   6.00481e-03  -5.83258e-01\n",
    "  10  AmBeSim Power Law - Exponent  -5.81400e+00   1.43921e-01   2.00457e-03   6.65462e-02\n",
    "  11  AmBeSim Constant Background   9.53674e-10   5.34178e-04   5.00000e-01  -1.56884e+00\n",
    "  12  Cs137Sim Power Law - Scalar   8.92039e-04   1.38483e-05   7.82279e-03  -7.56485e-01\n",
    "  13  Cs137Sim Power Law - Exponent  -1.87808e+00   1.56142e-02   2.56125e-03   6.74344e-01\n",
    "  14  Cs137Sim Constant Background   4.76837e-05   5.40725e-02   5.82987e-02  -1.56884e+00\n",
    "  15  Co60Sim Power Law - Scalar   1.13544e-03   1.89486e-05   5.53583e-03  -6.93536e-01\n",
    "  16  Co60Sim Power Law - Exponent  -2.76858e+00   1.55693e-02   7.61762e-03   7.06892e-01\n",
    "  17  Co60Sim Constant Background   9.53674e-07   1.46444e-02   2.13453e-01  -1.56884e+00\n",
    "  \n",
    " EXTERNAL ERROR MATRIX.    NDIM=  25    NPAR= 17    ERR DEF=1\n",
    " ELEMENTS ABOVE DIAGONAL ARE NOT PRINTED.\n",
    "  6.830e-14 -1.186e-10  2.980e-10  6.584e-14 -2.401e-10  \n",
    " -1.186e-10  4.652e-07 -3.792e-07 -1.737e-10  1.220e-06\n",
    "  2.980e-10 -3.792e-07  6.046e-06 -5.924e-09 -2.584e-06  \n",
    "  6.584e-14 -1.737e-10 -5.924e-09  1.781e-10 -2.233e-08\n",
    " -2.401e-10  1.220e-06 -2.584e-06 -2.233e-08  2.631e-05 \n",
    "\n",
    " PARAMETER  CORRELATION COEFFICIENTS  \n",
    "       NO.  GLOBAL      1      2      3      4      5      6      7      8      9     10     11     12     13     14     15     16\n",
    "        1  0.79047   1.000 -0.665  0.464  0.019 -0.179  0.171 -0.139 -0.000 -0.116  0.106 -0.000  0.047  0.069 -0.000 -0.040  0.114\n",
    "        2  0.80065  -0.665  1.000 -0.226 -0.019  0.349 -0.059  0.285  0.161  0.095 -0.089  0.000 -0.051 -0.018 -0.001  0.024 -0.086\n",
    "        3  0.69163   0.464 -0.226  1.000 -0.181 -0.205  0.260 -0.047  0.060  0.312 -0.337  0.002  0.032  0.028 -0.001 -0.069  0.037\n",
    "        4  0.47525   0.019 -0.019 -0.181  1.000 -0.326 -0.000  0.006  0.018 -0.007  0.007 -0.000 -0.005  0.002  0.000 -0.028 -0.009\n",
    "        5  0.60355  -0.179  0.349 -0.205 -0.326  1.000 -0.048  0.317  0.082 -0.054  0.060 -0.000 -0.239  0.146  0.004 -0.027 -0.040\n",
    "        6  0.74545   0.171 -0.059  0.260 -0.000 -0.048  1.000 -0.004  0.026  0.060 -0.143  0.001  0.006  0.015 -0.000 -0.021  0.014\n",
    "        7  0.88429  -0.139  0.285 -0.047  0.006  0.317 -0.004  1.000  0.066  0.025 -0.024  0.000 -0.665  0.537  0.007 -0.012 -0.027\n",
    "        8  0.79402  -0.000  0.161  0.060  0.018  0.082  0.026  0.066  1.000  0.026 -0.027  0.000 -0.016  0.015 -0.000 -0.708  0.082\n",
    "        9  0.99694  -0.116  0.095  0.312 -0.007 -0.054  0.060  0.025  0.026  1.000 -0.993  0.006 -0.007 -0.006 -0.000 -0.024 -0.022\n",
    "       10  0.99703   0.106 -0.089 -0.337  0.007  0.060 -0.143 -0.024 -0.027 -0.993  1.000 -0.007  0.007  0.006  0.000  0.026  0.022\n",
    "       11  0.00665  -0.000  0.000  0.002 -0.000 -0.000  0.001  0.000  0.000  0.006 -0.007  1.000 -0.000 -0.000 -0.000 -0.000 -0.000\n",
    "       12  0.81344   0.047 -0.051  0.032 -0.005 -0.239  0.006 -0.665 -0.016 -0.007  0.007 -0.000  1.000 -0.028 -0.042  0.015  0.013\n",
    "       13  0.75018   0.069 -0.018  0.028  0.002  0.146  0.015  0.537  0.015 -0.006  0.006 -0.000 -0.028  1.000 -0.021 -0.014  0.003\n",
    "       14  0.05108  -0.000 -0.001 -0.001  0.000  0.004 -0.000  0.007 -0.000 -0.000  0.000 -0.000 -0.042 -0.021  1.000 -0.000 -0.000\n",
    "       15  0.79998  -0.040  0.024 -0.069 -0.028 -0.027 -0.021 -0.012 -0.708 -0.024  0.026 -0.000  0.015 -0.014 -0.000  1.000  0.264\n",
    "       16  0.50342   0.114 -0.086  0.037 -0.009 -0.040  0.014 -0.027  0.082 -0.022  0.022 -0.000  0.013  0.003 -0.000  0.264  1.000\n",
    "       17  0.04299   0.000  0.000  0.001  0.001  0.001  0.000  0.000  0.009  0.001 -0.001  0.000 -0.000  0.000  0.000 -0.032 -0.035\n",
    "                     1.000\n",
    "\n",
    "\n",
    "#### Resolution Function\n",
    "<img src=\"Pics/EJ309ResolutionFunct2.png\">"
   ]
  },
  {
   "cell_type": "markdown",
   "metadata": {},
   "source": [
    "### Detector 1\n",
    "\n",
    "** NOTE: This is just a placeholder as the simualtions are for EJ-309, not EJ-299. This can be updated once a repsonse matrix is obtained by copying the procedure above.**"
   ]
  },
  {
   "cell_type": "markdown",
   "metadata": {},
   "source": [
    "## 5) Experimental Data Acquisition:\n",
    "\n",
    "All current monitor data is stored in: **Bevins_2H16+1_1914_24FEB17** in the 16MeVTa/Data. \n",
    "\n",
    "The current was ~500 $\\mu$A. The current integrator was set to the 6E-7 Scale.  Two ~30 min runs were performed.\n",
    "\n",
    "### Run #1\n",
    "Start: 1922\n",
    "Current integrator reading is 0 <br\\>\n",
    "Stop: 1954 <br\\>\n",
    "Current integrator reading is 1459 <br\\>\n",
    "\n",
    "### Run #2\n",
    "Start: 1956 <br\\>\n",
    "Current integrator reading is 0 <br\\>\n",
    "Stop: 2027 <br\\>\n",
    "Current Integrator is 1370 <br\\>"
   ]
  },
  {
   "cell_type": "markdown",
   "metadata": {},
   "source": [
    "## 6) Pulse Height Spectrum Post-Processing:\n",
    "\n",
    "These steps convert the experimental data to root files, makes a TChain combining the run data, applys PSD cuts, and generates a heprow formatted .phs file for use in unfolding.  "
   ]
  },
  {
   "cell_type": "code",
   "execution_count": 1,
   "metadata": {
    "collapsed": false
   },
   "outputs": [
    {
     "name": "stdout",
     "output_type": "stream",
     "text": [
      "Currently working in: \n",
      " /home/pyne-user/Dropbox/UCB/Research/ETAs/88Inch/Data/Experiments/PHS/16MeVTa/Data\n"
     ]
    }
   ],
   "source": [
    "import sys\n",
    "import os\n",
    "from ROOT import gROOT\n",
    "\n",
    "sys.path.insert(0,os.path.abspath('/home/pyne-user/Dropbox/UCB/Computational_Tools/Scripts/Python/Support'))\n",
    "sys.path.insert(0,os.path.abspath('/home/pyne-user/Dropbox/UCB/Computational_Tools/Scripts/Python/Unfolding'))\n",
    "from Utilities import pause\n",
    "from Root import CalibParams\n",
    "calPath = '/home/pyne-user/Dropbox/UCB/Research/ETAs/88Inch/Data/Experiments/PHS/16MeVTa/Calibration/CalibParams_0.txt'\n",
    "\n",
    "path = '/home/pyne-user/Dropbox/UCB/Research/ETAs/88Inch/Data/Experiments/PHS/16MeVTa/Data/'\n",
    "os.chdir(path)\n",
    "print 'Currently working in: \\n {}'.format(os.getcwd())\n",
    "\n",
    "detNames = {0: 'EJ309'}#, 1: 'EJ299'}"
   ]
  },
  {
   "cell_type": "markdown",
   "metadata": {},
   "source": [
    "### Convert Data Files from Binary to Root"
   ]
  },
  {
   "cell_type": "code",
   "execution_count": 7,
   "metadata": {
    "collapsed": false
   },
   "outputs": [
    {
     "name": "stdout",
     "output_type": "stream",
     "text": [
      "Processing:  16MeVTaUnfoldingRun_001_ls_0.dat\n",
      "Processing:  16MeVTaUnfoldingRun_002_ls_0.dat\n",
      "Processing:  16MeVTaUnfoldingRun_002_ls_1.dat\n",
      "Processing:  16MeVTaUnfoldingRun_001_ls_1.dat\n"
     ]
    }
   ],
   "source": [
    "gROOT.ProcessLine('DPPBinaryParser parser;')\n",
    "\n",
    "for filename in os.listdir(path):\n",
    "    if filename.endswith(\".dat\"): \n",
    "        name = os.path.splitext(filename)[0]\n",
    "        print 'Processing: ', filename\n",
    "        gROOT.ProcessLine('parser.readDatFile(\"{0}.dat\", \"{0}.root\");'.format(name))"
   ]
  },
  {
   "cell_type": "markdown",
   "metadata": {},
   "source": [
    "### Make PSD Cuts\n",
    "\n",
    "To perform the unfolding, it is necessary to toss out the gamma data from the target data.   First, a non linear cut can be used since the compton edge is cleanly separated from the neutron band.  Second, a PSD cut based on a gaussian fitting of the neutron and gamma bands is used. \n",
    "\n",
    "**NOTE: The fitted PSD cut was used for all subsequent analysis in this notebook to cut out the gamma background at low PH and allow for a lower neutron energy threshold**\n",
    "\n",
    "Each of the gROOT commands can be copied and run directly in ROOT if desired.\n",
    "\n",
    "#### Option 1 (linear cut):\n",
    "\n",
    "Good until mixing occurs, which raises the minimum neutron energy that can be considered.\n",
    "\n",
    "First draw the PSD reducing the number of bins in both directions for the calibration run:"
   ]
  },
  {
   "cell_type": "code",
   "execution_count": null,
   "metadata": {
    "collapsed": false
   },
   "outputs": [],
   "source": [
    "# Plot each PSD\n",
    "for detNum, detName in detNames.iteritems():\n",
    "    gROOT.ProcessLine('TChain {0}(\"{0}\")'.format(detName))\n",
    "    gROOT.ProcessLine('{0}.Add(\"16MeVTaUnfoldingRun_*_ls_{1}.root/eventTree\")'.format(detName, detNum))\n",
    "    gROOT.ProcessLine('{0}.Draw(\"(m_amplitude-m_shape)/m_amplitude:m_amplitude>>(1000,0,50000,1024,0,1)\",\"\",\"colz\")'.format(detName))\n",
    "    gROOT.ProcessLine('{0}.ls()'.format(detName))\n",
    "    pause()"
   ]
  },
  {
   "cell_type": "markdown",
   "metadata": {},
   "source": [
    "This will open a PSD plot.  Right click and click SetShowProjectY.  This opens a new canvas.  On the original PSD canvas, you can select different projections which are plotted on the right.  Use this to find the location of the minima between the neutron and gamma band. The cuts were then deveoped by fitting the curve of the gap between the distributions.  \n",
    "\n",
    "In this case it is $2.28E-19*ch^4 - 2.07E-14*ch^3 + 6.89E-10*ch^2 - 1.01E-05*ch + 0.206$ for channel 0 (EJ-309). All channels below 400 were also cut.  \n",
    "\n",
    "In this case it is $2.96E-19*ch^4 - 2.52E-14*ch^3 + 7.47E-10*ch^2 - 8.97E-06*ch + 0.236$ for channel 1 (EJ-299). All channels below 500 were also cut.  \n",
    "\n",
    "You can now view those cuts to ensure they are appropriate:"
   ]
  },
  {
   "cell_type": "code",
   "execution_count": 4,
   "metadata": {
    "collapsed": false
   },
   "outputs": [
    {
     "name": "stdout",
     "output_type": "stream",
     "text": [
      "Press enter to continue\n"
     ]
    }
   ],
   "source": [
    "cutLine = {0: \"2.28E-19*m_amplitude^4 - 2.07E-14*m_amplitude^3 + 6.89E-10*m_amplitude^2 - 1.01E-05*m_amplitude + 0.206\",\n",
    "           1: \"2.96E-19*m_amplitude^4 - 2.52E-14*m_amplitude^3 + 7.47E-10*m_amplitude^2 - 8.97E-06*m_amplitude + 0.236\"}\n",
    "cutCh = {0: 400, 1: 500}\n",
    "\n",
    "for detNum, detName in detNames.iteritems():\n",
    "    #gROOT.ProcessLine('{0}.Draw(\"(m_amplitude-m_shape)/m_amplitude:m_amplitude>>(1000,0,50000,1024,0,1)\",\"(m_amplitude-m_shape)/m_amplitude>{1} && m_amplitude>{2}\",\"colz\")'.format(detName, cutLine[detNum], cutCh[detNum]))\n",
    "    pause()"
   ]
  },
  {
   "cell_type": "markdown",
   "metadata": {},
   "source": [
    "##### Save the Cuts\n",
    "\n",
    "Generates a 1D neutron pulse height histogram and saves it to the current file."
   ]
  },
  {
   "cell_type": "code",
   "execution_count": 5,
   "metadata": {
    "collapsed": false
   },
   "outputs": [
    {
     "name": "stdout",
     "output_type": "stream",
     "text": [
      "Press enter to continue\n"
     ]
    }
   ],
   "source": [
    "for detNum, detName in detNames.iteritems():\n",
    "    gROOT.ProcessLine('TFile *tmp{0} = new TFile(\"{1}psdCutTgt{2}.root\",\"recreate\")'.format(detNum, path, str(detNum)))\n",
    "    gROOT.ProcessLine('{0}.Draw(\"m_amplitude>>{0}Neutron(500,0,50000)\",\"(m_amplitude-m_shape)/m_amplitude>{1} && m_amplitude>{2}\",\"colz\")'.format(detName, cutLine[detNum], cutCh[detNum]))\n",
    "    gROOT.ProcessLine('tmp{0}->Write()'.format(str(detNum)))\n",
    "    pause()"
   ]
  },
  {
   "cell_type": "markdown",
   "metadata": {},
   "source": [
    "#### Option 2 (gaussian fitted PSD cuts):\n",
    "\n",
    "This cannot be run interactively since the software requires user inputs in the terminal and is a little finicky.  The process is described instead.  All statements following >>> are intended to be typed in a root terminal session in the folder with the root files. Each step lists the values used for each channel in the format (ch 0, ch1, ..., ch N)\n",
    "\n",
    "First, combine all of the data files for a given detector into one file: "
   ]
  },
  {
   "cell_type": "code",
   "execution_count": 2,
   "metadata": {
    "collapsed": true
   },
   "outputs": [],
   "source": [
    "detNames = {0: 'EJ309'}#, 1: 'EJ299'}\n",
    "runNums = {1: '001', 2: '002'}  # run numbers to combine in a single file\n",
    "\n",
    "gROOT.ProcessLine('ScintillatorEvent *event   = new ScintillatorEvent();')\n",
    "print \"one\"\n",
    "for detNum, detName in detNames.iteritems():\n",
    "    for runNum, runName in runNums.iteritems():\n",
    "        gROOT.ProcessLine('TFile *oldfile{0} = new TFile(\"16MeVTaUnfoldingRun_{0}_ls_{1}.root\");'.format(runName,detNum))\n",
    "        gROOT.ProcessLine('TTree *oldtree{0} = (TTree*)oldfile{0}->Get(\"eventTree\");'.format(runName))\n",
    "        gROOT.ProcessLine('oldtree{0}->SetBranchAddress(\"ScintillatorEvent\",&event);'.format(runName))\n",
    "        gROOT.ProcessLine('oldtree{0}->SetBranchStatus(\"*\",1);'.format(runName))\n",
    "    print \"two\"\n",
    "    gROOT.ProcessLine('TFile *newfile{0} = new TFile(\"allRunData_{0}.root\",\"recreate\");'.format(detNum))\n",
    "    gROOT.ProcessLine('TList *tmplist{0} = new TList;'.format(detNum))\n",
    "    print \"three\"\n",
    "    for runNum, runName in runNums.iteritems():\n",
    "        gROOT.ProcessLine('TTree *newtree{0} = oldtree{0}->CloneTree();'.format(runName))\n",
    "        gROOT.ProcessLine('tmplist{0}->Add(newtree{1});'.format(detNum,runName))\n",
    "    print \"four\"   \n",
    "    gROOT.ProcessLine('TTree *newtree{0} = TTree::MergeTrees(tmplist{0});'.format(detNum))\n",
    "    gROOT.ProcessLine('newtree{0}->SetName(\"eventTree\");'.format(detNum))\n",
    "    gROOT.ProcessLine('newfile{0}->Write();'.format(detNum))\n",
    "    gROOT.ProcessLine('eventTree->Draw(\"(m_amplitude-m_shape)/m_amplitude:m_amplitude>>(500,0,50000,1024,0,1)\",\"\",\"colz\")')\n",
    "\n",
    "    for runNum, runName in runNums.iteritems():\n",
    "        gROOT.ProcessLine('delete oldfile{0};'.format(runName))\n",
    "    gROOT.ProcessLine('newfile{0}->Close()'.format(detNum))"
   ]
  },
  {
   "cell_type": "markdown",
   "metadata": {},
   "source": [
    "The complete data set for Detector 0:\n",
    "<img src=\"Pics/16MeVTa_Det0Data.png\">\n",
    "\n",
    "Next, create the necessary object and start the fit for the calibration set of interest:\n",
    "\n",
    "\\>>>obj=DDaqPostProcessing(\"allRunData_0.root\") <br\\>\n",
    "\\>>>obj.developFittedPSDCut()\n",
    "\n",
    "This will open a PSD plot and ask for a linear PSD cut. Determine what linear cut works at high PH and enter it.  **(0.15) used for this analysis**\n",
    "\n",
    "It then asks for a PH above where mixing occurs.  Chose a PH channel where there is clearly no mixing.  **(10000) used for this analysis**\n",
    "\n",
    "Next, enter a start bin # where there is PH data.  This is bin #, not channel #.  **(80) used for this analysis**\n",
    "\n",
    "Finally enter a stop bin number where the fitting will stop.  This is bin #, not channel #.  **(2200) used for this analysis**\n",
    "\n",
    "This spawns a fitting window for the two distributions.  If the fit is good, hit update, close, and type a letter into the terminal to continue.  If the fit is bad, manually adjust the parameters until a decent fit is obtained and hit fit.  Then update, close, and type a letter in the terminal. \n",
    "\n",
    "Now the spectra can be saved with:\n",
    "\n",
    "\\>>>obj.makeDualPhSpectra(\"allRunData_0_fittedPSDCut.root\", true)\n",
    "\n",
    "The next cell takes that data and populate it into a root tree for calibration."
   ]
  },
  {
   "cell_type": "markdown",
   "metadata": {},
   "source": [
    "### Apply Calibrations\n",
    "\n",
    "params.a is the slope of the calibration <br\\>\n",
    "params.b is the intercept of the calibration"
   ]
  },
  {
   "cell_type": "code",
   "execution_count": 2,
   "metadata": {
    "collapsed": false
   },
   "outputs": [
    {
     "name": "stdout",
     "output_type": "stream",
     "text": [
      "Press enter to continue\n"
     ]
    }
   ],
   "source": [
    "params = CalibParams(calPath)\n",
    "\n",
    "gROOT.ProcessLine('HistogramOperations ops')\n",
    "\n",
    "for detNum, detName in detNames.iteritems():\n",
    "    gROOT.ProcessLine('vector<TH1*> phs{0} = ops.loadHistograms(\"allRunData_{0}_fittedPSDCut.root\")'.format(detNum))\n",
    "    gROOT.ProcessLine('ops.applyCalibration(phs{0}[1],{1},{2})'.format(detNum, params.a, params.b))\n",
    "    gROOT.ProcessLine('TFile *tgt{0} = new TFile(\"allRunData_{0}_calibFittedPSDCut.root\",\"recreate\")'.format(detNum))\n",
    "    gROOT.ProcessLine('phs{0}[1]->Rebin(20)'.format(detNum))\n",
    "    gROOT.ProcessLine('phs{0}[1]->Draw()'.format(detNum))    \n",
    "    gROOT.ProcessLine('phs{0}[1]->Write()'.format(str(detNum)))\n",
    "    pause()"
   ]
  },
  {
   "cell_type": "markdown",
   "metadata": {},
   "source": [
    "<img src=\"Pics/CalibPHS_0.png\">"
   ]
  },
  {
   "cell_type": "markdown",
   "metadata": {},
   "source": [
    "### Generate the HEPROW .phs file\n",
    "\n",
    "Find the first bin with non tuncated data.  Due the nonlinear threshold a low PH, the low PH bins will be truncated and should not be used.  This is best done visually with the plot generated immediately above in combination with the full PSD plot.  The following commands can be usedful for finding the lower bin edge for the peak bin (the values in the commands are the ones used for further analysis):\n",
    "\n",
    "\\>>>TFile f(\"allRunData_0_calibFittedPSDCut.root\")\n",
    "\\>>>PHNeuWithCut_0->GetBinContent(5)\n",
    "\\>>>PHNeuWithCut_0->GetXaxis()->GetBinLowEdge(5)\n",
    "\n",
    "If necessary, choose a rebin number to get the desired MeVee/bin.  In this case, the rebinning to get ~ 0.05 MeVee/bin was done above.  \n",
    "\n",
    "Rebin to stastically significant bins and print .phs file."
   ]
  },
  {
   "cell_type": "code",
   "execution_count": 3,
   "metadata": {
    "collapsed": false
   },
   "outputs": [],
   "source": [
    "rebin = 1\n",
    "truncate = {0: 2.350416e-01, 1: 2.729744e-01}\n",
    "outPath = \"/home/pyne-user/Dropbox/UCB/Research/ETAs/88Inch/Data/Experiments/PHS/16MeVTa/Unfold/HEPROW/Inputs/\"\n",
    "\n",
    "gROOT.ProcessLine('HistogramWriter writer;')\n",
    "\n",
    "for detNum, detName in detNames.iteritems():\n",
    "    gROOT.ProcessLine('PulseHeightSpectrum{0} = (TH1D*)ops.truncateHist(phs{0}[1],{1},17)'.format(detNum, truncate[detNum]))\n",
    "    gROOT.ProcessLine('PulseHeightSpectrum{0}->Rebin({1})'.format(detNum, rebin))\n",
    "    gROOT.ProcessLine('TH1* dataHist{0} = ops.rebinStatistically(PulseHeightSpectrum{0},100);'.format(detNum))\n",
    "    gROOT.ProcessLine('writer.PhToHEPROW(PulseHeightSpectrum{0},\"{1}{2}_16MeVTa_phs_05\")'.format(detNum, outPath, detName))\n",
    "    gROOT.ProcessLine('writer.PhToHEPROW(dataHist{0},\"{1}{2}_16MeVTa_stat_100_phs_05\")'.format(detNum, outPath, detName))"
   ]
  },
  {
   "cell_type": "markdown",
   "metadata": {
    "collapsed": true
   },
   "source": [
    "## 7) EJ309 (tgt0) Spectrum Unfolding\n",
    "\n",
    "From here forward, the rest of the notebook is on a detector by detector basis.\n",
    "\n",
    "### Generate 1 MeV EJ309 Response Matrix\n",
    "\n",
    "#### Load the simulated respose matrix"
   ]
  },
  {
   "cell_type": "code",
   "execution_count": 1,
   "metadata": {
    "collapsed": false
   },
   "outputs": [
    {
     "name": "stdout",
     "output_type": "stream",
     "text": [
      "Currently working in: \n",
      " /home/pyne-user/Dropbox/UCB/Research/ETAs/88Inch/Data/Experiments/PHS/16MeVTa/Unfold/HEPROW/Inputs\n"
     ]
    },
    {
     "data": {
      "text/plain": [
       "47599387406568L"
      ]
     },
     "execution_count": 1,
     "metadata": {},
     "output_type": "execute_result"
    }
   ],
   "source": [
    "import os\n",
    "import sys\n",
    "from ROOT import gROOT\n",
    "import numpy as np\n",
    "\n",
    "sys.path.insert(0,os.path.abspath('/home/pyne-user/Dropbox/UCB/Computational_Tools/Scripts/Python/Unfolding'))\n",
    "from Root import CalibParams\n",
    "\n",
    "outPath = '/home/pyne-user/Dropbox/UCB/Research/ETAs/88Inch/Data/Experiments/PHS/16MeVTa/Unfold/HEPROW/Inputs/'\n",
    "os.chdir(outPath)\n",
    "print 'Currently working in: \\n {}'.format(os.getcwd())\n",
    "\n",
    "rspPath= '/home/pyne-user/Dropbox/UCB/Research/ETAs/88Inch/Data/Simulated/PHS/ResponseMatrices/simSideResponse20Mil.root'\n",
    "calPath = '/home/pyne-user/Dropbox/UCB/Research/ETAs/88Inch/Data/Experiments/PHS/16MeVTa/Calibration/CalibParams_0.txt'\n",
    "\n",
    "gROOT.ProcessLine('SimulationManipulation sm(\"{}\",0)'.format(rspPath))\n",
    "gROOT.ProcessLine('HistogramOperations ops')\n",
    "gROOT.ProcessLine('HistogramWriter writer;')"
   ]
  },
  {
   "cell_type": "markdown",
   "metadata": {},
   "source": [
    "#### Response Matrix Binning\n",
    "\n",
    "rspEwidth = the width of bins to use for the binning of the response matrix energy <br/>\n",
    "rspEmin = the minimum Energy to use for the binning of the response matrix  <br/>\n",
    "rspEmax = the maximum Energy to use for the binning of the response matrix  <br/>\n",
    "rspLwidth = the width of bins to use for the binning of the response matrix light <br/>\n",
    "rspLmin = the minimum Light to use for the binning of the response matrix  <br/>\n",
    "rspLmax = the maximum Light to use for the binning of the response matrix  <br/>"
   ]
  },
  {
   "cell_type": "code",
   "execution_count": 2,
   "metadata": {
    "collapsed": true
   },
   "outputs": [],
   "source": [
    "rspEwidth=1\n",
    "rspEmin=0\n",
    "rspEmax=30\n",
    "rspLwidth=0.05\n",
    "rspLmin=0.0\n",
    "rspLmax=20.0"
   ]
  },
  {
   "cell_type": "markdown",
   "metadata": {},
   "source": [
    "#### Create the bin structures and print .rsp file"
   ]
  },
  {
   "cell_type": "code",
   "execution_count": 3,
   "metadata": {
    "collapsed": false
   },
   "outputs": [
    {
     "data": {
      "text/plain": [
       "0L"
      ]
     },
     "execution_count": 3,
     "metadata": {},
     "output_type": "execute_result"
    }
   ],
   "source": [
    "# Create the bin structures\n",
    "rspEbins=np.arange(rspEmin,rspEmax,rspEwidth)\n",
    "rspEbins=np.append(rspEbins,rspEmax)\n",
    "#print rspEbins\n",
    "rspLbins=np.arange(rspLmin,rspLmax,rspLwidth)\n",
    "rspLbins=np.append(rspLbins,rspLmax)\n",
    "#print rspLbins\n",
    "gROOT.ProcessLine('const Int_t EBINS = {}; const Int_t LBINS = {};'.format(len(rspEbins)-1,len(rspLbins)-1))\n",
    "gROOT.ProcessLine('Double_t eEdges[EBINS + 1] = {}{}{};'.format(\"{\",\", \".join(str(e) for e in rspEbins),\"}\"))\n",
    "gROOT.ProcessLine('Double_t lEdges[LBINS + 1] = {}{}{};'.format(\"{\",\", \".join(str(e) for e in rspLbins),\"}\"))\n",
    "gROOT.ProcessLine('axis1 = TAxis(EBINS,eEdges);')\n",
    "gROOT.ProcessLine('axis2 = TAxis(LBINS,lEdges);')\n",
    "\n",
    "# Create the Histogram and output file\n",
    "gROOT.ProcessLine('TH2* matrix1=sm.getNormalizedResponseMatrix(axis1,axis2)')\n",
    "gROOT.ProcessLine('matrix1->Draw(\"colz\")')\n",
    "gROOT.ProcessLine('writer.ResponseToHEPROW(matrix1,\"EJ309_resp_05_1\")')"
   ]
  },
  {
   "cell_type": "markdown",
   "metadata": {},
   "source": [
    "#### Smear the Response Matrix and Create the .rsp File\n",
    "\n",
    "This requires the params variable to be defined. The cells can be found in the Calibration section and reran if the kernel has restarted. "
   ]
  },
  {
   "cell_type": "code",
   "execution_count": 4,
   "metadata": {
    "collapsed": false
   },
   "outputs": [
    {
     "data": {
      "text/plain": [
       "0L"
      ]
     },
     "execution_count": 4,
     "metadata": {},
     "output_type": "execute_result"
    }
   ],
   "source": [
    "params = CalibParams(calPath)\n",
    "\n",
    "gROOT.ProcessLine('TH2* smearMatrix1 = ops.skewedGausSmearMatrix(matrix1, {}, {}, {})'.format(params.alpha, params.beta, params.gamma))\n",
    "gROOT.ProcessLine('smearMatrix1->Draw(\"colz\")')\n",
    "gROOT.ProcessLine('writer.ResponseToHEPROW(smearMatrix1,\"EJ309_smearedResp_05_1\")')"
   ]
  },
  {
   "cell_type": "markdown",
   "metadata": {},
   "source": [
    "<img src=\"Pics/1MeVSmearedResp.png\">"
   ]
  },
  {
   "cell_type": "markdown",
   "metadata": {
    "collapsed": true
   },
   "source": [
    "### Generate 0.5 MeV EJ309 Response Matrix\n",
    "\n",
    "#### Load the simulated respose matrix\n",
    "\n",
    "The kernel must be restarted for this section to work."
   ]
  },
  {
   "cell_type": "code",
   "execution_count": 1,
   "metadata": {
    "collapsed": false
   },
   "outputs": [
    {
     "ename": "ImportError",
     "evalue": "cannot import name calibParams",
     "output_type": "error",
     "traceback": [
      "\u001b[1;31m---------------------------------------------------------------------------\u001b[0m",
      "\u001b[1;31mImportError\u001b[0m                               Traceback (most recent call last)",
      "\u001b[1;32m<ipython-input-1-64dd40ad0351>\u001b[0m in \u001b[0;36m<module>\u001b[1;34m()\u001b[0m\n\u001b[0;32m      5\u001b[0m \u001b[1;33m\u001b[0m\u001b[0m\n\u001b[0;32m      6\u001b[0m \u001b[0msys\u001b[0m\u001b[1;33m.\u001b[0m\u001b[0mpath\u001b[0m\u001b[1;33m.\u001b[0m\u001b[0minsert\u001b[0m\u001b[1;33m(\u001b[0m\u001b[1;36m0\u001b[0m\u001b[1;33m,\u001b[0m\u001b[0mos\u001b[0m\u001b[1;33m.\u001b[0m\u001b[0mpath\u001b[0m\u001b[1;33m.\u001b[0m\u001b[0mabspath\u001b[0m\u001b[1;33m(\u001b[0m\u001b[1;34m'/home/pyne-user/Dropbox/UCB/Computational_Tools/Scripts/Python/Unfolding'\u001b[0m\u001b[1;33m)\u001b[0m\u001b[1;33m)\u001b[0m\u001b[1;33m\u001b[0m\u001b[0m\n\u001b[1;32m----> 7\u001b[1;33m \u001b[1;32mfrom\u001b[0m \u001b[0mRoot\u001b[0m \u001b[1;32mimport\u001b[0m \u001b[0mcalibParams\u001b[0m\u001b[1;33m\u001b[0m\u001b[0m\n\u001b[0m\u001b[0;32m      8\u001b[0m \u001b[1;33m\u001b[0m\u001b[0m\n\u001b[0;32m      9\u001b[0m \u001b[0moutPath\u001b[0m \u001b[1;33m=\u001b[0m \u001b[1;34m'/home/pyne-user/Dropbox/UCB/Research/ETAs/88Inch/Data/Experiments/PHS/16MeVTa/Unfold/HEPROW/Inputs/'\u001b[0m\u001b[1;33m\u001b[0m\u001b[0m\n",
      "\u001b[1;31mImportError\u001b[0m: cannot import name calibParams"
     ]
    }
   ],
   "source": [
    "import os\n",
    "import sys\n",
    "from ROOT import gROOT\n",
    "import numpy as np\n",
    "\n",
    "sys.path.insert(0,os.path.abspath('/home/pyne-user/Dropbox/UCB/Computational_Tools/Scripts/Python/Unfolding'))\n",
    "from Root import CalibParams\n",
    "\n",
    "outPath = '/home/pyne-user/Dropbox/UCB/Research/ETAs/88Inch/Data/Experiments/PHS/16MeVTa/Unfold/HEPROW/Inputs/'\n",
    "os.chdir(outPath)\n",
    "print 'Currently working in: \\n {}'.format(os.getcwd())\n",
    "\n",
    "rspPath=\"/home/pyne-user/Dropbox/UCB/Research/ETAs/88Inch/Data/Simulated/PHS/ResponseMatrices/simSideResponse20Mil.root\"\n",
    "calPath = '/home/pyne-user/Dropbox/UCB/Research/ETAs/88Inch/Data/Experiments/PHS/16MeVTa/Calibration/CalibParams_0.txt'\n",
    "\n",
    "gROOT.ProcessLine('SimulationManipulation sm(\"{}\",0)'.format(rspPath))\n",
    "gROOT.ProcessLine('HistogramOperations ops')\n",
    "gROOT.ProcessLine('HistogramWriter writer;')"
   ]
  },
  {
   "cell_type": "markdown",
   "metadata": {},
   "source": [
    "#### Response Matrix Binning\n",
    "\n",
    "rspEwidth = the width of bins to use for the binning of the response matrix energy <br/>\n",
    "rspEmin = the minimum Energy to use for the binning of the response matrix  <br/>\n",
    "rspEmax = the maximum Energy to use for the binning of the response matrix  <br/>\n",
    "rspLwidth = the width of bins to use for the binning of the response matrix light <br/>\n",
    "rspLmin = the minimum Light to use for the binning of the response matrix  <br/>\n",
    "rspLmax = the maximum Light to use for the binning of the response matrix  <br/>"
   ]
  },
  {
   "cell_type": "code",
   "execution_count": 3,
   "metadata": {
    "collapsed": true
   },
   "outputs": [],
   "source": [
    "rspEwidth=0.5\n",
    "rspEmin=1.25\n",
    "rspEmax=24.25\n",
    "rspLwidth=0.05\n",
    "rspLmin=0.0\n",
    "rspLmax=17.0"
   ]
  },
  {
   "cell_type": "markdown",
   "metadata": {},
   "source": [
    "#### Create the bin structures and print .rsp file"
   ]
  },
  {
   "cell_type": "code",
   "execution_count": 4,
   "metadata": {
    "collapsed": false
   },
   "outputs": [
    {
     "data": {
      "text/plain": [
       "0L"
      ]
     },
     "execution_count": 4,
     "metadata": {},
     "output_type": "execute_result"
    }
   ],
   "source": [
    "# Create the bin structures\n",
    "rspEbins=np.arange(rspEmin,rspEmax,rspEwidth)\n",
    "rspEbins=np.append(rspEbins,rspEmax)\n",
    "#print rspEbins\n",
    "rspLbins=np.arange(rspLmin,rspLmax,rspLwidth)\n",
    "rspLbins=np.append(rspLbins,rspLmax)\n",
    "#print rspLbins\n",
    "gROOT.ProcessLine('const Int_t EBINS = {}; const Int_t LBINS = {};'.format(len(rspEbins)-1,len(rspLbins)-1))\n",
    "gROOT.ProcessLine('Double_t eEdges[EBINS + 1] = {}{}{};'.format(\"{\",\", \".join(str(e) for e in rspEbins),\"}\"))\n",
    "gROOT.ProcessLine('Double_t lEdges[LBINS + 1] = {}{}{};'.format(\"{\",\", \".join(str(e) for e in rspLbins),\"}\"))\n",
    "gROOT.ProcessLine('axis1 = TAxis(EBINS,eEdges);')\n",
    "gROOT.ProcessLine('axis2 = TAxis(LBINS,lEdges);')\n",
    "\n",
    "# Create the Histogram and output file\n",
    "gROOT.ProcessLine('TH2* matrix50=sm.getNormalizedResponseMatrix(axis1,axis2)')\n",
    "gROOT.ProcessLine('matrix50->Draw(\"colz\")')\n",
    "gROOT.ProcessLine('writer.ResponseToHEPROW(matrix50,\"EJ309_resp_05_50_offset\")')"
   ]
  },
  {
   "cell_type": "markdown",
   "metadata": {},
   "source": [
    "#### Smear the Response Matrix and Create the .rsp File\n",
    "\n",
    "This requires the params variable to be defined. The cells can be found in the Calibration section and reran if the kernel has restarted. "
   ]
  },
  {
   "cell_type": "code",
   "execution_count": 5,
   "metadata": {
    "collapsed": false
   },
   "outputs": [
    {
     "data": {
      "text/plain": [
       "0L"
      ]
     },
     "execution_count": 5,
     "metadata": {},
     "output_type": "execute_result"
    }
   ],
   "source": [
    "params = calibParams(calPath)\n",
    "\n",
    "gROOT.ProcessLine('TH2* smearMatrix50 = ops.skewedGausSmearMatrix(matrix50, {}, {}, {})'.format(params.alpha, params.beta, params.gamma))\n",
    "gROOT.ProcessLine('smearMatrix50->Draw(\"colz\")')\n",
    "gROOT.ProcessLine('writer.ResponseToHEPROW(smearMatrix50,\"EJ309_smearedResp_05_50_off\")'"
   ]
  },
  {
   "cell_type": "markdown",
   "metadata": {},
   "source": [
    "### NSD Unfold - EJ309\n",
    "\n",
    "The 16MevTaUnfold.cpp script must be updated manually with the following items:\n",
    "\n",
    "1) The desired bin structure (numBins, lowE, highE)\n",
    "2) The calibration parameters <br\\>\n",
    "3) The covariance matrix for the calibration parameters <br\\>\n",
    "4) The output file path <br\\>\n",
    "\n",
    "#### Detector 0 (EJ-309), 1 MeV Bins:"
   ]
  },
  {
   "cell_type": "code",
   "execution_count": 1,
   "metadata": {
    "collapsed": false
   },
   "outputs": [
    {
     "name": "stdout",
     "output_type": "stream",
     "text": [
      "Currently working in: \n",
      " /home/pyne-user/Dropbox/UCB/Research/ETAs/88Inch/Data/Experiments/PHS/16MeVTa/Unfold/NSD\n"
     ]
    }
   ],
   "source": [
    "import os\n",
    "import sys\n",
    "from ROOT import gROOT\n",
    "\n",
    "path='/home/pyne-user/Dropbox/UCB/Research/ETAs/88Inch/Data/Experiments/PHS/16MeVTa/Unfold/NSD/'\n",
    "os.chdir(path)\n",
    "print 'Currently working in: \\n {}'.format(os.getcwd())"
   ]
  },
  {
   "cell_type": "code",
   "execution_count": null,
   "metadata": {
    "collapsed": false
   },
   "outputs": [],
   "source": [
    "gROOT.ProcessLine('.L 16MeVTaMCUnfold_1.cpp')\n",
    "gROOT.ProcessLine('runMCUnfold()')\n",
    "gROOT.ProcessLine('HistogramWriter writer')\n",
    "gROOT.ProcessLine('writer.Th1ToAsciiError(meanResultHisto,\"16MeVTa_NSDUnfold_1\")')"
   ]
  },
  {
   "cell_type": "markdown",
   "metadata": {},
   "source": [
    "<img src=\"Unfold/NSD/16MeVTa_NSDUnfold_1.png\">\n",
    "\n",
    "#### Detector 0 (EJ-309), 0.5 MeV Bins:"
   ]
  },
  {
   "cell_type": "code",
   "execution_count": 4,
   "metadata": {
    "collapsed": false
   },
   "outputs": [
    {
     "name": "stderr",
     "output_type": "stream",
     "text": [
      "TH1D::Rebin:0: RuntimeWarning: ngroup=2 is not an exact divider of nbins=347.\n"
     ]
    },
    {
     "data": {
      "text/plain": [
       "0L"
      ]
     },
     "execution_count": 4,
     "metadata": {},
     "output_type": "execute_result"
    }
   ],
   "source": [
    "gROOT.ProcessLine('.L 16MeVTaMCUnfold_50.cpp')\n",
    "gROOT.ProcessLine('runMCUnfold()')\n",
    "gROOT.ProcessLine('HistogramWriter writer')\n",
    "gROOT.ProcessLine('writer.Th1ToAsciiError(meanResultHisto,\"16MeVTa_NSDUnfold_50\")')"
   ]
  },
  {
   "cell_type": "markdown",
   "metadata": {},
   "source": [
    "<img src=\"Unfold/NSD/16MeVTa_NSDUnfold_50.png\">"
   ]
  },
  {
   "cell_type": "markdown",
   "metadata": {},
   "source": [
    "#### Mik.inp Support\n",
    "\n",
    "These lines are useful to develop the mik.inp file:"
   ]
  },
  {
   "cell_type": "markdown",
   "metadata": {},
   "source": [
    "### HEPROW Unfold\n",
    "\n",
    "The actually running of HEPROW is done separately through the Windows executables.  The location for the files is: <br\\>\n",
    "\n",
    "/home/pyne-user/Dropbox/UCB/Research/ETAs/88Inch/Data/Experiments/PHS/16MeVTa/Unfold/HEPROW"
   ]
  },
  {
   "cell_type": "code",
   "execution_count": 8,
   "metadata": {
    "collapsed": false
   },
   "outputs": [
    {
     "name": "stdout",
     "output_type": "stream",
     "text": [
      "For 1 MeV Mik file:\n",
      "28\n",
      "2.0                                      right boundary of energy interval 1\n",
      "3.0                                      right boundary of energy interval 2\n",
      "4.0                                      right boundary of energy interval 3\n",
      "5.0                                      right boundary of energy interval 4\n",
      "6.0                                      right boundary of energy interval 5\n",
      "7.0                                      right boundary of energy interval 6\n",
      "8.0                                      right boundary of energy interval 7\n",
      "9.0                                      right boundary of energy interval 8\n",
      "10.0                                      right boundary of energy interval 9\n",
      "11.0                                      right boundary of energy interval 10\n",
      "12.0                                      right boundary of energy interval 11\n",
      "13.0                                      right boundary of energy interval 12\n",
      "14.0                                      right boundary of energy interval 13\n",
      "15.0                                      right boundary of energy interval 14\n",
      "16.0                                      right boundary of energy interval 15\n",
      "17.0                                      right boundary of energy interval 16\n",
      "18.0                                      right boundary of energy interval 17\n",
      "19.0                                      right boundary of energy interval 18\n",
      "20.0                                      right boundary of energy interval 19\n",
      "21.0                                      right boundary of energy interval 20\n",
      "22.0                                      right boundary of energy interval 21\n",
      "23.0                                      right boundary of energy interval 22\n",
      "24.0                                      right boundary of energy interval 23\n",
      "25.0                                      right boundary of energy interval 24\n",
      "26.0                                      right boundary of energy interval 25\n",
      "27.0                                      right boundary of energy interval 26\n",
      "28.0                                      right boundary of energy interval 27\n",
      "29.0                                      right boundary of energy interval 28\n",
      "\n",
      "For 1 MeV Mik file:\n",
      "46\n",
      "1.75                                      right boundary of energy interval 1\n",
      "2.25                                      right boundary of energy interval 2\n",
      "2.75                                      right boundary of energy interval 3\n",
      "3.25                                      right boundary of energy interval 4\n",
      "3.75                                      right boundary of energy interval 5\n",
      "4.25                                      right boundary of energy interval 6\n",
      "4.75                                      right boundary of energy interval 7\n",
      "5.25                                      right boundary of energy interval 8\n",
      "5.75                                      right boundary of energy interval 9\n",
      "6.25                                      right boundary of energy interval 10\n",
      "6.75                                      right boundary of energy interval 11\n",
      "7.25                                      right boundary of energy interval 12\n",
      "7.75                                      right boundary of energy interval 13\n",
      "8.25                                      right boundary of energy interval 14\n",
      "8.75                                      right boundary of energy interval 15\n",
      "9.25                                      right boundary of energy interval 16\n",
      "9.75                                      right boundary of energy interval 17\n",
      "10.25                                      right boundary of energy interval 18\n",
      "10.75                                      right boundary of energy interval 19\n",
      "11.25                                      right boundary of energy interval 20\n",
      "11.75                                      right boundary of energy interval 21\n",
      "12.25                                      right boundary of energy interval 22\n",
      "12.75                                      right boundary of energy interval 23\n",
      "13.25                                      right boundary of energy interval 24\n",
      "13.75                                      right boundary of energy interval 25\n",
      "14.25                                      right boundary of energy interval 26\n",
      "14.75                                      right boundary of energy interval 27\n",
      "15.25                                      right boundary of energy interval 28\n",
      "15.75                                      right boundary of energy interval 29\n",
      "16.25                                      right boundary of energy interval 30\n",
      "16.75                                      right boundary of energy interval 31\n",
      "17.25                                      right boundary of energy interval 32\n",
      "17.75                                      right boundary of energy interval 33\n",
      "18.25                                      right boundary of energy interval 34\n",
      "18.75                                      right boundary of energy interval 35\n",
      "19.25                                      right boundary of energy interval 36\n",
      "19.75                                      right boundary of energy interval 37\n",
      "20.25                                      right boundary of energy interval 38\n",
      "20.75                                      right boundary of energy interval 39\n",
      "21.25                                      right boundary of energy interval 40\n",
      "21.75                                      right boundary of energy interval 41\n",
      "22.25                                      right boundary of energy interval 42\n",
      "22.75                                      right boundary of energy interval 43\n",
      "23.25                                      right boundary of energy interval 44\n",
      "23.75                                      right boundary of energy interval 45\n",
      "24.25                                      right boundary of energy interval 46\n"
     ]
    }
   ],
   "source": [
    "# 1 MeV\n",
    "print \"For 1 MeV Mik file:\"\n",
    "bounds = np.linspace(2.0,29,28)   #(First right bin boundary, last right bin, boundary, number of bins)\n",
    "print len(bounds)\n",
    "for i in range(0,len(bounds)):\n",
    "    print '{}                                      right boundary of energy interval {}'.format(bounds[i],i+1)\n",
    "\n",
    "# 0.5 MeV\n",
    "print \"\\nFor 1 MeV Mik file:\"\n",
    "bounds = np.linspace(1.75,24.25,46)   #(First right bin boundary, last right bin, boundary, number of bins)\n",
    "print len(bounds)\n",
    "for i in range(0,len(bounds)):\n",
    "    print '{}                                      right boundary of energy interval {}'.format(bounds[i],i+1)"
   ]
  },
  {
   "cell_type": "markdown",
   "metadata": {},
   "source": [
    "### EJ309 Unfold Plotting: 1 MeV Bins\n",
    "\n",
    "This section contains all of the output post-processing to end up with a plot of the spectrum for 1 MeV bins."
   ]
  },
  {
   "cell_type": "code",
   "execution_count": 1,
   "metadata": {
    "collapsed": false
   },
   "outputs": [],
   "source": [
    "import sys\n",
    "import os\n",
    "\n",
    "import pandas as pd\n",
    "import numpy as np\n",
    "\n",
    "from datetime import datetime\n",
    "\n",
    "%matplotlib inline\n",
    "\n",
    "# Path to support scripts \n",
    "sys.path.insert(0,os.path.abspath('/home/pyne-user/Dropbox/UCB/Computational_Tools/Scripts/Python/DataAnalysis'))\n",
    "from DataManipulation import bin_differentiation, normAUBC\n",
    "from DataIO import read_delimited_data_file\n",
    "from Histograms import Histogram\n",
    "\n",
    "sys.path.insert(0,os.path.abspath('/home/pyne-user/Dropbox/UCB/Computational_Tools/Scripts/Python/Unfolding'))\n",
    "from HEPROW import readMTX, readGru, readFlu\n",
    "from Root import FluxNormalization\n",
    "\n",
    "sys.path.insert(0,os.path.abspath('/home/pyne-user/Dropbox/UCB/Computational_Tools/Scripts/Python/GeneralNuclear'))\n",
    "from Detectors import nonparalyzable_beam_dead_time, nonparalyzable_dead_time"
   ]
  },
  {
   "cell_type": "markdown",
   "metadata": {},
   "source": [
    "#### Set normalization parameters\n",
    "\n",
    "Based on the detector setup and readings from the current integrator and current monitor reported earlier in this notbook."
   ]
  },
  {
   "cell_type": "code",
   "execution_count": 2,
   "metadata": {
    "collapsed": false
   },
   "outputs": [
    {
     "name": "stdout",
     "output_type": "stream",
     "text": [
      "\n",
      "Normalization Parameters\n",
      "Total Run Time = 3704.0 s\n",
      "Current Monitor Inegrated Current = 1792.209 microA\n",
      "Current Integrator Reading = 1697.4 microA\n",
      "Solid Angle = 5.29850045443e-05 sr\n",
      "Fractional Dead Time = 0.00454483781246\n",
      "\n"
     ]
    }
   ],
   "source": [
    "start = datetime(2017, 2, 24, 19, 22)\n",
    "stop = datetime(2017, 2, 24, 20, 27)\n",
    "\n",
    "norm = FluxNormalization('/home/pyne-user/Dropbox/UCB/Research/ETAs/88Inch/Data/Experiments/PHS/16MeVTa/Data/Bevins_2H16+1_1914_24FEB17', \n",
    "                        startTime=start, stopTime=stop)\n",
    "norm.currentIntegrator = (1459+1370)*6*10**-7*1E6\n",
    "norm.set_solid_angle(640+46.9, 25)\n",
    "norm.set_dead_time(nonparalyzable_beam_dead_time, obsCountRate=(15891080+14937810)/norm.runTime, \n",
    "                   tauDetector=600E-9, tauBeam=158E-9)\n",
    "print str(norm)"
   ]
  },
  {
   "cell_type": "markdown",
   "metadata": {},
   "source": [
    "#### Set Data Locations"
   ]
  },
  {
   "cell_type": "code",
   "execution_count": 3,
   "metadata": {
    "collapsed": true
   },
   "outputs": [],
   "source": [
    "# HEPROW Inputs:\n",
    "heprowPath = \"/home/pyne-user/Dropbox/UCB/Research/ETAs/88Inch/Data/Experiments/PHS/16MeVTa/Unfold/HEPROW/\"\n",
    "\n",
    "heprowName = \"EJ309_1_mik.gru\"\n",
    "unfanaName = \"EJ309_1_unf.gru\"\n",
    "faltwPHSName = \"EJ309_1_faltw.phs\"\n",
    "measPHSName = \"Inputs/EJ309_16MeVTa_stat_100_phs_05.phs\"\n",
    "mtxName = \"MIEKE.MTX\"\n",
    "heprowBinBounds = \"low\"\n",
    "\n",
    "# Meulders - 16 MeV d on Au (good enough)\n",
    "meuldersPath=\"/home/pyne-user/Dropbox/UCB/Research/ETAs/88Inch/Data/Experiments/PHS/16MeVTa/Unfold/\"\n",
    "\n",
    "meuldersName=\"meulders16MeVAuSpectrum_1.txt\"\n",
    "meuldersBinBounds=\"mid\"\n",
    "\n",
    "# NSD MC\n",
    "nsdPath=\"/home/pyne-user/Dropbox/UCB/Research/ETAs/88Inch/Data/Experiments/PHS/16MeVTa/Unfold/NSD/\"\n",
    "\n",
    "nsdName=\"16MeVTa_NSDUnfold2_1.txt\"\n",
    "nsdBinBounds=\"mid\""
   ]
  },
  {
   "cell_type": "markdown",
   "metadata": {},
   "source": [
    "#### Read in and Manipulate Data\n",
    "\n",
    "Convert Each Data Set to a Probability Density Function (PDF), calculate error for PDF, and normalize the abs spectrum."
   ]
  },
  {
   "cell_type": "code",
   "execution_count": 4,
   "metadata": {
    "collapsed": false
   },
   "outputs": [
    {
     "name": "stdout",
     "output_type": "stream",
     "text": [
      "(85, 85)\n",
      "(85, 350)\n",
      "(85, 350)\n",
      "(85, 85)\n"
     ]
    },
    {
     "ename": "ValueError",
     "evalue": "shapes (85,350) and (85,85) not aligned: 350 (dim 1) != 85 (dim 0)",
     "output_type": "error",
     "traceback": [
      "\u001b[1;31m---------------------------------------------------------------------------\u001b[0m",
      "\u001b[1;31mValueError\u001b[0m                                Traceback (most recent call last)",
      "\u001b[1;32m<ipython-input-4-770bcd6a94d6>\u001b[0m in \u001b[0;36m<module>\u001b[1;34m()\u001b[0m\n\u001b[0;32m     21\u001b[0m \u001b[0mtmp2\u001b[0m \u001b[1;33m=\u001b[0m \u001b[0mnp\u001b[0m\u001b[1;33m.\u001b[0m\u001b[0mlinalg\u001b[0m\u001b[1;33m.\u001b[0m\u001b[0minv\u001b[0m\u001b[1;33m(\u001b[0m\u001b[0mcov1\u001b[0m\u001b[1;33m)\u001b[0m\u001b[1;33m\u001b[0m\u001b[0m\n\u001b[0;32m     22\u001b[0m \u001b[1;32mprint\u001b[0m \u001b[0mtmp2\u001b[0m\u001b[1;33m.\u001b[0m\u001b[0mshape\u001b[0m\u001b[1;33m\u001b[0m\u001b[0m\n\u001b[1;32m---> 23\u001b[1;33m \u001b[0mtmp\u001b[0m \u001b[1;33m=\u001b[0m \u001b[0mcov\u001b[0m\u001b[1;33m.\u001b[0m\u001b[0mdot\u001b[0m\u001b[1;33m(\u001b[0m\u001b[0mrsp\u001b[0m\u001b[1;33m)\u001b[0m\u001b[1;33m.\u001b[0m\u001b[0mdot\u001b[0m\u001b[1;33m(\u001b[0m\u001b[0mnp\u001b[0m\u001b[1;33m.\u001b[0m\u001b[0mlinalg\u001b[0m\u001b[1;33m.\u001b[0m\u001b[0minv\u001b[0m\u001b[1;33m(\u001b[0m\u001b[0mcov1\u001b[0m\u001b[1;33m)\u001b[0m\u001b[1;33m)\u001b[0m\u001b[1;33m\u001b[0m\u001b[0m\n\u001b[0m\u001b[0;32m     24\u001b[0m \u001b[1;32mprint\u001b[0m \u001b[0mtmp\u001b[0m\u001b[1;33m\u001b[0m\u001b[0m\n",
      "\u001b[1;31mValueError\u001b[0m: shapes (85,350) and (85,85) not aligned: 350 (dim 1) != 85 (dim 0)"
     ]
    }
   ],
   "source": [
    "import os\n",
    "import sys\n",
    "import numpy as np\n",
    "sys.path.insert(0,os.path.abspath('/home/pyne-user/Dropbox/UCB/Computational_Tools/Scripts/Python/Unfolding'))\n",
    "from HEPROW import readMTX, readGru, readRSP\n",
    "\n",
    "heprowPath = \"/home/pyne-user/Dropbox/\"\n",
    "\n",
    "rspName = \"rsg_1.rsp\"\n",
    "mtxName = \"mieke.mtx\"\n",
    "mtx1Name = \"mieke1.mtx\"\n",
    "\n",
    "cov = np.asarray(readMTX(heprowPath+mtxName)).astype(float)\n",
    "print cov.shape\n",
    "cov1 = np.asarray(readMTX(heprowPath+mtx1Name)).astype(float)\n",
    "rsp = np.asarray(readRSP(heprowPath+rspName, 3.82, 7.8, 3.5, 7.0)).astype(float)\n",
    "print rsp.shape\n",
    "\n",
    "tmp1 = cov.dot(rsp)\n",
    "print tmp1.shape\n",
    "tmp2 = np.linalg.inv(cov1)\n",
    "print tmp2.shape\n",
    "tmp = cov.dot(rsp).dot(np.linalg.inv(cov1))\n",
    "print tmp"
   ]
  },
  {
   "cell_type": "code",
   "execution_count": 8,
   "metadata": {
    "collapsed": false,
    "scrolled": true
   },
   "outputs": [
    {
     "data": {
      "image/png": "[encoded data removed]",
      "text/plain": [
       "<matplotlib.figure.Figure at 0x2ab77e48b8d0>"
      ]
     },
     "metadata": {},
     "output_type": "display_data"
    },
    {
     "data": {
      "image/png": "[encoded data removed]",
      "text/plain": [
       "<matplotlib.figure.Figure at 0x2ab79bf8c0d0>"
      ]
     },
     "metadata": {},
     "output_type": "display_data"
    }
   ],
   "source": [
    "# Import HEPROW and UNFANA data and normalize\n",
    "heprowData = readGru(heprowPath+heprowName, delim_whitespace=True, names=['lowE', 'absFlux', 'absSigma'],\n",
    "               skiprows=3)\n",
    "heprowData['normFlux'] = np.asarray(bin_differentiation(heprowData['lowE'].tolist(), \n",
    "                                            heprowData['absFlux'].tolist(), heprowBinBounds)) \\\n",
    "                                            / norm.currentIntegrator / norm.solidAngle \\\n",
    "                                            / (1-norm.deadTime)\n",
    "heprowData['normSigma'] = np.asarray(bin_differentiation(heprowData['lowE'].tolist(), \n",
    "                                            heprowData['absSigma'].tolist(), heprowBinBounds)) \\\n",
    "                                            / norm.currentIntegrator / norm.solidAngle \\\n",
    "                                            / (1-norm.deadTime)\n",
    "#heprowData = heprowData[heprowData.absFlux != 0]\n",
    "        \n",
    "unfData = readGru(heprowPath+unfanaName, delim_whitespace=True, names=['lowE', 'absFlux', 'absSigma'],\n",
    "               skiprows=3)\n",
    "unfData['normFlux'] = np.asarray(bin_differentiation(unfData['lowE'].tolist(), \n",
    "                                            unfData['absFlux'].tolist(), heprowBinBounds)) \\\n",
    "                                            / norm.currentIntegrator / norm.solidAngle \\\n",
    "                                            / (1-norm.deadTime)\n",
    "unfData['normSigma'] = np.asarray(bin_differentiation(unfData['lowE'].tolist(), \n",
    "                                            unfData['absSigma'].tolist(), heprowBinBounds)) \\\n",
    "                                            / norm.currentIntegrator / norm.solidAngle \\\n",
    "                                            / (1-norm.deadTime)        \n",
    "        \n",
    "# Calculate covariance based uncertainty\n",
    "heprowData['absCovSigma'] = readMTX(heprowPath+mtxName).tolist()\n",
    "unfData['absCovSigma'] = readMTX(heprowPath+mtxName).tolist()\n",
    "\n",
    "# Calculate the pdf and its uncertainty\n",
    "heprowData['pdfFlux'] = normAUBC(heprowData['absFlux'])\n",
    "heprowData['pdfSigma'] = heprowData['absSigma']/heprowData['absFlux']*heprowData['pdfFlux']\n",
    "heprowData['pdfCovSigma'] = heprowData['absCovSigma']/heprowData['absFlux']*heprowData['pdfFlux']\n",
    "\n",
    "unfData['pdfFlux'] = normAUBC(unfData['absFlux'])\n",
    "unfData['pdfSigma'] = unfData['absSigma']/unfData['absFlux']*unfData['pdfFlux']\n",
    "unfData['pdfCovSigma'] = unfData['absCovSigma']/unfData['absFlux']*unfData['pdfFlux']\n",
    "\n",
    "# Build pdf histogram object\n",
    "heprowHisto = Histogram()\n",
    "heprowHisto.build_histo(heprowData['lowE'].tolist(), heprowData['pdfFlux'].tolist(),\n",
    "                       uncert=heprowData['pdfSigma'].tolist(), edgeLoc=heprowBinBounds,\n",
    "                       name='HEPROW')\n",
    "unfHisto = Histogram()\n",
    "unfHisto.build_histo(unfData['lowE'].tolist(), unfData['pdfFlux'].tolist(),\n",
    "                       uncert=unfData['pdfSigma'].tolist(), edgeLoc=heprowBinBounds,\n",
    "                       name='UNFANA')\n",
    "heprowHisto.plot(unfHisto, logY=True, title='16MeV Deutrons on Ta', xLabel='Energy [MeV]',\n",
    "                 yLabel='Neutron PDF')\n",
    "\n",
    "# Build norm histogram object\n",
    "heprowNormHisto = Histogram()\n",
    "heprowNormHisto.build_histo(heprowData['lowE'].tolist(), heprowData['normFlux'].tolist(),\n",
    "                       uncert=heprowData['normSigma'].tolist(), edgeLoc=heprowBinBounds,\n",
    "                       name='HEPROW')\n",
    "\n",
    "# Build error histogram objects\n",
    "heprowErrorHisto = Histogram()\n",
    "heprowErrorHisto.build_histo(heprowData['lowE'].tolist(),\n",
    "                               heprowData['pdfSigma']/heprowData['pdfFlux'].tolist(),\n",
    "                               edgeLoc=heprowBinBounds, name='HEPROW Errors')\n",
    "heprowCovErrorHisto = Histogram()\n",
    "heprowCovErrorHisto.build_histo(heprowData['lowE'].tolist(),\n",
    "                               heprowData['pdfCovSigma']/heprowData['pdfFlux'].tolist(),\n",
    "                               edgeLoc=heprowBinBounds, name='HEPROW Covariance Errors')\n",
    "#print heprowData['pdfSigma']/heprowData['pdfCovSigma']\n",
    "\n",
    "# Import PHS data and plot\n",
    "faltwPHSData = readFlu(heprowPath+faltwPHSName, delim_whitespace=True, names=['lowE', 'absPHS', 'absSigma'],\n",
    "               skiprows=3)\n",
    "measPHSData = readFlu(heprowPath+measPHSName, delim_whitespace=True, names=['lowE', 'absPHS', 'absSigma'],\n",
    "               skiprows=3)\n",
    "faltwPHSHisto = Histogram()\n",
    "faltwPHSHisto.build_histo(faltwPHSData['lowE'].tolist(), faltwPHSData['absPHS'].tolist(),\n",
    "                       uncert=faltwPHSData['absSigma'].tolist(), edgeLoc=heprowBinBounds,\n",
    "                       name='FALTW')\n",
    "measPHSHisto = Histogram()\n",
    "measPHSHisto.build_histo(measPHSData['lowE'].tolist(), measPHSData['absPHS'].tolist(),\n",
    "                       uncert=measPHSData['absSigma'].tolist(), edgeLoc=heprowBinBounds,\n",
    "                       name='Measured')\n",
    "faltwPHSHisto.plot(measPHSHisto, logY=True, title='16MeV Deutrons on Ta', xLabel='Light Yield [MeVee]',\n",
    "                 yLabel='Counts')"
   ]
  },
  {
   "cell_type": "code",
   "execution_count": 5,
   "metadata": {
    "collapsed": false
   },
   "outputs": [],
   "source": [
    "# Read in Meulders data and normalize\n",
    "meuldersData = pd.read_table(meuldersPath+meuldersName, delim_whitespace=True, \n",
    "                             names=['midE', 'absFlux'])\n",
    "meuldersData['pdfFlux'] = normAUBC(meuldersData['absFlux'])\n",
    "\n",
    "# Build pdf histogram object\n",
    "meuldersHisto=Histogram()\n",
    "meuldersHisto.build_histo(meuldersData['midE'].tolist(), meuldersData['pdfFlux'].tolist(), \n",
    "                         edgeLoc=meuldersBinBounds, name='Meulders')\n",
    "\n",
    "# Build norm histogram object\n",
    "meuldersNormHisto=Histogram()\n",
    "meuldersNormHisto.build_histo(meuldersData['midE'].tolist(), meuldersData['absFlux'].tolist(), \n",
    "                         edgeLoc=meuldersBinBounds, name='Meulders')"
   ]
  },
  {
   "cell_type": "code",
   "execution_count": 13,
   "metadata": {
    "collapsed": false
   },
   "outputs": [
    {
     "data": {
      "image/png": "[encoded data removed]",
      "text/plain": [
       "<matplotlib.figure.Figure at 0x2b920a3eced0>"
      ]
     },
     "metadata": {},
     "output_type": "display_data"
    }
   ],
   "source": [
    "# Read in NSD Unfolding Algorithm,  calculate pdf and uncertainty, and normalize\n",
    "nsdData = pd.read_table(nsdPath+nsdName, delim_whitespace=True, \n",
    "                             names=['midE', 'absFlux','absSigma'])\n",
    "nsdData['pdfFlux']=normAUBC(nsdData['absFlux'])\n",
    "nsdData['pdfSigma'] = nsdData['absSigma']/nsdData['absFlux']*nsdData['pdfFlux']\n",
    "nsdData['normFlux'] = np.asarray(bin_differentiation(nsdData['midE'].tolist(), \n",
    "                                            nsdData['absFlux'].tolist(), nsdBinBounds)) \\\n",
    "                                            / norm.currentIntegrator / norm.solidAngle \\\n",
    "                                            / (1-norm.deadTime)\n",
    "nsdData['normSigma'] = np.asarray(bin_differentiation(nsdData['midE'].tolist(), \n",
    "                                            nsdData['absSigma'].tolist(), nsdBinBounds)) \\\n",
    "                                            / norm.currentIntegrator / norm.solidAngle \\\n",
    "                                            / (1-norm.deadTime)\n",
    "\n",
    "# Build pdf histogram object\n",
    "nsdHisto=Histogram()\n",
    "nsdHisto.build_histo(nsdData['midE'].tolist(),nsdData['pdfFlux'].tolist(),\n",
    "                    uncert=nsdData['pdfSigma'].tolist(), edgeLoc=nsdBinBounds, name='NSD')\n",
    "nsdHisto.plot(logY=True, title='16MeV Deutrons on Ta', xLabel='Energy [MeV]',\n",
    "                 yLabel='Neutron PDF')\n",
    "\n",
    "# Build norm histogram object\n",
    "nsdNormHisto = Histogram()\n",
    "nsdNormHisto.build_histo(nsdData['midE'].tolist(), nsdData['normFlux'].tolist(),\n",
    "                       uncert=nsdData['normSigma'].tolist(), edgeLoc=nsdBinBounds,\n",
    "                       name='NSD')\n",
    "\n",
    "# Build error histogram object\n",
    "nsdErrorHisto = Histogram()\n",
    "nsdErrorHisto.build_histo(nsdData['midE'].tolist(),\n",
    "                         nsdData['pdfSigma']/nsdData['pdfFlux'].tolist(),\n",
    "                         edgeLoc=heprowBinBounds, name='NSD Errors')"
   ]
  },
  {
   "cell_type": "markdown",
   "metadata": {},
   "source": [
    "#### Plot"
   ]
  },
  {
   "cell_type": "code",
   "execution_count": 9,
   "metadata": {
    "collapsed": false
   },
   "outputs": [
    {
     "data": {
      "image/png": "[encoded data removed]",
      "text/plain": [
       "<matplotlib.figure.Figure at 0x2b920a4d47d0>"
      ]
     },
     "metadata": {},
     "output_type": "display_data"
    },
    {
     "data": {
      "image/png": "[encoded data removed]",
      "text/plain": [
       "<matplotlib.figure.Figure at 0x2b920a17d150>"
      ]
     },
     "metadata": {},
     "output_type": "display_data"
    },
    {
     "data": {
      "image/png": "[encoded data removed]",
      "text/plain": [
       "<matplotlib.figure.Figure at 0x2b920a5ae390>"
      ]
     },
     "metadata": {},
     "output_type": "display_data"
    },
    {
     "data": {
      "image/png": "[encoded data removed]",
      "text/plain": [
       "<matplotlib.figure.Figure at 0x2b91e4e8c210>"
      ]
     },
     "metadata": {},
     "output_type": "display_data"
    },
    {
     "data": {
      "image/png": "[encoded data removed]",
      "text/plain": [
       "<matplotlib.figure.Figure at 0x2b91e4e8c1d0>"
      ]
     },
     "metadata": {},
     "output_type": "display_data"
    }
   ],
   "source": [
    "# Log\n",
    "heprowHisto.plot(nsdHisto, meuldersHisto, logY=True, title='16MeV Deutrons on Ta Spectra',\n",
    "                 xLabel='Energy [MeV]', yLabel='Neutron PDF')\n",
    "heprowNormHisto.plot(nsdNormHisto, meuldersNormHisto, logY=True, title='16MeV Deutrons on Ta Spectra',\n",
    "                 xLabel='Energy [MeV]', yLabel='Neutron Flux [n/MeV/uC/sr]')\n",
    "heprowCovErrorHisto.plot(heprowErrorHisto, nsdErrorHisto, logY=True, \n",
    "                         title='16MeV Deutrons on Ta Spectra Errors',\n",
    "                         xLabel='Energy [MeV]', yLabel='Relative Error')\n",
    "\n",
    "# Linear\n",
    "heprowHisto.plot(nsdHisto, meuldersHisto, title='16MeV Deutrons on Ta Spectra',\n",
    "                 xLabel='Energy [MeV]', yLabel='Neutron PDF')\n",
    "heprowNormHisto.plot(nsdNormHisto, meuldersNormHisto, title='16MeV Deutrons on Ta Spectra',\n",
    "                 xLabel='Energy [MeV]', yLabel='Neutron Flux [n/MeV/uC/sr]')"
   ]
  },
  {
   "cell_type": "code",
   "execution_count": 24,
   "metadata": {
    "collapsed": true
   },
   "outputs": [],
   "source": [
    "# Save the figure\n",
    "#fig.savefig(meuldersPath+'16MeVTa_50.png', bbox_inches='tight')\n",
    "fig.savefig(meuldersPath+'16MeVTa_1.png', bbox_inches='tight')"
   ]
  },
  {
   "cell_type": "code",
   "execution_count": null,
   "metadata": {
    "collapsed": true
   },
   "outputs": [],
   "source": [
    "# ToDos\n",
    "\n",
    "# Large PH - what are they? Nb or V in Ta target? How to assess?\n",
    "# How does HEPROW calculate its reported error?\n",
    "# 0.5 MeV bins?\n",
    "# Rerun calibration with  new simulations"
   ]
  }
 ],
 "metadata": {
  "kernelspec": {
   "display_name": "Python 2",
   "language": "python",
   "name": "python2"
  },
  "language_info": {
   "codemirror_mode": {
    "name": "ipython",
    "version": 2
   },
   "file_extension": ".py",
   "mimetype": "text/x-python",
   "name": "python",
   "nbconvert_exporter": "python",
   "pygments_lexer": "ipython2",
   "version": "2.7.6"
  }
 },
 "nbformat": 4,
 "nbformat_minor": 0
}
