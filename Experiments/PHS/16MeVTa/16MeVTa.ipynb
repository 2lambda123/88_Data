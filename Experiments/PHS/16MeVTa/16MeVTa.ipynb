{
 "cells": [
  {
   "cell_type": "markdown",
   "metadata": {},
   "source": [
    "# 16 MeV D on Ta Experimental Notebook\n",
    "\n",
    "This experiment ran 16 MeV deuterons on Ta in the vault.  Two experimental setups were arranged in Cave 02.  The experimental goals were:\n",
    "\n",
    "1) Test run for the ETA measurements on 24-26 Feb <br\\>\n",
    "2) Pulse height spectum unfolding of the neutron spectrum <br\\>\n",
    "3) Low energy light yield measurement on EJ-309 and EJ-299 <br\\>\n",
    "\n",
    "\n",
    "This experiment ran 1 EJ-309 and 1 EJ-299 scintillator detector. \n",
    "\n",
    "This notebook describes all of the steps required to take experimental data, parse that data, perform pulse shape discrimination (PSD) cuts, calibrate the data, and generate a pulse height spectrum (PHS) for unfolding of the 16 MeV on Ta spectrum.  It does not describe the dTOF light yield measurements, analysis, or setup.  \n",
    " \n",
    "The notebook is broken into the following sections: <br\\>\n",
    "1) Experimental Setup <br\\>\n",
    "2) Aquire Calibration Data <br\\>\n",
    "3) Calibration Post-Processing <br\\>\n",
    "4) Perform Calibrations <br\\>\n",
    "5) Experimental Data Acquisition <br\\>\n",
    "6) Pulse Height Spectrum Post-Processing <br\\>\n",
    "7) EJ309 Spectrum Unfolding <br\\>\n",
    "\n",
    "At the start of each section, all of the modules necessary for that section are imported so that each can be run independently of the rest of the notebook (to the extent that the required inputs from previous sections exist). "
   ]
  },
  {
   "cell_type": "markdown",
   "metadata": {},
   "source": [
    "## 1) Experimental Setup\n",
    "\n",
    "### Initial Setup of DAQ\n",
    "\n",
    "The DAQ was run in pulse-amplitude mode. \n",
    "\n",
    "Power on CAEN NV8020 and CAEN 8315 power supplies on the digital DAQ for the E-J309 and EJ-299 targets. \n",
    "\n",
    "Open up terminal and launch the DPP_PSD app by typing:\n",
    "DPP-PSD_ControlSoftware\n",
    "\n",
    "Connect the DAQ by presing the connect button.  The connection type is USB, and the base address is 32100000."
   ]
  },
  {
   "cell_type": "markdown",
   "metadata": {
    "collapsed": true
   },
   "source": [
    "### Detector Configuration\n",
    "\n",
    "The detectors were set up as shown in the figure below:\n",
    "\n",
    "<img src=\"Pics/UnfoldSetup.jpg\">\n",
    "\n",
    "The detectors were placed at the following coordinates (measured to the face of the detector from the wall):\n",
    "\n",
    "EJ-309 (Tgt0): (46.9,0,0) cm <br\\>\n",
    "EJ-309 (Tgt0): (46.9,0,-2.5) cm <br\\>\n",
    "\n",
    "The connections were made as follows (no terminations were made on the output of the detectors):\n",
    "\n",
    "Detector   | PMT Data Out | Junction Data | Junction HV | HV Ch # | DAQ Ch #  \n",
    "---------- |:------------:|:-------------:|:-----------:|:-------:|:--------:\n",
    "EJ309 Tgt  |A1            |30             |50 (HV1)     |0        |0\n",
    "Ej299 Tgt  |A1            |31             |51 (HV2)     |1        |1 "
   ]
  },
  {
   "cell_type": "markdown",
   "metadata": {
    "collapsed": true
   },
   "source": [
    "### Setting Configuration\n",
    "\n",
    "#### Set Gain\n",
    "To determine the neutron (proton) energy to MeVee conversion, lightTables.getLight(neutron_energy,particle) was used from the nsd-rootscripts repo.  For this calibration, the max neutron energy is ~16 MeV. The max Be neutron energy is ~ 10 MeV.  \n",
    "\n",
    "lightTables.getLight(16,0) = 8.9 MeVee\n",
    "lightTables.getLight(10,0) = 4.9 MeVee. \n",
    "\n",
    "The edge of the 4.4 MeV AmBe gamma was set to be at ~0.9V and the edge of the AmBe neutrons at channel ~1600 for the PSD. \n",
    "\n",
    "**NOTE: Both the oscope and PSD must be scaled to ensure that the capture the full scale range (FSR) of the intended experiment.  There are two nobs to do this:**\n",
    "\n",
    "1) Bias - The higher the bias the better the PSD [affects both] <br/>\n",
    "2) Charge Sensitivity (on the channels tab) - Reduces the resolution, but allows for a wider FSR [only affects PSD]\n",
    "\n",
    "#### Determine PSD Settings\n",
    "\n",
    "After setting the gain the PSD gates and delays were set.  The best settings were determined to be:\n",
    "\n",
    "Detector   | DAQ Ch# | Bias | Charge Sens | Short Gate | Long Gate | Gate Offset | Threshold | BL  | Trigger Holdoff  \n",
    "---------- |:-------:|:----:|:-----------:|:----------:|:---------:|:-----------:|:---------:|:---:|:---------------:\n",
    "EJ309 Tgt  |0        |1375V |20           |60          |500        |24           |175        |1024 |500\n",
    "EJ299 Tgt  |1        |1750V |20           |60          |600        |24           |200        |1024 |600\n",
    "\n",
    "These are also saved as 16MeVTa_Unfolding_DppConfig_23Feb17.txt in the 16MeVTa_24-26Feb17 folder on the DAQ.\n"
   ]
  },
  {
   "cell_type": "markdown",
   "metadata": {},
   "source": [
    "## 2) Acquire Calibration Data\n",
    "Click on the Output tab.  Select a file location and name.  Select list, and binary format.  Finally turn dumping on.\n",
    "\n",
    "The targets were calibrated together with one source at a time.  The times were set to get ~ 1000 counts/bin at the compton edge in with 4k bins. The following total events were stored for each calibration source:\n",
    "\n",
    "### Calibration #1\n",
    "\n",
    "EJ-309 Target:\n",
    "\n",
    "Source | Events | Time (min) | File name          \n",
    "------ |:------:|:----------:|:------------------:\n",
    "AmBe   |        |~30 min     |AmBe_000_ls_0.dat\n",
    "Co60   |380k    |~20 min     |Co60_000_ls_0.dat\n",
    "Cs137  |250k    |~11 min     |Cs137_000_ls_0.dat\n",
    "\n",
    "EJ-299 Target:\n",
    "\n",
    "Source | Events | Time (min) | File name  \n",
    "------ |:------:|:----------:|:-----------------:\n",
    "AmBe   |        |~30 min     |AmBe_000_ls_1.dat\n",
    "Co60   |380k    |~20 min     |Co60_000_ls_1.dat\n",
    "Cs137  |460k    |~11 min     |Cs137_000_ls_1.dat\n",
    "\n",
    "The files are stored on the DAQ in the 16MeVTa_24-26Feb17/Unfolding/CalibrationData folder. \n",
    "\n",
    "### Calibration #2\n",
    "A second set of calibration data was takenn just prior to the run to test for drift. The calibration source was placed on Target 1 (EJ-299).\n",
    "\n",
    "EJ-309 Target:\n",
    "\n",
    "Source | Start | Time (min) | File name          \n",
    "------ |:------:|:----------:|:------------------:\n",
    "AmBe   |1743    |312 sec     |AmBe_001_ls_0.dat\n",
    "Cs137  |1749    |300 sec     |Cs137_001_ls_0.dat\n",
    "Bkgrnd |1755    |600 sec     |Background_001_ls_0.dat\n",
    "\n",
    "EJ-299 Target:\n",
    "\n",
    "Source | Start | Time (min) | File name          \n",
    "------ |:------:|:----------:|:------------------:\n",
    "AmBe   |1743    |312 sec     |AmBe_001_ls_1.dat\n",
    "Cs137  |1749    |300 sec     |Cs137_001_ls_1.dat\n",
    "Bkgrnd |1755    |600 sec     |Background_001_ls_1.dat\n",
    "\n",
    "### Calibration #3 \n",
    "Ringing was noticed in the EJ-299 when the beam was turned on, so a terminator was added.  Also, the full energy peaks were slightly off scale so the gains were changed.  The calibration sources were placed on Taget 1 (EJ-299). The following were used:\n",
    "\n",
    "Detector   | DAQ Ch# | Bias | Charge Sens | Short Gate | Long Gate | Gate Offset | Threshold | BL  | Trigger Holdoff  \n",
    "---------- |:-------:|:----:|:-----------:|:----------:|:---------:|:-----------:|:---------:|:---:|:---------------:\n",
    "EJ309 Tgt  |0        |1325V |20           |60          |500        |24           |175        |1024 |500\n",
    "EJ299 Tgt  |1        |1850V |20           |60          |600        |24           |200        |1024 |600\n",
    "\n",
    "EJ-309 Target:\n",
    "\n",
    "Source | Start | Time (min) | File name          \n",
    "------ |:------:|:----------:|:------------------:\n",
    "AmBe   |1843    |600 sec     |AmBe_002_ls_0.dat\n",
    "Cs137  |1854    |600 sec     |Cs137_002_ls_0.dat\n",
    "Bkgrnd |1905    |300 sec     |Background_002_ls_0.dat\n",
    "\n",
    "EJ-299 Target:\n",
    "\n",
    "Source | Start | Time (min) | File name          \n",
    "------ |:------:|:----------:|:------------------:\n",
    "AmBe   |1843    |600 sec     |AmBe_002_ls_0.dat\n",
    "Cs137  |1854    |600 sec     |Cs137_002_ls_0.dat\n",
    "Bkgrnd |1905    |300 sec     |Background_002_ls_0.dat\n",
    "\n",
    "### Post Run Calibration  -- USE THIS SET FOR THE CALIBRATION\n",
    "EJ-309 Target:\n",
    "\n",
    "Source | Start | Time (min) | File name          \n",
    "------ |:------:|:----------:|:------------------:\n",
    "AmBe   |1902    |300 sec     |AmBe_003_ls_0.dat\n",
    "Cs137  |2057    |300 sec     |Cs137_003_ls_0.dat\n",
    "Co60   |2046    |600 sec     |Co60_003_ls_0.dat\n",
    "\n",
    "EJ-299 Target:\n",
    "\n",
    "Source | Start | Time (min) | File name          \n",
    "------ |:------:|:----------:|:------------------:\n",
    "AmBe   |1902    |300 sec     |AmBe_003_ls_1.dat\n",
    "Cs137  |2057    |300 sec     |Cs137_003_ls_1.dat\n",
    "Co60   |2046    |600 sec     |Co60_003_ls_1.dat"
   ]
  },
  {
   "cell_type": "markdown",
   "metadata": {},
   "source": [
    "## 3) Calibration Post-Processing:\n",
    "\n",
    "The rest of this notebook is both descriptive and interactive.  Choose which step to perform in the notebook, or you can run them in root.  NOTE: If using this notebook as a guide to a different data set, check each of variables and commands to make sure they make sense in the context of your data set.\n",
    "\n",
    "To use the interactive commands, Root must be installed and PyRoot enabled for this notebook to work. Make sure that $ROOTSYS/lib is in your PYTHONPATH and LD_LIBRARY_PATH variables.\n",
    "\n",
    "First, load the necessary libraries, set the appropriate environment variables, and compile the C++ support macros from the instructions @ https://bitbucket.org/berkeleylab/nsd-rootscripts/wiki/LibraryCompilation.\n",
    "\n",
    "Next, The notebook has dependencies on PScripts, which can be cloned from:\n",
    "https://github.com/jamesbevins/PyScripts"
   ]
  },
  {
   "cell_type": "code",
   "execution_count": 39,
   "metadata": {
    "collapsed": false
   },
   "outputs": [
    {
     "name": "stdout",
     "output_type": "stream",
     "text": [
      "Currently working in: \n",
      " /home/pyne-user/Dropbox/UCB/Research/ETAs/88Inch/Data/Experiments/PHS/16MeVTa/Calibration\n"
     ]
    }
   ],
   "source": [
    "import sys\n",
    "import os\n",
    "from ROOT import gROOT\n",
    "\n",
    "sys.path.insert(0,os.path.abspath('/home/pyne-user/Dropbox/UCB/Computational_Tools/Scripts/Python/Support'))\n",
    "from Utilities import pause\n",
    "\n",
    "path = '/home/pyne-user/Dropbox/UCB/Research/ETAs/88Inch/Data/Experiments/PHS/16MeVTa/Calibration/'\n",
    "os.chdir(path)\n",
    "print 'Currently working in: \\n {}'.format(os.getcwd())"
   ]
  },
  {
   "cell_type": "markdown",
   "metadata": {},
   "source": [
    "### Convert Binaries to root trees\n",
    "\n",
    "The following gROOT commands can be copied and run directly in ROOT if preferred.  \n",
    "\n",
    "Loop over all of the calibration .dat files, convert to .root Trees, and add them to a combined Calibrations.root tree.  "
   ]
  },
  {
   "cell_type": "code",
   "execution_count": 2,
   "metadata": {
    "collapsed": false
   },
   "outputs": [
    {
     "data": {
      "text/plain": [
       "0L"
      ]
     },
     "execution_count": 2,
     "metadata": {},
     "output_type": "execute_result"
    }
   ],
   "source": [
    "gROOT.ProcessLine('DPPBinaryParser parser;')\n",
    "gROOT.ProcessLine('vector<string> names;')\n",
    "\n",
    "for filename in os.listdir(path):\n",
    "    if filename.endswith(\".dat\"): \n",
    "        name = os.path.splitext(filename)[0]\n",
    "        print \"Processing: \", name\n",
    "        gROOT.ProcessLine('parser.readDatFile(\"{0}.dat\", \"{0}.root\");'.format(name))\n",
    "        gROOT.ProcessLine('names.push_back(\"{0}.root\");'.format(name))\n",
    "        \n",
    "gROOT.ProcessLine('DDaqPostProcessing obj;')\n",
    "gROOT.ProcessLine('obj.makePhCalibs(names,\"Calibrations.root\");')"
   ]
  },
  {
   "cell_type": "markdown",
   "metadata": {},
   "source": [
    "### Test Gain Drift\n",
    "\n",
    "This looks at the gain drift across the experiment by using before and after calibrations from one of the sources.\n",
    "\n",
    "** NOTE: Since the gains changed between calibration set 001 and 002, only 002 and 003 are used. **"
   ]
  },
  {
   "cell_type": "code",
   "execution_count": 41,
   "metadata": {
    "collapsed": true
   },
   "outputs": [],
   "source": [
    "detNames = {0: 'EJ309', 1: 'EJ299'}"
   ]
  },
  {
   "cell_type": "code",
   "execution_count": 3,
   "metadata": {
    "collapsed": false
   },
   "outputs": [],
   "source": [
    "driftSrc = 'Cs137'\n",
    "runNums = ['002', '003']\n",
    "colorWheel = ['kGreen', 'kBlue']\n",
    "\n",
    "gROOT.ProcessLine('TFile f(\"Calibrations_All.root\")')\n",
    "gROOT.ProcessLine('TLine* line = new TLine(0,1,7000,1)')\n",
    "\n",
    "for detNum, detName in detNames.iteritems():\n",
    "    gROOT.ProcessLine('TCanvas c{}'.format(detNum))\n",
    "    for run, color in zip(runNums, colorWheel):\n",
    "        gROOT.ProcessLine('TH1* {0}_{1} = (TH1*) f.Get(\"{2}_{1}_ls_{3}.root\")->Clone()'.format(detName, run, driftSrc, detNum))\n",
    "        gROOT.ProcessLine('{0}_{1}->Scale(1.0/{0}_{1}->Integral())'.format(detName, run))\n",
    "        gROOT.ProcessLine('{0}_{1}->Rebin(2)'.format(detName, run))\n",
    "        gROOT.ProcessLine('{0}_{1}->SetLineColor({2})'.format(detName, run, color))\n",
    "        gROOT.ProcessLine('{0}_{1}->Draw(\"same\")'.format(detName, run))\n",
    "        \n",
    "    gROOT.ProcessLine('TH1* postToPreRatio{0} = (TH1*){0}_{1}->Clone()'.format(detName, runNums[-1]))\n",
    "    gROOT.ProcessLine('postToPreRatio{0}->Divide({0}_{1})'.format(detName, runNums[-2]))\n",
    "    gROOT.ProcessLine('TCanvas c{}'.format(detName))\n",
    "    gROOT.ProcessLine('postToPreRatio{0}->Draw()'.format(detName))\n",
    "    gROOT.ProcessLine('line->Draw(\"same\")')\n",
    "    pause()"
   ]
  },
  {
   "cell_type": "markdown",
   "metadata": {},
   "source": [
    "#### Detector 0 (EJ309)\n",
    "\n",
    "<img src=\"Pics/PrePostCalibComp0.png\">\n",
    "<img src=\"Pics/PrePostCalibRatio0.png\">\n",
    "\n",
    "#### Detector 1 (EJ299)\n",
    "\n",
    "<img src=\"Pics/PrePostCalibComp1.png\">\n",
    "<img src=\"Pics/PrePostCalibRatio1.png\">"
   ]
  },
  {
   "cell_type": "markdown",
   "metadata": {},
   "source": [
    "### Make PSD cuts on AmBe\n",
    "\n",
    "To perform the calibration, it is necessary to toss out the neutron data from the AmBe data.  Here a linear cut is used since the compton edge is cleaned separated from the neutron band.  psdplotfitter.h has some more advanced options if needed.\n",
    "\n",
    "Each of the gROOT commands can be copied and run directly in ROOT if desired.\n",
    "\n",
    "First draw the PSD reducing the number of bins in both directions for the calibration run:"
   ]
  },
  {
   "cell_type": "code",
   "execution_count": 42,
   "metadata": {
    "collapsed": false
   },
   "outputs": [
    {
     "name": "stdout",
     "output_type": "stream",
     "text": [
      "Press enter to continue\n",
      "Press enter to continue\n"
     ]
    }
   ],
   "source": [
    "# Set file characteristics\n",
    "runNum = \"003\"\n",
    "\n",
    "# Initialize storage        \n",
    "# Plot each PSD\n",
    "for detNum, detName in detNames.iteritems():\n",
    "    gROOT.ProcessLine('TFile *AmBe{0} = new TFile(\"AmBe_{1}_ls_{0}.root\",\"update\")'.format(detNum,runNum))\n",
    "    gROOT.ProcessLine('eventTree->Draw(\"(m_amplitude-m_shape)/m_amplitude:m_amplitude>>(2500,0,35000,1024,0,1)\",\"\",\"colz\")')\n",
    "    \n",
    "    gROOT.ProcessLine('TFile *{0} = new TFile(\"CalibData_{1}.root\",\"recreate\")'.format(detName, detNum))\n",
    "    pause()"
   ]
  },
  {
   "cell_type": "markdown",
   "metadata": {},
   "source": [
    "This will open a PSD plot.  \n",
    "\n",
    "Right click and click SetShowProjectY.  This opens a new canvas.  On the original PSD canvas, you can select different projections which are plotted on the right.  use this to find the location of the minima between the neutron and gamma band.  In this case it is ~0.18 for channel 0 (EJ-309) and ~0.21 (EJ-299) for channel 1.\n",
    "\n",
    "You can now view those cuts to ensure they are appropriate:"
   ]
  },
  {
   "cell_type": "code",
   "execution_count": 4,
   "metadata": {
    "collapsed": false
   },
   "outputs": [
    {
     "name": "stdout",
     "output_type": "stream",
     "text": [
      "Press enter to continue\n",
      "Press enter to continue\n"
     ]
    }
   ],
   "source": [
    "cutPt={0: 0.18, 1: 0.21}\n",
    "for detNum, detName in detNames.iteritems():\n",
    "    gROOT.ProcessLine('AmBe{}->cd()'.format(detNum))\n",
    "    #gROOT.ProcessLine('eventTree->Draw(\"(m_amplitude-m_shape)/m_amplitude:m_amplitude>>(2500,0,35000,1024,0,1)\",\"(m_amplitude-m_shape)/m_amplitude<{}\",\"colz\")'.format(cutPt[detNum]))\n",
    "    pause()"
   ]
  },
  {
   "cell_type": "markdown",
   "metadata": {},
   "source": [
    "Now we can save the cuts.  This generates a gamma histogram and saves it to the current file."
   ]
  },
  {
   "cell_type": "code",
   "execution_count": 5,
   "metadata": {
    "collapsed": false
   },
   "outputs": [
    {
     "name": "stdout",
     "output_type": "stream",
     "text": [
      "Press enter to continue\n",
      "Press enter to continue\n"
     ]
    }
   ],
   "source": [
    "for detNum, detName in detNames.iteritems():\n",
    "    gROOT.ProcessLine('AmBe{}->cd()'.format(detNum))\n",
    "    gROOT.ProcessLine('eventTree->Draw(\"m_amplitude>>AmBeGamma(2500,0,35000)\",\"(m_amplitude-m_shape)/m_amplitude<{}\")'.format(cutPt[detNum]))\n",
    "    gROOT.ProcessLine('TH1F* AmBeData{0} = (TH1F*) AmBe{0}->Get(\"AmBeGamma\")'.format(detNum))\n",
    "    gROOT.ProcessLine('AmBe{0}->Write()'.format(detNum))\n",
    "    pause()\n",
    "    \n",
    "    gROOT.ProcessLine('{0}->cd()'.format(detName))\n",
    "    gROOT.ProcessLine('AmBeData{}->Write()'.format(detNum))\n",
    "    gROOT.ProcessLine('AmBe{}->Close()'.format(detNum))"
   ]
  },
  {
   "cell_type": "markdown",
   "metadata": {},
   "source": [
    "### Combine the Calibration Data Files\n",
    "\n",
    "Next, the experimental claibration files need to be combined into a single TFile for each channel. Only the pre-experimental calibration data set specified above is included.  \n",
    "\n",
    "This loops over all of the root trees in the directory and combines them by channel number.  It assumes that the standard DAQ naming format is used.  The first prefix assumes that the names of \"Co60\" and \"Cs137\" are used for the calibration data of those isotopes.\n",
    "\n",
    "After each data set is read it, the script pauses to allow inspection of the histogram.  The user is prompted to hit <enter> to continue. The histograms are"
   ]
  },
  {
   "cell_type": "code",
   "execution_count": 6,
   "metadata": {
    "collapsed": false
   },
   "outputs": [
    {
     "name": "stdout",
     "output_type": "stream",
     "text": [
      "Adding:  Co60_003_ls_1\n",
      "Press enter to continue\n",
      "Adding:  Cs137_003_ls_0\n",
      "Press enter to continue\n",
      "Adding:  Co60_003_ls_0\n",
      "Press enter to continue\n",
      "Adding:  Cs137_003_ls_1\n",
      "Press enter to continue\n"
     ]
    }
   ],
   "source": [
    "exclude = [\"AmBe\", \"Background\", \"CalibData\"]   #File prefixes for the current calibration run to exclude\n",
    "tmpName = 'a'\n",
    "for filename in os.listdir(path):\n",
    "    if filename.endswith(\".root\") and os.path.splitext(filename)[0].split('_')[1] == runNum: \n",
    "        name = os.path.splitext(filename)[0]\n",
    "        if name.split('_')[0] not in exclude:\n",
    "            print \"Adding: \", name\n",
    "\n",
    "            gROOT.ProcessLine('TFile *{0} = new TFile(\"{1}.root\",\"update\")'.format(tmpName, name))\n",
    "            gROOT.ProcessLine('eventTree->Draw(\"m_amplitude>>{0}(2500,0,35000)\")'.format(name.split('_')[0]))\n",
    "            gROOT.ProcessLine('TH1F* {0}Data{1} = (TH1F*) {2}->Get(\"{0}Data\")'.format(name.split('_')[0], name.split('_')[3], tmpName))\n",
    "\n",
    "            gROOT.ProcessLine('{}->cd()'.format(detNames[int(name.split('_')[3])]))\n",
    "            gROOT.ProcessLine('{}->Write()'.format(name.split('_')[0]))\n",
    "            \n",
    "            gROOT.ProcessLine('{}->Close()'.format(tmpName))\n",
    "            tmpName = chr(ord(tmpName) + 1)\n",
    "            pause()       "
   ]
  },
  {
   "cell_type": "code",
   "execution_count": 7,
   "metadata": {
    "collapsed": true
   },
   "outputs": [],
   "source": [
    "# Close all of the files\n",
    "for detNum, detName in detNames.iteritems():\n",
    "    gROOT.ProcessLine('{}->Close()'.format(detName))"
   ]
  },
  {
   "cell_type": "markdown",
   "metadata": {},
   "source": [
    "### Combine the Calibration Sim Files\n",
    "\n",
    "Next, the simulated calibration files need to be combined into a single TFile.  These commands can be run through the python script, but it is probably easier to run from the command line, which is what was done.  \n",
    "\n",
    "**NOTE: Order matters!  This must be the same order as the data files above.** <br\\>\n",
    "**NOTE: These are run from the cmd line in the directory the files reside, not from within Root.**\n",
    "\n",
    "#### Commands to run: <br/>\n",
    "rootcp AmBeDeposition.root:AmBeDeposition CalibSim.root:AmBeSim <br/>\n",
    "rootcp NaCsCoGammas.root:Cs137 CalibSim.root:Cs137Sim <br/>\n",
    "rootcp CoDeposition.root:CoDeposition CalibSim.root:Co60Sim <br/>"
   ]
  },
  {
   "cell_type": "markdown",
   "metadata": {},
   "source": [
    "## 4) Perform Calibrations\n",
    "\n",
    "Simulation Based Calibrations\n",
    "\n",
    "Required:  <br/>\n",
    "1) Vector of pointers to histograms of data  <br/>\n",
    "2) Vector of pointers to histograms of simulations of that data in the same order  <br/>\n",
    "\n",
    "To run the calibrations, use the start16MeVTaCalibrations_<detNum>.cpp script located in the Calibrations folder.  \n",
    "\n",
    "**NOTE: The nsd-rootscripts repo contains an example that is similar but may differ. This script must be loaded first for both methods.**\n",
    "\n",
    "This script contains user variables that must be modified.  For this mode, two methods are used and require modifications to the script:\n",
    "\n",
    "1) startGuessSimCalib(): modify the file names <br/>\n",
    "2) startSimCalibration(): modify the file names and each of the parameters  <br/>\n",
    "\n",
    "It is recommended to use startGuessSimCalib() first; then use those parameters to use startSimCalibration with background subtraction.  However, if you have starting calibration and scale parameters, startSimCalibration() can be used without startGuessSimCalib().\n",
    "\n",
    "### Detector 0\n",
    "\n",
    "#### startGuessSimCalib\n",
    "\n",
    "First load the script and run the method for detector 0:"
   ]
  },
  {
   "cell_type": "code",
   "execution_count": 1,
   "metadata": {
    "collapsed": false
   },
   "outputs": [
    {
     "name": "stdout",
     "output_type": "stream",
     "text": [
      "Currently working in: \n",
      " /home/pyne-user/Dropbox/UCB/Research/ETAs/88Inch/Data/Experiments/PHS/16MeVTa/Calibration\n"
     ]
    },
    {
     "data": {
      "text/plain": [
       "0L"
      ]
     },
     "execution_count": 1,
     "metadata": {},
     "output_type": "execute_result"
    }
   ],
   "source": [
    "import os\n",
    "from ROOT import gROOT\n",
    "\n",
    "path = '/home/pyne-user/Dropbox/UCB/Research/ETAs/88Inch/Data/Experiments/PHS/16MeVTa/Calibration/'\n",
    "os.chdir(path)\n",
    "print 'Currently working in: \\n {}'.format(os.getcwd())\n",
    "\n",
    "gROOT.ProcessLine('.L start16MeVTaCalibration_0.cpp')"
   ]
  },
  {
   "cell_type": "markdown",
   "metadata": {},
   "source": [
    "Launch the gui:"
   ]
  },
  {
   "cell_type": "code",
   "execution_count": null,
   "metadata": {
    "collapsed": true
   },
   "outputs": [],
   "source": [
    "gROOT.ProcessLine('obj0=startGuessSimCalib()')"
   ]
  },
  {
   "cell_type": "markdown",
   "metadata": {},
   "source": [
    "Set the ranges and the good starting points using the GUI.\n",
    "\n",
    "Then run the optimization routine in the cell below. \n",
    "\n",
    "Repeat the cell below until satified with the fit.\n",
    "\n",
    "**NOTE: The plots should update.  From there, the ranges can be adjusted as necessary before running the optimization routine again. Ensure that no parameters are pegged to range limits.**"
   ]
  },
  {
   "cell_type": "code",
   "execution_count": null,
   "metadata": {
    "collapsed": false
   },
   "outputs": [],
   "source": [
    "gROOT.ProcessLine('obj0->findGammaCalibrationConstants()')"
   ]
  },
  {
   "cell_type": "markdown",
   "metadata": {},
   "source": [
    "The fit obtained was:\n",
    "\n",
    "<img src=\"Pics/16MeVTa_Det0PreCalib.png\">"
   ]
  },
  {
   "cell_type": "markdown",
   "metadata": {},
   "source": [
    "#### startSimCalib\n",
    "\n",
    "Perform a more thorough calibration using the parameters found from above.  A power law fit is used for the background subtraction."
   ]
  },
  {
   "cell_type": "code",
   "execution_count": 2,
   "metadata": {
    "collapsed": false
   },
   "outputs": [
    {
     "data": {
      "text/plain": [
       "108710976L"
      ]
     },
     "execution_count": 2,
     "metadata": {},
     "output_type": "execute_result"
    }
   ],
   "source": [
    "gROOT.ProcessLine('sim0=startSimCalibration()')"
   ]
  },
  {
   "cell_type": "code",
   "execution_count": null,
   "metadata": {
    "collapsed": true
   },
   "outputs": [],
   "source": [
    "gROOT.ProcessLine('sim0->findGammaCalibrationConstants()')"
   ]
  },
  {
   "cell_type": "code",
   "execution_count": null,
   "metadata": {
    "collapsed": true
   },
   "outputs": [],
   "source": [
    "gROOT.ProcessLine('std::vector<double> params0 = sim0->findGammaCalibrationConstants()')\n",
    "gROOT.ProcessLine('sim0->writeStateToDisk(\"CalibParams_0.txt\")')"
   ]
  },
  {
   "cell_type": "code",
   "execution_count": null,
   "metadata": {
    "collapsed": false
   },
   "outputs": [],
   "source": [
    "gROOT.ProcessLine('sim0->getMinimizer()->Hesse()')"
   ]
  },
  {
   "cell_type": "code",
   "execution_count": 3,
   "metadata": {
    "collapsed": true
   },
   "outputs": [],
   "source": [
    "# Save the fit parameters locally for detector 0\n",
    "params = {0: [4.97585e-04, 3.57267e-02, 4.11884e-02, 6.41424e-02, 9.08743e-04]}\n",
    "\n",
    "## Plot Resolution function?"
   ]
  },
  {
   "cell_type": "markdown",
   "metadata": {},
   "source": [
    "The calibration is saved as **CalibParams_0.txt**.  The fit obtained was:\n",
    "\n",
    "<img src=\"Pics/16MeVTa_Det0Calib.png\">\n",
    "\n",
    "##### The minimization results:\n",
    "\n",
    "EIGENVALUES OF SECOND-DERIVATIVE MATRIX: <br\\>\n",
    "        -2.9588e-02 -1.2373e-02  2.5746e-02  8.0445e-02  1.3221e-01  2.0510e-01  3.8429e-01  4.1188e-01  4.5906e-01  7.7790e-01  9.6512e-01  9.9914e-01  1.0038e+00  1.8586e+00  2.6252e+00  3.2564e+00  3.8571e+00\n",
    "\n",
    "FCN=565.202 FROM HESSE     STATUS=NOT POSDEF    279 CALLS         280 TOTAL <br\\>\n",
    "                     EDM=0.19032    STRATEGY= 1      ERR MATRIX NOT POS-DEF <br\\>\n",
    "  EXT PARAMETER                APPROXIMATE     INTERNAL      INTERNAL   <br\\>\n",
    "  NO.   NAME      VALUE            ERROR       STEP SIZE       VALUE    <br\\>\n",
    "   1  a            4.97585e-04   2.71648e-07   2.68337e-04  -1.77102e-03 <br\\>\n",
    "   2  b            3.57267e-02   6.78383e-04   4.39910e-03  -5.67918e-01 <br\\>\n",
    "   3  Ec           4.11884e-02   1.67921e-03   1.25833e-02   3.45209e-01 <br\\>\n",
    "   4  E1           6.41424e-02   2.38256e-03   1.44392e-02  -5.71026e-01 <br\\>\n",
    "   5  E2           9.08743e-04   4.21799e-04   5.00000e-01   8.00252e-01 <br\\>\n",
    "   6  AmBeSim_scaler   1.32383e+05   1.13765e+03   2.02670e-03  -1.62056e-01 <br\\>\n",
    "   7  Cs137Sim_scaler   1.15384e+05   1.12532e+03   1.19428e-03  -3.97452e-01 <br\\>\n",
    "   8  Co60Sim_scaler   9.83205e+04   2.12376e+03   8.64060e-04  -4.98050e-01 <br\\>\n",
    "   9  AmBeSim Power Law - Scalar   1.50646e-01   1.00002e-02   2.79702e-03  -7.73590e-01 <br\\>\n",
    "  10  AmBeSim Power Law - Exponent  -4.31117e+00   5.85457e-02   8.39388e-04   1.38206e-01 <br\\>\n",
    "  11  AmBeSim Constant Background   9.53674e-06   1.14039e+00   2.63537e-01  -1.56884e+00 <br\\>\n",
    "  12  Cs137Sim Power Law - Scalar   1.06311e-03   1.54924e-04   1.04400e-03  -1.50557e+00 <br\\>\n",
    "  13  Cs137Sim Power Law - Exponent  -2.56594e-05   3.93465e-01   6.83559e-02   1.56759e+00 <br\\>\n",
    "  14  Cs137Sim Constant Background   9.90464e+00   1.24331e+01   2.74877e-01   3.26383e-01 <br\\>\n",
    "  15  Co60Sim Power Law - Scalar   5.73151e-04   1.29500e-04   1.02031e-03  -1.52291e+00 <br\\>\n",
    "  16  Co60Sim Power Law - Exponent  -4.11169e+00   3.93111e-01   3.43199e-03   1.78610e-01 <br\\>\n",
    "  17  Co60Sim Constant Background   1.02926e-06   3.86291e-01   5.00000e-01  -1.56777e+00 <br\\>\n",
    "  \n",
    " EXTERNAL ERROR MATRIX.    NDIM=  25    NPAR= 17    ERR DEF=1 <br\\>\n",
    " ELEMENTS ABOVE DIAGONAL ARE NOT PRINTED. <br\\>\n",
    "  7.379e-14 -1.097e-10 1.328e-10 -1.287e-11 -6.004e-12 <br\\>\n",
    " -1.097e-10  4.603e-07 -1.684e-07  7.232e-08 2.741e-08 <br\\>\n",
    "  1.328e-10 -1.684e-07  2.823e-06 -2.442e-06  1.094e-07  <br\\>\n",
    " -1.287e-11  7.232e-08 -2.442e-06  5.684e-06 -2.070e-07  <br\\>\n",
    " -6.004e-12  2.741e-08  1.094e-07 -2.070e-07  1.514e-05  <br\\>\n",
    " \n",
    " PARAMETER  CORRELATION COEFFICIENTS   <br\\>\n",
    "       NO.  GLOBAL      1      2      3      4      5      6      7      8      9     10     11     12     13     14     15     16 <br\\>\n",
    "        1  0.73611   1.000 -0.595  0.291 -0.020 -0.006  0.127  0.022  0.012 -0.167  0.125  0.083 -0.083  0.015 -0.011 -0.008  0.003 <br\\>\n",
    "        2  0.79817  -0.595  1.000 -0.148  0.045  0.010 -0.049 -0.149 -0.033  0.061 -0.040 -0.029  0.282 -0.060  0.036  0.084  0.088 <br\\>\n",
    "        3  0.80231   0.291 -0.148  1.000 -0.610  0.017  0.443 -0.243 -0.073  0.032 -0.234 -0.064  0.116  0.005  0.013  0.076  0.078 <br\\>\n",
    "        4  0.79202  -0.020  0.045 -0.610  1.000 -0.022 -0.051  0.500  0.315 -0.008  0.032  0.010 -0.255 -0.010 -0.030 -0.303 -0.293 <br\\>\n",
    "        5  0.05185  -0.006  0.010  0.017 -0.022  1.000  0.000  0.011  0.024 -0.001  0.001 -0.003 -0.004 -0.006  0.002 -0.024 -0.024 <br\\>\n",
    "        6  0.90976   0.127 -0.049  0.443 -0.051  0.000  1.000  0.016  0.065 -0.050 -0.372 -0.046 -0.009 -0.001 -0.001 -0.059 -0.055 <br\\>\n",
    "        7  0.87323   0.022 -0.149 -0.243  0.500  0.011  0.016  1.000  0.181  0.008 -0.017 -0.007 -0.473 -0.094 -0.061 -0.187 -0.183 <br\\>\n",
    "        8  0.98403   0.012 -0.033 -0.073  0.315  0.024  0.065  0.181  1.000  0.013 -0.043 -0.014 -0.103 -0.000 -0.012 -0.974 -0.947 <br\\>\n",
    "        9  0.97836  -0.167  0.061  0.032 -0.008 -0.001 -0.050  0.008  0.013  1.000 -0.884  0.054 -0.002  0.000 -0.000 -0.016 -0.018 <br\\>\n",
    "       10  0.98220   0.125 -0.040 -0.234  0.032  0.001 -0.372 -0.017 -0.043 -0.884  1.000 -0.103  0.008 -0.000  0.001  0.045  0.045 <br\\>\n",
    "       11  0.42630   0.083 -0.029 -0.064  0.010 -0.003 -0.046 -0.007 -0.014  0.054 -0.103  1.000  0.003 -0.000  0.000  0.016  0.016 <br\\>\n",
    "       12  0.95740  -0.083  0.282  0.116 -0.255 -0.004 -0.009 -0.473 -0.103 -0.002  0.008  0.003  1.000 -0.308 -0.708  0.119  0.119 <br\\>\n",
    "       13  0.71612   0.015 -0.060  0.005 -0.010 -0.006 -0.001 -0.094 -0.000  0.000 -0.000 -0.000 -0.308  1.000  0.063 -0.004 -0.004 <br\\>\n",
    "       14  0.92979  -0.011  0.036  0.013 -0.030  0.002 -0.001 -0.061 -0.012 -0.000  0.001  0.000 -0.708  0.063  1.000  0.014  0.014 <br\\>\n",
    "       15  0.99689  -0.008  0.084  0.076 -0.303 -0.024 -0.059 -0.187 -0.974 -0.016  0.045  0.016  0.119 -0.004  0.014  1.000  0.990 <br\\>\n",
    "       16  0.99354   0.003  0.088  0.078 -0.293 -0.024 -0.055 -0.183 -0.947 -0.018  0.045  0.016  0.119 -0.004  0.014  0.990  1.000 <br\\>\n",
    "       17  0.04251   0.002  0.003  0.000  0.002 -0.001  0.001  0.000  0.009 -0.000  0.000  0.000  0.001 -0.000  0.000 -0.016 -0.017 \n",
    "                     1.000 <br\\>"
   ]
  },
  {
   "cell_type": "markdown",
   "metadata": {},
   "source": [
    "### Detector 1\n",
    "\n",
    "#### startGuessSimCalib()\n",
    "\n",
    "First load the script.\n",
    "\n",
    "** NOTE: This is just a placeholder as the simualtions are for EJ-309, not EJ-299**"
   ]
  },
  {
   "cell_type": "code",
   "execution_count": null,
   "metadata": {
    "collapsed": false,
    "scrolled": true
   },
   "outputs": [],
   "source": [
    "from ROOT import gROOT\n",
    "\n",
    "gROOT.ProcessLine('.L Calibration/start16MeVTaCalibration_1.cpp')\n",
    "gROOT.ProcessLine('obj1=startGuessSimCalib()')"
   ]
  },
  {
   "cell_type": "markdown",
   "metadata": {},
   "source": [
    "Save the results to file and create a local object with the optimization parameters."
   ]
  },
  {
   "cell_type": "code",
   "execution_count": null,
   "metadata": {
    "collapsed": false
   },
   "outputs": [],
   "source": [
    "gROOT.ProcessLine('obj1->findGammaCalibrationConstants()')"
   ]
  },
  {
   "cell_type": "markdown",
   "metadata": {},
   "source": [
    "The fit obtained was:\n",
    "\n",
    "<img src=\"Pics/16MeVTa_Det0Calib.png\">"
   ]
  },
  {
   "cell_type": "markdown",
   "metadata": {},
   "source": [
    "#### startSimCalib\n",
    "\n",
    "Perform a more thorough calibration using the parameters found from above.  A power law fit is used for the background subtraction."
   ]
  },
  {
   "cell_type": "code",
   "execution_count": 2,
   "metadata": {
    "collapsed": false
   },
   "outputs": [
    {
     "data": {
      "text/plain": [
       "108710976L"
      ]
     },
     "execution_count": 2,
     "metadata": {},
     "output_type": "execute_result"
    }
   ],
   "source": [
    "gROOT.ProcessLine('sim1=startSimCalibration()')"
   ]
  },
  {
   "cell_type": "code",
   "execution_count": null,
   "metadata": {
    "collapsed": true
   },
   "outputs": [],
   "source": [
    "gROOT.ProcessLine('sim1->findGammaCalibrationConstants()')"
   ]
  },
  {
   "cell_type": "code",
   "execution_count": null,
   "metadata": {
    "collapsed": true
   },
   "outputs": [],
   "source": [
    "gROOT.ProcessLine('std::vector<double> params1 = sim1->findGammaCalibrationConstants()')\n",
    "gROOT.ProcessLine('sim1->getMinimizer()->Hesse()')\n",
    "gROOT.ProcessLine('sim1->writeStateToDisk(\"CalibParams_1.txt\")')"
   ]
  },
  {
   "cell_type": "code",
   "execution_count": 2,
   "metadata": {
    "collapsed": true
   },
   "outputs": [],
   "source": [
    "# Save the fit parameters locally for detector 0\n",
    "params.update({1: [4.85621e-04, 3.50201e-02, 3.93118e-02, 7.61783e-02, 9.20844e-05]})"
   ]
  },
  {
   "cell_type": "markdown",
   "metadata": {},
   "source": [
    "## 5) Experimental Data Acquisition:\n",
    "\n",
    "All current monitor data is stored in: **Bevins_2H16+1_1914_24FEB17** in the 16MeVTa/Data. \n",
    "\n",
    "The current was ~500 $\\mu$A. The current integrator was set to the 6E-7 Scale.  Two ~30 min runs were performed.\n",
    "\n",
    "### Run #1\n",
    "Start: 1921\n",
    "Current integrator reading is 0 <br\\>\n",
    "Stop: 1954 <br\\>\n",
    "Current integrator reading is 1459 <br\\>\n",
    "\n",
    "### Run #2\n",
    "Start: 1956 <br\\>\n",
    "Current integrator reading is 0 <br\\>\n",
    "Stop: 2027 <br\\>\n",
    "Current Integrator is 1370 <br\\>"
   ]
  },
  {
   "cell_type": "markdown",
   "metadata": {},
   "source": [
    "## 6) Pulse Height Spectrum Post-Processing:\n",
    "\n",
    "These steps convert the experimental data to root files, makes a TChain combining the run data, applys PSD cuts, and generates a heprow formatted .phs file for use in unfolding.  \n",
    "\n",
    "### Convert Data Files from Binary to Root"
   ]
  },
  {
   "cell_type": "code",
   "execution_count": 1,
   "metadata": {
    "collapsed": false
   },
   "outputs": [
    {
     "name": "stdout",
     "output_type": "stream",
     "text": [
      "Currently working in: \n",
      " /home/pyne-user/Dropbox/UCB/Research/ETAs/88Inch/Data/Experiments/PHS/16MeVTa/Data\n"
     ]
    }
   ],
   "source": [
    "import sys\n",
    "import os\n",
    "from ROOT import gROOT\n",
    "\n",
    "sys.path.insert(0,os.path.abspath('/home/pyne-user/Dropbox/UCB/Computational_Tools/Scripts/Python/Support'))\n",
    "from Utilities import pause, remove_file\n",
    "\n",
    "path = '/home/pyne-user/Dropbox/UCB/Research/ETAs/88Inch/Data/Experiments/PHS/16MeVTa/Data/'\n",
    "os.chdir(path)\n",
    "print 'Currently working in: \\n {}'.format(os.getcwd())"
   ]
  },
  {
   "cell_type": "code",
   "execution_count": null,
   "metadata": {
    "collapsed": false
   },
   "outputs": [],
   "source": [
    "gROOT.ProcessLine('DPPBinaryParser parser;')\n",
    "\n",
    "for filename in os.listdir(path):\n",
    "    if filename.endswith(\".dat\"): \n",
    "        name = os.path.splitext(filename)[0]\n",
    "        gROOT.ProcessLine('parser.readDatFile(\"{0}.dat\", \"{0}.root\");'.format(name))"
   ]
  },
  {
   "cell_type": "markdown",
   "metadata": {},
   "source": [
    "### Make PSD Cuts\n",
    "\n",
    "To perform the unfolding, it is necessary to toss out the gamma data from the target data.  Here a simple linear cut with a slope is used.  psdplotfitter.h has some more advanced options if needed.\n",
    "\n",
    "Each of the gROOT commands can be copied and run directly in ROOT if desired.\n",
    "\n",
    "First draw the PSD reducing the number of bins in both directions for the calibration run:"
   ]
  },
  {
   "cell_type": "code",
   "execution_count": null,
   "metadata": {
    "collapsed": false
   },
   "outputs": [],
   "source": [
    "detNames = {0: 'EJ309'}#, 1: 'EJ299'}\n",
    "\n",
    "# Plot each PSD\n",
    "for detNum, detName in detNames.iteritems():\n",
    "    gROOT.ProcessLine('TChain {0}(\"{0}\")'.format(detName))\n",
    "    gROOT.ProcessLine('{0}.Add(\"16MeVTaUnfoldingRun_*_ls_{1}.root/eventTree\")'.format(detName, detNum))\n",
    "\n",
    "    #gROOT.ProcessLine('{0}.Draw(\"(m_amplitude-m_shape)/m_amplitude:m_amplitude>>(17000,0,34000,1024,0,1)\",\"\",\"colz\")'.format(detName))\n",
    "    gROOT.ProcessLine('{0}.ls()'.format(detName))\n",
    "    pause()"
   ]
  },
  {
   "cell_type": "markdown",
   "metadata": {},
   "source": [
    "This will open a PSD plot.  Right click and click SetShowProjectY.  This opens a new canvas.  On the original PSD canvas, you can select different projections which are plotted on the right.  Use this to find the location of the minima between the neutron and gamma band. The cuts were then deveoped by fitting the curve of the gap between the distributions.  \n",
    "\n",
    "In this case it is $2.28E-19*ch^4 - 2.07E-14*ch^3 + 6.89E-10*ch^2 - 1.01E-05*ch + 0.206$ for channel 0 (EJ-309). All channels below 400 were also cut.  \n",
    "\n",
    "In this case it is $2.96E-19*ch^4 - 2.52E-14*ch^3 + 7.47E-10*ch^2 - 8.97E-06*ch + 0.236$ for channel 1 (EJ-299). All channels below 500 were also cut.  \n",
    "\n",
    "You can now view those cuts to ensure they are appropriate:"
   ]
  },
  {
   "cell_type": "code",
   "execution_count": 5,
   "metadata": {
    "collapsed": false
   },
   "outputs": [
    {
     "name": "stdout",
     "output_type": "stream",
     "text": [
      "Press enter to continue\n",
      "Press enter to continue\n"
     ]
    }
   ],
   "source": [
    "cutLine = {0: \"2.28E-19*m_amplitude^4 - 2.07E-14*m_amplitude^3 + 6.89E-10*m_amplitude^2 - 1.01E-05*m_amplitude + 0.206\",\n",
    "           1: \"2.96E-19*m_amplitude^4 - 2.52E-14*m_amplitude^3 + 7.47E-10*m_amplitude^2 - 8.97E-06*m_amplitude + 0.236\"}\n",
    "cutCh = {0: 500, 1: 500}\n",
    "\n",
    "for detNum, detName in detNames.iteritems():\n",
    "    gROOT.ProcessLine('{0}.Draw(\"(m_amplitude-m_shape)/m_amplitude:m_amplitude>>(16000,0,32000,1024,0,1)\",\"(m_amplitude-m_shape)/m_amplitude>{1} && m_amplitude>{2}\",\"colz\")'.format(detName, cutLine[detNum], cutCh[detNum]))\n",
    "    pause()"
   ]
  },
  {
   "cell_type": "markdown",
   "metadata": {},
   "source": [
    "### Save the Cuts\n",
    "\n",
    "Generates a 1D neutron pulsse height histogram and saves it to the current file."
   ]
  },
  {
   "cell_type": "code",
   "execution_count": 6,
   "metadata": {
    "collapsed": false
   },
   "outputs": [
    {
     "name": "stdout",
     "output_type": "stream",
     "text": [
      "Press enter to continue\n",
      "Press enter to continue\n"
     ]
    }
   ],
   "source": [
    "for detNum, detName in detNames.iteritems():\n",
    "    gROOT.ProcessLine('TFile *tmp{0} = new TFile(\"{1}psdCutTgt{2}.root\",\"recreate\")'.format(detNum, path, str(detNum)))\n",
    "    gROOT.ProcessLine('{0}.Draw(\"m_amplitude>>{0}Neutron(16000,0,32000)\",\"(m_amplitude-m_shape)/m_amplitude>{1} && m_amplitude>{2}\",\"colz\")'.format(detName, cutLine[detNum], cutCh[detNum]))\n",
    "    gROOT.ProcessLine('tmp{0}->Write()'.format(str(detNum)))\n",
    "    pause()"
   ]
  },
  {
   "cell_type": "markdown",
   "metadata": {},
   "source": [
    "### Apply Calibrations\n",
    "\n",
    "params[detNum][0] is the slope of the calibration <br\\>\n",
    "params[detNum][1] is the intercept of the calibration\n",
    "\n",
    "**NOTE: If the notebook has been restarted, the cell defining these parameters above in the Calibrations sections will need to be rerun. **"
   ]
  },
  {
   "cell_type": "code",
   "execution_count": 7,
   "metadata": {
    "collapsed": false
   },
   "outputs": [
    {
     "name": "stdout",
     "output_type": "stream",
     "text": [
      "Press enter to continue\n",
      "Press enter to continue\n"
     ]
    }
   ],
   "source": [
    "gROOT.ProcessLine('HistogramOperations ops')\n",
    "\n",
    "for detNum, detName in detNames.iteritems():\n",
    "    gROOT.ProcessLine('vector<TH1*> phs{0} = ops.loadHistograms(\"{1}psdCutTgt{0}.root\")'.format(str(detNum), path))\n",
    "    gROOT.ProcessLine('ops.applyCalibration(phs{0}[0],{1},{2})'.format(detNum, params[detNum][0], params[detNum][1]))\n",
    "    gROOT.ProcessLine('TFile *tgt{0} = new TFile(\"{1}psdCutCalibTgt{0}.root\",\"recreate\")'.format(detNum, path))\n",
    "    gROOT.ProcessLine('phs{0}[0]->Draw()'.format(detNum))\n",
    "    gROOT.ProcessLine('phs{0}[0]->Write()'.format(str(detNum)))\n",
    "    #remove_file(\"{0}psdCutTgt{1}.root\".format(path, str(detNum)))\n",
    "    pause()"
   ]
  },
  {
   "cell_type": "markdown",
   "metadata": {},
   "source": [
    "### Generate the HEPROW .phs file\n",
    "\n",
    "Find the first bin with data.  The cell will prints out the first bin, but not the lower MeVee edge.  It is a bit clunky, but you can read it directly from the terminal running this notebook (or run the commands in Root directly). This should be input into the truncate dictionary below.\n",
    "\n",
    "This is done to preserve the same edge.  Otherwise, the rebin operation will move the edge based on the rebinning structure. "
   ]
  },
  {
   "cell_type": "code",
   "execution_count": null,
   "metadata": {
    "collapsed": false
   },
   "outputs": [],
   "source": [
    "for detNum, detName in detNames.iteritems():\n",
    "    i=0\n",
    "    gROOT.ProcessLine('tgt{}->cd()'.format(detNum))\n",
    "    while gROOT.ProcessLine('phs{0}[0]->GetBinContent({1})'.format(detNum, i))==0:\n",
    "        i+=1\n",
    "    print detName, i\n",
    "\n",
    "    gROOT.ProcessLine('phs{0}[0]->GetXaxis()->GetBinLowEdge({1})'.format(detNum, i))"
   ]
  },
  {
   "cell_type": "markdown",
   "metadata": {},
   "source": [
    "Choose a rebin number to get the desired MeVee/bin.  In this case, 8 was chosen to get ~ 0.05 MeVee/bin.  This is dependent on the rebinning done during the psd cuts\n",
    "\n",
    "Truncate all negative and all zeros data.  This makes the bottom of the PHS cleaner and easier for working with in HEPROW. This data can be read from the terminal after running the cell above.\n",
    "\n",
    "Rebin to stastically significant bins and print .phs file."
   ]
  },
  {
   "cell_type": "code",
   "execution_count": null,
   "metadata": {
    "collapsed": false
   },
   "outputs": [],
   "source": [
    "rebin = 2\n",
    "truncate = {0: 2.280523e-01, 1: 2.729744e-01}\n",
    "outPath = \"/home/pyne-user/Dropbox/UCB/Research/ETAs/88Inch/Data/Experiments/PHS/16MeVTa/Unfold/HEPROW/Inputs/\"\n",
    "\n",
    "gROOT.ProcessLine('HistogramWriter writer;')\n",
    "\n",
    "for detNum, detName in detNames.iteritems():\n",
    "    gROOT.ProcessLine('PulseHeightSpectrum{0} = (TH1D*)ops.truncateHist(phs{0}[0],{1},16)'.format(detNum, truncate[detNum]))\n",
    "    gROOT.ProcessLine('PulseHeightSpectrum{0}->Rebin({1})'.format(detNum, rebin))\n",
    "    gROOT.ProcessLine('PulseHeightSpectrum{0}->GetXaxis()->GetBinLowEdge({1})'.format(detNum, i//rebin))\n",
    "    \n",
    "    gROOT.ProcessLine('TH1* dataHist{0} = ops.rebinStatistically(PulseHeightSpectrum{0},100);'.format(detNum))\n",
    "    gROOT.ProcessLine('writer.PhToHEPROW(PulseHeightSpectrum{0},\"{1}{2}_16MeVTa_phs_01\")'.format(detNum, outPath, detName))\n",
    "    gROOT.ProcessLine('writer.PhToHEPROW(dataHist{0},\"{1}{2}_16MeVTa_stat_100_phs_01\")'.format(detNum, outPath, detName))"
   ]
  },
  {
   "cell_type": "markdown",
   "metadata": {
    "collapsed": true
   },
   "source": [
    "## 7) EJ309 (tgt0) Spectrum Unfolding\n",
    "\n",
    "From here forward, the rest of the notebook is on a detector by detector basis.\n",
    "\n",
    "### Generate 1 MeV EJ309 Response Matrix\n",
    "\n",
    "#### Load the simulated respose matrix"
   ]
  },
  {
   "cell_type": "code",
   "execution_count": null,
   "metadata": {
    "collapsed": false
   },
   "outputs": [],
   "source": [
    "from ROOT import gROOT\n",
    "import numpy as np\n",
    "\n",
    "rspPath=\"/home/pyne-user/Dropbox/UCB/Research/ETAs/88Inch/Data/Simulated/PHS/ResponseMatrices/simSideResponse20Mil.root\"\n",
    "outPath = \"/home/pyne-user/Dropbox/UCB/Research/ETAs/88Inch/Data/Experiments/PHS/16MeVTa/Unfold/HEPROW/Inputs/\"\n",
    "\n",
    "gROOT.ProcessLine('SimulationManipulation sm(\"{}\",0)'.format(rspPath))\n",
    "gROOT.ProcessLine('HistogramOperations ops')\n",
    "gROOT.ProcessLine('HistogramWriter writer;')"
   ]
  },
  {
   "cell_type": "markdown",
   "metadata": {},
   "source": [
    "#### Response Matrix Binning\n",
    "\n",
    "rspEwidth = the width of bins to use for the binning of the response matrix energy <br/>\n",
    "rspEmin = the minimum Energy to use for the binning of the response matrix  <br/>\n",
    "rspEmax = the maximum Energy to use for the binning of the response matrix  <br/>\n",
    "rspLwidth = the width of bins to use for the binning of the response matrix light <br/>\n",
    "rspLmin = the minimum Light to use for the binning of the response matrix  <br/>\n",
    "rspLmax = the maximum Light to use for the binning of the response matrix  <br/>"
   ]
  },
  {
   "cell_type": "code",
   "execution_count": null,
   "metadata": {
    "collapsed": true
   },
   "outputs": [],
   "source": [
    "rspEwidth=1\n",
    "rspEmin=0.0\n",
    "rspEmax=25.0\n",
    "rspLwidth=0.01\n",
    "rspLmin=0.0\n",
    "rspLmax=16.0"
   ]
  },
  {
   "cell_type": "markdown",
   "metadata": {},
   "source": [
    "#### Create the bin structures and print .rsp file"
   ]
  },
  {
   "cell_type": "code",
   "execution_count": null,
   "metadata": {
    "collapsed": false
   },
   "outputs": [],
   "source": [
    "# Create the bin structures\n",
    "rspEbins=np.arange(rspEmin,rspEmax,rspEwidth)\n",
    "rspEbins=np.append(rspEbins,rspEmax)\n",
    "#print rspEbins\n",
    "rspLbins=np.arange(rspLmin,rspLmax,rspLwidth)\n",
    "rspLbins=np.append(rspLbins,rspLmax)\n",
    "#print rspLbins\n",
    "gROOT.ProcessLine('const Int_t EBINS = {}; const Int_t LBINS = {};'.format(len(rspEbins)-1,len(rspLbins)-1))\n",
    "gROOT.ProcessLine('Double_t eEdges[EBINS + 1] = {}{}{};'.format(\"{\",\", \".join(str(e) for e in rspEbins),\"}\"))\n",
    "gROOT.ProcessLine('Double_t lEdges[LBINS + 1] = {}{}{};'.format(\"{\",\", \".join(str(e) for e in rspLbins),\"}\"))\n",
    "gROOT.ProcessLine('axis1 = TAxis(EBINS,eEdges);')\n",
    "gROOT.ProcessLine('axis2 = TAxis(LBINS,lEdges);')\n",
    "\n",
    "# Create the Histogram and output file\n",
    "gROOT.ProcessLine('TH2* matrix1=sm.getNormalizedResponseMatrix(axis1,axis2)')\n",
    "gROOT.ProcessLine('matrix1->Draw(\"colz\")')\n",
    "gROOT.ProcessLine('writer.ResponseToHEPROW(matrix1,\"{}EJ309_resp_01_1\")'.format(outPath))"
   ]
  },
  {
   "cell_type": "markdown",
   "metadata": {},
   "source": [
    "#### Smear the Response Matrix and Create the .rsp File\n",
    "\n",
    "This requires the params variable to be defined. The cells can be found in the Calibration section and reran if the kernel has restarted. "
   ]
  },
  {
   "cell_type": "code",
   "execution_count": null,
   "metadata": {
    "collapsed": false
   },
   "outputs": [],
   "source": [
    "gROOT.ProcessLine('TH2* smearMatrix1 = ops.skewedGausSmearMatrix(matrix1, {}, {}, {})'.format(params[0][2], params[0][3], params[0][4]))\n",
    "gROOT.ProcessLine('smearMatrix1->Draw(\"colz\")')\n",
    "gROOT.ProcessLine('writer.ResponseToHEPROW(smearMatrix1,\"{}EJ309_smearedResp_01_1\")'.format(outPath))"
   ]
  },
  {
   "cell_type": "markdown",
   "metadata": {},
   "source": [
    "#### Mik.inp Support\n",
    "\n",
    "These lines are useful to develop the mik.inp file:"
   ]
  },
  {
   "cell_type": "code",
   "execution_count": null,
   "metadata": {
    "collapsed": false
   },
   "outputs": [],
   "source": [
    "print \"{}\".format(len(rspEbins)-2)\n",
    "for i in range(1,len(rspEbins)-1):\n",
    "    print \"{:.1f}                                     right boundary of {:1d} energy interval\".format(rspEbins[i],i)"
   ]
  },
  {
   "cell_type": "markdown",
   "metadata": {
    "collapsed": true
   },
   "source": [
    "### Generate 0.5 MeV EJ309 Response Matrix\n",
    "\n",
    "#### Load the simulated respose matrix\n",
    "\n",
    "The kernel must be restarted for this section to work."
   ]
  },
  {
   "cell_type": "code",
   "execution_count": null,
   "metadata": {
    "collapsed": false
   },
   "outputs": [],
   "source": [
    "from ROOT import gROOT\n",
    "import numpy as np\n",
    "\n",
    "rspPath=\"/home/pyne-user/Dropbox/UCB/Research/ETAs/88Inch/Data/Simulated/PHS/ResponseMatrices/simSideResponse20Mil.root\"\n",
    "outPath = \"/home/pyne-user/Dropbox/UCB/Research/ETAs/88Inch/Data/Experiments/PHS/16MeVTa/Unfold/HEPROW/Inputs/\"\n",
    "\n",
    "gROOT.ProcessLine('SimulationManipulation sm(\"{}\",0)'.format(rspPath))\n",
    "gROOT.ProcessLine('HistogramOperations ops')\n",
    "gROOT.ProcessLine('HistogramWriter writer;')"
   ]
  },
  {
   "cell_type": "markdown",
   "metadata": {},
   "source": [
    "#### Response Matrix Binning\n",
    "\n",
    "rspEwidth = the width of bins to use for the binning of the response matrix energy <br/>\n",
    "rspEmin = the minimum Energy to use for the binning of the response matrix  <br/>\n",
    "rspEmax = the maximum Energy to use for the binning of the response matrix  <br/>\n",
    "rspLwidth = the width of bins to use for the binning of the response matrix light <br/>\n",
    "rspLmin = the minimum Light to use for the binning of the response matrix  <br/>\n",
    "rspLmax = the maximum Light to use for the binning of the response matrix  <br/>"
   ]
  },
  {
   "cell_type": "code",
   "execution_count": null,
   "metadata": {
    "collapsed": true
   },
   "outputs": [],
   "source": [
    "rspEwidth=0.5\n",
    "rspEmin=0.0\n",
    "rspEmax=25.0\n",
    "rspLwidth=0.05\n",
    "rspLmin=0.0\n",
    "rspLmax=16.0"
   ]
  },
  {
   "cell_type": "markdown",
   "metadata": {},
   "source": [
    "#### Create the bin structures and print .rsp file"
   ]
  },
  {
   "cell_type": "code",
   "execution_count": null,
   "metadata": {
    "collapsed": false
   },
   "outputs": [],
   "source": [
    "# Create the bin structures\n",
    "rspEbins=np.arange(rspEmin,rspEmax,rspEwidth)\n",
    "rspEbins=np.append(rspEbins,rspEmax)\n",
    "#print rspEbins\n",
    "rspLbins=np.arange(rspLmin,rspLmax,rspLwidth)\n",
    "rspLbins=np.append(rspLbins,rspLmax)\n",
    "#print rspLbins\n",
    "gROOT.ProcessLine('const Int_t EBINS = {}; const Int_t LBINS = {};'.format(len(rspEbins)-1,len(rspLbins)-1))\n",
    "gROOT.ProcessLine('Double_t eEdges[EBINS + 1] = {}{}{};'.format(\"{\",\", \".join(str(e) for e in rspEbins),\"}\"))\n",
    "gROOT.ProcessLine('Double_t lEdges[LBINS + 1] = {}{}{};'.format(\"{\",\", \".join(str(e) for e in rspLbins),\"}\"))\n",
    "gROOT.ProcessLine('axis1 = TAxis(EBINS,eEdges);')\n",
    "gROOT.ProcessLine('axis2 = TAxis(LBINS,lEdges);')\n",
    "\n",
    "# Create the Histogram and output file\n",
    "gROOT.ProcessLine('TH2* matrix50=sm.getNormalizedResponseMatrix(axis1,axis2)')\n",
    "gROOT.ProcessLine('matrix50->Draw(\"colz\")')\n",
    "gROOT.ProcessLine('writer.ResponseToHEPROW(matrix50,\"{}EJ309_resp_05_50\")'.format(outPath))"
   ]
  },
  {
   "cell_type": "markdown",
   "metadata": {},
   "source": [
    "#### Smear the Response Matrix and Create the .rsp File\n",
    "\n",
    "This requires the params variable to be defined. The cells can be found in the Calibration section and reran if the kernel has restarted. "
   ]
  },
  {
   "cell_type": "code",
   "execution_count": null,
   "metadata": {
    "collapsed": false
   },
   "outputs": [],
   "source": [
    "gROOT.ProcessLine('TH2* smearMatrix50 = ops.skewedGausSmearMatrix(matrix50, {}, {}, {})'.format(params[0][2], params[0][3], params[0][4]))\n",
    "gROOT.ProcessLine('smearMatrix50->Draw(\"colz\")')\n",
    "gROOT.ProcessLine('writer.ResponseToHEPROW(smearMatrix50,\"{}EJ309_smearedResp_05_50\")'.format(outPath))"
   ]
  },
  {
   "cell_type": "markdown",
   "metadata": {},
   "source": [
    "#### Mik.inp Support\n",
    "\n",
    "These lines are useful to develop the mik.inp file:"
   ]
  },
  {
   "cell_type": "code",
   "execution_count": null,
   "metadata": {
    "collapsed": false
   },
   "outputs": [],
   "source": [
    "print \"{}\".format(len(rspEbins)-2)\n",
    "for i in range(1,len(rspEbins)-1):\n",
    "    print \"{:.1f}                                     right boundary of {:1d} energy interval\".format(rspEbins[i],i)"
   ]
  },
  {
   "cell_type": "markdown",
   "metadata": {},
   "source": [
    "### NSD Unfold - EJ309"
   ]
  },
  {
   "cell_type": "code",
   "execution_count": 28,
   "metadata": {
    "collapsed": false
   },
   "outputs": [
    {
     "data": {
      "text/plain": [
       "43.624686763350347"
      ]
     },
     "execution_count": 28,
     "metadata": {},
     "output_type": "execute_result"
    }
   ],
   "source": [
    "from scipy.stats import chi2\n",
    "chi2.isf(1 - .68, 40)\n",
    "\n",
    "#gROOT.ProcessLine('.L /home/pyne-user/Dropbox/UCB/Research/ETAs/88Inch/Data/Experiments/16MeVTa/Unfold/NSD/16MeVTaMCUnfold.cpp')\n",
    "#gROOT.ProcessLine('runMCUnfold()')\n",
    "#writer.Th1ToAsciiError(meanResultHisto,\"16MeVTa_NSDUnfold\")\n",
    "#HistogramWriter writer"
   ]
  },
  {
   "cell_type": "markdown",
   "metadata": {},
   "source": [
    "### HEPROW Unfold\n",
    "\n",
    "The actually running of HEPROW is done separately through the Windows executables.  The location for the files is: <br\\>\n",
    "\n",
    "/home/pyne-user/Dropbox/UCB/Research/ETAs/88Inch/Data/Experiments/PHS/16MeVTa/Unfold/HEPROW\n",
    "\n",
    "### Unfold Plotting - EJ309\n",
    "\n",
    "This section contains all of the output post-processing to end up with a plot of the spectrum for 0.5 and 1 MeV bins.\n",
    "\n",
    "** NOTE: Each data input section needs to be changed based on whether 0.5 or 1.0 MeV bin structures are desired.** "
   ]
  },
  {
   "cell_type": "code",
   "execution_count": 1,
   "metadata": {
    "collapsed": false
   },
   "outputs": [],
   "source": [
    "import matplotlib.pyplot as plt\n",
    "import numpy as np\n",
    "import sys\n",
    "import os\n",
    "\n",
    "from matplotlib.ticker import MultipleLocator\n",
    "%matplotlib inline\n",
    "\n",
    "# Path to support scripts \n",
    "sys.path.insert(0,os.path.abspath('/home/pyne-user/Dropbox/UCB/Computational_Tools/Scripts/Python/DataAnalysis'))\n",
    "sys.path.insert(0,os.path.abspath('/home/pyne-user/Dropbox/UCB/Computational_Tools/Scripts/Python/Plotting'))\n",
    "\n",
    "from DataManipulation import binIntegration, normAUBC\n",
    "from DataIO import readDelimitedDataFile, readGru\n",
    "from Plotting import Histogram"
   ]
  },
  {
   "cell_type": "code",
   "execution_count": 2,
   "metadata": {
    "collapsed": true
   },
   "outputs": [],
   "source": [
    "heprowPath=\"/home/pyne-user/Dropbox/UCB/Research/ETAs/88Inch/Data/Experiments/PHS/16MeVTa/Unfold/HEPROW/\"\n",
    "\n",
    "heprowName=\"mik_EJ309_50.gru\"\n",
    "#heprowName=\"mik_EJ309_1.gru\"\n",
    "heprowBinBounds=\"low\""
   ]
  },
  {
   "cell_type": "code",
   "execution_count": 4,
   "metadata": {
    "collapsed": false
   },
   "outputs": [],
   "source": [
    "heprowData = readGru(heprowPath+heprowName, delim_whitespace=True, names=['lowE', 'absFlux', 'absSigma'],\n",
    "               skiprows=3)\n",
    "\n",
    "# Calculate the relative uncertainty\n",
    "heprowData['pdfFlux']=(np.asarray(heprowData[2])/np.asarray(heprowData[1])).tolist()\n",
    "\n",
    "# Convert the unfolded spectrum to flux and normalize\n",
    "#heprowData[1]=binIntegration(heprowData[0],heprowData[1],edgeLoc=heprowBinBounds)\n",
    "#heprowData[1]=normAUBC(heprowData[1])\n",
    "\n",
    "# Calculate the absolute error\n",
    "#heprowData[2]=(np.asarray(heprowData[2])*np.asarray(heprowData[1])).tolist()\n",
    "\n",
    "# Build up histogram data\n",
    "#heprowHisto=Histogram()\n",
    "#heprowHisto.buildHisto(heprowData[0],heprowData[1],uncert=heprowData[2],edgeLoc=heprowBinBounds)\n",
    "#print str(heprowHisto)"
   ]
  },
  {
   "cell_type": "markdown",
   "metadata": {},
   "source": [
    "#### Set Data Locations\n",
    "\n",
    "Heprow Inputs:"
   ]
  },
  {
   "cell_type": "code",
   "execution_count": 2,
   "metadata": {
    "collapsed": true
   },
   "outputs": [],
   "source": [
    "heprowPath=\"/home/pyne-user/Dropbox/UCB/Research/ETAs/88Inch/Data/Experiments/PHS/16MeVTa/Unfold/HEPROW/\"\n",
    "\n",
    "#heprowName=\"mik_EJ309_50.gru\"\n",
    "heprowName=\"mik_EJ309_1.gru\"\n",
    "heprowBinBounds=\"low\"\n",
    "heprowHeaderLines=3\n",
    "heprowDataStop=\" *********format(16i5)*********\""
   ]
  },
  {
   "cell_type": "markdown",
   "metadata": {},
   "source": [
    "Meulders:\n",
    "\n",
    "**NOTE: This is the 16 MeV d on Au spectrum, which is a good approximation for Ta**"
   ]
  },
  {
   "cell_type": "code",
   "execution_count": 3,
   "metadata": {
    "collapsed": true
   },
   "outputs": [],
   "source": [
    "meuldersPath=\"/home/pyne-user/Dropbox/UCB/Research/ETAs/88Inch/Data/Experiments/PHS/16MeVTa/Unfold/\"\n",
    "\n",
    "#meuldersName=\"meulders16MeVAuSpectrum_50.txt\"\n",
    "meuldersName=\"meulders16MeVAuSpectrum_1.txt\"\n",
    "meuldersBinBounds=\"mid\"\n",
    "meuldersHeaderLines=0"
   ]
  },
  {
   "cell_type": "markdown",
   "metadata": {},
   "source": [
    "NSD MC Unfold:"
   ]
  },
  {
   "cell_type": "code",
   "execution_count": 4,
   "metadata": {
    "collapsed": true
   },
   "outputs": [],
   "source": [
    "nsdPath=\"/home/pyne-user/Dropbox/UCB/Research/ETAs/88Inch/Data/Experiments/PHS/16MeVTa/Unfold/NSD/\"\n",
    "\n",
    "#nsdName=\"16MeVTa_NSDUnfold_50.txt\"\n",
    "nsdName=\"16MeVTa_NSDUnfold_1.txt\"\n",
    "nsdBinBounds=\"mid\"\n",
    "nsdHeaderLines=0"
   ]
  },
  {
   "cell_type": "markdown",
   "metadata": {},
   "source": [
    "#### Read in and Manipulate Data\n",
    "\n",
    "Convert Each Data Set to a Probability Density Function (PDF)"
   ]
  },
  {
   "cell_type": "code",
   "execution_count": 5,
   "metadata": {
    "collapsed": false
   },
   "outputs": [],
   "source": [
    "# HEPROW\n",
    "heprowData=readDelimitedDataFile(heprowPath+heprowName,header=heprowHeaderLines,breakText=heprowDataStop)\n",
    "\n",
    "# Calculate the relative uncertainty\n",
    "heprowData[2]=(np.asarray(heprowData[2])/np.asarray(heprowData[1])).tolist()\n",
    "\n",
    "# Convert the unfolded spectrum to flux and normalize\n",
    "heprowData[1]=binIntegration(heprowData[0],heprowData[1],edgeLoc=heprowBinBounds)\n",
    "heprowData[1]=normAUBC(heprowData[1])\n",
    "\n",
    "# Calculate the absolute error\n",
    "heprowData[2]=(np.asarray(heprowData[2])*np.asarray(heprowData[1])).tolist()\n",
    "\n",
    "# Build up histogram data\n",
    "heprowHisto=Histogram()\n",
    "heprowHisto.buildHisto(heprowData[0],heprowData[1],uncert=heprowData[2],edgeLoc=heprowBinBounds)\n",
    "#print str(heprowHisto)"
   ]
  },
  {
   "cell_type": "code",
   "execution_count": 6,
   "metadata": {
    "collapsed": false
   },
   "outputs": [],
   "source": [
    "# The simulated expected spectrum\n",
    "meuldersData=readDelimitedDataFile(meuldersPath+meuldersName,header=meuldersHeaderLines)\n",
    "\n",
    "# Convert the unfolded spectrum to flux and normalize\n",
    "meuldersData[1]=normAUBC(meuldersData[1])\n",
    "\n",
    "# Build up histogram data\n",
    "meuldersHisto=Histogram()\n",
    "meuldersHisto.buildHisto(meuldersData[0],meuldersData[1],edgeLoc=meuldersBinBounds)"
   ]
  },
  {
   "cell_type": "code",
   "execution_count": 7,
   "metadata": {
    "collapsed": false
   },
   "outputs": [
    {
     "name": "stdout",
     "output_type": "stream",
     "text": [
      "20\n",
      "41\n"
     ]
    }
   ],
   "source": [
    "# NSD Unfolding Algorithm\n",
    "nsdData=readDelimitedDataFile(nsdPath+nsdName,header=nsdHeaderLines)\n",
    "\n",
    "# Calculate the relative uncertainty\n",
    "nsdData[2]=(np.asarray(nsdData[2])/np.asarray(nsdData[1])).tolist()\n",
    "\n",
    "# Normalize the unfolded spectrum\n",
    "nsdData[1]=normAUBC(nsdData[1])\n",
    "\n",
    "# Calculate the absolute error\n",
    "nsdData[2]=(np.asarray(nsdData[2])*np.asarray(nsdData[1])).tolist()\n",
    "print len(nsdData[2])\n",
    "\n",
    "# Build up histogram data\n",
    "nsdHisto=Histogram()\n",
    "nsdHisto.buildHisto(nsdData[0],nsdData[1],uncert=nsdData[2],edgeLoc=nsdBinBounds)\n",
    "print len(nsdHisto.yValues)"
   ]
  },
  {
   "cell_type": "markdown",
   "metadata": {},
   "source": [
    "#### Plot"
   ]
  },
  {
   "cell_type": "code",
   "execution_count": 8,
   "metadata": {
    "collapsed": false
   },
   "outputs": [
    {
     "name": "stderr",
     "output_type": "stream",
     "text": [
      "/usr/lib/pymodules/python2.7/matplotlib/collections.py:548: FutureWarning: elementwise comparison failed; returning scalar instead, but in the future will perform elementwise comparison\n",
      "  if self._edgecolors == 'face':\n"
     ]
    },
    {
     "data": {
      "image/png": "[encoded data removed]",
      "text/plain": [
       "<matplotlib.figure.Figure at 0x2b56152a01d0>"
      ]
     },
     "metadata": {},
     "output_type": "display_data"
    }
   ],
   "source": [
    "# Allow use of Tex sybols\n",
    "plt.rc('text', usetex=True)\n",
    "\n",
    "# Set up figure\n",
    "#fig = plt.figure()\n",
    "fig = plt.figure(figsize=(10,6))\n",
    "#ax1 = fig.add_subplot(111)\n",
    "ax1 = fig.add_axes([0.1, 0.1, 0.8, 0.85])\n",
    "\n",
    "# Preset data set format scheme\n",
    "s=10\n",
    "linewidth=['2.5']\n",
    "marker=['.','o','v','^','<','>','1','2','3','4','8','s','p','*','h','H','+','x','d','D']\n",
    "linestyle=['-','--',':','-.']\n",
    "dashes=[[10, 0.1],[10, 5, 10, 5],[10,2.5,1,2.5]]\n",
    "minorLocator = MultipleLocator(1)\n",
    "\n",
    "# Set Line color cycle\n",
    "ax1.set_color_cycle(['k', 'k', 'k', 'k'])\n",
    "\n",
    "# Set axes\n",
    "ax1.axis([0, 25, 0.001, 1.5*max(heprowHisto.yValues)])\n",
    "#ax1.set_xscale('log')\n",
    "ax1.set_yscale('log')\n",
    "\n",
    "# Set axes labels and plot title.\n",
    "ax1.set_title('\\\\textbf{16MeV D Breakup on Ta}', fontsize=18, weight=\"bold\")    \n",
    "ax1.set_xlabel('\\\\textbf{Energy [MeV]}', fontsize=18, weight=\"bold\")\n",
    "ax1.set_ylabel('\\\\textbf{Neutron PDF}', fontsize=18, weight=\"bold\")\n",
    "ax1.tick_params(axis='both', which='major', labelsize=18, width=2)\n",
    "ax1.tick_params(axis='both', which='minor', width=2)\n",
    "ax1.xaxis.set_minor_locator(minorLocator)\n",
    "\n",
    "# Add data set to plot\n",
    "ax1.errorbar(heprowHisto.midPtX, heprowHisto.midPtY, yerr=heprowHisto.sigma, marker=None, linestyle='None')\n",
    "ax1.plot(heprowHisto.xEdges, heprowHisto.yValues, linewidth=linewidth[0], linestyle=linestyle[0], \n",
    "         marker=None,label=\"HEPROW Unfolded\", dashes=dashes[0]) \n",
    "ax1.errorbar(nsdHisto.midPtX, nsdHisto.midPtY, yerr=nsdHisto.sigma, marker=None, linestyle='None')\n",
    "ax1.plot(nsdHisto.xEdges, nsdHisto.yValues, linewidth=linewidth[0], linestyle=linestyle[1], \n",
    "         marker=None,label=\"NSD Unfolded\", dashes=dashes[1]) \n",
    "ax1.plot(meuldersHisto.xEdges, meuldersHisto.yValues, linewidth=linewidth[0], linestyle=linestyle[2], \n",
    "         label=\"Meulders\") \n",
    "#ax1.plot(loneHisto.xEdges, loneHisto.yValues, linewidth=linewidth[0], linestyle=linestyle[3], \n",
    "#         label=\"Lone\", dashes=dashes[2]) \n",
    "\n",
    "\n",
    "# Add and locate legend\n",
    "leg = ax1.legend()\n",
    "plt.legend(borderaxespad=0.75, loc=1, fontsize=16, handlelength=5, borderpad=0.5,\\\n",
    "            labelspacing=0.75, fancybox=True, framealpha=0.5, numpoints=1);\n",
    "\n",
    "plt.show()"
   ]
  },
  {
   "cell_type": "code",
   "execution_count": 24,
   "metadata": {
    "collapsed": true
   },
   "outputs": [],
   "source": [
    "# Save the figure\n",
    "#fig.savefig(meuldersPath+'16MeVTa_50.png', bbox_inches='tight')\n",
    "fig.savefig(meuldersPath+'16MeVTa_1.png', bbox_inches='tight')"
   ]
  },
  {
   "cell_type": "code",
   "execution_count": null,
   "metadata": {
    "collapsed": true
   },
   "outputs": [],
   "source": []
  },
  {
   "cell_type": "code",
   "execution_count": null,
   "metadata": {
    "collapsed": true
   },
   "outputs": [],
   "source": []
  },
  {
   "cell_type": "code",
   "execution_count": null,
   "metadata": {
    "collapsed": true
   },
   "outputs": [],
   "source": [
    "#Scratch code:\n",
    "\n",
    "eventTree->Draw(\"m_shape:m_amplitude>>(1024,0,70000,1024,0,35000)\",\"\",\"colz\")\n",
    "\n",
    "#draw psd\n",
    "eventTree->Draw(\"(m_amplitude-m_shape)/m_amplitude:m_amplitude>>(1024,0,35000,1024,0,1)\",\"\",\"colz\")\n",
    "\n",
    "#view psd linear cuts\n",
    "eventTree->Draw(\"(m_amplitude-m_shape)/m_amplitude:m_amplitude>>(1024,0,35000,1024,0,1)\",\"(m_amplitude-m_shape)/m_amplitude>0.16\",\"colz\")\n",
    "\n",
    "#generate phs with linear psd cuts\n",
    "eventTree->Draw(\"m_amplitude>>phs\",\"(m_amplitude-m_shape)/m_amplitude>0.16\")\n",
    "\n",
    "#gROOT.ProcessLine('eventTree->Draw(\"m_amplitude>>AmBeGamma(5000,0,35000)\",\"(m_amplitude-m_shape)/m_amplitude<0.23*m_amplitude+0.01\")')\n",
    "gROOT.ProcessLine('eventTree->Draw(\"m_amplitude>>AmBeNeutron(5000,0,35000)\",\"(m_amplitude-m_shape)/m_amplitude>0.23\")')\n",
    "gROOT.ProcessLine('f.Write()')\n",
    "\n",
    "gROOT.ProcessLine('std::vector<TFile*> f')\n",
    "for det in detectorIds:\n",
    "    #gROOT.ProcessLine('f = new TFile(\"{0}AmBe_{1}_ls_{2}.root\",\"update\")'.format(path,runNum,det))\n",
    "    gROOT.ProcessLine('f.push_back(new TFile(\"{0}AmBe_{1}_ls_{2}.root\",\"update\")'.format(path,runNum,det))\n",
    "    gROOT.ProcessLine('.ls')\n",
    "    gROOT.ProcessLine('eventTree->Draw(\"(m_amplitude-m_shape)/m_amplitude:m_amplitude>>(5000,0,35000,1024,0,1)\",\"\",\"colz\")')\n",
    "    pause()"
   ]
  }
 ],
 "metadata": {
  "kernelspec": {
   "display_name": "Python 2",
   "language": "python",
   "name": "python2"
  },
  "language_info": {
   "codemirror_mode": {
    "name": "ipython",
    "version": 2
   },
   "file_extension": ".py",
   "mimetype": "text/x-python",
   "name": "python",
   "nbconvert_exporter": "python",
   "pygments_lexer": "ipython2",
   "version": "2.7.6"
  }
 },
 "nbformat": 4,
 "nbformat_minor": 0
}
